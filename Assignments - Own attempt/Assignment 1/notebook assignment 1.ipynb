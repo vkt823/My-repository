{
 "cells": [
  {
   "cell_type": "markdown",
   "metadata": {},
   "source": [
    "# Production Technology\n",
    "\n",
    "The dataset contains `N = 441` firms observed over `T = 12` years, 1968-1979. There variables are: \n",
    "* `lcap`: Log of capital stock, $k_{it}$ \n",
    "* `lemp`: log of employment, $\\ell_{it}$ \n",
    "* `ldsa`: log of deflated sales, $y_{it}$\n",
    "* `year`: the calendar year of the observation, `year` $ = 1968, ..., 1979$, \n",
    "* `firmid`: anonymized indicator variable for the firm, $i = 1, ..., N$, with $N=441$. "
   ]
  },
  {
   "cell_type": "code",
   "execution_count": 1,
   "metadata": {},
   "outputs": [],
   "source": [
    "import pandas as pd \n",
    "import numpy as np\n",
    "import seaborn as sns\n",
    "import matplotlib.pyplot as plt\n",
    "\n",
    "\n",
    "import PyFileAssignment1 as pfa1\n",
    "%load_ext autoreload\n",
    "%autoreload 2"
   ]
  },
  {
   "cell_type": "markdown",
   "metadata": {},
   "source": [
    "The structure of this notebook proceeds as follows. In section 1 we load the data and restrict the observations so we only use observations from the first 3 years of data (1968-1970). Next, in section 2, we proceed to perform some descriptive statics and in section 3 we convert the dataformat to numpy, so that we are ready for estimation. In section 4-7 we perform Pooled OLS, FE, RE, and FD estimation respectively. Lastly in Section 8, we perform a variety of tests."
   ]
  },
  {
   "cell_type": "markdown",
   "metadata": {},
   "source": [
    "# 1. Loading data"
   ]
  },
  {
   "cell_type": "code",
   "execution_count": 2,
   "metadata": {},
   "outputs": [],
   "source": [
    "#load data from csv file\n",
    "dat = pd.read_csv('firms.csv')"
   ]
  },
  {
   "cell_type": "code",
   "execution_count": 3,
   "metadata": {},
   "outputs": [],
   "source": [
    "#sorting data by firmid and year\n",
    "dat = dat.sort_values(['firmid', 'year'])"
   ]
  },
  {
   "cell_type": "code",
   "execution_count": 4,
   "metadata": {},
   "outputs": [],
   "source": [
    "#save only first 3 years of data\n",
    "dat = dat.loc[dat['year'].isin([1968, 1969, 1970]),:]"
   ]
  },
  {
   "cell_type": "code",
   "execution_count": 5,
   "metadata": {},
   "outputs": [
    {
     "data": {
      "text/html": [
       "<div>\n",
       "<style scoped>\n",
       "    .dataframe tbody tr th:only-of-type {\n",
       "        vertical-align: middle;\n",
       "    }\n",
       "\n",
       "    .dataframe tbody tr th {\n",
       "        vertical-align: top;\n",
       "    }\n",
       "\n",
       "    .dataframe thead th {\n",
       "        text-align: right;\n",
       "    }\n",
       "</style>\n",
       "<table border=\"1\" class=\"dataframe\">\n",
       "  <thead>\n",
       "    <tr style=\"text-align: right;\">\n",
       "      <th></th>\n",
       "      <th>firmid</th>\n",
       "      <th>year</th>\n",
       "      <th>lcap</th>\n",
       "      <th>lemp</th>\n",
       "      <th>ldsa</th>\n",
       "    </tr>\n",
       "  </thead>\n",
       "  <tbody>\n",
       "    <tr>\n",
       "      <th>0</th>\n",
       "      <td>1</td>\n",
       "      <td>1968</td>\n",
       "      <td>0.998602</td>\n",
       "      <td>-0.242185</td>\n",
       "      <td>0.349053</td>\n",
       "    </tr>\n",
       "    <tr>\n",
       "      <th>1</th>\n",
       "      <td>1</td>\n",
       "      <td>1969</td>\n",
       "      <td>0.925214</td>\n",
       "      <td>-0.241278</td>\n",
       "      <td>0.312492</td>\n",
       "    </tr>\n",
       "    <tr>\n",
       "      <th>2</th>\n",
       "      <td>1</td>\n",
       "      <td>1970</td>\n",
       "      <td>0.879616</td>\n",
       "      <td>-0.265134</td>\n",
       "      <td>0.347566</td>\n",
       "    </tr>\n",
       "    <tr>\n",
       "      <th>12</th>\n",
       "      <td>2</td>\n",
       "      <td>1968</td>\n",
       "      <td>-0.069588</td>\n",
       "      <td>-0.323021</td>\n",
       "      <td>-0.945831</td>\n",
       "    </tr>\n",
       "    <tr>\n",
       "      <th>13</th>\n",
       "      <td>2</td>\n",
       "      <td>1969</td>\n",
       "      <td>-0.056724</td>\n",
       "      <td>-0.358177</td>\n",
       "      <td>-1.143830</td>\n",
       "    </tr>\n",
       "    <tr>\n",
       "      <th>14</th>\n",
       "      <td>2</td>\n",
       "      <td>1970</td>\n",
       "      <td>-0.032680</td>\n",
       "      <td>-0.406512</td>\n",
       "      <td>-1.299890</td>\n",
       "    </tr>\n",
       "    <tr>\n",
       "      <th>24</th>\n",
       "      <td>3</td>\n",
       "      <td>1968</td>\n",
       "      <td>1.188212</td>\n",
       "      <td>1.546823</td>\n",
       "      <td>1.314148</td>\n",
       "    </tr>\n",
       "    <tr>\n",
       "      <th>25</th>\n",
       "      <td>3</td>\n",
       "      <td>1969</td>\n",
       "      <td>1.147733</td>\n",
       "      <td>1.452367</td>\n",
       "      <td>0.949586</td>\n",
       "    </tr>\n",
       "    <tr>\n",
       "      <th>26</th>\n",
       "      <td>3</td>\n",
       "      <td>1970</td>\n",
       "      <td>1.048826</td>\n",
       "      <td>1.369184</td>\n",
       "      <td>0.819871</td>\n",
       "    </tr>\n",
       "    <tr>\n",
       "      <th>36</th>\n",
       "      <td>4</td>\n",
       "      <td>1968</td>\n",
       "      <td>-0.284911</td>\n",
       "      <td>0.526345</td>\n",
       "      <td>0.035088</td>\n",
       "    </tr>\n",
       "    <tr>\n",
       "      <th>37</th>\n",
       "      <td>4</td>\n",
       "      <td>1969</td>\n",
       "      <td>-0.290733</td>\n",
       "      <td>0.476120</td>\n",
       "      <td>-0.022102</td>\n",
       "    </tr>\n",
       "    <tr>\n",
       "      <th>38</th>\n",
       "      <td>4</td>\n",
       "      <td>1970</td>\n",
       "      <td>-0.344790</td>\n",
       "      <td>0.444585</td>\n",
       "      <td>-0.163260</td>\n",
       "    </tr>\n",
       "    <tr>\n",
       "      <th>48</th>\n",
       "      <td>5</td>\n",
       "      <td>1968</td>\n",
       "      <td>-0.221213</td>\n",
       "      <td>-0.583869</td>\n",
       "      <td>-0.992159</td>\n",
       "    </tr>\n",
       "    <tr>\n",
       "      <th>49</th>\n",
       "      <td>5</td>\n",
       "      <td>1969</td>\n",
       "      <td>-0.294373</td>\n",
       "      <td>-0.551081</td>\n",
       "      <td>-0.874709</td>\n",
       "    </tr>\n",
       "    <tr>\n",
       "      <th>50</th>\n",
       "      <td>5</td>\n",
       "      <td>1970</td>\n",
       "      <td>-0.348743</td>\n",
       "      <td>-0.532884</td>\n",
       "      <td>-0.809690</td>\n",
       "    </tr>\n",
       "    <tr>\n",
       "      <th>60</th>\n",
       "      <td>6</td>\n",
       "      <td>1968</td>\n",
       "      <td>2.746237</td>\n",
       "      <td>3.089559</td>\n",
       "      <td>3.126221</td>\n",
       "    </tr>\n",
       "    <tr>\n",
       "      <th>61</th>\n",
       "      <td>6</td>\n",
       "      <td>1969</td>\n",
       "      <td>2.746732</td>\n",
       "      <td>3.125728</td>\n",
       "      <td>3.090105</td>\n",
       "    </tr>\n",
       "    <tr>\n",
       "      <th>62</th>\n",
       "      <td>6</td>\n",
       "      <td>1970</td>\n",
       "      <td>2.774187</td>\n",
       "      <td>3.126865</td>\n",
       "      <td>3.082834</td>\n",
       "    </tr>\n",
       "    <tr>\n",
       "      <th>72</th>\n",
       "      <td>7</td>\n",
       "      <td>1968</td>\n",
       "      <td>1.352799</td>\n",
       "      <td>0.965265</td>\n",
       "      <td>0.691746</td>\n",
       "    </tr>\n",
       "    <tr>\n",
       "      <th>73</th>\n",
       "      <td>7</td>\n",
       "      <td>1969</td>\n",
       "      <td>1.285692</td>\n",
       "      <td>1.004589</td>\n",
       "      <td>0.758933</td>\n",
       "    </tr>\n",
       "  </tbody>\n",
       "</table>\n",
       "</div>"
      ],
      "text/plain": [
       "    firmid  year      lcap      lemp      ldsa\n",
       "0        1  1968  0.998602 -0.242185  0.349053\n",
       "1        1  1969  0.925214 -0.241278  0.312492\n",
       "2        1  1970  0.879616 -0.265134  0.347566\n",
       "12       2  1968 -0.069588 -0.323021 -0.945831\n",
       "13       2  1969 -0.056724 -0.358177 -1.143830\n",
       "14       2  1970 -0.032680 -0.406512 -1.299890\n",
       "24       3  1968  1.188212  1.546823  1.314148\n",
       "25       3  1969  1.147733  1.452367  0.949586\n",
       "26       3  1970  1.048826  1.369184  0.819871\n",
       "36       4  1968 -0.284911  0.526345  0.035088\n",
       "37       4  1969 -0.290733  0.476120 -0.022102\n",
       "38       4  1970 -0.344790  0.444585 -0.163260\n",
       "48       5  1968 -0.221213 -0.583869 -0.992159\n",
       "49       5  1969 -0.294373 -0.551081 -0.874709\n",
       "50       5  1970 -0.348743 -0.532884 -0.809690\n",
       "60       6  1968  2.746237  3.089559  3.126221\n",
       "61       6  1969  2.746732  3.125728  3.090105\n",
       "62       6  1970  2.774187  3.126865  3.082834\n",
       "72       7  1968  1.352799  0.965265  0.691746\n",
       "73       7  1969  1.285692  1.004589  0.758933"
      ]
     },
     "execution_count": 5,
     "metadata": {},
     "output_type": "execute_result"
    }
   ],
   "source": [
    "#see first 20 rows of data\n",
    "dat.head(20)"
   ]
  },
  {
   "cell_type": "markdown",
   "metadata": {},
   "source": [
    "We add year dummies to our dataset"
   ]
  },
  {
   "cell_type": "code",
   "execution_count": 6,
   "metadata": {},
   "outputs": [],
   "source": [
    "#create dummies for year\n",
    "year_dummies = pd.get_dummies(dat['year'], prefix='year',dtype='int64')\n",
    "#add dummies to data\n",
    "dat = pd.concat([dat, year_dummies], axis=1)"
   ]
  },
  {
   "cell_type": "code",
   "execution_count": 7,
   "metadata": {},
   "outputs": [
    {
     "data": {
      "text/html": [
       "<div>\n",
       "<style scoped>\n",
       "    .dataframe tbody tr th:only-of-type {\n",
       "        vertical-align: middle;\n",
       "    }\n",
       "\n",
       "    .dataframe tbody tr th {\n",
       "        vertical-align: top;\n",
       "    }\n",
       "\n",
       "    .dataframe thead th {\n",
       "        text-align: right;\n",
       "    }\n",
       "</style>\n",
       "<table border=\"1\" class=\"dataframe\">\n",
       "  <thead>\n",
       "    <tr style=\"text-align: right;\">\n",
       "      <th></th>\n",
       "      <th>firmid</th>\n",
       "      <th>year</th>\n",
       "      <th>lcap</th>\n",
       "      <th>lemp</th>\n",
       "      <th>ldsa</th>\n",
       "      <th>year_1968</th>\n",
       "      <th>year_1969</th>\n",
       "      <th>year_1970</th>\n",
       "    </tr>\n",
       "  </thead>\n",
       "  <tbody>\n",
       "    <tr>\n",
       "      <th>0</th>\n",
       "      <td>1</td>\n",
       "      <td>1968</td>\n",
       "      <td>0.998602</td>\n",
       "      <td>-0.242185</td>\n",
       "      <td>0.349053</td>\n",
       "      <td>1</td>\n",
       "      <td>0</td>\n",
       "      <td>0</td>\n",
       "    </tr>\n",
       "    <tr>\n",
       "      <th>1</th>\n",
       "      <td>1</td>\n",
       "      <td>1969</td>\n",
       "      <td>0.925214</td>\n",
       "      <td>-0.241278</td>\n",
       "      <td>0.312492</td>\n",
       "      <td>0</td>\n",
       "      <td>1</td>\n",
       "      <td>0</td>\n",
       "    </tr>\n",
       "    <tr>\n",
       "      <th>2</th>\n",
       "      <td>1</td>\n",
       "      <td>1970</td>\n",
       "      <td>0.879616</td>\n",
       "      <td>-0.265134</td>\n",
       "      <td>0.347566</td>\n",
       "      <td>0</td>\n",
       "      <td>0</td>\n",
       "      <td>1</td>\n",
       "    </tr>\n",
       "    <tr>\n",
       "      <th>12</th>\n",
       "      <td>2</td>\n",
       "      <td>1968</td>\n",
       "      <td>-0.069588</td>\n",
       "      <td>-0.323021</td>\n",
       "      <td>-0.945831</td>\n",
       "      <td>1</td>\n",
       "      <td>0</td>\n",
       "      <td>0</td>\n",
       "    </tr>\n",
       "    <tr>\n",
       "      <th>13</th>\n",
       "      <td>2</td>\n",
       "      <td>1969</td>\n",
       "      <td>-0.056724</td>\n",
       "      <td>-0.358177</td>\n",
       "      <td>-1.143830</td>\n",
       "      <td>0</td>\n",
       "      <td>1</td>\n",
       "      <td>0</td>\n",
       "    </tr>\n",
       "    <tr>\n",
       "      <th>14</th>\n",
       "      <td>2</td>\n",
       "      <td>1970</td>\n",
       "      <td>-0.032680</td>\n",
       "      <td>-0.406512</td>\n",
       "      <td>-1.299890</td>\n",
       "      <td>0</td>\n",
       "      <td>0</td>\n",
       "      <td>1</td>\n",
       "    </tr>\n",
       "    <tr>\n",
       "      <th>24</th>\n",
       "      <td>3</td>\n",
       "      <td>1968</td>\n",
       "      <td>1.188212</td>\n",
       "      <td>1.546823</td>\n",
       "      <td>1.314148</td>\n",
       "      <td>1</td>\n",
       "      <td>0</td>\n",
       "      <td>0</td>\n",
       "    </tr>\n",
       "    <tr>\n",
       "      <th>25</th>\n",
       "      <td>3</td>\n",
       "      <td>1969</td>\n",
       "      <td>1.147733</td>\n",
       "      <td>1.452367</td>\n",
       "      <td>0.949586</td>\n",
       "      <td>0</td>\n",
       "      <td>1</td>\n",
       "      <td>0</td>\n",
       "    </tr>\n",
       "    <tr>\n",
       "      <th>26</th>\n",
       "      <td>3</td>\n",
       "      <td>1970</td>\n",
       "      <td>1.048826</td>\n",
       "      <td>1.369184</td>\n",
       "      <td>0.819871</td>\n",
       "      <td>0</td>\n",
       "      <td>0</td>\n",
       "      <td>1</td>\n",
       "    </tr>\n",
       "    <tr>\n",
       "      <th>36</th>\n",
       "      <td>4</td>\n",
       "      <td>1968</td>\n",
       "      <td>-0.284911</td>\n",
       "      <td>0.526345</td>\n",
       "      <td>0.035088</td>\n",
       "      <td>1</td>\n",
       "      <td>0</td>\n",
       "      <td>0</td>\n",
       "    </tr>\n",
       "    <tr>\n",
       "      <th>37</th>\n",
       "      <td>4</td>\n",
       "      <td>1969</td>\n",
       "      <td>-0.290733</td>\n",
       "      <td>0.476120</td>\n",
       "      <td>-0.022102</td>\n",
       "      <td>0</td>\n",
       "      <td>1</td>\n",
       "      <td>0</td>\n",
       "    </tr>\n",
       "    <tr>\n",
       "      <th>38</th>\n",
       "      <td>4</td>\n",
       "      <td>1970</td>\n",
       "      <td>-0.344790</td>\n",
       "      <td>0.444585</td>\n",
       "      <td>-0.163260</td>\n",
       "      <td>0</td>\n",
       "      <td>0</td>\n",
       "      <td>1</td>\n",
       "    </tr>\n",
       "    <tr>\n",
       "      <th>48</th>\n",
       "      <td>5</td>\n",
       "      <td>1968</td>\n",
       "      <td>-0.221213</td>\n",
       "      <td>-0.583869</td>\n",
       "      <td>-0.992159</td>\n",
       "      <td>1</td>\n",
       "      <td>0</td>\n",
       "      <td>0</td>\n",
       "    </tr>\n",
       "    <tr>\n",
       "      <th>49</th>\n",
       "      <td>5</td>\n",
       "      <td>1969</td>\n",
       "      <td>-0.294373</td>\n",
       "      <td>-0.551081</td>\n",
       "      <td>-0.874709</td>\n",
       "      <td>0</td>\n",
       "      <td>1</td>\n",
       "      <td>0</td>\n",
       "    </tr>\n",
       "    <tr>\n",
       "      <th>50</th>\n",
       "      <td>5</td>\n",
       "      <td>1970</td>\n",
       "      <td>-0.348743</td>\n",
       "      <td>-0.532884</td>\n",
       "      <td>-0.809690</td>\n",
       "      <td>0</td>\n",
       "      <td>0</td>\n",
       "      <td>1</td>\n",
       "    </tr>\n",
       "    <tr>\n",
       "      <th>60</th>\n",
       "      <td>6</td>\n",
       "      <td>1968</td>\n",
       "      <td>2.746237</td>\n",
       "      <td>3.089559</td>\n",
       "      <td>3.126221</td>\n",
       "      <td>1</td>\n",
       "      <td>0</td>\n",
       "      <td>0</td>\n",
       "    </tr>\n",
       "    <tr>\n",
       "      <th>61</th>\n",
       "      <td>6</td>\n",
       "      <td>1969</td>\n",
       "      <td>2.746732</td>\n",
       "      <td>3.125728</td>\n",
       "      <td>3.090105</td>\n",
       "      <td>0</td>\n",
       "      <td>1</td>\n",
       "      <td>0</td>\n",
       "    </tr>\n",
       "    <tr>\n",
       "      <th>62</th>\n",
       "      <td>6</td>\n",
       "      <td>1970</td>\n",
       "      <td>2.774187</td>\n",
       "      <td>3.126865</td>\n",
       "      <td>3.082834</td>\n",
       "      <td>0</td>\n",
       "      <td>0</td>\n",
       "      <td>1</td>\n",
       "    </tr>\n",
       "    <tr>\n",
       "      <th>72</th>\n",
       "      <td>7</td>\n",
       "      <td>1968</td>\n",
       "      <td>1.352799</td>\n",
       "      <td>0.965265</td>\n",
       "      <td>0.691746</td>\n",
       "      <td>1</td>\n",
       "      <td>0</td>\n",
       "      <td>0</td>\n",
       "    </tr>\n",
       "    <tr>\n",
       "      <th>73</th>\n",
       "      <td>7</td>\n",
       "      <td>1969</td>\n",
       "      <td>1.285692</td>\n",
       "      <td>1.004589</td>\n",
       "      <td>0.758933</td>\n",
       "      <td>0</td>\n",
       "      <td>1</td>\n",
       "      <td>0</td>\n",
       "    </tr>\n",
       "  </tbody>\n",
       "</table>\n",
       "</div>"
      ],
      "text/plain": [
       "    firmid  year      lcap      lemp      ldsa  year_1968  year_1969  \\\n",
       "0        1  1968  0.998602 -0.242185  0.349053          1          0   \n",
       "1        1  1969  0.925214 -0.241278  0.312492          0          1   \n",
       "2        1  1970  0.879616 -0.265134  0.347566          0          0   \n",
       "12       2  1968 -0.069588 -0.323021 -0.945831          1          0   \n",
       "13       2  1969 -0.056724 -0.358177 -1.143830          0          1   \n",
       "14       2  1970 -0.032680 -0.406512 -1.299890          0          0   \n",
       "24       3  1968  1.188212  1.546823  1.314148          1          0   \n",
       "25       3  1969  1.147733  1.452367  0.949586          0          1   \n",
       "26       3  1970  1.048826  1.369184  0.819871          0          0   \n",
       "36       4  1968 -0.284911  0.526345  0.035088          1          0   \n",
       "37       4  1969 -0.290733  0.476120 -0.022102          0          1   \n",
       "38       4  1970 -0.344790  0.444585 -0.163260          0          0   \n",
       "48       5  1968 -0.221213 -0.583869 -0.992159          1          0   \n",
       "49       5  1969 -0.294373 -0.551081 -0.874709          0          1   \n",
       "50       5  1970 -0.348743 -0.532884 -0.809690          0          0   \n",
       "60       6  1968  2.746237  3.089559  3.126221          1          0   \n",
       "61       6  1969  2.746732  3.125728  3.090105          0          1   \n",
       "62       6  1970  2.774187  3.126865  3.082834          0          0   \n",
       "72       7  1968  1.352799  0.965265  0.691746          1          0   \n",
       "73       7  1969  1.285692  1.004589  0.758933          0          1   \n",
       "\n",
       "    year_1970  \n",
       "0           0  \n",
       "1           0  \n",
       "2           1  \n",
       "12          0  \n",
       "13          0  \n",
       "14          1  \n",
       "24          0  \n",
       "25          0  \n",
       "26          1  \n",
       "36          0  \n",
       "37          0  \n",
       "38          1  \n",
       "48          0  \n",
       "49          0  \n",
       "50          1  \n",
       "60          0  \n",
       "61          0  \n",
       "62          1  \n",
       "72          0  \n",
       "73          0  "
      ]
     },
     "execution_count": 7,
     "metadata": {},
     "output_type": "execute_result"
    }
   ],
   "source": [
    "dat.head(20)"
   ]
  },
  {
   "cell_type": "markdown",
   "metadata": {},
   "source": [
    "# 2. Descriptives"
   ]
  },
  {
   "cell_type": "markdown",
   "metadata": {},
   "source": [
    "CHR: Synes ikke det giver mening at have deskriptiv statistik med alligevel - vores variable er alle i logaritmer. Men måske bare have et afsnit, hvor vi siger, at der beskriver antal observationer, år, variable osv. Dermed kan nedenstående slettes såfremt i er enige."
   ]
  },
  {
   "cell_type": "code",
   "execution_count": 8,
   "metadata": {},
   "outputs": [
    {
     "data": {
      "text/html": [
       "<div>\n",
       "<style scoped>\n",
       "    .dataframe tbody tr th:only-of-type {\n",
       "        vertical-align: middle;\n",
       "    }\n",
       "\n",
       "    .dataframe tbody tr th {\n",
       "        vertical-align: top;\n",
       "    }\n",
       "\n",
       "    .dataframe thead th {\n",
       "        text-align: right;\n",
       "    }\n",
       "</style>\n",
       "<table border=\"1\" class=\"dataframe\">\n",
       "  <thead>\n",
       "    <tr style=\"text-align: right;\">\n",
       "      <th></th>\n",
       "      <th>firmid</th>\n",
       "      <th>year</th>\n",
       "      <th>lcap</th>\n",
       "      <th>lemp</th>\n",
       "      <th>ldsa</th>\n",
       "      <th>year_1968</th>\n",
       "      <th>year_1969</th>\n",
       "      <th>year_1970</th>\n",
       "    </tr>\n",
       "  </thead>\n",
       "  <tbody>\n",
       "    <tr>\n",
       "      <th>count</th>\n",
       "      <td>1323.000000</td>\n",
       "      <td>1323.000000</td>\n",
       "      <td>1.323000e+03</td>\n",
       "      <td>1.323000e+03</td>\n",
       "      <td>1.323000e+03</td>\n",
       "      <td>1323.000000</td>\n",
       "      <td>1323.000000</td>\n",
       "      <td>1323.000000</td>\n",
       "    </tr>\n",
       "    <tr>\n",
       "      <th>mean</th>\n",
       "      <td>221.000000</td>\n",
       "      <td>1969.000000</td>\n",
       "      <td>-3.432577e-08</td>\n",
       "      <td>5.291005e-09</td>\n",
       "      <td>3.253968e-08</td>\n",
       "      <td>0.333333</td>\n",
       "      <td>0.333333</td>\n",
       "      <td>0.333333</td>\n",
       "    </tr>\n",
       "    <tr>\n",
       "      <th>std</th>\n",
       "      <td>127.353547</td>\n",
       "      <td>0.816805</td>\n",
       "      <td>1.367661e+00</td>\n",
       "      <td>1.212370e+00</td>\n",
       "      <td>1.238870e+00</td>\n",
       "      <td>0.471583</td>\n",
       "      <td>0.471583</td>\n",
       "      <td>0.471583</td>\n",
       "    </tr>\n",
       "    <tr>\n",
       "      <th>min</th>\n",
       "      <td>1.000000</td>\n",
       "      <td>1968.000000</td>\n",
       "      <td>-3.864950e+00</td>\n",
       "      <td>-3.108660e+00</td>\n",
       "      <td>-3.433130e+00</td>\n",
       "      <td>0.000000</td>\n",
       "      <td>0.000000</td>\n",
       "      <td>0.000000</td>\n",
       "    </tr>\n",
       "    <tr>\n",
       "      <th>25%</th>\n",
       "      <td>111.000000</td>\n",
       "      <td>1968.000000</td>\n",
       "      <td>-9.629080e-01</td>\n",
       "      <td>-8.435585e-01</td>\n",
       "      <td>-9.082370e-01</td>\n",
       "      <td>0.000000</td>\n",
       "      <td>0.000000</td>\n",
       "      <td>0.000000</td>\n",
       "    </tr>\n",
       "    <tr>\n",
       "      <th>50%</th>\n",
       "      <td>221.000000</td>\n",
       "      <td>1969.000000</td>\n",
       "      <td>-1.016350e-01</td>\n",
       "      <td>-1.141760e-01</td>\n",
       "      <td>-1.142770e-01</td>\n",
       "      <td>0.000000</td>\n",
       "      <td>0.000000</td>\n",
       "      <td>0.000000</td>\n",
       "    </tr>\n",
       "    <tr>\n",
       "      <th>75%</th>\n",
       "      <td>331.000000</td>\n",
       "      <td>1970.000000</td>\n",
       "      <td>9.708763e-01</td>\n",
       "      <td>8.067791e-01</td>\n",
       "      <td>8.648864e-01</td>\n",
       "      <td>1.000000</td>\n",
       "      <td>1.000000</td>\n",
       "      <td>1.000000</td>\n",
       "    </tr>\n",
       "    <tr>\n",
       "      <th>max</th>\n",
       "      <td>441.000000</td>\n",
       "      <td>1970.000000</td>\n",
       "      <td>3.993508e+00</td>\n",
       "      <td>3.187258e+00</td>\n",
       "      <td>3.418170e+00</td>\n",
       "      <td>1.000000</td>\n",
       "      <td>1.000000</td>\n",
       "      <td>1.000000</td>\n",
       "    </tr>\n",
       "  </tbody>\n",
       "</table>\n",
       "</div>"
      ],
      "text/plain": [
       "            firmid         year          lcap          lemp          ldsa  \\\n",
       "count  1323.000000  1323.000000  1.323000e+03  1.323000e+03  1.323000e+03   \n",
       "mean    221.000000  1969.000000 -3.432577e-08  5.291005e-09  3.253968e-08   \n",
       "std     127.353547     0.816805  1.367661e+00  1.212370e+00  1.238870e+00   \n",
       "min       1.000000  1968.000000 -3.864950e+00 -3.108660e+00 -3.433130e+00   \n",
       "25%     111.000000  1968.000000 -9.629080e-01 -8.435585e-01 -9.082370e-01   \n",
       "50%     221.000000  1969.000000 -1.016350e-01 -1.141760e-01 -1.142770e-01   \n",
       "75%     331.000000  1970.000000  9.708763e-01  8.067791e-01  8.648864e-01   \n",
       "max     441.000000  1970.000000  3.993508e+00  3.187258e+00  3.418170e+00   \n",
       "\n",
       "         year_1968    year_1969    year_1970  \n",
       "count  1323.000000  1323.000000  1323.000000  \n",
       "mean      0.333333     0.333333     0.333333  \n",
       "std       0.471583     0.471583     0.471583  \n",
       "min       0.000000     0.000000     0.000000  \n",
       "25%       0.000000     0.000000     0.000000  \n",
       "50%       0.000000     0.000000     0.000000  \n",
       "75%       1.000000     1.000000     1.000000  \n",
       "max       1.000000     1.000000     1.000000  "
      ]
     },
     "execution_count": 8,
     "metadata": {},
     "output_type": "execute_result"
    }
   ],
   "source": [
    "dat.describe()"
   ]
  },
  {
   "cell_type": "code",
   "execution_count": 9,
   "metadata": {},
   "outputs": [
    {
     "data": {
      "image/png": "[encoded data removed]",
      "text/plain": [
       "<Figure size 640x480 with 4 Axes>"
      ]
     },
     "metadata": {},
     "output_type": "display_data"
    }
   ],
   "source": [
    "dat[['lcap','lemp','ldsa']].hist();"
   ]
  },
  {
   "cell_type": "code",
   "execution_count": 10,
   "metadata": {},
   "outputs": [
    {
     "data": {
      "image/png": "[encoded data removed]",
      "text/plain": [
       "<Figure size 640x480 with 1 Axes>"
      ]
     },
     "metadata": {},
     "output_type": "display_data"
    },
    {
     "data": {
      "image/png": "[encoded data removed]",
      "text/plain": [
       "<Figure size 640x480 with 1 Axes>"
      ]
     },
     "metadata": {},
     "output_type": "display_data"
    },
    {
     "data": {
      "image/png": "[encoded data removed]",
      "text/plain": [
       "<Figure size 640x480 with 1 Axes>"
      ]
     },
     "metadata": {},
     "output_type": "display_data"
    }
   ],
   "source": [
    "# iterate over each year\n",
    "for year in dat['year'].unique():\n",
    "    # create a scatter plot for the current year\n",
    "    plt.scatter(dat.loc[dat['year']==year, 'lemp'], dat.loc[dat['year']==year, 'ldsa'])\n",
    "    plt.title(f'Scatter plot for year {year}')\n",
    "    plt.xlabel('lemp')\n",
    "    plt.ylabel('ldsa')\n",
    "    plt.show()\n"
   ]
  },
  {
   "cell_type": "markdown",
   "metadata": {},
   "source": [
    "# 3. Converting data to numpy format "
   ]
  },
  {
   "cell_type": "code",
   "execution_count": 11,
   "metadata": {},
   "outputs": [
    {
     "data": {
      "text/plain": [
       "(1323,)"
      ]
     },
     "execution_count": 11,
     "metadata": {},
     "output_type": "execute_result"
    }
   ],
   "source": [
    "dat.ldsa.values.shape"
   ]
  },
  {
   "cell_type": "code",
   "execution_count": 12,
   "metadata": {},
   "outputs": [
    {
     "name": "stdout",
     "output_type": "stream",
     "text": [
      "Data has N=441 and T=3\n"
     ]
    }
   ],
   "source": [
    "#amount of firms and years, and check if balanced panel data\n",
    "N = dat.firmid.unique().size\n",
    "T = dat.year.unique().size\n",
    "assert dat.shape[0] == N*T, f'Error: data is not a balanced panel'\n",
    "print(f'Data has N={N} and T={T}')"
   ]
  },
  {
   "cell_type": "code",
   "execution_count": 13,
   "metadata": {},
   "outputs": [],
   "source": [
    "y = dat.ldsa.values.reshape((N*T,1)) #ldsa -> y\n",
    "\n",
    "ones = np.ones((N*T,1)) #constant\n",
    "l = dat.lemp.values.reshape((N*T,1)) #lemp -> l\n",
    "k = dat.lcap.values.reshape((N*T,1)) #lcap -> k\n",
    "X = np.hstack([ones, l, k]) #create X matrix\n",
    "\n",
    "#only add year dummies for 1969 and 1970 to avoid dummy trap\n",
    "y1969 = dat.year_1969.values.reshape((N*T,1))\n",
    "y1970 = dat.year_1970.values.reshape((N*T,1))\n",
    "X_year = np.hstack([ones, l, k, y1969, y1970]) #create X matrix with year dummies for 1969 and 1970"
   ]
  },
  {
   "cell_type": "code",
   "execution_count": 14,
   "metadata": {},
   "outputs": [],
   "source": [
    "# Adding variable names\n",
    "label_y = 'Log of Sales'\n",
    "label_x = [\n",
    "    'Constant', \n",
    "    'Log of Employment', \n",
    "    'Log of Capital'\n",
    "]\n",
    "label_x_year = [\n",
    "    'Constant', \n",
    "    'Log of Employment', \n",
    "    'Log of Capital',\n",
    "    'year = 1969',\n",
    "    'year = 1970' \n",
    "]"
   ]
  },
  {
   "cell_type": "markdown",
   "metadata": {},
   "source": [
    "# 4. Pooled OLS"
   ]
  },
  {
   "cell_type": "markdown",
   "metadata": {},
   "source": [
    "Estimate Pooled OLS"
   ]
  },
  {
   "cell_type": "code",
   "execution_count": 15,
   "metadata": {},
   "outputs": [],
   "source": [
    "pols_result = pfa1.estimate(y,X,T=T)"
   ]
  },
  {
   "cell_type": "code",
   "execution_count": 16,
   "metadata": {},
   "outputs": [
    {
     "data": {
      "text/plain": [
       "{'b_hat': array([[3.84115800e-08],\n",
       "        [6.86032641e-01],\n",
       "        [2.76809473e-01]]),\n",
       " 'se': array([[0.00980976],\n",
       "        [0.01944374],\n",
       "        [0.017236  ]]),\n",
       " 'se_robust': array([[0.35640623],\n",
       "        [0.70642604],\n",
       "        [0.62621496]]),\n",
       " 'sigma2': array([[0.1273141]]),\n",
       " 't_values': array([[3.91564986e-06],\n",
       "        [3.52829626e+01],\n",
       "        [1.60599605e+01]]),\n",
       " 't_values_robust': array([[1.07774715e-07],\n",
       "        [9.71131585e-01],\n",
       "        [4.42035865e-01]]),\n",
       " 'R2': array([[0.91717388]]),\n",
       " 'cov': array([[ 9.62313644e-05, -1.24597599e-11,  1.18097188e-11],\n",
       "        [-1.24597599e-11,  3.78058903e-04, -3.04711209e-04],\n",
       "        [ 1.18097188e-11, -3.04711209e-04,  2.97079682e-04]]),\n",
       " 'cov_robust': array([[ 1.27025401e-01, -1.64468830e-08,  1.55888288e-08],\n",
       "        [-1.64468829e-08,  4.99037752e-01, -4.02218796e-01],\n",
       "        [ 1.55888287e-08, -4.02218796e-01,  3.92145181e-01]])}"
      ]
     },
     "execution_count": 16,
     "metadata": {},
     "output_type": "execute_result"
    }
   ],
   "source": [
    "pols_result"
   ]
  },
  {
   "cell_type": "markdown",
   "metadata": {},
   "source": [
    "Print table"
   ]
  },
  {
   "cell_type": "code",
   "execution_count": 17,
   "metadata": {},
   "outputs": [
    {
     "name": "stdout",
     "output_type": "stream",
     "text": [
      "Pooled OLS\n",
      "Dependent variable: Log of Sales\n",
      "\n",
      "                     Beta      Se    t-values    Se (robust)    t-values (robust)\n",
      "-----------------  ------  ------  ----------  -------------  -------------------\n",
      "Constant           0.0000  0.0098      0.0000         0.3564               0.0000\n",
      "Log of Employment  0.6860  0.0194     35.2830         0.7064               0.9711\n",
      "Log of Capital     0.2768  0.0172     16.0600         0.6262               0.4420\n",
      "R² = 0.917\n",
      "σ² = 0.127\n"
     ]
    }
   ],
   "source": [
    "pfa1.print_table((label_y,label_x), pols_result,title='Pooled OLS', floatfmt='.4f')"
   ]
  },
  {
   "cell_type": "markdown",
   "metadata": {},
   "source": [
    "We now do the same where year dummies are added"
   ]
  },
  {
   "cell_type": "code",
   "execution_count": 18,
   "metadata": {},
   "outputs": [],
   "source": [
    "pols_result_year = pfa1.estimate(y,X_year,T=T)"
   ]
  },
  {
   "cell_type": "code",
   "execution_count": 19,
   "metadata": {},
   "outputs": [
    {
     "name": "stdout",
     "output_type": "stream",
     "text": [
      "Pooled OLS with year dummies\n",
      "Dependent variable: Log of Sales\n",
      "\n",
      "                      Beta      Se    t-values    Se (robust)    t-values (robust)\n",
      "-----------------  -------  ------  ----------  -------------  -------------------\n",
      "Constant           -0.0000  0.0170     -0.0000         0.6173              -0.0000\n",
      "Log of Employment   0.6860  0.0195     35.2562         0.7064               0.9711\n",
      "Log of Capital      0.2768  0.0172     16.0478         0.6262               0.4420\n",
      "year = 1969         0.0000  0.0240      0.0000         0.8730               0.0000\n",
      "year = 1970         0.0000  0.0240      0.0000         0.8730               0.0000\n",
      "R² = 0.917\n",
      "σ² = 0.128\n"
     ]
    }
   ],
   "source": [
    "pfa1.print_table((label_y,label_x_year), pols_result_year,title='Pooled OLS with year dummies', floatfmt='.4f')"
   ]
  },
  {
   "cell_type": "markdown",
   "metadata": {},
   "source": [
    "See no effect -> leave them out"
   ]
  },
  {
   "cell_type": "markdown",
   "metadata": {},
   "source": [
    "# 5. Fixed effects"
   ]
  },
  {
   "cell_type": "markdown",
   "metadata": {},
   "source": [
    "First we need to calculate the transformation matrix\n",
    "$$\n",
    "\\mathbf{Q}_{3}:=\\mathbf{I}_{3}-\\left(\\begin{array}{ccc}\n",
    "1/3 & 1/3 &1/3\\\\\n",
    "1/3 & 1/3 &1/3\\\\\n",
    "1/3 & 1/3 &1/3\n",
    "\\end{array}\\right)_{3\\times 3}\n",
    "$$\n",
    "so that we can demean our variables"
   ]
  },
  {
   "cell_type": "code",
   "execution_count": 20,
   "metadata": {},
   "outputs": [],
   "source": [
    "#Transform data\n",
    "Q_T = np.eye(T) - 1/T * np.ones((T,T))\n",
    "y_dot = pfa1.perm(Q_T,y)\n",
    "X_dot = pfa1.perm(Q_T,X)"
   ]
  },
  {
   "cell_type": "code",
   "execution_count": 21,
   "metadata": {},
   "outputs": [],
   "source": [
    "#remove constant;\n",
    "X_dot = X_dot[:,1:]\n",
    "label_x_dot = label_x[1:]"
   ]
  },
  {
   "cell_type": "markdown",
   "metadata": {},
   "source": [
    "Now we can stimate FE model"
   ]
  },
  {
   "cell_type": "code",
   "execution_count": 22,
   "metadata": {},
   "outputs": [],
   "source": [
    "#estimate FE model\n",
    "fe_result = pfa1.estimate(y_dot,X_dot,transform='fe',T=T)"
   ]
  },
  {
   "cell_type": "markdown",
   "metadata": {},
   "source": [
    "Print table"
   ]
  },
  {
   "cell_type": "code",
   "execution_count": 23,
   "metadata": {},
   "outputs": [
    {
     "name": "stdout",
     "output_type": "stream",
     "text": [
      "Fixed Effects\n",
      "Dependent variable: Log of Sales\n",
      "\n",
      "                     Beta      Se    t-values    Se (robust)    t-values (robust)\n",
      "-----------------  ------  ------  ----------  -------------  -------------------\n",
      "Log of Employment  0.6004  0.0346     17.3515         1.0264               0.5849\n",
      "Log of Capital     0.0502  0.0382      1.3143         1.1332               0.0443\n",
      "R² = 0.284\n",
      "σ² = 0.008\n"
     ]
    }
   ],
   "source": [
    "pfa1.print_table((label_y,label_x_dot), fe_result,title='Fixed Effects', floatfmt='.4f') "
   ]
  },
  {
   "cell_type": "markdown",
   "metadata": {},
   "source": [
    "# 6. Random effects"
   ]
  },
  {
   "cell_type": "markdown",
   "metadata": {},
   "source": [
    "**6.1:** The between estimator"
   ]
  },
  {
   "cell_type": "markdown",
   "metadata": {},
   "source": [
    "Creating $P_3$ vector and estimating between groups model\n",
    "\n",
    "\\begin{equation} \n",
    "\\mathbf{P}_3 \\equiv \\left( \\frac{1}{3}, \\frac{1}{3}, \\frac{1}{3} \\right)_{1 \\times 3}  \\notag\n",
    "\\end{equation}"
   ]
  },
  {
   "cell_type": "code",
   "execution_count": 24,
   "metadata": {},
   "outputs": [
    {
     "name": "stdout",
     "output_type": "stream",
     "text": [
      "Between Estimator\n",
      "Dependent variable: Log of Sales\n",
      "\n",
      "                     Beta      Se    t-values    Se (robust)    t-values (robust)\n",
      "-----------------  ------  ------  ----------  -------------  -------------------\n",
      "Constant           0.0000  0.0166      0.0000         0.3483               0.0000\n",
      "Log of Employment  0.6856  0.0334     20.5331         0.6988               0.9811\n",
      "Log of Capital     0.2778  0.0296      9.3935         0.6190               0.4488\n",
      "R² = 0.921\n",
      "σ² = 0.122\n"
     ]
    }
   ],
   "source": [
    "# Transform the data\n",
    "P_T = np.ones((1,T)) * 1/T\n",
    "y_mean = pfa1.perm(P_T, y)\n",
    "X_mean = pfa1.perm(P_T, X)\n",
    "\n",
    "# Estimate \n",
    "be_result = pfa1.estimate(y_mean, X_mean, transform='be', T=T)\n",
    "pfa1.print_table((label_y, label_x), be_result, title=\"Between Estimator\", floatfmt='.4f')"
   ]
  },
  {
   "cell_type": "markdown",
   "metadata": {},
   "source": [
    "**6.2:** Calculating $\\hat{\\lambda}$"
   ]
  },
  {
   "cell_type": "code",
   "execution_count": 25,
   "metadata": {},
   "outputs": [
    {
     "name": "stdout",
     "output_type": "stream",
     "text": [
      "Lambda is approximately equal to 0.8511.\n"
     ]
    }
   ],
   "source": [
    "# Calculate lambda\n",
    "sigma2_u = fe_result['sigma2']\n",
    "sigma2_w = be_result['sigma2']\n",
    "sigma2_c = sigma2_w - 1/T * sigma2_u\n",
    "_lambda = 1 - np.sqrt(sigma2_u / (sigma2_u + T*sigma2_c))\n",
    "\n",
    "# Print lambda \n",
    "print(f'Lambda is approximately equal to {_lambda.item():.4f}.')"
   ]
  },
  {
   "cell_type": "markdown",
   "metadata": {},
   "source": [
    "**6.3:** Transform and estimate RE estimator"
   ]
  },
  {
   "cell_type": "code",
   "execution_count": 26,
   "metadata": {},
   "outputs": [],
   "source": [
    "# Transform the data\n",
    "C_T = np.eye(T)-_lambda*P_T\n",
    "y_re = pfa1.perm(C_T,y)\n",
    "x_re = pfa1.perm(C_T,X)"
   ]
  },
  {
   "cell_type": "markdown",
   "metadata": {},
   "source": [
    "Estimate the RE model"
   ]
  },
  {
   "cell_type": "code",
   "execution_count": 27,
   "metadata": {},
   "outputs": [],
   "source": [
    "#estimate RE model\n",
    "re_result = pfa1.estimate(y_re,x_re,transform='re',T=T)"
   ]
  },
  {
   "cell_type": "markdown",
   "metadata": {},
   "source": [
    "Print table"
   ]
  },
  {
   "cell_type": "code",
   "execution_count": 28,
   "metadata": {},
   "outputs": [
    {
     "name": "stdout",
     "output_type": "stream",
     "text": [
      "Random Effects\n",
      "Dependent variable: Log of Sales\n",
      "\n",
      "                     Beta      Se    t-values    Se (robust)    t-values (robust)\n",
      "-----------------  ------  ------  ----------  -------------  -------------------\n",
      "Constant           0.0000  0.0169      0.0000         0.6156               0.0000\n",
      "Log of Employment  0.6912  0.0235     29.4502         0.8528               0.8106\n",
      "Log of Capital     0.2476  0.0214     11.5909         0.7762               0.3190\n",
      "R² = 0.797\n",
      "σ² = 0.008\n"
     ]
    }
   ],
   "source": [
    "# Print table\n",
    "pfa1.print_table((label_y,label_x), re_result,title='Random Effects', floatfmt='.4f')"
   ]
  },
  {
   "cell_type": "markdown",
   "metadata": {},
   "source": [
    "# 7. First differences"
   ]
  },
  {
   "cell_type": "markdown",
   "metadata": {},
   "source": [
    "To transform our variables into first differences we need to construct and apply the following matrix"
   ]
  },
  {
   "cell_type": "markdown",
   "metadata": {},
   "source": [
    "$$\n",
    "\\mathbf{D}:=\\left(\\begin{array}{ccc}\n",
    "-1 & 1 & 0 \\\\\n",
    "0 & -1 & 1 \\\\\n",
    "\\end{array}\\right)_{2 \\times 3}.\n",
    "$$"
   ]
  },
  {
   "cell_type": "code",
   "execution_count": 29,
   "metadata": {},
   "outputs": [],
   "source": [
    "# Transform the data\n",
    "D_T = - np.eye(T-1, T) + np.eye(T-1, T, k=1)\n",
    "y_diff = pfa1.perm(D_T, y)\n",
    "X_diff = pfa1.perm(D_T, X)"
   ]
  },
  {
   "cell_type": "code",
   "execution_count": 30,
   "metadata": {},
   "outputs": [],
   "source": [
    "#remove constant;\n",
    "X_diff = X_diff[:,1:]\n",
    "label_x_diff = label_x[1:]"
   ]
  },
  {
   "cell_type": "markdown",
   "metadata": {},
   "source": [
    "Estimate FD model"
   ]
  },
  {
   "cell_type": "code",
   "execution_count": 31,
   "metadata": {},
   "outputs": [],
   "source": [
    "#estimate\n",
    "fd_result = pfa1.estimate(y_diff,X_diff,transform='fd',T=T)"
   ]
  },
  {
   "cell_type": "markdown",
   "metadata": {},
   "source": [
    "Present table"
   ]
  },
  {
   "cell_type": "code",
   "execution_count": 32,
   "metadata": {},
   "outputs": [
    {
     "name": "stdout",
     "output_type": "stream",
     "text": [
      "First Differences\n",
      "Dependent variable: Log of Sales\n",
      "\n",
      "                     Beta      Se    t-values    Se (robust)    t-values (robust)\n",
      "-----------------  ------  ------  ----------  -------------  -------------------\n",
      "Log of Employment  0.5509  0.0365     15.0788         1.0839               0.5083\n",
      "Log of Capital     0.0381  0.0432      0.8816         1.2825               0.0297\n",
      "R² = 0.217\n",
      "σ² = 0.013\n"
     ]
    }
   ],
   "source": [
    "pfa1.print_table((label_y,label_x_diff), fd_result,title='First Differences', floatfmt='.4f')"
   ]
  },
  {
   "cell_type": "markdown",
   "metadata": {},
   "source": [
    "# 8. Tests"
   ]
  },
  {
   "cell_type": "markdown",
   "metadata": {},
   "source": [
    "## Wald Test\n",
    "\n",
    "The Wald test is a statistical hypothesis test used to assess the significance of coefficients in regression models. It evaluates whether specific linear combinations of coefficients are equal to certain values.\n",
    "\n"
   ]
  },
  {
   "cell_type": "code",
   "execution_count": 1,
   "metadata": {},
   "outputs": [
    {
     "ename": "NameError",
     "evalue": "name 'y' is not defined",
     "output_type": "error",
     "traceback": [
      "\u001b[1;31m---------------------------------------------------------------------------\u001b[0m",
      "\u001b[1;31mNameError\u001b[0m                                 Traceback (most recent call last)",
      "\u001b[1;32mc:\\Users\\miche\\OneDrive\\Dokumenter\\AME\\AME---group-1\\Assignment 1\\notebook assignment 1.ipynb Cell 63\u001b[0m line \u001b[0;36m2\n\u001b[0;32m      <a href='vscode-notebook-cell:/c%3A/Users/miche/OneDrive/Dokumenter/AME/AME---group-1/Assignment%201/notebook%20assignment%201.ipynb#Y116sZmlsZQ%3D%3D?line=0'>1</a>\u001b[0m regressions \u001b[39m=\u001b[39m [\n\u001b[1;32m----> <a href='vscode-notebook-cell:/c%3A/Users/miche/OneDrive/Dokumenter/AME/AME---group-1/Assignment%201/notebook%20assignment%201.ipynb#Y116sZmlsZQ%3D%3D?line=1'>2</a>\u001b[0m     {\u001b[39m\"\u001b[39m\u001b[39mname\u001b[39m\u001b[39m\"\u001b[39m: \u001b[39m\"\u001b[39m\u001b[39mPooled OLS\u001b[39m\u001b[39m\"\u001b[39m, \u001b[39m\"\u001b[39m\u001b[39mtrans\u001b[39m\u001b[39m\"\u001b[39m: \u001b[39m\"\u001b[39m\u001b[39m\"\u001b[39m, \u001b[39m\"\u001b[39m\u001b[39my\u001b[39m\u001b[39m\"\u001b[39m: y, \u001b[39m\"\u001b[39m\u001b[39mX\u001b[39m\u001b[39m\"\u001b[39m: X},\n\u001b[0;32m      <a href='vscode-notebook-cell:/c%3A/Users/miche/OneDrive/Dokumenter/AME/AME---group-1/Assignment%201/notebook%20assignment%201.ipynb#Y116sZmlsZQ%3D%3D?line=2'>3</a>\u001b[0m     {\u001b[39m\"\u001b[39m\u001b[39mname\u001b[39m\u001b[39m\"\u001b[39m: \u001b[39m\"\u001b[39m\u001b[39mFixed Effects\u001b[39m\u001b[39m\"\u001b[39m, \u001b[39m\"\u001b[39m\u001b[39mtrans\u001b[39m\u001b[39m\"\u001b[39m: \u001b[39m\"\u001b[39m\u001b[39mfe\u001b[39m\u001b[39m\"\u001b[39m, \u001b[39m\"\u001b[39m\u001b[39my\u001b[39m\u001b[39m\"\u001b[39m: y_dot, \u001b[39m\"\u001b[39m\u001b[39mX\u001b[39m\u001b[39m\"\u001b[39m: X_dot},\n\u001b[0;32m      <a href='vscode-notebook-cell:/c%3A/Users/miche/OneDrive/Dokumenter/AME/AME---group-1/Assignment%201/notebook%20assignment%201.ipynb#Y116sZmlsZQ%3D%3D?line=3'>4</a>\u001b[0m     {\u001b[39m\"\u001b[39m\u001b[39mname\u001b[39m\u001b[39m\"\u001b[39m: \u001b[39m\"\u001b[39m\u001b[39mFirst Difference\u001b[39m\u001b[39m\"\u001b[39m, \u001b[39m\"\u001b[39m\u001b[39mtrans\u001b[39m\u001b[39m\"\u001b[39m: \u001b[39m\"\u001b[39m\u001b[39mfd\u001b[39m\u001b[39m\"\u001b[39m, \u001b[39m\"\u001b[39m\u001b[39my\u001b[39m\u001b[39m\"\u001b[39m: y_diff, \u001b[39m\"\u001b[39m\u001b[39mX\u001b[39m\u001b[39m\"\u001b[39m: X_diff},\n\u001b[0;32m      <a href='vscode-notebook-cell:/c%3A/Users/miche/OneDrive/Dokumenter/AME/AME---group-1/Assignment%201/notebook%20assignment%201.ipynb#Y116sZmlsZQ%3D%3D?line=4'>5</a>\u001b[0m     {\u001b[39m\"\u001b[39m\u001b[39mname\u001b[39m\u001b[39m\"\u001b[39m: \u001b[39m\"\u001b[39m\u001b[39mRandom Effects\u001b[39m\u001b[39m\"\u001b[39m, \u001b[39m\"\u001b[39m\u001b[39mtrans\u001b[39m\u001b[39m\"\u001b[39m: \u001b[39m\"\u001b[39m\u001b[39mre\u001b[39m\u001b[39m\"\u001b[39m, \u001b[39m\"\u001b[39m\u001b[39my\u001b[39m\u001b[39m\"\u001b[39m: y_re, \u001b[39m\"\u001b[39m\u001b[39mX\u001b[39m\u001b[39m\"\u001b[39m: x_re}\n\u001b[0;32m      <a href='vscode-notebook-cell:/c%3A/Users/miche/OneDrive/Dokumenter/AME/AME---group-1/Assignment%201/notebook%20assignment%201.ipynb#Y116sZmlsZQ%3D%3D?line=5'>6</a>\u001b[0m ]\n\u001b[0;32m      <a href='vscode-notebook-cell:/c%3A/Users/miche/OneDrive/Dokumenter/AME/AME---group-1/Assignment%201/notebook%20assignment%201.ipynb#Y116sZmlsZQ%3D%3D?line=7'>8</a>\u001b[0m \u001b[39mfor\u001b[39;00m regression \u001b[39min\u001b[39;00m regressions:\n\u001b[0;32m      <a href='vscode-notebook-cell:/c%3A/Users/miche/OneDrive/Dokumenter/AME/AME---group-1/Assignment%201/notebook%20assignment%201.ipynb#Y116sZmlsZQ%3D%3D?line=8'>9</a>\u001b[0m     name \u001b[39m=\u001b[39m regression[\u001b[39m\"\u001b[39m\u001b[39mname\u001b[39m\u001b[39m\"\u001b[39m]\n",
      "\u001b[1;31mNameError\u001b[0m: name 'y' is not defined"
     ]
    }
   ],
   "source": [
    "regressions = [\n",
    "    {\"name\": \"Pooled OLS\", \"trans\": \"\", \"y\": y, \"X\": X},\n",
    "    {\"name\": \"Fixed Effects\", \"trans\": \"fe\", \"y\": y_dot, \"X\": X_dot},\n",
    "    {\"name\": \"First Difference\", \"trans\": \"fd\", \"y\": y_diff, \"X\": X_diff},\n",
    "    {\"name\": \"Random Effects\", \"trans\": \"re\", \"y\": y_re, \"X\": x_re}\n",
    "]\n",
    "\n",
    "for regression in regressions:\n",
    "    name = regression[\"name\"]\n",
    "    trans = regression[\"trans\"]\n",
    "    y_reg = regression[\"y\"]\n",
    "    X_reg = regression[\"X\"]\n",
    "\n",
    "    wald_stat, p_val, test_result = pfa1.wald_test(y_reg, X_reg, trans=trans, T=T)\n",
    "    \n",
    "    print(f\"Regression Model: {name}\")\n",
    "    print(f\"Wald Statistic: {wald_stat}\")\n",
    "    print(f\"P-value: {p_val}\")\n",
    "    print(f\"Test Result: {test_result}\\n\")"
   ]
  }
 ],
 "metadata": {
  "kernelspec": {
   "display_name": "base",
   "language": "python",
   "name": "python3"
  },
  "language_info": {
   "codemirror_mode": {
    "name": "ipython",
    "version": 3
   },
   "file_extension": ".py",
   "mimetype": "text/x-python",
   "name": "python",
   "nbconvert_exporter": "python",
   "pygments_lexer": "ipython3",
   "version": "3.9.16"
  },
  "vscode": {
   "interpreter": {
    "hash": "ef42839c56fd8bee084dafb278faf4416bb17c87278e59e0e4bb5f7c8f27c505"
   }
  }
 },
 "nbformat": 4,
 "nbformat_minor": 4
}
