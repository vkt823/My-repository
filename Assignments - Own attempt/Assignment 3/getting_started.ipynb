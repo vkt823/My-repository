{
 "cells": [
  {
   "cell_type": "markdown",
   "metadata": {},
   "source": [
    "# Project 3: Getting Started \n",
    "\n",
    "This notebook is intended to help you get off to a flying start with the cars dataset. You don't have to use this notebook and you can discard any parts you do not like, they are purely intended as a help to get started. "
   ]
  },
  {
   "cell_type": "code",
   "execution_count": 90,
   "metadata": {},
   "outputs": [
    {
     "name": "stdout",
     "output_type": "stream",
     "text": [
      "The autoreload extension is already loaded. To reload it, use:\n",
      "  %reload_ext autoreload\n"
     ]
    }
   ],
   "source": [
    "import numpy as np \n",
    "import pandas as pd \n",
    "import matplotlib.pyplot as plt \n",
    "import seaborn as sns \n",
    "sns.set_theme()\n",
    "\n",
    "# optimization\n",
    "from scipy import optimize\n",
    "import estimation as est\n",
    "import estimation_boot as est_boot\n",
    "import clogit_post as clogit\n",
    "from numpy.random import default_rng\n",
    "import warnings\n",
    "warnings.filterwarnings('ignore')\n",
    "import statsmodels.formula.api as smf\n",
    "%load_ext autoreload\n",
    "%autoreload 2"
   ]
  },
  {
   "cell_type": "markdown",
   "metadata": {},
   "source": [
    "# Read in data\n",
    "\n",
    "The dataset, `cars.csv`, contains cleaned and processed data. If you want to make changes, the notebook, `materialize.ipynb`, creates the data from the raw source datsets. "
   ]
  },
  {
   "cell_type": "code",
   "execution_count": 91,
   "metadata": {},
   "outputs": [],
   "source": [
    "cars = pd.read_csv('cars.csv')\n",
    "lbl_vars = pd.read_csv('labels_variables.csv')\n",
    "lbl_vals = pd.read_csv('labels_values.csv')\n",
    "\n",
    "# convert from dataframe to dict\n",
    "lbl_vals = {c: lbl_vals[c].dropna().to_dict() for c in lbl_vals.columns}"
   ]
  },
  {
   "cell_type": "code",
   "execution_count": 92,
   "metadata": {},
   "outputs": [],
   "source": [
    "lbl_vars.set_index('variable', inplace=True)"
   ]
  },
  {
   "cell_type": "markdown",
   "metadata": {},
   "source": [
    "## Overview of the dataset"
   ]
  },
  {
   "cell_type": "code",
   "execution_count": 93,
   "metadata": {},
   "outputs": [
    {
     "data": {
      "text/html": [
       "<div>\n",
       "<style scoped>\n",
       "    .dataframe tbody tr th:only-of-type {\n",
       "        vertical-align: middle;\n",
       "    }\n",
       "\n",
       "    .dataframe tbody tr th {\n",
       "        vertical-align: top;\n",
       "    }\n",
       "\n",
       "    .dataframe thead th {\n",
       "        text-align: right;\n",
       "    }\n",
       "</style>\n",
       "<table border=\"1\" class=\"dataframe\">\n",
       "  <thead>\n",
       "    <tr style=\"text-align: right;\">\n",
       "      <th></th>\n",
       "      <th>label</th>\n",
       "      <th>Mean</th>\n",
       "    </tr>\n",
       "    <tr>\n",
       "      <th>variable</th>\n",
       "      <th></th>\n",
       "      <th></th>\n",
       "    </tr>\n",
       "  </thead>\n",
       "  <tbody>\n",
       "    <tr>\n",
       "      <th>ye</th>\n",
       "      <td>year (=first dimension of panel)</td>\n",
       "      <td>84.50</td>\n",
       "    </tr>\n",
       "    <tr>\n",
       "      <th>ma</th>\n",
       "      <td>market (=second dimension of panel)</td>\n",
       "      <td>3.00</td>\n",
       "    </tr>\n",
       "    <tr>\n",
       "      <th>co</th>\n",
       "      <td>model code (=third dimension of panel)</td>\n",
       "      <td>207.50</td>\n",
       "    </tr>\n",
       "    <tr>\n",
       "      <th>zcode</th>\n",
       "      <td>alternative model code (predecessors and succe...</td>\n",
       "      <td>177.76</td>\n",
       "    </tr>\n",
       "    <tr>\n",
       "      <th>brd</th>\n",
       "      <td>brand code</td>\n",
       "      <td>16.79</td>\n",
       "    </tr>\n",
       "    <tr>\n",
       "      <th>type</th>\n",
       "      <td>name of brand and model</td>\n",
       "      <td>NaN</td>\n",
       "    </tr>\n",
       "    <tr>\n",
       "      <th>brand</th>\n",
       "      <td>name of brand</td>\n",
       "      <td>NaN</td>\n",
       "    </tr>\n",
       "    <tr>\n",
       "      <th>model</th>\n",
       "      <td>name of model</td>\n",
       "      <td>NaN</td>\n",
       "    </tr>\n",
       "    <tr>\n",
       "      <th>org</th>\n",
       "      <td>origin code (demand side, country with which c...</td>\n",
       "      <td>2.72</td>\n",
       "    </tr>\n",
       "    <tr>\n",
       "      <th>loc</th>\n",
       "      <td>location code (production side, country where ...</td>\n",
       "      <td>5.17</td>\n",
       "    </tr>\n",
       "    <tr>\n",
       "      <th>cla</th>\n",
       "      <td>class or segment code</td>\n",
       "      <td>2.30</td>\n",
       "    </tr>\n",
       "    <tr>\n",
       "      <th>home</th>\n",
       "      <td>domestic car dummy (appropriate interaction of...</td>\n",
       "      <td>0.32</td>\n",
       "    </tr>\n",
       "    <tr>\n",
       "      <th>frm</th>\n",
       "      <td>firm code</td>\n",
       "      <td>14.50</td>\n",
       "    </tr>\n",
       "    <tr>\n",
       "      <th>qu</th>\n",
       "      <td>sales (number of new car registrations)</td>\n",
       "      <td>35606.68</td>\n",
       "    </tr>\n",
       "    <tr>\n",
       "      <th>cy</th>\n",
       "      <td>cylinder volume or displacement (in cc)</td>\n",
       "      <td>1337.09</td>\n",
       "    </tr>\n",
       "    <tr>\n",
       "      <th>hp</th>\n",
       "      <td>horsepower (in kW)</td>\n",
       "      <td>50.10</td>\n",
       "    </tr>\n",
       "    <tr>\n",
       "      <th>we</th>\n",
       "      <td>weight (in kg)</td>\n",
       "      <td>934.49</td>\n",
       "    </tr>\n",
       "    <tr>\n",
       "      <th>pl</th>\n",
       "      <td>places (number, not reliable variable)</td>\n",
       "      <td>4.88</td>\n",
       "    </tr>\n",
       "    <tr>\n",
       "      <th>do</th>\n",
       "      <td>doors (number, not reliable variable)</td>\n",
       "      <td>3.55</td>\n",
       "    </tr>\n",
       "    <tr>\n",
       "      <th>le</th>\n",
       "      <td>length (in cm)</td>\n",
       "      <td>409.24</td>\n",
       "    </tr>\n",
       "    <tr>\n",
       "      <th>wi</th>\n",
       "      <td>width (in cm)</td>\n",
       "      <td>163.44</td>\n",
       "    </tr>\n",
       "    <tr>\n",
       "      <th>he</th>\n",
       "      <td>height (in cm)</td>\n",
       "      <td>140.46</td>\n",
       "    </tr>\n",
       "    <tr>\n",
       "      <th>li1</th>\n",
       "      <td>measure 1 for fuel efficiency (liter per km, a...</td>\n",
       "      <td>6.59</td>\n",
       "    </tr>\n",
       "    <tr>\n",
       "      <th>li2</th>\n",
       "      <td>measure 2 for fuel efficiency (liter per km, a...</td>\n",
       "      <td>8.11</td>\n",
       "    </tr>\n",
       "    <tr>\n",
       "      <th>li3</th>\n",
       "      <td>measure 3 for fuel efficiency (liter per km, a...</td>\n",
       "      <td>8.92</td>\n",
       "    </tr>\n",
       "    <tr>\n",
       "      <th>li</th>\n",
       "      <td>average of li1, li2, li3 (used in papers)</td>\n",
       "      <td>7.87</td>\n",
       "    </tr>\n",
       "    <tr>\n",
       "      <th>sp</th>\n",
       "      <td>maximum speed (km/hour)</td>\n",
       "      <td>154.22</td>\n",
       "    </tr>\n",
       "    <tr>\n",
       "      <th>ac</th>\n",
       "      <td>time to acceleration (in seconds from 0 to 100...</td>\n",
       "      <td>16.27</td>\n",
       "    </tr>\n",
       "    <tr>\n",
       "      <th>pr</th>\n",
       "      <td>price (in destination currency including V.A.T.)</td>\n",
       "      <td>2608988.58</td>\n",
       "    </tr>\n",
       "    <tr>\n",
       "      <th>princ</th>\n",
       "      <td>=pr/(ngdp/pop): price relative to per capita i...</td>\n",
       "      <td>0.76</td>\n",
       "    </tr>\n",
       "    <tr>\n",
       "      <th>eurpr</th>\n",
       "      <td>=pr/avdexr: price in common currency (in SDR t...</td>\n",
       "      <td>7256.92</td>\n",
       "    </tr>\n",
       "    <tr>\n",
       "      <th>exppr</th>\n",
       "      <td>=pr/avexr: price in exporter currency</td>\n",
       "      <td>600384.65</td>\n",
       "    </tr>\n",
       "    <tr>\n",
       "      <th>avexr</th>\n",
       "      <td>av. exchange rate of exporter country (exporte...</td>\n",
       "      <td>229.30</td>\n",
       "    </tr>\n",
       "    <tr>\n",
       "      <th>avdexr</th>\n",
       "      <td>av. exchange rate of destination country (dest...</td>\n",
       "      <td>319.91</td>\n",
       "    </tr>\n",
       "    <tr>\n",
       "      <th>avcpr</th>\n",
       "      <td>av. consumer price index of exporter country</td>\n",
       "      <td>492.53</td>\n",
       "    </tr>\n",
       "    <tr>\n",
       "      <th>avppr</th>\n",
       "      <td>av. producer price index of exporter country</td>\n",
       "      <td>671.77</td>\n",
       "    </tr>\n",
       "    <tr>\n",
       "      <th>avdcpr</th>\n",
       "      <td>av. consumer price index of destination country</td>\n",
       "      <td>77.02</td>\n",
       "    </tr>\n",
       "    <tr>\n",
       "      <th>avdppr</th>\n",
       "      <td>av. producer price index of destination country</td>\n",
       "      <td>87.69</td>\n",
       "    </tr>\n",
       "    <tr>\n",
       "      <th>xexr</th>\n",
       "      <td>avdexr/avexr</td>\n",
       "      <td>66.32</td>\n",
       "    </tr>\n",
       "    <tr>\n",
       "      <th>tax</th>\n",
       "      <td>percentage VAT</td>\n",
       "      <td>0.21</td>\n",
       "    </tr>\n",
       "    <tr>\n",
       "      <th>pop</th>\n",
       "      <td>population</td>\n",
       "      <td>49183800.00</td>\n",
       "    </tr>\n",
       "    <tr>\n",
       "      <th>ngdp</th>\n",
       "      <td>nominal gross domestic product of destination ...</td>\n",
       "      <td>178667304825541.97</td>\n",
       "    </tr>\n",
       "    <tr>\n",
       "      <th>rgdp</th>\n",
       "      <td>real gross domestic product</td>\n",
       "      <td>216716720230172.44</td>\n",
       "    </tr>\n",
       "    <tr>\n",
       "      <th>engdp</th>\n",
       "      <td>=ngdp/avdexr: nominal gdp in common currency (...</td>\n",
       "      <td>504371708122.45</td>\n",
       "    </tr>\n",
       "    <tr>\n",
       "      <th>ergdp</th>\n",
       "      <td>=rgdp/avexr</td>\n",
       "      <td>659002565347.56</td>\n",
       "    </tr>\n",
       "    <tr>\n",
       "      <th>engdpc</th>\n",
       "      <td>=engdp/pop: nominal gdp per capita in common c...</td>\n",
       "      <td>10015.84</td>\n",
       "    </tr>\n",
       "    <tr>\n",
       "      <th>ergdpc</th>\n",
       "      <td>=ergdp/pop</td>\n",
       "      <td>13264.84</td>\n",
       "    </tr>\n",
       "    <tr>\n",
       "      <th>s</th>\n",
       "      <td>market share (qu / qu_tot)</td>\n",
       "      <td>0.02</td>\n",
       "    </tr>\n",
       "    <tr>\n",
       "      <th>qu_tot</th>\n",
       "      <td>total sales in this market-year</td>\n",
       "      <td>1424267.29</td>\n",
       "    </tr>\n",
       "    <tr>\n",
       "      <th>inc</th>\n",
       "      <td>avg. income per capita</td>\n",
       "      <td>26829.74</td>\n",
       "    </tr>\n",
       "  </tbody>\n",
       "</table>\n",
       "</div>"
      ],
      "text/plain": [
       "                                                      label  \\\n",
       "variable                                                      \n",
       "ye                         year (=first dimension of panel)   \n",
       "ma                      market (=second dimension of panel)   \n",
       "co                   model code (=third dimension of panel)   \n",
       "zcode     alternative model code (predecessors and succe...   \n",
       "brd                                              brand code   \n",
       "type                                name of brand and model   \n",
       "brand                                         name of brand   \n",
       "model                                         name of model   \n",
       "org       origin code (demand side, country with which c...   \n",
       "loc       location code (production side, country where ...   \n",
       "cla                                   class or segment code   \n",
       "home      domestic car dummy (appropriate interaction of...   \n",
       "frm                                               firm code   \n",
       "qu                  sales (number of new car registrations)   \n",
       "cy                  cylinder volume or displacement (in cc)   \n",
       "hp                                       horsepower (in kW)   \n",
       "we                                           weight (in kg)   \n",
       "pl                   places (number, not reliable variable)   \n",
       "do                    doors (number, not reliable variable)   \n",
       "le                                           length (in cm)   \n",
       "wi                                            width (in cm)   \n",
       "he                                           height (in cm)   \n",
       "li1       measure 1 for fuel efficiency (liter per km, a...   \n",
       "li2       measure 2 for fuel efficiency (liter per km, a...   \n",
       "li3       measure 3 for fuel efficiency (liter per km, a...   \n",
       "li                average of li1, li2, li3 (used in papers)   \n",
       "sp                                  maximum speed (km/hour)   \n",
       "ac        time to acceleration (in seconds from 0 to 100...   \n",
       "pr         price (in destination currency including V.A.T.)   \n",
       "princ     =pr/(ngdp/pop): price relative to per capita i...   \n",
       "eurpr     =pr/avdexr: price in common currency (in SDR t...   \n",
       "exppr                 =pr/avexr: price in exporter currency   \n",
       "avexr     av. exchange rate of exporter country (exporte...   \n",
       "avdexr    av. exchange rate of destination country (dest...   \n",
       "avcpr          av. consumer price index of exporter country   \n",
       "avppr          av. producer price index of exporter country   \n",
       "avdcpr      av. consumer price index of destination country   \n",
       "avdppr      av. producer price index of destination country   \n",
       "xexr                                           avdexr/avexr   \n",
       "tax                                          percentage VAT   \n",
       "pop                                              population   \n",
       "ngdp      nominal gross domestic product of destination ...   \n",
       "rgdp                            real gross domestic product   \n",
       "engdp     =ngdp/avdexr: nominal gdp in common currency (...   \n",
       "ergdp                                           =rgdp/avexr   \n",
       "engdpc    =engdp/pop: nominal gdp per capita in common c...   \n",
       "ergdpc                                           =ergdp/pop   \n",
       "s                                market share (qu / qu_tot)   \n",
       "qu_tot                      total sales in this market-year   \n",
       "inc                                  avg. income per capita   \n",
       "\n",
       "                         Mean  \n",
       "variable                       \n",
       "ye                      84.50  \n",
       "ma                       3.00  \n",
       "co                     207.50  \n",
       "zcode                  177.76  \n",
       "brd                     16.79  \n",
       "type                      NaN  \n",
       "brand                     NaN  \n",
       "model                     NaN  \n",
       "org                      2.72  \n",
       "loc                      5.17  \n",
       "cla                      2.30  \n",
       "home                     0.32  \n",
       "frm                     14.50  \n",
       "qu                   35606.68  \n",
       "cy                    1337.09  \n",
       "hp                      50.10  \n",
       "we                     934.49  \n",
       "pl                       4.88  \n",
       "do                       3.55  \n",
       "le                     409.24  \n",
       "wi                     163.44  \n",
       "he                     140.46  \n",
       "li1                      6.59  \n",
       "li2                      8.11  \n",
       "li3                      8.92  \n",
       "li                       7.87  \n",
       "sp                     154.22  \n",
       "ac                      16.27  \n",
       "pr                 2608988.58  \n",
       "princ                    0.76  \n",
       "eurpr                 7256.92  \n",
       "exppr               600384.65  \n",
       "avexr                  229.30  \n",
       "avdexr                 319.91  \n",
       "avcpr                  492.53  \n",
       "avppr                  671.77  \n",
       "avdcpr                  77.02  \n",
       "avdppr                  87.69  \n",
       "xexr                    66.32  \n",
       "tax                      0.21  \n",
       "pop               49183800.00  \n",
       "ngdp       178667304825541.97  \n",
       "rgdp       216716720230172.44  \n",
       "engdp         504371708122.45  \n",
       "ergdp         659002565347.56  \n",
       "engdpc               10015.84  \n",
       "ergdpc               13264.84  \n",
       "s                        0.02  \n",
       "qu_tot             1424267.29  \n",
       "inc                  26829.74  "
      ]
     },
     "execution_count": 93,
     "metadata": {},
     "output_type": "execute_result"
    }
   ],
   "source": [
    "lbl_vars.join(cars.mean(numeric_only=True).apply(lambda x: f'{x: .2f}').to_frame('Mean'))"
   ]
  },
  {
   "cell_type": "markdown",
   "metadata": {},
   "source": [
    "# Set up for analysis"
   ]
  },
  {
   "cell_type": "code",
   "execution_count": null,
   "metadata": {},
   "outputs": [],
   "source": []
  },
  {
   "cell_type": "code",
   "execution_count": 94,
   "metadata": {},
   "outputs": [],
   "source": [
    "price_var = 'princ'"
   ]
  },
  {
   "cell_type": "code",
   "execution_count": 95,
   "metadata": {},
   "outputs": [],
   "source": [
    "cars['logp'] = np.log(cars[price_var]) # Problem set hint"
   ]
  },
  {
   "cell_type": "code",
   "execution_count": 96,
   "metadata": {},
   "outputs": [],
   "source": [
    "cars['logp'] = (cars[price_var])/np.log((cars['ngdp']/cars['pop'])) # Brownstone and Train"
   ]
  },
  {
   "cell_type": "code",
   "execution_count": 97,
   "metadata": {},
   "outputs": [],
   "source": [
    "cars['logp'] = (cars[price_var])  # Brenkers and Verboven\n"
   ]
  },
  {
   "cell_type": "code",
   "execution_count": null,
   "metadata": {},
   "outputs": [],
   "source": []
  },
  {
   "cell_type": "code",
   "execution_count": null,
   "metadata": {},
   "outputs": [],
   "source": []
  },
  {
   "cell_type": "code",
   "execution_count": 98,
   "metadata": {},
   "outputs": [
    {
     "data": {
      "text/plain": [
       "0.7557170818646749"
      ]
     },
     "execution_count": 98,
     "metadata": {},
     "output_type": "execute_result"
    }
   ],
   "source": [
    "np.mean(cars['logp'])"
   ]
  },
  {
   "cell_type": "code",
   "execution_count": 99,
   "metadata": {},
   "outputs": [],
   "source": [
    "# new variable: price elasticity heterogeneous for home-region \n",
    "cars['logp_x_home'] = cars[price_var] * cars['home']"
   ]
  },
  {
   "cell_type": "markdown",
   "metadata": {},
   "source": [
    "### Dummy variables\n",
    "\n",
    "For working with matrices, we want to have a column for each dummy variable. "
   ]
  },
  {
   "cell_type": "code",
   "execution_count": 100,
   "metadata": {},
   "outputs": [
    {
     "name": "stdout",
     "output_type": "stream",
     "text": [
      "32\n"
     ]
    }
   ],
   "source": [
    "categorical_var = 'brand' # name of categorical variable\n",
    "dummies = pd.get_dummies(cars[categorical_var]) # creates a matrix of dummies for each value of dummyvar\n",
    "\n",
    "x_vars_dummies = list(dummies.columns[1:].values) # omit a reference category, here it is the first (hence columns[1:])\n",
    "print(len(x_vars_dummies))\n",
    "# add dummies to the dataframe \n",
    "assert dummies.columns[0] not in cars.columns, f'It looks like you have already added this dummy to the dataframe. Avoid duplicates! '\n",
    "cars = pd.concat([cars,dummies], axis=1)"
   ]
  },
  {
   "cell_type": "markdown",
   "metadata": {},
   "source": [
    "### `x_vars`: List of regressors to be used "
   ]
  },
  {
   "cell_type": "code",
   "execution_count": 101,
   "metadata": {},
   "outputs": [
    {
     "name": "stdout",
     "output_type": "stream",
     "text": [
      "K = 38 variables selected.\n"
     ]
    }
   ],
   "source": [
    "x_vars = ['logp', 'home', 'cy', 'hp', 'we', 'li'] + x_vars_dummies # <--- !!! choose your preferred variables here \n",
    "print(f'K = {len(x_vars)} variables selected.')"
   ]
  },
  {
   "cell_type": "code",
   "execution_count": 102,
   "metadata": {},
   "outputs": [
    {
     "name": "stdout",
     "output_type": "stream",
     "text": [
      "['MCC', 'VW', 'alfa romeo', 'audi', 'citroen', 'daewoo', 'daf', 'fiat', 'ford', 'honda', 'hyundai', 'innocenti', 'lancia', 'mazda', 'mercedes', 'mitsubishi', 'nissan', 'opel', 'peugeot', 'renault', 'rover', 'saab', 'seat', 'skoda', 'suzuki', 'tal/hillman', 'tal/matra', 'tal/simca', 'tal/sunb', 'talbot', 'toyota', 'volvo']\n"
     ]
    }
   ],
   "source": [
    "print(x_vars_dummies)"
   ]
  },
  {
   "cell_type": "code",
   "execution_count": 103,
   "metadata": {},
   "outputs": [
    {
     "name": "stdout",
     "output_type": "stream",
     "text": [
      "(150, 40, 38)\n"
     ]
    }
   ],
   "source": [
    "K = len(x_vars)\n",
    "N = cars.ma.nunique() * cars.ye.nunique()\n",
    "J = 40 \n",
    "x = cars[x_vars].values.reshape((N,J,K))\n",
    "y = np.log(cars['s'].values.reshape((N,J)))\n",
    "\n",
    "# standardize x\n",
    "# x = ((x - x.mean(0).mean(0))/(x.std(0).std(0)))\n",
    "print(x.shape)"
   ]
  },
  {
   "cell_type": "markdown",
   "metadata": {},
   "source": [
    "### Understanding the sorting \n",
    "\n",
    "Just to be sure that we understand the relation between the pandas dataframe and the numpy 3d array, consider the following: "
   ]
  },
  {
   "cell_type": "code",
   "execution_count": 104,
   "metadata": {},
   "outputs": [
    {
     "data": {
      "text/plain": [
       "array([ True,  True,  True,  True,  True])"
      ]
     },
     "execution_count": 104,
     "metadata": {},
     "output_type": "execute_result"
    }
   ],
   "source": [
    "# let's check that we get the same row from x as we can find in the original pandas dataframe\n",
    "# we'll pick the first 5 \"observations\"\n",
    "j = 1\n",
    "k = 0 \n",
    "x[:5, j, k] == cars.groupby(['ma','ye']).nth(j)[x_vars[k]].head(5).values"
   ]
  },
  {
   "cell_type": "code",
   "execution_count": 105,
   "metadata": {},
   "outputs": [
    {
     "data": {
      "text/plain": [
       "array([ True,  True,  True,  True,  True])"
      ]
     },
     "execution_count": 105,
     "metadata": {},
     "output_type": "execute_result"
    }
   ],
   "source": [
    "# ... and let's check it for the 5 first cars (in the first market)\n",
    "k = 0\n",
    "x[0, :5, k] == cars[x_vars[k]].head(5).values\n",
    "# note that with i = 3 (4th element), x[i,t,k] gives ma=1 and ye=73 (first market, fourth year)\n",
    "x[3, :5, k] == cars.query('(ma == 1) & (ye == 73)')[x_vars[k]].head(5).values"
   ]
  },
  {
   "cell_type": "code",
   "execution_count": 106,
   "metadata": {},
   "outputs": [
    {
     "name": "stdout",
     "output_type": "stream",
     "text": [
      "[[1 73 'audi 80/90' 0.0198967806548532]\n",
      " [1 73 'audi 100/200' 0.0115738123314003]\n",
      " [1 73 'citroen 2 CV 6 - 2 CV 4' 0.020470221461224]\n",
      " [1 73 'citroen GSA/GSX' 0.0231960844492545]\n",
      " [1 73 'citroen dyane' 0.0232687741289353]]\n",
      "[[5 80 'alfasud' 0.0061322294468038]\n",
      " [5 80 'citroen GSA' 0.0097859984028077]\n",
      " [5 80 'fiat 127' 0.0082314207084408]\n",
      " [5 80 'fiat 131F' 0.0099803206146036]\n",
      " [5 80 'ford fiesta' 0.0781217905939526]]\n"
     ]
    }
   ],
   "source": [
    "# and let's print out some rows along with some labels \n",
    "obs_labs = cars[['ma', 'ye', 'type', 's']].values.reshape(N,J,4) # notice that we are extracting the values from the dataframe in the same way as we did for x\n",
    "\n",
    "i=3 # obs. index 3 is the first market in the fourth (3+1) year, i.e. 73\n",
    "print(obs_labs[i,:5,:])\n",
    "\n",
    "i = 130 # obs. index 130 is the 5th country (130/30>4) and the 11th year (130%30 = index 10)\n",
    "print(obs_labs[i,:5,:])"
   ]
  },
  {
   "cell_type": "markdown",
   "metadata": {},
   "source": [
    "... and just checking that we can find those same columns in the pandas dataframe"
   ]
  },
  {
   "cell_type": "code",
   "execution_count": 107,
   "metadata": {},
   "outputs": [
    {
     "data": {
      "text/plain": [
       "5204    0.078122\n",
       "Name: s, dtype: float64"
      ]
     },
     "execution_count": 107,
     "metadata": {},
     "output_type": "execute_result"
    }
   ],
   "source": [
    "cars.query('(ma == 5) & (ye == 80) & (type == \"ford fiesta\")').s"
   ]
  },
  {
   "cell_type": "markdown",
   "metadata": {},
   "source": [
    "# OLS Example\n",
    "\n",
    "Let's compute the OLS estimator just to test that we can do algebra with the arrays. \n",
    "\n",
    "***Note:*** This particular choice of $y$ and $x$ variables might not make sense, it is just to help you get started doing algebra on these arrays. "
   ]
  },
  {
   "cell_type": "code",
   "execution_count": 108,
   "metadata": {},
   "outputs": [],
   "source": [
    "Y = y.reshape(N*J,) # Make Y 1-dimensional \n",
    "X = np.hstack([x.reshape(N*J,K), np.ones((N*J,1))]).astype(np.float64) # append a constant term and ensure type = float"
   ]
  },
  {
   "cell_type": "code",
   "execution_count": 109,
   "metadata": {},
   "outputs": [
    {
     "data": {
      "text/plain": [
       "array([7.55717082e-01, 3.16333333e-01, 1.33709042e+03, 5.01000167e+01,\n",
       "       9.34488833e+02, 7.87377500e+00, 3.33333333e-04, 7.51666667e-02,\n",
       "       2.26666667e-02, 3.75000000e-02, 7.65000000e-02, 1.00000000e-03,\n",
       "       4.50000000e-03, 9.46666667e-02, 8.71666667e-02, 1.61666667e-02,\n",
       "       1.33333333e-03, 2.50000000e-03, 2.08333333e-02, 1.96666667e-02,\n",
       "       3.55000000e-02, 8.00000000e-03, 4.13333333e-02, 8.28333333e-02,\n",
       "       7.33333333e-02, 1.09333333e-01, 4.46666667e-02, 1.16666667e-03,\n",
       "       1.48333333e-02, 3.66666667e-03, 1.16666667e-03, 1.66666667e-03,\n",
       "       3.33333333e-04, 1.16666667e-02, 1.66666667e-04, 2.08333333e-02,\n",
       "       2.81666667e-02, 2.01666667e-02, 1.00000000e+00])"
      ]
     },
     "execution_count": 109,
     "metadata": {},
     "output_type": "execute_result"
    }
   ],
   "source": [
    "X.mean(axis=0)"
   ]
  },
  {
   "cell_type": "code",
   "execution_count": 110,
   "metadata": {},
   "outputs": [
    {
     "data": {
      "text/html": [
       "<div>\n",
       "<style scoped>\n",
       "    .dataframe tbody tr th:only-of-type {\n",
       "        vertical-align: middle;\n",
       "    }\n",
       "\n",
       "    .dataframe tbody tr th {\n",
       "        vertical-align: top;\n",
       "    }\n",
       "\n",
       "    .dataframe thead th {\n",
       "        text-align: right;\n",
       "    }\n",
       "</style>\n",
       "<table border=\"1\" class=\"dataframe\">\n",
       "  <thead>\n",
       "    <tr style=\"text-align: right;\">\n",
       "      <th></th>\n",
       "      <th>Estimate</th>\n",
       "    </tr>\n",
       "  </thead>\n",
       "  <tbody>\n",
       "    <tr>\n",
       "      <th>logp</th>\n",
       "      <td>-0.583040</td>\n",
       "    </tr>\n",
       "    <tr>\n",
       "      <th>home</th>\n",
       "      <td>0.965552</td>\n",
       "    </tr>\n",
       "    <tr>\n",
       "      <th>cy</th>\n",
       "      <td>-0.000295</td>\n",
       "    </tr>\n",
       "    <tr>\n",
       "      <th>hp</th>\n",
       "      <td>-0.008302</td>\n",
       "    </tr>\n",
       "    <tr>\n",
       "      <th>we</th>\n",
       "      <td>0.001100</td>\n",
       "    </tr>\n",
       "    <tr>\n",
       "      <th>li</th>\n",
       "      <td>-0.050792</td>\n",
       "    </tr>\n",
       "    <tr>\n",
       "      <th>MCC</th>\n",
       "      <td>-1.169253</td>\n",
       "    </tr>\n",
       "    <tr>\n",
       "      <th>VW</th>\n",
       "      <td>0.118337</td>\n",
       "    </tr>\n",
       "    <tr>\n",
       "      <th>alfa romeo</th>\n",
       "      <td>-0.487959</td>\n",
       "    </tr>\n",
       "    <tr>\n",
       "      <th>audi</th>\n",
       "      <td>-0.086136</td>\n",
       "    </tr>\n",
       "    <tr>\n",
       "      <th>citroen</th>\n",
       "      <td>-0.388811</td>\n",
       "    </tr>\n",
       "    <tr>\n",
       "      <th>daewoo</th>\n",
       "      <td>-0.496425</td>\n",
       "    </tr>\n",
       "    <tr>\n",
       "      <th>daf</th>\n",
       "      <td>-0.812248</td>\n",
       "    </tr>\n",
       "    <tr>\n",
       "      <th>fiat</th>\n",
       "      <td>-0.221795</td>\n",
       "    </tr>\n",
       "    <tr>\n",
       "      <th>ford</th>\n",
       "      <td>0.125594</td>\n",
       "    </tr>\n",
       "    <tr>\n",
       "      <th>honda</th>\n",
       "      <td>-0.249651</td>\n",
       "    </tr>\n",
       "    <tr>\n",
       "      <th>hyundai</th>\n",
       "      <td>-0.805891</td>\n",
       "    </tr>\n",
       "    <tr>\n",
       "      <th>innocenti</th>\n",
       "      <td>-0.982896</td>\n",
       "    </tr>\n",
       "    <tr>\n",
       "      <th>lancia</th>\n",
       "      <td>-0.665670</td>\n",
       "    </tr>\n",
       "    <tr>\n",
       "      <th>mazda</th>\n",
       "      <td>-0.332375</td>\n",
       "    </tr>\n",
       "    <tr>\n",
       "      <th>mercedes</th>\n",
       "      <td>0.371225</td>\n",
       "    </tr>\n",
       "    <tr>\n",
       "      <th>mitsubishi</th>\n",
       "      <td>-0.408377</td>\n",
       "    </tr>\n",
       "    <tr>\n",
       "      <th>nissan</th>\n",
       "      <td>-0.149930</td>\n",
       "    </tr>\n",
       "    <tr>\n",
       "      <th>opel</th>\n",
       "      <td>0.062589</td>\n",
       "    </tr>\n",
       "    <tr>\n",
       "      <th>peugeot</th>\n",
       "      <td>-0.105318</td>\n",
       "    </tr>\n",
       "    <tr>\n",
       "      <th>renault</th>\n",
       "      <td>-0.033334</td>\n",
       "    </tr>\n",
       "    <tr>\n",
       "      <th>rover</th>\n",
       "      <td>-0.306180</td>\n",
       "    </tr>\n",
       "    <tr>\n",
       "      <th>saab</th>\n",
       "      <td>-0.583461</td>\n",
       "    </tr>\n",
       "    <tr>\n",
       "      <th>seat</th>\n",
       "      <td>-0.744744</td>\n",
       "    </tr>\n",
       "    <tr>\n",
       "      <th>skoda</th>\n",
       "      <td>-0.975014</td>\n",
       "    </tr>\n",
       "    <tr>\n",
       "      <th>suzuki</th>\n",
       "      <td>-0.902479</td>\n",
       "    </tr>\n",
       "    <tr>\n",
       "      <th>tal/hillman</th>\n",
       "      <td>-0.760913</td>\n",
       "    </tr>\n",
       "    <tr>\n",
       "      <th>tal/matra</th>\n",
       "      <td>-2.036038</td>\n",
       "    </tr>\n",
       "    <tr>\n",
       "      <th>tal/simca</th>\n",
       "      <td>-0.328959</td>\n",
       "    </tr>\n",
       "    <tr>\n",
       "      <th>tal/sunb</th>\n",
       "      <td>-3.416578</td>\n",
       "    </tr>\n",
       "    <tr>\n",
       "      <th>talbot</th>\n",
       "      <td>-0.399888</td>\n",
       "    </tr>\n",
       "    <tr>\n",
       "      <th>toyota</th>\n",
       "      <td>-0.037318</td>\n",
       "    </tr>\n",
       "    <tr>\n",
       "      <th>volvo</th>\n",
       "      <td>0.035089</td>\n",
       "    </tr>\n",
       "    <tr>\n",
       "      <th>const</th>\n",
       "      <td>-3.641586</td>\n",
       "    </tr>\n",
       "  </tbody>\n",
       "</table>\n",
       "</div>"
      ],
      "text/plain": [
       "             Estimate\n",
       "logp        -0.583040\n",
       "home         0.965552\n",
       "cy          -0.000295\n",
       "hp          -0.008302\n",
       "we           0.001100\n",
       "li          -0.050792\n",
       "MCC         -1.169253\n",
       "VW           0.118337\n",
       "alfa romeo  -0.487959\n",
       "audi        -0.086136\n",
       "citroen     -0.388811\n",
       "daewoo      -0.496425\n",
       "daf         -0.812248\n",
       "fiat        -0.221795\n",
       "ford         0.125594\n",
       "honda       -0.249651\n",
       "hyundai     -0.805891\n",
       "innocenti   -0.982896\n",
       "lancia      -0.665670\n",
       "mazda       -0.332375\n",
       "mercedes     0.371225\n",
       "mitsubishi  -0.408377\n",
       "nissan      -0.149930\n",
       "opel         0.062589\n",
       "peugeot     -0.105318\n",
       "renault     -0.033334\n",
       "rover       -0.306180\n",
       "saab        -0.583461\n",
       "seat        -0.744744\n",
       "skoda       -0.975014\n",
       "suzuki      -0.902479\n",
       "tal/hillman -0.760913\n",
       "tal/matra   -2.036038\n",
       "tal/simca   -0.328959\n",
       "tal/sunb    -3.416578\n",
       "talbot      -0.399888\n",
       "toyota      -0.037318\n",
       "volvo        0.035089\n",
       "const       -3.641586"
      ]
     },
     "execution_count": 110,
     "metadata": {},
     "output_type": "execute_result"
    }
   ],
   "source": [
    "# compute the OLS estimator \n",
    "bet = np.linalg.inv(X.T @ X) @ X.T @ Y\n",
    "\n",
    "# print\n",
    "varnames = x_vars + ['const'] # we added the constant as the K+1'th column \n",
    "pd.DataFrame({'Estimate':bet}, index=varnames)"
   ]
  },
  {
   "cell_type": "markdown",
   "metadata": {},
   "source": [
    "# Towards logit \n",
    "\n",
    "In order to work with the logit model, you have to be able to compute the utility indices, which typically take the form of some inner product of an $x$-vector and a $\\theta$ vector. This is illustrated for you below. Since `x` is `(N,J,K)` (i.e. `x[i,j,:]` gives the $K$-vector of regressors for the car `j` in market-period `i`), we just have to form the matrix product `x @ theta`, and Python will do the sum over the 3rd dimension of `x`. "
   ]
  },
  {
   "cell_type": "code",
   "execution_count": 111,
   "metadata": {},
   "outputs": [
    {
     "data": {
      "text/plain": [
       "array([[0.025, 0.025, 0.025, ..., 0.025, 0.025, 0.025],\n",
       "       [0.025, 0.025, 0.025, ..., 0.025, 0.025, 0.025],\n",
       "       [0.025, 0.025, 0.025, ..., 0.025, 0.025, 0.025],\n",
       "       ...,\n",
       "       [0.025, 0.025, 0.025, ..., 0.025, 0.025, 0.025],\n",
       "       [0.025, 0.025, 0.025, ..., 0.025, 0.025, 0.025],\n",
       "       [0.025, 0.025, 0.025, ..., 0.025, 0.025, 0.025]])"
      ]
     },
     "execution_count": 111,
     "metadata": {},
     "output_type": "execute_result"
    }
   ],
   "source": [
    "theta0 = np.zeros((K,))\n",
    "v = (x @ theta0).astype(np.float64) # how to multiply a trial value with the matrix of regressors \n",
    "np.exp(v) / np.sum(np.exp(v), 1, keepdims=True) # choice probabilities "
   ]
  },
  {
   "cell_type": "markdown",
   "metadata": {},
   "source": [
    "# Conditional logit estimation\n",
    "\n"
   ]
  },
  {
   "cell_type": "code",
   "execution_count": 112,
   "metadata": {},
   "outputs": [],
   "source": [
    "y = cars['s'].values.reshape((N,J))\n"
   ]
  },
  {
   "cell_type": "code",
   "execution_count": 113,
   "metadata": {},
   "outputs": [
    {
     "name": "stdout",
     "output_type": "stream",
     "text": [
      "Optimization terminated successfully.\n",
      "         Current function value: 3.467851\n",
      "         Iterations: 294\n",
      "         Function evaluations: 11826\n",
      "         Gradient evaluations: 303\n"
     ]
    },
    {
     "data": {
      "text/html": [
       "<div>\n",
       "<style scoped>\n",
       "    .dataframe tbody tr th:only-of-type {\n",
       "        vertical-align: middle;\n",
       "    }\n",
       "\n",
       "    .dataframe tbody tr th {\n",
       "        vertical-align: top;\n",
       "    }\n",
       "\n",
       "    .dataframe thead th {\n",
       "        text-align: right;\n",
       "    }\n",
       "</style>\n",
       "<table border=\"1\" class=\"dataframe\">\n",
       "  <thead>\n",
       "    <tr style=\"text-align: right;\">\n",
       "      <th></th>\n",
       "      <th>theta</th>\n",
       "      <th>se</th>\n",
       "      <th>t</th>\n",
       "    </tr>\n",
       "  </thead>\n",
       "  <tbody>\n",
       "    <tr>\n",
       "      <th>logp</th>\n",
       "      <td>-1.316019</td>\n",
       "      <td>0.111716</td>\n",
       "      <td>-11.780049</td>\n",
       "    </tr>\n",
       "    <tr>\n",
       "      <th>home</th>\n",
       "      <td>1.352730</td>\n",
       "      <td>0.032297</td>\n",
       "      <td>41.884336</td>\n",
       "    </tr>\n",
       "    <tr>\n",
       "      <th>cy</th>\n",
       "      <td>-0.000062</td>\n",
       "      <td>0.000083</td>\n",
       "      <td>-0.747745</td>\n",
       "    </tr>\n",
       "    <tr>\n",
       "      <th>hp</th>\n",
       "      <td>-0.005978</td>\n",
       "      <td>0.001904</td>\n",
       "      <td>-3.139491</td>\n",
       "    </tr>\n",
       "    <tr>\n",
       "      <th>we</th>\n",
       "      <td>0.000949</td>\n",
       "      <td>0.000171</td>\n",
       "      <td>5.554992</td>\n",
       "    </tr>\n",
       "    <tr>\n",
       "      <th>li</th>\n",
       "      <td>-0.036356</td>\n",
       "      <td>0.017415</td>\n",
       "      <td>-2.087658</td>\n",
       "    </tr>\n",
       "    <tr>\n",
       "      <th>MCC</th>\n",
       "      <td>-1.303044</td>\n",
       "      <td>0.078160</td>\n",
       "      <td>-16.671511</td>\n",
       "    </tr>\n",
       "    <tr>\n",
       "      <th>VW</th>\n",
       "      <td>0.129763</td>\n",
       "      <td>0.056094</td>\n",
       "      <td>2.313300</td>\n",
       "    </tr>\n",
       "    <tr>\n",
       "      <th>alfa romeo</th>\n",
       "      <td>-0.778371</td>\n",
       "      <td>0.079260</td>\n",
       "      <td>-9.820512</td>\n",
       "    </tr>\n",
       "    <tr>\n",
       "      <th>audi</th>\n",
       "      <td>-0.097469</td>\n",
       "      <td>0.051916</td>\n",
       "      <td>-1.877425</td>\n",
       "    </tr>\n",
       "    <tr>\n",
       "      <th>citroen</th>\n",
       "      <td>-0.565016</td>\n",
       "      <td>0.063386</td>\n",
       "      <td>-8.913950</td>\n",
       "    </tr>\n",
       "    <tr>\n",
       "      <th>daewoo</th>\n",
       "      <td>-0.741692</td>\n",
       "      <td>0.186645</td>\n",
       "      <td>-3.973811</td>\n",
       "    </tr>\n",
       "    <tr>\n",
       "      <th>daf</th>\n",
       "      <td>-0.778614</td>\n",
       "      <td>0.158537</td>\n",
       "      <td>-4.911254</td>\n",
       "    </tr>\n",
       "    <tr>\n",
       "      <th>fiat</th>\n",
       "      <td>-0.253399</td>\n",
       "      <td>0.064592</td>\n",
       "      <td>-3.923085</td>\n",
       "    </tr>\n",
       "    <tr>\n",
       "      <th>ford</th>\n",
       "      <td>-0.056693</td>\n",
       "      <td>0.054363</td>\n",
       "      <td>-1.042872</td>\n",
       "    </tr>\n",
       "    <tr>\n",
       "      <th>honda</th>\n",
       "      <td>-0.378441</td>\n",
       "      <td>0.075781</td>\n",
       "      <td>-4.993860</td>\n",
       "    </tr>\n",
       "    <tr>\n",
       "      <th>hyundai</th>\n",
       "      <td>-0.993963</td>\n",
       "      <td>0.124736</td>\n",
       "      <td>-7.968512</td>\n",
       "    </tr>\n",
       "    <tr>\n",
       "      <th>innocenti</th>\n",
       "      <td>-1.526497</td>\n",
       "      <td>0.194285</td>\n",
       "      <td>-7.856990</td>\n",
       "    </tr>\n",
       "    <tr>\n",
       "      <th>lancia</th>\n",
       "      <td>-0.953230</td>\n",
       "      <td>0.077677</td>\n",
       "      <td>-12.271694</td>\n",
       "    </tr>\n",
       "    <tr>\n",
       "      <th>mazda</th>\n",
       "      <td>-0.534411</td>\n",
       "      <td>0.072927</td>\n",
       "      <td>-7.328067</td>\n",
       "    </tr>\n",
       "    <tr>\n",
       "      <th>mercedes</th>\n",
       "      <td>0.657328</td>\n",
       "      <td>0.082854</td>\n",
       "      <td>7.933521</td>\n",
       "    </tr>\n",
       "    <tr>\n",
       "      <th>mitsubishi</th>\n",
       "      <td>-0.585071</td>\n",
       "      <td>0.067356</td>\n",
       "      <td>-8.686198</td>\n",
       "    </tr>\n",
       "    <tr>\n",
       "      <th>nissan</th>\n",
       "      <td>-0.305708</td>\n",
       "      <td>0.074684</td>\n",
       "      <td>-4.093375</td>\n",
       "    </tr>\n",
       "    <tr>\n",
       "      <th>opel</th>\n",
       "      <td>-0.110537</td>\n",
       "      <td>0.058344</td>\n",
       "      <td>-1.894582</td>\n",
       "    </tr>\n",
       "    <tr>\n",
       "      <th>peugeot</th>\n",
       "      <td>-0.168109</td>\n",
       "      <td>0.060086</td>\n",
       "      <td>-2.797801</td>\n",
       "    </tr>\n",
       "    <tr>\n",
       "      <th>renault</th>\n",
       "      <td>-0.104579</td>\n",
       "      <td>0.057137</td>\n",
       "      <td>-1.830325</td>\n",
       "    </tr>\n",
       "    <tr>\n",
       "      <th>rover</th>\n",
       "      <td>-0.506228</td>\n",
       "      <td>0.095733</td>\n",
       "      <td>-5.287936</td>\n",
       "    </tr>\n",
       "    <tr>\n",
       "      <th>saab</th>\n",
       "      <td>-0.704416</td>\n",
       "      <td>0.217392</td>\n",
       "      <td>-3.240311</td>\n",
       "    </tr>\n",
       "    <tr>\n",
       "      <th>seat</th>\n",
       "      <td>-0.885859</td>\n",
       "      <td>0.084195</td>\n",
       "      <td>-10.521497</td>\n",
       "    </tr>\n",
       "    <tr>\n",
       "      <th>skoda</th>\n",
       "      <td>-1.089686</td>\n",
       "      <td>0.127866</td>\n",
       "      <td>-8.522084</td>\n",
       "    </tr>\n",
       "    <tr>\n",
       "      <th>suzuki</th>\n",
       "      <td>-1.160471</td>\n",
       "      <td>0.130338</td>\n",
       "      <td>-8.903559</td>\n",
       "    </tr>\n",
       "    <tr>\n",
       "      <th>tal/hillman</th>\n",
       "      <td>-1.435973</td>\n",
       "      <td>0.141035</td>\n",
       "      <td>-10.181697</td>\n",
       "    </tr>\n",
       "    <tr>\n",
       "      <th>tal/matra</th>\n",
       "      <td>-2.114629</td>\n",
       "      <td>0.225593</td>\n",
       "      <td>-9.373648</td>\n",
       "    </tr>\n",
       "    <tr>\n",
       "      <th>tal/simca</th>\n",
       "      <td>-0.581656</td>\n",
       "      <td>0.100235</td>\n",
       "      <td>-5.802896</td>\n",
       "    </tr>\n",
       "    <tr>\n",
       "      <th>tal/sunb</th>\n",
       "      <td>-3.931965</td>\n",
       "      <td>0.819536</td>\n",
       "      <td>-4.797796</td>\n",
       "    </tr>\n",
       "    <tr>\n",
       "      <th>talbot</th>\n",
       "      <td>-0.598144</td>\n",
       "      <td>0.090032</td>\n",
       "      <td>-6.643687</td>\n",
       "    </tr>\n",
       "    <tr>\n",
       "      <th>toyota</th>\n",
       "      <td>-0.214782</td>\n",
       "      <td>0.085153</td>\n",
       "      <td>-2.522314</td>\n",
       "    </tr>\n",
       "    <tr>\n",
       "      <th>volvo</th>\n",
       "      <td>-0.066658</td>\n",
       "      <td>0.095837</td>\n",
       "      <td>-0.695541</td>\n",
       "    </tr>\n",
       "  </tbody>\n",
       "</table>\n",
       "</div>"
      ],
      "text/plain": [
       "                theta        se          t\n",
       "logp        -1.316019  0.111716 -11.780049\n",
       "home         1.352730  0.032297  41.884336\n",
       "cy          -0.000062  0.000083  -0.747745\n",
       "hp          -0.005978  0.001904  -3.139491\n",
       "we           0.000949  0.000171   5.554992\n",
       "li          -0.036356  0.017415  -2.087658\n",
       "MCC         -1.303044  0.078160 -16.671511\n",
       "VW           0.129763  0.056094   2.313300\n",
       "alfa romeo  -0.778371  0.079260  -9.820512\n",
       "audi        -0.097469  0.051916  -1.877425\n",
       "citroen     -0.565016  0.063386  -8.913950\n",
       "daewoo      -0.741692  0.186645  -3.973811\n",
       "daf         -0.778614  0.158537  -4.911254\n",
       "fiat        -0.253399  0.064592  -3.923085\n",
       "ford        -0.056693  0.054363  -1.042872\n",
       "honda       -0.378441  0.075781  -4.993860\n",
       "hyundai     -0.993963  0.124736  -7.968512\n",
       "innocenti   -1.526497  0.194285  -7.856990\n",
       "lancia      -0.953230  0.077677 -12.271694\n",
       "mazda       -0.534411  0.072927  -7.328067\n",
       "mercedes     0.657328  0.082854   7.933521\n",
       "mitsubishi  -0.585071  0.067356  -8.686198\n",
       "nissan      -0.305708  0.074684  -4.093375\n",
       "opel        -0.110537  0.058344  -1.894582\n",
       "peugeot     -0.168109  0.060086  -2.797801\n",
       "renault     -0.104579  0.057137  -1.830325\n",
       "rover       -0.506228  0.095733  -5.287936\n",
       "saab        -0.704416  0.217392  -3.240311\n",
       "seat        -0.885859  0.084195 -10.521497\n",
       "skoda       -1.089686  0.127866  -8.522084\n",
       "suzuki      -1.160471  0.130338  -8.903559\n",
       "tal/hillman -1.435973  0.141035 -10.181697\n",
       "tal/matra   -2.114629  0.225593  -9.373648\n",
       "tal/simca   -0.581656  0.100235  -5.802896\n",
       "tal/sunb    -3.931965  0.819536  -4.797796\n",
       "talbot      -0.598144  0.090032  -6.643687\n",
       "toyota      -0.214782  0.085153  -2.522314\n",
       "volvo       -0.066658  0.095837  -0.695541"
      ]
     },
     "execution_count": 113,
     "metadata": {},
     "output_type": "execute_result"
    }
   ],
   "source": [
    "res = est.estimate(clogit.q, theta0,  y, x, cov_type = \"Sandwich\")\n",
    "#print(res['log_like'])\n",
    "tab = pd.DataFrame({v:res[v] for v in ['theta', 'se', 't']}, index= x_vars)\n",
    "tab\n"
   ]
  },
  {
   "cell_type": "code",
   "execution_count": 114,
   "metadata": {},
   "outputs": [
    {
     "name": "stdout",
     "output_type": "stream",
     "text": [
      "-553.3319181170893\n"
     ]
    }
   ],
   "source": [
    "print(res['log_like'])"
   ]
  },
  {
   "cell_type": "code",
   "execution_count": null,
   "metadata": {},
   "outputs": [],
   "source": []
  },
  {
   "cell_type": "markdown",
   "metadata": {},
   "source": [
    "# Price Elasticities"
   ]
  },
  {
   "cell_type": "code",
   "execution_count": 115,
   "metadata": {},
   "outputs": [
    {
     "name": "stdout",
     "output_type": "stream",
     "text": [
      "Own-price elasticity:  -0.9711\n",
      "Cross-price elasticity: 0.0229\n",
      "[[0.02555469 0.0154589  0.01625133 ... 0.04072731 0.02536754 0.03141244]\n",
      " [0.01428136 0.01621929 0.01517801 ... 0.03043975 0.02625911 0.02998991]\n",
      " [0.02508939 0.01427417 0.01644651 ... 0.03927571 0.03122568 0.02767812]\n",
      " ...\n",
      " [0.01644951 0.01014146 0.00995247 ... 0.01534581 0.05975655 0.01341746]\n",
      " [0.01669986 0.01058631 0.00940522 ... 0.00788984 0.06088632 0.01422846]\n",
      " [0.01432327 0.00942563 0.01047039 ... 0.01251002 0.01222072 0.01037183]]\n"
     ]
    }
   ],
   "source": [
    "thetahat = res['theta']\n",
    "# Calculate the original choice probabilities using the estimated parameters\n",
    "ccp1 = clogit.choice_prob(thetahat, x)\n",
    "\n",
    "E_own   = np.zeros((N, J))\n",
    "E_cross = np.zeros((N, J))\n",
    "# Due to log price variable being the first element of x_vars, we can use k_price = 0\n",
    "k_price = 0 \n",
    "\n",
    "for j in range(J):\n",
    "    # A. copy \n",
    "    x2 = x.copy()\n",
    "    \n",
    "    # B. increase price just for car j \n",
    "    rel_change_x = 1e-3\n",
    "    x2[:, j, k_price] *= (1.0+rel_change_x)\n",
    "    \n",
    "    # C. evaluate CCPs.  calculate the new choice probabilities with the increased price.\n",
    "    ccp2 = clogit.choice_prob(thetahat, x2)\n",
    "    \n",
    "    # D. percentage change in CCPs \n",
    "    rel_change_y = ccp2 / ccp1 - 1.0 \n",
    "    \n",
    "    # E. elasticities \n",
    "    elasticity = rel_change_y / rel_change_x \n",
    "    \n",
    "    E_own[:, j] = elasticity[:, j]\n",
    "    k_not_j = [k for k in range(J) if k != j]\n",
    "    E_cross[:, j] = elasticity[:, k_not_j].mean(axis=1)\n",
    "\n",
    "print(f'Own-price elasticity:  {np.mean(E_own).round(4)}')\n",
    "print(f'Cross-price elasticity: {np.mean(E_cross).round(4)}')\n",
    "print(E_cross)"
   ]
  },
  {
   "cell_type": "code",
   "execution_count": 116,
   "metadata": {},
   "outputs": [],
   "source": [
    "def marg_effect_continuous(thetahat, k, x):\n",
    "    \n",
    "    # 1. compute derivative: return flattened (N*J, )\n",
    "    ccp1 = clogit.choice_prob(thetahat, x) \n",
    "\n",
    "    E_own   = np.zeros((N, J))\n",
    "    E_cross = np.zeros((N, J))\n",
    "    # Due to log price variable being the first element of x_vars, we can use k_price = 0\n",
    "     \n",
    "\n",
    "    for j in range(J):\n",
    "    # A. copy \n",
    "        x2 = x.copy()\n",
    "    \n",
    "    # B. increase price just for car j \n",
    "        rel_change_x = 1e-3\n",
    "        x2[:, j, k] *= (1.0+rel_change_x)\n",
    "    \n",
    "    # C. evaluate CCPs.  calculate the new choice probabilities with the increased price.\n",
    "        ccp2 = clogit.choice_prob(thetahat, x2)\n",
    "    \n",
    "    # D. percentage change in CCPs \n",
    "        rel_change_y = ccp2 / ccp1 - 1.0 \n",
    "    \n",
    "    # E. elasticities \n",
    "        elasticity = rel_change_y / rel_change_x \n",
    "    \n",
    "        E_own[:, j] = elasticity[:, j]\n",
    "        k_not_j = [k for k in range(J) if k != j]\n",
    "        E_cross[:, j] = elasticity[:, k_not_j].mean(axis=1)\n",
    "\n",
    "    mean_own = np.mean(E_own)\n",
    "    mean_cross = np.mean(E_cross)\n",
    "    return mean_own, mean_cross"
   ]
  },
  {
   "cell_type": "code",
   "execution_count": 117,
   "metadata": {},
   "outputs": [
    {
     "name": "stdout",
     "output_type": "stream",
     "text": [
      "-0.9710592520761605\n",
      "0.022915134351576355\n"
     ]
    }
   ],
   "source": [
    "\n",
    "own, cross  = marg_effect_continuous(thetahat, 0, x)\n",
    "print(own)\n",
    "print(cross)"
   ]
  },
  {
   "cell_type": "code",
   "execution_count": 118,
   "metadata": {},
   "outputs": [],
   "source": [
    "def estimate_and_compute_marg_effs(starting_values, y, x, k, disp=False): \n",
    "    '''Estimate and compute marginal effects\n",
    "    Args. \n",
    "        y: N-vector of discrete outcomes\n",
    "        x: N*J matrix of explanatory variables\n",
    "        x0: K-vector of explanatory variables \n",
    "        x1: K-vector, alcohol switched on \n",
    "        \n",
    "    Returns\n",
    "        tuple of floats: \n",
    "            me_alco: marginal effect wrt. alcohol (discrete)\n",
    "            me_educ: marginal effect wrt. education (continuous)\n",
    "    '''\n",
    "    # assert y.ndim == 1 , 'y must be a flattened array'\n",
    "    # assert x.ndim == 2 , 'x must be 2-dimensional'\n",
    "    \n",
    "    # 1. estimate \n",
    "    res = est_boot.estimate(clogit.q, starting_values, y, x, cov_type=\"None\", options={'disp':disp})\n",
    "    betahat = res['theta']\n",
    "\n",
    "    # 3.b marg. effect\n",
    "    own, cross = marg_effect_continuous(betahat, k, x)\n",
    "    \n",
    "    # 4. return \n",
    "    return own, cross"
   ]
  },
  {
   "cell_type": "code",
   "execution_count": 119,
   "metadata": {},
   "outputs": [
    {
     "data": {
      "text/plain": [
       "(-0.9710592520761605, 0.022915134351576355)"
      ]
     },
     "execution_count": 119,
     "metadata": {},
     "output_type": "execute_result"
    }
   ],
   "source": [
    "estimate_and_compute_marg_effs(theta0, y, x, k = 0)"
   ]
  },
  {
   "cell_type": "code",
   "execution_count": 120,
   "metadata": {},
   "outputs": [],
   "source": [
    "def bootstrap_sample(y,x): \n",
    "    '''bootstrap_sample: samples a new dataset (with replacement) from the input. \n",
    "    Args. \n",
    "        y: 1-dimensional N-array\n",
    "        x: (N,K) matrix \n",
    "    Returns\n",
    "        tuple: y_i, x_i \n",
    "            y_i: N-array\n",
    "            x_i: (N,K) matrix \n",
    "    '''\n",
    "    N, J, K = x.shape\n",
    "\n",
    "    y_i   = np.zeros((N, J))\n",
    "    x_i = np.zeros((N, J, K))\n",
    "    \n",
    "\n",
    "    ii_boot_n = np.random.choice(N, N, replace=True) # vector of indices for rows \n",
    "    ii_boot_j = np.random.choice(J, J, replace=True) # vector of indices for rows \n",
    "\n",
    "    for j in range(J):\n",
    "        for i in range(N):\n",
    "            y_i[i, j] = y[ii_boot_n[i], ii_boot_j[j]]\n",
    "            x_i[i, j] = x[ii_boot_n[i], ii_boot_j[j], :] \n",
    "    \n",
    "    return y_i, x_i "
   ]
  },
  {
   "cell_type": "code",
   "execution_count": 121,
   "metadata": {},
   "outputs": [],
   "source": [
    "def bootstrap_sample_wrong1(y,x): \n",
    "    '''bootstrap_sample: samples a new dataset (with replacement) from the input. \n",
    "    Args. \n",
    "        y: 1-dimensional N-array\n",
    "        x: (N,K) matrix \n",
    "    Returns\n",
    "        tuple: y_i, x_i \n",
    "            y_i: N-array\n",
    "            x_i: (N,K) matrix \n",
    "    '''\n",
    "    N, J, K = x.shape\n",
    "\n",
    "    y_i   = np.zeros((N, J))\n",
    "    x_i =   np.zeros((N, J, K))\n",
    "    \n",
    "\n",
    "   # ii_boot_n = np.random.choice(N, N, replace=True) # vector of indices for rows \n",
    "    #ii_boot_j = np.random.choice(J, J, replace=True) # vector of indices for rows \n",
    "\n",
    "    for j in range(J):\n",
    "        for i in range(N):\n",
    "            ii_boot_n = np.random.choice(N, 1, replace=True) # vector of indices for rows \n",
    "            ii_boot_j = np.random.choice(J, 1, replace=True) # vector of indices for rows \n",
    "            y_i[i, j] = y[ii_boot_n, ii_boot_j]\n",
    "            x_i[i, j] = x[ii_boot_n, ii_boot_j, :] \n",
    "    \n",
    "    return y_i, x_i "
   ]
  },
  {
   "cell_type": "code",
   "execution_count": 122,
   "metadata": {},
   "outputs": [],
   "source": [
    "def bootstrap_sample_wrong2(y,x): \n",
    "    '''bootstrap_sample: samples a new dataset (with replacement) from the input. \n",
    "    Args. \n",
    "        y: 1-dimensional N-array\n",
    "        x: (N,K) matrix \n",
    "    Returns\n",
    "        tuple: y_i, x_i \n",
    "            y_i: N-array\n",
    "            x_i: (N,K) matrix \n",
    "    '''\n",
    "    N, J, K = x.shape\n",
    "\n",
    "    y_i   = np.zeros((N, J))\n",
    "    x_i =   np.zeros((N, J, K))\n",
    "    \n",
    "\n",
    "   # ii_boot_n = np.random.choice(N, N, replace=True) # vector of indices for rows \n",
    "    #ii_boot_j = np.random.choice(J, J, replace=True) # vector of indices for rows \n",
    "\n",
    "    for j in range(J):\n",
    "        for i in range(N):\n",
    "            ii_boot_n = np.random.choice(N, 1, replace=True) # vector of indices for rows \n",
    "           \n",
    "            y_i[i, j] = y[ii_boot_n, j]\n",
    "            x_i[i, j] = x[ii_boot_n, j] \n",
    "    \n",
    "    return y_i, x_i "
   ]
  },
  {
   "cell_type": "code",
   "execution_count": 123,
   "metadata": {},
   "outputs": [
    {
     "name": "stdout",
     "output_type": "stream",
     "text": [
      "0.015837372712584\n"
     ]
    },
    {
     "data": {
      "text/plain": [
       "array([5.17298877e-01, 1.00000000e+00, 1.26300000e+03, 4.40000000e+01,\n",
       "       8.25000000e+02, 8.39999962e+00, 0.00000000e+00, 1.00000000e+00,\n",
       "       0.00000000e+00, 0.00000000e+00, 0.00000000e+00, 0.00000000e+00,\n",
       "       0.00000000e+00, 0.00000000e+00, 0.00000000e+00, 0.00000000e+00,\n",
       "       0.00000000e+00, 0.00000000e+00, 0.00000000e+00, 0.00000000e+00,\n",
       "       0.00000000e+00, 0.00000000e+00, 0.00000000e+00, 0.00000000e+00,\n",
       "       0.00000000e+00, 0.00000000e+00, 0.00000000e+00, 0.00000000e+00,\n",
       "       0.00000000e+00, 0.00000000e+00, 0.00000000e+00, 0.00000000e+00,\n",
       "       0.00000000e+00, 0.00000000e+00, 0.00000000e+00, 0.00000000e+00,\n",
       "       0.00000000e+00, 0.00000000e+00])"
      ]
     },
     "execution_count": 123,
     "metadata": {},
     "output_type": "execute_result"
    }
   ],
   "source": [
    "#N = y.shape[0]\n",
    "#J = y.shape[1]\n",
    "#K = 38\n",
    "#y_i   = np.zeros((N, J))\n",
    "#x_i = np.zeros((N, J, K))\n",
    "    \n",
    "\n",
    "#ii_boot_n = np.random.choice(N, N, replace=True) # vector of indices for rows \n",
    "#ii_boot_j = np.random.choice(J, J, replace=True) # vector of indices for rows \n",
    "\n",
    "#for j in range(J):\n",
    " #   for i in range(N):\n",
    "  #      y_i[i, j] = y[ii_boot_n[i], ii_boot_j[j]]\n",
    "   #     x_i[i, j] = x[ii_boot_n[i], ii_boot_j[j], :] \n",
    "N, J, K = x.shape\n",
    "\n",
    "y_i   = np.zeros((N, J))\n",
    "x_i = np.zeros((N, J, K))\n",
    "    \n",
    "\n",
    "ii_boot_n = np.random.choice(N, N, replace=True) # vector of indices for rows \n",
    "ii_boot_j = np.random.choice(J, J, replace=False) # vector of indices for rows \n",
    "print(y[ii_boot_n[i], ii_boot_j[j]])\n",
    "x[ii_boot_n[i], ii_boot_j[j], :]"
   ]
  },
  {
   "cell_type": "code",
   "execution_count": 126,
   "metadata": {},
   "outputs": [
    {
     "name": "stdout",
     "output_type": "stream",
     "text": [
      "Optimization terminated successfully.\n",
      "         Current function value: 3.421540\n",
      "         Iterations: 245\n",
      "         Function evaluations: 9798\n",
      "         Gradient evaluations: 251\n"
     ]
    },
    {
     "data": {
      "text/plain": [
       "{'theta': array([-1.19458350e+00,  1.29960528e+00, -2.88870241e-04, -3.58136511e-03,\n",
       "         9.11028767e-04, -1.03278808e-02, -1.12119868e+00,  2.68920568e-01,\n",
       "        -8.13715788e-01, -3.34030698e-02, -3.33622166e-01, -2.47721393e-01,\n",
       "        -5.12757220e-01, -2.77168458e-01,  1.21418455e-01, -1.34834898e-01,\n",
       "        -6.56477503e-01, -1.87437551e+00, -8.25589271e-01, -2.83877343e-01,\n",
       "         8.31555650e-01, -3.60458837e-01, -2.22883199e-01,  1.45420435e-01,\n",
       "         1.03431715e-01,  9.81377877e-02, -2.45344279e-01, -1.87875195e-01,\n",
       "        -7.50856784e-01, -4.76101284e-01, -8.09625247e-01, -7.22796829e-01,\n",
       "        -2.09417717e+00, -6.80398021e-01,  0.00000000e+00, -3.89709762e-01,\n",
       "         6.98986373e-04,  9.52069233e-02]),\n",
       " 'success': True,\n",
       " 'nit': 245,\n",
       " 'nfev': 9798,\n",
       " 'fun': 3.4215397231723017,\n",
       " 'log_like': -541.6129439893481}"
      ]
     },
     "execution_count": 126,
     "metadata": {},
     "output_type": "execute_result"
    }
   ],
   "source": [
    "\n",
    "\n",
    "y.shape[0]\n",
    "y_i, x_i = bootstrap_sample(y,x)\n",
    "est_boot.estimate(clogit.q, theta0, y_i, x_i, cov_type=\"None\")"
   ]
  },
  {
   "cell_type": "code",
   "execution_count": 127,
   "metadata": {},
   "outputs": [
    {
     "name": "stdout",
     "output_type": "stream",
     "text": [
      "Bootstrap iteration 1/2\n",
      "Bootstrap iteration 2/2\n"
     ]
    }
   ],
   "source": [
    "nboot = 2  # Number of bootstraps, should ideally be very large \n",
    "\n",
    "# Set seed for random sampling.\n",
    "seed = 42\n",
    "rng = default_rng()\n",
    "\n",
    "# initialize \n",
    "own_ela = np.empty((nboot))\n",
    "cross_ela = np.empty((nboot))\n",
    "\n",
    "for i in range(nboot): \n",
    "    print(f'Bootstrap iteration {i+1}/{nboot}')\n",
    "    \n",
    "    # 1. choose which individuals to draw\n",
    "    y_i, x_i = bootstrap_sample(y,x)\n",
    "    #est.estimate(clogit.q, theta0, y_i, x_i, cov_type=\"None\")\n",
    "    # 2. estimate and compute \n",
    "    own, cross = estimate_and_compute_marg_effs(theta0, y_i, x_i, k = 0)\n",
    "    own_ela[i] = own\n",
    "    cross_ela[i] = cross"
   ]
  },
  {
   "cell_type": "code",
   "execution_count": null,
   "metadata": {},
   "outputs": [
    {
     "data": {
      "image/png": "[encoded data removed]",
      "text/plain": [
       "<Figure size 640x480 with 1 Axes>"
      ]
     },
     "metadata": {},
     "output_type": "display_data"
    }
   ],
   "source": [
    "#j = 1\n",
    "plt.hist(own_ela, bins=30); \n",
    "#plt.xlabel(f'Marginal effect of alcohol on Pr(y={j}) ({y_values_lab[j]})'); \n",
    "plt.ylabel('Bootstrap samples'); "
   ]
  },
  {
   "cell_type": "markdown",
   "metadata": {},
   "source": [
    "Own price elasticity calculation using calculus"
   ]
  },
  {
   "cell_type": "code",
   "execution_count": null,
   "metadata": {},
   "outputs": [
    {
     "data": {
      "text/html": [
       "<div>\n",
       "<style scoped>\n",
       "    .dataframe tbody tr th:only-of-type {\n",
       "        vertical-align: middle;\n",
       "    }\n",
       "\n",
       "    .dataframe tbody tr th {\n",
       "        vertical-align: top;\n",
       "    }\n",
       "\n",
       "    .dataframe thead th {\n",
       "        text-align: right;\n",
       "    }\n",
       "</style>\n",
       "<table border=\"1\" class=\"dataframe\">\n",
       "  <thead>\n",
       "    <tr style=\"text-align: right;\">\n",
       "      <th></th>\n",
       "      <th>Mean m.e.</th>\n",
       "      <th>-1.96 se</th>\n",
       "      <th>+1.96 se</th>\n",
       "    </tr>\n",
       "  </thead>\n",
       "  <tbody>\n",
       "    <tr>\n",
       "      <th>0</th>\n",
       "      <td>-0.974398</td>\n",
       "      <td>-1.266621</td>\n",
       "      <td>-0.682176</td>\n",
       "    </tr>\n",
       "  </tbody>\n",
       "</table>\n",
       "</div>"
      ],
      "text/plain": [
       "   Mean m.e.  -1.96 se  +1.96 se\n",
       "0  -0.974398 -1.266621 -0.682176"
      ]
     },
     "execution_count": 58,
     "metadata": {},
     "output_type": "execute_result"
    }
   ],
   "source": [
    "def me_table(me: np.ndarray): \n",
    "    assert me.ndim == 2 \n",
    "    n_boot,J = me.shape \n",
    "    \n",
    "    m = me.mean(0)\n",
    "    se = me.std(0)\n",
    "    tab = pd.DataFrame({\n",
    "                  'Mean m.e.': m, \n",
    "                  '-1.96 se':  m-se*1.96,\n",
    "                  '+1.96 se':  m+se*1.96\n",
    "                 })\n",
    "    return tab \n",
    "me_table(own_ela.reshape(-1,1))"
   ]
  },
  {
   "cell_type": "code",
   "execution_count": 128,
   "metadata": {},
   "outputs": [
    {
     "data": {
      "text/html": [
       "<div>\n",
       "<style scoped>\n",
       "    .dataframe tbody tr th:only-of-type {\n",
       "        vertical-align: middle;\n",
       "    }\n",
       "\n",
       "    .dataframe tbody tr th {\n",
       "        vertical-align: top;\n",
       "    }\n",
       "\n",
       "    .dataframe thead th {\n",
       "        text-align: right;\n",
       "    }\n",
       "</style>\n",
       "<table border=\"1\" class=\"dataframe\">\n",
       "  <thead>\n",
       "    <tr style=\"text-align: right;\">\n",
       "      <th></th>\n",
       "      <th>Mean m.e.</th>\n",
       "      <th>-1.96 se</th>\n",
       "      <th>+1.96 se</th>\n",
       "    </tr>\n",
       "  </thead>\n",
       "  <tbody>\n",
       "    <tr>\n",
       "      <th>0</th>\n",
       "      <td>0.023807</td>\n",
       "      <td>0.019708</td>\n",
       "      <td>0.027906</td>\n",
       "    </tr>\n",
       "  </tbody>\n",
       "</table>\n",
       "</div>"
      ],
      "text/plain": [
       "   Mean m.e.  -1.96 se  +1.96 se\n",
       "0   0.023807  0.019708  0.027906"
      ]
     },
     "execution_count": 128,
     "metadata": {},
     "output_type": "execute_result"
    }
   ],
   "source": [
    "me_table(cross_ela.reshape(-1,1))"
   ]
  },
  {
   "cell_type": "markdown",
   "metadata": {},
   "source": [
    "mean -0.974398\t+ 1.96 -1.266621  -1.96\t-0.682176"
   ]
  },
  {
   "cell_type": "code",
   "execution_count": null,
   "metadata": {},
   "outputs": [
    {
     "name": "stdout",
     "output_type": "stream",
     "text": [
      "Own price elasticity -0.9716\n"
     ]
    }
   ],
   "source": [
    "k_price = 0\n",
    "dydx_J   = np.zeros((N, J))\n",
    "\n",
    "for j in range(J):\n",
    "\n",
    "    dydx_J[:,j]= x[:,j,k_price]*(1 - ccp1[:,j]) * thetahat[0]\n",
    "\n",
    "    # E. elasticities \n",
    "print(f'Own price elasticity {np.mean(dydx_J).round(4)}')\n",
    "# Formula from Green (Econometric Analysis)"
   ]
  },
  {
   "cell_type": "code",
   "execution_count": null,
   "metadata": {},
   "outputs": [
    {
     "name": "stdout",
     "output_type": "stream",
     "text": [
      "Elasticity, Domestic cars:   -1.0092\n",
      "Elasticity, Imported cars: -0.9534\n"
     ]
    }
   ],
   "source": [
    "home = 1\n",
    "# Create two indexed, from where idx1 is for domestic cars\n",
    "# and idx0 is for imported cars.\n",
    "idx1 = x[:, :, home]==1\n",
    "idx0 = x[:, :, home]==0 \n",
    "print(f'Elasticity, Domestic cars:   {np.mean(E_own[idx1]).round(4)}')\n",
    "print(f'Elasticity, Imported cars: {np.mean(E_own[idx0]).round(4)}')"
   ]
  },
  {
   "cell_type": "code",
   "execution_count": null,
   "metadata": {},
   "outputs": [],
   "source": [
    "#https://stats.stackexchange.com/questions/283831/delta-method-for-marginal-effects-of-generalized-linear-model"
   ]
  },
  {
   "cell_type": "markdown",
   "metadata": {},
   "source": [
    "# Numerical partial effect of Home"
   ]
  },
  {
   "cell_type": "code",
   "execution_count": null,
   "metadata": {},
   "outputs": [
    {
     "name": "stdout",
     "output_type": "stream",
     "text": [
      "Average partial effect  0.0297\n",
      "Partial effect on untreated (domestic cars):   -0.0\n",
      "Partial effect on treated (Imported cars): 0.0435\n"
     ]
    }
   ],
   "source": [
    "k_home = 1\n",
    "dydx_J   = np.zeros((N, J))\n",
    "\n",
    "for j in range(J):\n",
    "    # A. copy \n",
    "    x3 = x.copy()\n",
    "    \n",
    "    # B. Set car J to home \n",
    "    x3[:, j, k_home] = 1\n",
    "    # C. evaluate CCPs.  calculate the new choice probabilities with the increased price.\n",
    "    ccp3 = clogit.choice_prob(thetahat, x3)\n",
    "    \n",
    "    dydx_J[:,j]= ccp3[:,j] - ccp1[:,j]\n",
    "\n",
    "    # E. elasticities \n",
    "print(f'Average partial effect  {np.mean(dydx_J).round(4)}')\n",
    "\n",
    "# Ad hoc partial effect\n",
    "# Effect of \"treating\" all cars such that they are from \"home\".\n",
    "# Note that some cars already are home in some markets.\n",
    "# This reduce the overall effect in comparison to the next estimate.\n",
    "home = 1\n",
    "# Create two indexed, from where idx1 is for domestic cars\n",
    "# and idx0 is for imported cars.\n",
    "idx1 = x[:, :, home]==1\n",
    "idx0 = x[:, :, home]==0 \n",
    "print(f'Partial effect on untreated (domestic cars):   {np.mean(dydx_J[idx1]).round(4)}')\n",
    "print(f'Partial effect on treated (Imported cars): {np.mean(dydx_J[idx0]).round(4)}')"
   ]
  },
  {
   "cell_type": "code",
   "execution_count": null,
   "metadata": {},
   "outputs": [
    {
     "name": "stdout",
     "output_type": "stream",
     "text": [
      "Partial effect  0.0325\n"
     ]
    }
   ],
   "source": [
    "\n",
    "k_home = 1\n",
    "PE_J   = np.zeros((N, J))\n",
    "\n",
    "for j in range(J):\n",
    " \n",
    "    PE_J[:,j]= ccp1[:,j]*(1 - ccp1[:,j]) * thetahat[k_home]\n",
    "\n",
    "    # E. elasticities \n",
    "print(f'Partial effect  {np.mean(PE_J).round(4)}')\n",
    "# Formula from Greene (Econometric analysis)\n",
    "# Does not account for cars already being from home"
   ]
  },
  {
   "cell_type": "markdown",
   "metadata": {},
   "source": [
    "# Calculate CI for partial effects using delta method"
   ]
  },
  {
   "cell_type": "markdown",
   "metadata": {},
   "source": [
    "# CFH attempt"
   ]
  },
  {
   "cell_type": "code",
   "execution_count": null,
   "metadata": {},
   "outputs": [
    {
     "data": {
      "text/plain": [
       "['logp',\n",
       " 'home',\n",
       " 'cy',\n",
       " 'hp',\n",
       " 'we',\n",
       " 'li',\n",
       " 'MCC',\n",
       " 'VW',\n",
       " 'alfa romeo',\n",
       " 'audi',\n",
       " 'citroen',\n",
       " 'daewoo',\n",
       " 'daf',\n",
       " 'fiat',\n",
       " 'ford',\n",
       " 'honda',\n",
       " 'hyundai',\n",
       " 'innocenti',\n",
       " 'lancia',\n",
       " 'mazda',\n",
       " 'mercedes',\n",
       " 'mitsubishi',\n",
       " 'nissan',\n",
       " 'opel',\n",
       " 'peugeot',\n",
       " 'renault',\n",
       " 'rover',\n",
       " 'saab',\n",
       " 'seat',\n",
       " 'skoda',\n",
       " 'suzuki',\n",
       " 'tal/hillman',\n",
       " 'tal/matra',\n",
       " 'tal/simca',\n",
       " 'tal/sunb',\n",
       " 'talbot',\n",
       " 'toyota',\n",
       " 'volvo']"
      ]
     },
     "execution_count": 44,
     "metadata": {},
     "output_type": "execute_result"
    }
   ],
   "source": [
    "x_vars"
   ]
  },
  {
   "cell_type": "code",
   "execution_count": null,
   "metadata": {},
   "outputs": [],
   "source": [
    "#create mean variables with shape to match all alernatives\n",
    "m_logp = np.mean(x[:, :, 0], axis=0)\n",
    "m_cy = np.mean(x[:, :, 2], axis=0)\n",
    "m_hp = np.mean(x[:, :, 3], axis=0)\n",
    "m_we = np.mean(x[:, :, 4], axis=0)\n",
    "m_li = np.mean(x[:, :, 5], axis=0)"
   ]
  },
  {
   "cell_type": "code",
   "execution_count": null,
   "metadata": {},
   "outputs": [
    {
     "data": {
      "text/plain": [
       "(40,)"
      ]
     },
     "execution_count": 46,
     "metadata": {},
     "output_type": "execute_result"
    }
   ],
   "source": [
    "m_logp.shape"
   ]
  },
  {
   "cell_type": "code",
   "execution_count": null,
   "metadata": {},
   "outputs": [
    {
     "data": {
      "text/plain": [
       "32"
      ]
     },
     "execution_count": 47,
     "metadata": {},
     "output_type": "execute_result"
    }
   ],
   "source": [
    "len(x_vars_dummies)"
   ]
  },
  {
   "cell_type": "code",
   "execution_count": null,
   "metadata": {},
   "outputs": [],
   "source": [
    "#construct x0\n",
    "x0 = np.zeros((1, 40, len(x_vars)))\n",
    "x0[0, :, 0] = m_logp\n",
    "x0[0, :, 2] = m_cy\n",
    "x0[0, :, 3] = m_hp\n",
    "x0[0, :, 4] = m_we\n",
    "x0[0, :, 5] = m_li\n",
    "\n",
    "#remember now the brand is bmw since all brand dummies included are set to 0\n",
    "#think about how to deal with this"
   ]
  },
  {
   "cell_type": "code",
   "execution_count": null,
   "metadata": {},
   "outputs": [
    {
     "data": {
      "text/plain": [
       "(150, 40, 38)"
      ]
     },
     "execution_count": 49,
     "metadata": {},
     "output_type": "execute_result"
    }
   ],
   "source": [
    "#construct x1\n",
    "x1 = x.copy()\n",
    "x1[:, :, 1] = 1\n",
    "x.shape"
   ]
  },
  {
   "cell_type": "code",
   "execution_count": null,
   "metadata": {},
   "outputs": [],
   "source": [
    "#calculate choice probabilities\n",
    "prob_x0 = clogit.choice_prob(thetahat, x0)\n",
    "prob_x1 = clogit.choice_prob(thetahat, x1)\n",
    "\n",
    "#calculate the marginal effect\n",
    "PE_J_new = prob_x1 - prob_x0"
   ]
  },
  {
   "cell_type": "code",
   "execution_count": null,
   "metadata": {},
   "outputs": [
    {
     "name": "stdout",
     "output_type": "stream",
     "text": [
      "Average partial effect  0.0\n"
     ]
    }
   ],
   "source": [
    "#intermezzo: calculate the average marginal effect\n",
    "#calculate the average marginal effect\n",
    "PE_J_new_avg = np.mean(PE_J_new, axis=0)\n",
    "print(f'Average partial effect  {np.mean(PE_J_new_avg).round(4)}')"
   ]
  },
  {
   "cell_type": "code",
   "execution_count": null,
   "metadata": {},
   "outputs": [
    {
     "name": "stdout",
     "output_type": "stream",
     "text": [
      "(1, 40)\n",
      "(150, 40, 38)\n"
     ]
    }
   ],
   "source": [
    "#Print shapes\n",
    "print(prob_x0.shape)\n",
    "print(x1.shape)"
   ]
  },
  {
   "cell_type": "code",
   "execution_count": null,
   "metadata": {},
   "outputs": [
    {
     "ename": "ValueError",
     "evalue": "matmul: Input operand 1 has a mismatch in its core dimension 0, with gufunc signature (n?,k),(k,m?)->(n?,m?) (size 38 is different from 40)",
     "output_type": "error",
     "traceback": [
      "\u001b[1;31m---------------------------------------------------------------------------\u001b[0m",
      "\u001b[1;31mValueError\u001b[0m                                Traceback (most recent call last)",
      "Cell \u001b[1;32mIn[102], line 4\u001b[0m\n\u001b[0;32m      1\u001b[0m \u001b[38;5;66;03m#calculate the gradient\u001b[39;00m\n\u001b[0;32m      2\u001b[0m \u001b[38;5;66;03m#grad_new = prob_x1.T@(1-prob_x1)@x1 - prob_x0.T@(1-prob_x0)@x0\u001b[39;00m\n\u001b[0;32m      3\u001b[0m \u001b[38;5;66;03m#grad_new = prob_x1.T@(1-prob_x1)@x1 - prob_x0.T@(1-prob_x0)@x0\u001b[39;00m\n\u001b[1;32m----> 4\u001b[0m grad_new \u001b[38;5;241m=\u001b[39m prob_x1\u001b[38;5;241m.\u001b[39mT\u001b[38;5;241m@\u001b[39m(\u001b[38;5;241m1\u001b[39m\u001b[38;5;241m-\u001b[39mprob_x1)\u001b[38;5;129m@thetahat\u001b[39m\n\u001b[0;32m      5\u001b[0m grad_new \u001b[38;5;241m=\u001b[39m grad_new\u001b[38;5;241m.\u001b[39mreshape((J,K))\n\u001b[0;32m      6\u001b[0m \u001b[38;5;28mprint\u001b[39m(grad_new\u001b[38;5;241m.\u001b[39mshape)\n",
      "\u001b[1;31mValueError\u001b[0m: matmul: Input operand 1 has a mismatch in its core dimension 0, with gufunc signature (n?,k),(k,m?)->(n?,m?) (size 38 is different from 40)"
     ]
    }
   ],
   "source": [
    "#calculate the gradient\n",
    "#grad_new = prob_x1.T@(1-prob_x1)@x1 - prob_x0.T@(1-prob_x0)@x0\n",
    "#grad_new = prob_x1.T@(1-prob_x1)@x1 - prob_x0.T@(1-prob_x0)@x0\n",
    "grad_new = prob_x1.T@(1-prob_x1)@thetahat\n",
    "grad_new = grad_new.reshape((J,K))\n",
    "print(grad_new.shape)\n",
    "print(grad_new)"
   ]
  },
  {
   "cell_type": "code",
   "execution_count": null,
   "metadata": {},
   "outputs": [
    {
     "name": "stdout",
     "output_type": "stream",
     "text": [
      "(38, 38)\n"
     ]
    }
   ],
   "source": [
    "#read the covariance matrix\n",
    "cov_new = res['cov']\n",
    "print(cov_new.shape)"
   ]
  },
  {
   "cell_type": "code",
   "execution_count": null,
   "metadata": {},
   "outputs": [],
   "source": [
    "def get_se(grad, cov):\n",
    "    cov_me = grad@cov@grad.T\n",
    "    return np.sqrt(np.diag(cov_me))\n",
    "\n",
    "se_choice = get_se(grad_new, cov_new)"
   ]
  },
  {
   "cell_type": "code",
   "execution_count": null,
   "metadata": {},
   "outputs": [
    {
     "data": {
      "text/plain": [
       "(40,)"
      ]
     },
     "execution_count": 74,
     "metadata": {},
     "output_type": "execute_result"
    }
   ],
   "source": [
    "se_choice.shape"
   ]
  },
  {
   "cell_type": "code",
   "execution_count": null,
   "metadata": {},
   "outputs": [
    {
     "data": {
      "text/plain": [
       "array([0.07110373, 0.06262595, 0.07465416, 0.08189616, 0.0989034 ,\n",
       "       0.09826494, 0.10208988, 0.10185784, 0.10402552, 0.09706846,\n",
       "       0.09278799, 0.09270627, 0.08905862, 0.08622328, 0.08601389,\n",
       "       0.09384938, 0.0891499 , 0.08391333, 0.09151576, 0.09102549,\n",
       "       0.08681567, 0.08917283, 0.08975035, 0.0912445 , 0.08883985,\n",
       "       0.093682  , 0.09924068, 0.10063967, 0.09577442, 0.09375603,\n",
       "       0.0958558 , 0.0930271 , 0.08981248, 0.09801062, 0.098816  ,\n",
       "       0.10104478, 0.09788313, 0.0991339 , 0.0913937 , 0.08162909])"
      ]
     },
     "execution_count": 77,
     "metadata": {},
     "output_type": "execute_result"
    }
   ],
   "source": [
    "se_choice"
   ]
  }
 ],
 "metadata": {
  "interpreter": {
   "hash": "7d7da66137592ac323fdae235f73f52cf7e1b708075c75a7c5667c329f8e3fd0"
  },
  "kernelspec": {
   "display_name": "Python 3.9.4 64-bit ('py39': conda)",
   "name": "python3"
  },
  "language_info": {
   "codemirror_mode": {
    "name": "ipython",
    "version": 3
   },
   "file_extension": ".py",
   "mimetype": "text/x-python",
   "name": "python",
   "nbconvert_exporter": "python",
   "pygments_lexer": "ipython3",
   "version": "3.11.4"
  }
 },
 "nbformat": 4,
 "nbformat_minor": 4
}
