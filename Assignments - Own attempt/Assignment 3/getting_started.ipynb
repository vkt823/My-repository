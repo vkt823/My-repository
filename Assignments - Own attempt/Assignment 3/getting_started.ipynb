{
 "cells": [
  {
   "cell_type": "markdown",
   "metadata": {},
   "source": [
    "# Project 3: Getting Started \n",
    "\n",
    "This notebook is intended to help you get off to a flying start with the cars dataset. You don't have to use this notebook and you can discard any parts you do not like, they are purely intended as a help to get started. "
   ]
  },
  {
   "cell_type": "code",
   "execution_count": 2,
   "metadata": {},
   "outputs": [],
   "source": [
    "import numpy as np \n",
    "import pandas as pd \n",
    "import matplotlib.pyplot as plt \n",
    "import seaborn as sns \n",
    "sns.set_theme()\n",
    "\n",
    "# optimization\n",
    "from scipy import optimize\n",
    "import estimation as est\n",
    "import clogit_post as clogit\n",
    "\n",
    "\n",
    "import statsmodels.formula.api as smf"
   ]
  },
  {
   "cell_type": "markdown",
   "metadata": {},
   "source": [
    "# Read in data\n",
    "\n",
    "The dataset, `cars.csv`, contains cleaned and processed data. If you want to make changes, the notebook, `materialize.ipynb`, creates the data from the raw source datsets. "
   ]
  },
  {
   "cell_type": "code",
   "execution_count": 3,
   "metadata": {},
   "outputs": [],
   "source": [
    "cars = pd.read_csv('cars.csv')\n",
    "lbl_vars = pd.read_csv('labels_variables.csv')\n",
    "lbl_vals = pd.read_csv('labels_values.csv')\n",
    "\n",
    "# convert from dataframe to dict\n",
    "lbl_vals = {c: lbl_vals[c].dropna().to_dict() for c in lbl_vals.columns}"
   ]
  },
  {
   "cell_type": "code",
   "execution_count": 4,
   "metadata": {},
   "outputs": [],
   "source": [
    "lbl_vars.set_index('variable', inplace=True)"
   ]
  },
  {
   "cell_type": "markdown",
   "metadata": {},
   "source": [
    "## Overview of the dataset"
   ]
  },
  {
   "cell_type": "code",
   "execution_count": 5,
   "metadata": {},
   "outputs": [
    {
     "data": {
      "text/html": [
       "<div>\n",
       "<style scoped>\n",
       "    .dataframe tbody tr th:only-of-type {\n",
       "        vertical-align: middle;\n",
       "    }\n",
       "\n",
       "    .dataframe tbody tr th {\n",
       "        vertical-align: top;\n",
       "    }\n",
       "\n",
       "    .dataframe thead th {\n",
       "        text-align: right;\n",
       "    }\n",
       "</style>\n",
       "<table border=\"1\" class=\"dataframe\">\n",
       "  <thead>\n",
       "    <tr style=\"text-align: right;\">\n",
       "      <th></th>\n",
       "      <th>label</th>\n",
       "      <th>Mean</th>\n",
       "    </tr>\n",
       "    <tr>\n",
       "      <th>variable</th>\n",
       "      <th></th>\n",
       "      <th></th>\n",
       "    </tr>\n",
       "  </thead>\n",
       "  <tbody>\n",
       "    <tr>\n",
       "      <th>ye</th>\n",
       "      <td>year (=first dimension of panel)</td>\n",
       "      <td>84.50</td>\n",
       "    </tr>\n",
       "    <tr>\n",
       "      <th>ma</th>\n",
       "      <td>market (=second dimension of panel)</td>\n",
       "      <td>3.00</td>\n",
       "    </tr>\n",
       "    <tr>\n",
       "      <th>co</th>\n",
       "      <td>model code (=third dimension of panel)</td>\n",
       "      <td>207.50</td>\n",
       "    </tr>\n",
       "    <tr>\n",
       "      <th>zcode</th>\n",
       "      <td>alternative model code (predecessors and succe...</td>\n",
       "      <td>177.76</td>\n",
       "    </tr>\n",
       "    <tr>\n",
       "      <th>brd</th>\n",
       "      <td>brand code</td>\n",
       "      <td>16.79</td>\n",
       "    </tr>\n",
       "    <tr>\n",
       "      <th>type</th>\n",
       "      <td>name of brand and model</td>\n",
       "      <td>NaN</td>\n",
       "    </tr>\n",
       "    <tr>\n",
       "      <th>brand</th>\n",
       "      <td>name of brand</td>\n",
       "      <td>NaN</td>\n",
       "    </tr>\n",
       "    <tr>\n",
       "      <th>model</th>\n",
       "      <td>name of model</td>\n",
       "      <td>NaN</td>\n",
       "    </tr>\n",
       "    <tr>\n",
       "      <th>org</th>\n",
       "      <td>origin code (demand side, country with which c...</td>\n",
       "      <td>2.72</td>\n",
       "    </tr>\n",
       "    <tr>\n",
       "      <th>loc</th>\n",
       "      <td>location code (production side, country where ...</td>\n",
       "      <td>5.17</td>\n",
       "    </tr>\n",
       "    <tr>\n",
       "      <th>cla</th>\n",
       "      <td>class or segment code</td>\n",
       "      <td>2.30</td>\n",
       "    </tr>\n",
       "    <tr>\n",
       "      <th>home</th>\n",
       "      <td>domestic car dummy (appropriate interaction of...</td>\n",
       "      <td>0.32</td>\n",
       "    </tr>\n",
       "    <tr>\n",
       "      <th>frm</th>\n",
       "      <td>firm code</td>\n",
       "      <td>14.50</td>\n",
       "    </tr>\n",
       "    <tr>\n",
       "      <th>qu</th>\n",
       "      <td>sales (number of new car registrations)</td>\n",
       "      <td>35606.68</td>\n",
       "    </tr>\n",
       "    <tr>\n",
       "      <th>cy</th>\n",
       "      <td>cylinder volume or displacement (in cc)</td>\n",
       "      <td>1337.09</td>\n",
       "    </tr>\n",
       "    <tr>\n",
       "      <th>hp</th>\n",
       "      <td>horsepower (in kW)</td>\n",
       "      <td>50.10</td>\n",
       "    </tr>\n",
       "    <tr>\n",
       "      <th>we</th>\n",
       "      <td>weight (in kg)</td>\n",
       "      <td>934.49</td>\n",
       "    </tr>\n",
       "    <tr>\n",
       "      <th>pl</th>\n",
       "      <td>places (number, not reliable variable)</td>\n",
       "      <td>4.88</td>\n",
       "    </tr>\n",
       "    <tr>\n",
       "      <th>do</th>\n",
       "      <td>doors (number, not reliable variable)</td>\n",
       "      <td>3.55</td>\n",
       "    </tr>\n",
       "    <tr>\n",
       "      <th>le</th>\n",
       "      <td>length (in cm)</td>\n",
       "      <td>409.24</td>\n",
       "    </tr>\n",
       "    <tr>\n",
       "      <th>wi</th>\n",
       "      <td>width (in cm)</td>\n",
       "      <td>163.44</td>\n",
       "    </tr>\n",
       "    <tr>\n",
       "      <th>he</th>\n",
       "      <td>height (in cm)</td>\n",
       "      <td>140.46</td>\n",
       "    </tr>\n",
       "    <tr>\n",
       "      <th>li1</th>\n",
       "      <td>measure 1 for fuel efficiency (liter per km, a...</td>\n",
       "      <td>6.59</td>\n",
       "    </tr>\n",
       "    <tr>\n",
       "      <th>li2</th>\n",
       "      <td>measure 2 for fuel efficiency (liter per km, a...</td>\n",
       "      <td>8.11</td>\n",
       "    </tr>\n",
       "    <tr>\n",
       "      <th>li3</th>\n",
       "      <td>measure 3 for fuel efficiency (liter per km, a...</td>\n",
       "      <td>8.92</td>\n",
       "    </tr>\n",
       "    <tr>\n",
       "      <th>li</th>\n",
       "      <td>average of li1, li2, li3 (used in papers)</td>\n",
       "      <td>7.87</td>\n",
       "    </tr>\n",
       "    <tr>\n",
       "      <th>sp</th>\n",
       "      <td>maximum speed (km/hour)</td>\n",
       "      <td>154.22</td>\n",
       "    </tr>\n",
       "    <tr>\n",
       "      <th>ac</th>\n",
       "      <td>time to acceleration (in seconds from 0 to 100...</td>\n",
       "      <td>16.27</td>\n",
       "    </tr>\n",
       "    <tr>\n",
       "      <th>pr</th>\n",
       "      <td>price (in destination currency including V.A.T.)</td>\n",
       "      <td>2608988.58</td>\n",
       "    </tr>\n",
       "    <tr>\n",
       "      <th>princ</th>\n",
       "      <td>=pr/(ngdp/pop): price relative to per capita i...</td>\n",
       "      <td>0.76</td>\n",
       "    </tr>\n",
       "    <tr>\n",
       "      <th>eurpr</th>\n",
       "      <td>=pr/avdexr: price in common currency (in SDR t...</td>\n",
       "      <td>7256.92</td>\n",
       "    </tr>\n",
       "    <tr>\n",
       "      <th>exppr</th>\n",
       "      <td>=pr/avexr: price in exporter currency</td>\n",
       "      <td>600384.65</td>\n",
       "    </tr>\n",
       "    <tr>\n",
       "      <th>avexr</th>\n",
       "      <td>av. exchange rate of exporter country (exporte...</td>\n",
       "      <td>229.30</td>\n",
       "    </tr>\n",
       "    <tr>\n",
       "      <th>avdexr</th>\n",
       "      <td>av. exchange rate of destination country (dest...</td>\n",
       "      <td>319.91</td>\n",
       "    </tr>\n",
       "    <tr>\n",
       "      <th>avcpr</th>\n",
       "      <td>av. consumer price index of exporter country</td>\n",
       "      <td>492.53</td>\n",
       "    </tr>\n",
       "    <tr>\n",
       "      <th>avppr</th>\n",
       "      <td>av. producer price index of exporter country</td>\n",
       "      <td>671.77</td>\n",
       "    </tr>\n",
       "    <tr>\n",
       "      <th>avdcpr</th>\n",
       "      <td>av. consumer price index of destination country</td>\n",
       "      <td>77.02</td>\n",
       "    </tr>\n",
       "    <tr>\n",
       "      <th>avdppr</th>\n",
       "      <td>av. producer price index of destination country</td>\n",
       "      <td>87.69</td>\n",
       "    </tr>\n",
       "    <tr>\n",
       "      <th>xexr</th>\n",
       "      <td>avdexr/avexr</td>\n",
       "      <td>66.32</td>\n",
       "    </tr>\n",
       "    <tr>\n",
       "      <th>tax</th>\n",
       "      <td>percentage VAT</td>\n",
       "      <td>0.21</td>\n",
       "    </tr>\n",
       "    <tr>\n",
       "      <th>pop</th>\n",
       "      <td>population</td>\n",
       "      <td>49183800.00</td>\n",
       "    </tr>\n",
       "    <tr>\n",
       "      <th>ngdp</th>\n",
       "      <td>nominal gross domestic product of destination ...</td>\n",
       "      <td>178667304825541.97</td>\n",
       "    </tr>\n",
       "    <tr>\n",
       "      <th>rgdp</th>\n",
       "      <td>real gross domestic product</td>\n",
       "      <td>216716720230172.44</td>\n",
       "    </tr>\n",
       "    <tr>\n",
       "      <th>engdp</th>\n",
       "      <td>=ngdp/avdexr: nominal gdp in common currency (...</td>\n",
       "      <td>504371708122.45</td>\n",
       "    </tr>\n",
       "    <tr>\n",
       "      <th>ergdp</th>\n",
       "      <td>=rgdp/avexr</td>\n",
       "      <td>659002565347.56</td>\n",
       "    </tr>\n",
       "    <tr>\n",
       "      <th>engdpc</th>\n",
       "      <td>=engdp/pop: nominal gdp per capita in common c...</td>\n",
       "      <td>10015.84</td>\n",
       "    </tr>\n",
       "    <tr>\n",
       "      <th>ergdpc</th>\n",
       "      <td>=ergdp/pop</td>\n",
       "      <td>13264.84</td>\n",
       "    </tr>\n",
       "    <tr>\n",
       "      <th>s</th>\n",
       "      <td>market share (qu / qu_tot)</td>\n",
       "      <td>0.02</td>\n",
       "    </tr>\n",
       "    <tr>\n",
       "      <th>qu_tot</th>\n",
       "      <td>total sales in this market-year</td>\n",
       "      <td>1424267.29</td>\n",
       "    </tr>\n",
       "    <tr>\n",
       "      <th>inc</th>\n",
       "      <td>avg. income per capita</td>\n",
       "      <td>26829.74</td>\n",
       "    </tr>\n",
       "  </tbody>\n",
       "</table>\n",
       "</div>"
      ],
      "text/plain": [
       "                                                      label  \\\n",
       "variable                                                      \n",
       "ye                         year (=first dimension of panel)   \n",
       "ma                      market (=second dimension of panel)   \n",
       "co                   model code (=third dimension of panel)   \n",
       "zcode     alternative model code (predecessors and succe...   \n",
       "brd                                              brand code   \n",
       "type                                name of brand and model   \n",
       "brand                                         name of brand   \n",
       "model                                         name of model   \n",
       "org       origin code (demand side, country with which c...   \n",
       "loc       location code (production side, country where ...   \n",
       "cla                                   class or segment code   \n",
       "home      domestic car dummy (appropriate interaction of...   \n",
       "frm                                               firm code   \n",
       "qu                  sales (number of new car registrations)   \n",
       "cy                  cylinder volume or displacement (in cc)   \n",
       "hp                                       horsepower (in kW)   \n",
       "we                                           weight (in kg)   \n",
       "pl                   places (number, not reliable variable)   \n",
       "do                    doors (number, not reliable variable)   \n",
       "le                                           length (in cm)   \n",
       "wi                                            width (in cm)   \n",
       "he                                           height (in cm)   \n",
       "li1       measure 1 for fuel efficiency (liter per km, a...   \n",
       "li2       measure 2 for fuel efficiency (liter per km, a...   \n",
       "li3       measure 3 for fuel efficiency (liter per km, a...   \n",
       "li                average of li1, li2, li3 (used in papers)   \n",
       "sp                                  maximum speed (km/hour)   \n",
       "ac        time to acceleration (in seconds from 0 to 100...   \n",
       "pr         price (in destination currency including V.A.T.)   \n",
       "princ     =pr/(ngdp/pop): price relative to per capita i...   \n",
       "eurpr     =pr/avdexr: price in common currency (in SDR t...   \n",
       "exppr                 =pr/avexr: price in exporter currency   \n",
       "avexr     av. exchange rate of exporter country (exporte...   \n",
       "avdexr    av. exchange rate of destination country (dest...   \n",
       "avcpr          av. consumer price index of exporter country   \n",
       "avppr          av. producer price index of exporter country   \n",
       "avdcpr      av. consumer price index of destination country   \n",
       "avdppr      av. producer price index of destination country   \n",
       "xexr                                           avdexr/avexr   \n",
       "tax                                          percentage VAT   \n",
       "pop                                              population   \n",
       "ngdp      nominal gross domestic product of destination ...   \n",
       "rgdp                            real gross domestic product   \n",
       "engdp     =ngdp/avdexr: nominal gdp in common currency (...   \n",
       "ergdp                                           =rgdp/avexr   \n",
       "engdpc    =engdp/pop: nominal gdp per capita in common c...   \n",
       "ergdpc                                           =ergdp/pop   \n",
       "s                                market share (qu / qu_tot)   \n",
       "qu_tot                      total sales in this market-year   \n",
       "inc                                  avg. income per capita   \n",
       "\n",
       "                         Mean  \n",
       "variable                       \n",
       "ye                      84.50  \n",
       "ma                       3.00  \n",
       "co                     207.50  \n",
       "zcode                  177.76  \n",
       "brd                     16.79  \n",
       "type                      NaN  \n",
       "brand                     NaN  \n",
       "model                     NaN  \n",
       "org                      2.72  \n",
       "loc                      5.17  \n",
       "cla                      2.30  \n",
       "home                     0.32  \n",
       "frm                     14.50  \n",
       "qu                   35606.68  \n",
       "cy                    1337.09  \n",
       "hp                      50.10  \n",
       "we                     934.49  \n",
       "pl                       4.88  \n",
       "do                       3.55  \n",
       "le                     409.24  \n",
       "wi                     163.44  \n",
       "he                     140.46  \n",
       "li1                      6.59  \n",
       "li2                      8.11  \n",
       "li3                      8.92  \n",
       "li                       7.87  \n",
       "sp                     154.22  \n",
       "ac                      16.27  \n",
       "pr                 2608988.58  \n",
       "princ                    0.76  \n",
       "eurpr                 7256.92  \n",
       "exppr               600384.65  \n",
       "avexr                  229.30  \n",
       "avdexr                 319.91  \n",
       "avcpr                  492.53  \n",
       "avppr                  671.77  \n",
       "avdcpr                  77.02  \n",
       "avdppr                  87.69  \n",
       "xexr                    66.32  \n",
       "tax                      0.21  \n",
       "pop               49183800.00  \n",
       "ngdp       178667304825541.97  \n",
       "rgdp       216716720230172.44  \n",
       "engdp         504371708122.45  \n",
       "ergdp         659002565347.56  \n",
       "engdpc               10015.84  \n",
       "ergdpc               13264.84  \n",
       "s                        0.02  \n",
       "qu_tot             1424267.29  \n",
       "inc                  26829.74  "
      ]
     },
     "execution_count": 5,
     "metadata": {},
     "output_type": "execute_result"
    }
   ],
   "source": [
    "lbl_vars.join(cars.mean(numeric_only=True).apply(lambda x: f'{x: .2f}').to_frame('Mean'))"
   ]
  },
  {
   "cell_type": "markdown",
   "metadata": {},
   "source": [
    "# Set up for analysis"
   ]
  },
  {
   "cell_type": "code",
   "execution_count": 6,
   "metadata": {},
   "outputs": [],
   "source": [
    "price_var = 'princ'"
   ]
  },
  {
   "cell_type": "code",
   "execution_count": 7,
   "metadata": {},
   "outputs": [],
   "source": [
    "cars['logp'] = np.log(cars[price_var])"
   ]
  },
  {
   "cell_type": "code",
   "execution_count": 8,
   "metadata": {},
   "outputs": [],
   "source": [
    "# new variable: price elasticity heterogeneous for home-region \n",
    "cars['logp_x_home'] = cars[price_var] * cars['home']"
   ]
  },
  {
   "cell_type": "markdown",
   "metadata": {},
   "source": [
    "### Dummy variables\n",
    "\n",
    "For working with matrices, we want to have a column for each dummy variable. "
   ]
  },
  {
   "cell_type": "code",
   "execution_count": 9,
   "metadata": {},
   "outputs": [],
   "source": [
    "categorical_var = 'brand' # name of categorical variable\n",
    "dummies = pd.get_dummies(cars[categorical_var]) # creates a matrix of dummies for each value of dummyvar\n",
    "x_vars_dummies = list(dummies.columns[1:].values) # omit a reference category, here it is the first (hence columns[1:])\n",
    "\n",
    "# add dummies to the dataframe \n",
    "assert dummies.columns[0] not in cars.columns, f'It looks like you have already added this dummy to the dataframe. Avoid duplicates! '\n",
    "cars = pd.concat([cars,dummies], axis=1)"
   ]
  },
  {
   "cell_type": "markdown",
   "metadata": {},
   "source": [
    "### `x_vars`: List of regressors to be used "
   ]
  },
  {
   "cell_type": "code",
   "execution_count": 10,
   "metadata": {},
   "outputs": [
    {
     "name": "stdout",
     "output_type": "stream",
     "text": [
      "K = 38 variables selected.\n"
     ]
    }
   ],
   "source": [
    "x_vars = ['logp', 'home', 'cy', 'hp', 'we', 'li'] + x_vars_dummies # <--- !!! choose your preferred variables here \n",
    "print(f'K = {len(x_vars)} variables selected.')"
   ]
  },
  {
   "cell_type": "code",
   "execution_count": 11,
   "metadata": {},
   "outputs": [
    {
     "name": "stdout",
     "output_type": "stream",
     "text": [
      "['MCC', 'VW', 'alfa romeo', 'audi', 'citroen', 'daewoo', 'daf', 'fiat', 'ford', 'honda', 'hyundai', 'innocenti', 'lancia', 'mazda', 'mercedes', 'mitsubishi', 'nissan', 'opel', 'peugeot', 'renault', 'rover', 'saab', 'seat', 'skoda', 'suzuki', 'tal/hillman', 'tal/matra', 'tal/simca', 'tal/sunb', 'talbot', 'toyota', 'volvo']\n"
     ]
    }
   ],
   "source": [
    "print(x_vars_dummies)"
   ]
  },
  {
   "cell_type": "code",
   "execution_count": 12,
   "metadata": {},
   "outputs": [
    {
     "name": "stdout",
     "output_type": "stream",
     "text": [
      "['audi' 'citroen' 'fiat' 'ford' 'mercedes' 'opel' 'peugeot' 'renault'\n",
      " 'rover' 'toyota' 'VW' 'BMW' 'daf' 'nissan' 'tal/simca' 'volvo' 'talbot'\n",
      " 'mazda' 'alfa romeo' 'honda' 'mitsubishi' 'seat' 'suzuki' 'lancia'\n",
      " 'tal/matra' 'skoda' 'daewoo' 'hyundai' 'MCC' 'innocenti' 'tal/sunb'\n",
      " 'tal/hillman' 'saab']\n"
     ]
    }
   ],
   "source": [
    "unique_brands = cars['brand'].unique()\n",
    "print(unique_brands)\n"
   ]
  },
  {
   "cell_type": "code",
   "execution_count": 13,
   "metadata": {},
   "outputs": [
    {
     "name": "stdout",
     "output_type": "stream",
     "text": [
      "[0 1]\n"
     ]
    }
   ],
   "source": [
    "home_region = cars['home'].unique()\n",
    "print(home_region)"
   ]
  },
  {
   "cell_type": "code",
   "execution_count": 11,
   "metadata": {},
   "outputs": [
    {
     "name": "stdout",
     "output_type": "stream",
     "text": [
      "(150, 40, 38)\n"
     ]
    }
   ],
   "source": [
    "K = len(x_vars)\n",
    "N = cars.ma.nunique() * cars.ye.nunique()\n",
    "J = 40 \n",
    "x = cars[x_vars].values.reshape((N,J,K))\n",
    "y = np.log(cars['s'].values.reshape((N,J)))\n",
    "\n",
    "# standardize x\n",
    "# x = ((x - x.mean(0).mean(0))/(x.std(0).std(0)))\n",
    "print(x.shape)"
   ]
  },
  {
   "cell_type": "markdown",
   "metadata": {},
   "source": [
    "### Understanding the sorting \n",
    "\n",
    "Just to be sure that we understand the relation between the pandas dataframe and the numpy 3d array, consider the following: "
   ]
  },
  {
   "cell_type": "code",
   "execution_count": 12,
   "metadata": {},
   "outputs": [
    {
     "data": {
      "text/plain": [
       "array([ True,  True,  True,  True,  True])"
      ]
     },
     "execution_count": 12,
     "metadata": {},
     "output_type": "execute_result"
    }
   ],
   "source": [
    "# let's check that we get the same row from x as we can find in the original pandas dataframe\n",
    "# we'll pick the first 5 \"observations\"\n",
    "j = 1\n",
    "k = 0 \n",
    "x[:5, j, k] == cars.groupby(['ma','ye']).nth(j)[x_vars[k]].head(5).values"
   ]
  },
  {
   "cell_type": "code",
   "execution_count": 13,
   "metadata": {},
   "outputs": [
    {
     "data": {
      "text/plain": [
       "array([ True,  True,  True,  True,  True])"
      ]
     },
     "execution_count": 13,
     "metadata": {},
     "output_type": "execute_result"
    }
   ],
   "source": [
    "# ... and let's check it for the 5 first cars (in the first market)\n",
    "k = 0\n",
    "x[0, :5, k] == cars[x_vars[k]].head(5).values\n",
    "# note that with i = 3 (4th element), x[i,t,k] gives ma=1 and ye=73 (first market, fourth year)\n",
    "x[3, :5, k] == cars.query('(ma == 1) & (ye == 73)')[x_vars[k]].head(5).values"
   ]
  },
  {
   "cell_type": "code",
   "execution_count": 14,
   "metadata": {},
   "outputs": [
    {
     "name": "stdout",
     "output_type": "stream",
     "text": [
      "[[1 73 'audi 80/90' 0.0198967806548532]\n",
      " [1 73 'audi 100/200' 0.0115738123314003]\n",
      " [1 73 'citroen 2 CV 6 - 2 CV 4' 0.020470221461224]\n",
      " [1 73 'citroen GSA/GSX' 0.0231960844492545]\n",
      " [1 73 'citroen dyane' 0.0232687741289353]]\n",
      "[[5 80 'alfasud' 0.0061322294468038]\n",
      " [5 80 'citroen GSA' 0.0097859984028077]\n",
      " [5 80 'fiat 127' 0.0082314207084408]\n",
      " [5 80 'fiat 131F' 0.0099803206146036]\n",
      " [5 80 'ford fiesta' 0.0781217905939526]]\n"
     ]
    }
   ],
   "source": [
    "# and let's print out some rows along with some labels \n",
    "obs_labs = cars[['ma', 'ye', 'type', 's']].values.reshape(N,J,4) # notice that we are extracting the values from the dataframe in the same way as we did for x\n",
    "\n",
    "i=3 # obs. index 3 is the first market in the fourth (3+1) year, i.e. 73\n",
    "print(obs_labs[i,:5,:])\n",
    "\n",
    "i = 130 # obs. index 130 is the 5th country (130/30>4) and the 11th year (130%30 = index 10)\n",
    "print(obs_labs[i,:5,:])"
   ]
  },
  {
   "cell_type": "markdown",
   "metadata": {},
   "source": [
    "... and just checking that we can find those same columns in the pandas dataframe"
   ]
  },
  {
   "cell_type": "code",
   "execution_count": 15,
   "metadata": {},
   "outputs": [
    {
     "data": {
      "text/plain": [
       "5204    0.078122\n",
       "Name: s, dtype: float64"
      ]
     },
     "execution_count": 15,
     "metadata": {},
     "output_type": "execute_result"
    }
   ],
   "source": [
    "cars.query('(ma == 5) & (ye == 80) & (type == \"ford fiesta\")').s"
   ]
  },
  {
   "cell_type": "markdown",
   "metadata": {},
   "source": [
    "# OLS Example\n",
    "\n",
    "Let's compute the OLS estimator just to test that we can do algebra with the arrays. \n",
    "\n",
    "***Note:*** This particular choice of $y$ and $x$ variables might not make sense, it is just to help you get started doing algebra on these arrays. "
   ]
  },
  {
   "cell_type": "code",
   "execution_count": 16,
   "metadata": {},
   "outputs": [],
   "source": [
    "Y = y.reshape(N*J,) # Make Y 1-dimensional \n",
    "X = np.hstack([x.reshape(N*J,K), np.ones((N*J,1))]).astype(np.float64) # append a constant term and ensure type = float"
   ]
  },
  {
   "cell_type": "code",
   "execution_count": 17,
   "metadata": {},
   "outputs": [
    {
     "data": {
      "text/html": [
       "<div>\n",
       "<style scoped>\n",
       "    .dataframe tbody tr th:only-of-type {\n",
       "        vertical-align: middle;\n",
       "    }\n",
       "\n",
       "    .dataframe tbody tr th {\n",
       "        vertical-align: top;\n",
       "    }\n",
       "\n",
       "    .dataframe thead th {\n",
       "        text-align: right;\n",
       "    }\n",
       "</style>\n",
       "<table border=\"1\" class=\"dataframe\">\n",
       "  <thead>\n",
       "    <tr style=\"text-align: right;\">\n",
       "      <th></th>\n",
       "      <th>Estimate</th>\n",
       "    </tr>\n",
       "  </thead>\n",
       "  <tbody>\n",
       "    <tr>\n",
       "      <th>logp</th>\n",
       "      <td>-0.350433</td>\n",
       "    </tr>\n",
       "    <tr>\n",
       "      <th>home</th>\n",
       "      <td>0.973116</td>\n",
       "    </tr>\n",
       "    <tr>\n",
       "      <th>cy</th>\n",
       "      <td>-0.000320</td>\n",
       "    </tr>\n",
       "    <tr>\n",
       "      <th>hp</th>\n",
       "      <td>-0.009740</td>\n",
       "    </tr>\n",
       "    <tr>\n",
       "      <th>we</th>\n",
       "      <td>0.001151</td>\n",
       "    </tr>\n",
       "    <tr>\n",
       "      <th>li</th>\n",
       "      <td>-0.056361</td>\n",
       "    </tr>\n",
       "    <tr>\n",
       "      <th>MCC</th>\n",
       "      <td>-1.176538</td>\n",
       "    </tr>\n",
       "    <tr>\n",
       "      <th>VW</th>\n",
       "      <td>0.159212</td>\n",
       "    </tr>\n",
       "    <tr>\n",
       "      <th>alfa romeo</th>\n",
       "      <td>-0.481739</td>\n",
       "    </tr>\n",
       "    <tr>\n",
       "      <th>audi</th>\n",
       "      <td>-0.059687</td>\n",
       "    </tr>\n",
       "    <tr>\n",
       "      <th>citroen</th>\n",
       "      <td>-0.369507</td>\n",
       "    </tr>\n",
       "    <tr>\n",
       "      <th>daewoo</th>\n",
       "      <td>-0.430635</td>\n",
       "    </tr>\n",
       "    <tr>\n",
       "      <th>daf</th>\n",
       "      <td>-0.795434</td>\n",
       "    </tr>\n",
       "    <tr>\n",
       "      <th>fiat</th>\n",
       "      <td>-0.197321</td>\n",
       "    </tr>\n",
       "    <tr>\n",
       "      <th>ford</th>\n",
       "      <td>0.163673</td>\n",
       "    </tr>\n",
       "    <tr>\n",
       "      <th>honda</th>\n",
       "      <td>-0.187296</td>\n",
       "    </tr>\n",
       "    <tr>\n",
       "      <th>hyundai</th>\n",
       "      <td>-0.749581</td>\n",
       "    </tr>\n",
       "    <tr>\n",
       "      <th>innocenti</th>\n",
       "      <td>-0.952618</td>\n",
       "    </tr>\n",
       "    <tr>\n",
       "      <th>lancia</th>\n",
       "      <td>-0.674198</td>\n",
       "    </tr>\n",
       "    <tr>\n",
       "      <th>mazda</th>\n",
       "      <td>-0.268077</td>\n",
       "    </tr>\n",
       "    <tr>\n",
       "      <th>mercedes</th>\n",
       "      <td>0.303942</td>\n",
       "    </tr>\n",
       "    <tr>\n",
       "      <th>mitsubishi</th>\n",
       "      <td>-0.338838</td>\n",
       "    </tr>\n",
       "    <tr>\n",
       "      <th>nissan</th>\n",
       "      <td>-0.096326</td>\n",
       "    </tr>\n",
       "    <tr>\n",
       "      <th>opel</th>\n",
       "      <td>0.104400</td>\n",
       "    </tr>\n",
       "    <tr>\n",
       "      <th>peugeot</th>\n",
       "      <td>-0.064666</td>\n",
       "    </tr>\n",
       "    <tr>\n",
       "      <th>renault</th>\n",
       "      <td>0.000534</td>\n",
       "    </tr>\n",
       "    <tr>\n",
       "      <th>rover</th>\n",
       "      <td>-0.295847</td>\n",
       "    </tr>\n",
       "    <tr>\n",
       "      <th>saab</th>\n",
       "      <td>-0.615658</td>\n",
       "    </tr>\n",
       "    <tr>\n",
       "      <th>seat</th>\n",
       "      <td>-0.716449</td>\n",
       "    </tr>\n",
       "    <tr>\n",
       "      <th>skoda</th>\n",
       "      <td>-0.947195</td>\n",
       "    </tr>\n",
       "    <tr>\n",
       "      <th>suzuki</th>\n",
       "      <td>-0.889842</td>\n",
       "    </tr>\n",
       "    <tr>\n",
       "      <th>tal/hillman</th>\n",
       "      <td>-0.733625</td>\n",
       "    </tr>\n",
       "    <tr>\n",
       "      <th>tal/matra</th>\n",
       "      <td>-2.015706</td>\n",
       "    </tr>\n",
       "    <tr>\n",
       "      <th>tal/simca</th>\n",
       "      <td>-0.287448</td>\n",
       "    </tr>\n",
       "    <tr>\n",
       "      <th>tal/sunb</th>\n",
       "      <td>-3.409180</td>\n",
       "    </tr>\n",
       "    <tr>\n",
       "      <th>talbot</th>\n",
       "      <td>-0.357037</td>\n",
       "    </tr>\n",
       "    <tr>\n",
       "      <th>toyota</th>\n",
       "      <td>0.024339</td>\n",
       "    </tr>\n",
       "    <tr>\n",
       "      <th>volvo</th>\n",
       "      <td>0.040995</td>\n",
       "    </tr>\n",
       "    <tr>\n",
       "      <th>const</th>\n",
       "      <td>-4.137534</td>\n",
       "    </tr>\n",
       "  </tbody>\n",
       "</table>\n",
       "</div>"
      ],
      "text/plain": [
       "             Estimate\n",
       "logp        -0.350433\n",
       "home         0.973116\n",
       "cy          -0.000320\n",
       "hp          -0.009740\n",
       "we           0.001151\n",
       "li          -0.056361\n",
       "MCC         -1.176538\n",
       "VW           0.159212\n",
       "alfa romeo  -0.481739\n",
       "audi        -0.059687\n",
       "citroen     -0.369507\n",
       "daewoo      -0.430635\n",
       "daf         -0.795434\n",
       "fiat        -0.197321\n",
       "ford         0.163673\n",
       "honda       -0.187296\n",
       "hyundai     -0.749581\n",
       "innocenti   -0.952618\n",
       "lancia      -0.674198\n",
       "mazda       -0.268077\n",
       "mercedes     0.303942\n",
       "mitsubishi  -0.338838\n",
       "nissan      -0.096326\n",
       "opel         0.104400\n",
       "peugeot     -0.064666\n",
       "renault      0.000534\n",
       "rover       -0.295847\n",
       "saab        -0.615658\n",
       "seat        -0.716449\n",
       "skoda       -0.947195\n",
       "suzuki      -0.889842\n",
       "tal/hillman -0.733625\n",
       "tal/matra   -2.015706\n",
       "tal/simca   -0.287448\n",
       "tal/sunb    -3.409180\n",
       "talbot      -0.357037\n",
       "toyota       0.024339\n",
       "volvo        0.040995\n",
       "const       -4.137534"
      ]
     },
     "execution_count": 17,
     "metadata": {},
     "output_type": "execute_result"
    }
   ],
   "source": [
    "# compute the OLS estimator \n",
    "bet = np.linalg.inv(X.T @ X) @ X.T @ Y\n",
    "\n",
    "# print\n",
    "varnames = x_vars + ['const'] # we added the constant as the K+1'th column \n",
    "pd.DataFrame({'Estimate':bet}, index=varnames)"
   ]
  },
  {
   "cell_type": "markdown",
   "metadata": {},
   "source": [
    "# Towards logit \n",
    "\n",
    "In order to work with the logit model, you have to be able to compute the utility indices, which typically take the form of some inner product of an $x$-vector and a $\\theta$ vector. This is illustrated for you below. Since `x` is `(N,J,K)` (i.e. `x[i,j,:]` gives the $K$-vector of regressors for the car `j` in market-period `i`), we just have to form the matrix product `x @ theta`, and Python will do the sum over the 3rd dimension of `x`. "
   ]
  },
  {
   "cell_type": "code",
   "execution_count": 18,
   "metadata": {},
   "outputs": [
    {
     "data": {
      "text/plain": [
       "array([[0.025, 0.025, 0.025, ..., 0.025, 0.025, 0.025],\n",
       "       [0.025, 0.025, 0.025, ..., 0.025, 0.025, 0.025],\n",
       "       [0.025, 0.025, 0.025, ..., 0.025, 0.025, 0.025],\n",
       "       ...,\n",
       "       [0.025, 0.025, 0.025, ..., 0.025, 0.025, 0.025],\n",
       "       [0.025, 0.025, 0.025, ..., 0.025, 0.025, 0.025],\n",
       "       [0.025, 0.025, 0.025, ..., 0.025, 0.025, 0.025]])"
      ]
     },
     "execution_count": 18,
     "metadata": {},
     "output_type": "execute_result"
    }
   ],
   "source": [
    "theta0 = np.zeros((K,))\n",
    "v = (x @ theta0).astype(np.float64) # how to multiply a trial value with the matrix of regressors \n",
    "np.exp(v) / np.sum(np.exp(v), 1, keepdims=True) # choice probabilities "
   ]
  },
  {
   "cell_type": "markdown",
   "metadata": {},
   "source": [
    "# Conditional logit estimation\n",
    "\n"
   ]
  },
  {
   "cell_type": "code",
   "execution_count": 19,
   "metadata": {},
   "outputs": [],
   "source": [
    "y = cars['s'].values.reshape((N,J))\n"
   ]
  },
  {
   "cell_type": "code",
   "execution_count": 20,
   "metadata": {},
   "outputs": [
    {
     "ename": "TypeError",
     "evalue": "loop of ufunc does not support argument 0 of type float which has no callable exp method",
     "output_type": "error",
     "traceback": [
      "\u001b[1;31m---------------------------------------------------------------------------\u001b[0m",
      "\u001b[1;31mAttributeError\u001b[0m                            Traceback (most recent call last)",
      "\u001b[1;31mAttributeError\u001b[0m: 'float' object has no attribute 'exp'",
      "\nThe above exception was the direct cause of the following exception:\n",
      "\u001b[1;31mTypeError\u001b[0m                                 Traceback (most recent call last)",
      "\u001b[1;32mc:\\Users\\vkt823\\Introprog\\My-repository\\Assignments - Own attempt\\Assignment 3\\getting_started.ipynb Cell 31\u001b[0m line \u001b[0;36m1\n\u001b[1;32m----> <a href='vscode-notebook-cell:/c%3A/Users/vkt823/Introprog/My-repository/Assignments%20-%20Own%20attempt/Assignment%203/getting_started.ipynb#X42sZmlsZQ%3D%3D?line=0'>1</a>\u001b[0m res \u001b[39m=\u001b[39m est\u001b[39m.\u001b[39;49mestimate(clogit\u001b[39m.\u001b[39;49mq, theta0,  y, x)\n\u001b[0;32m      <a href='vscode-notebook-cell:/c%3A/Users/vkt823/Introprog/My-repository/Assignments%20-%20Own%20attempt/Assignment%203/getting_started.ipynb#X42sZmlsZQ%3D%3D?line=2'>3</a>\u001b[0m tab \u001b[39m=\u001b[39m pd\u001b[39m.\u001b[39mDataFrame({v:res[v] \u001b[39mfor\u001b[39;00m v \u001b[39min\u001b[39;00m [\u001b[39m'\u001b[39m\u001b[39mtheta\u001b[39m\u001b[39m'\u001b[39m, \u001b[39m'\u001b[39m\u001b[39mse\u001b[39m\u001b[39m'\u001b[39m, \u001b[39m'\u001b[39m\u001b[39mt\u001b[39m\u001b[39m'\u001b[39m]}, index\u001b[39m=\u001b[39m x_vars)\n\u001b[0;32m      <a href='vscode-notebook-cell:/c%3A/Users/vkt823/Introprog/My-repository/Assignments%20-%20Own%20attempt/Assignment%203/getting_started.ipynb#X42sZmlsZQ%3D%3D?line=3'>4</a>\u001b[0m tab\n",
      "File \u001b[1;32mc:\\Users\\vkt823\\Introprog\\My-repository\\Assignments - Own attempt\\Assignment 3\\estimation.py:44\u001b[0m, in \u001b[0;36mestimate\u001b[1;34m(q, theta0, y, x, cov_type, options, **kwargs)\u001b[0m\n\u001b[0;32m     41\u001b[0m Q \u001b[39m=\u001b[39m \u001b[39mlambda\u001b[39;00m theta: np\u001b[39m.\u001b[39mmean(q(theta, y, x))\n\u001b[0;32m     43\u001b[0m \u001b[39m# call optimizer\u001b[39;00m\n\u001b[1;32m---> 44\u001b[0m result \u001b[39m=\u001b[39m optimize\u001b[39m.\u001b[39;49mminimize(Q, theta0, options\u001b[39m=\u001b[39;49moptions, \u001b[39m*\u001b[39;49m\u001b[39m*\u001b[39;49mkwargs)\n\u001b[0;32m     46\u001b[0m cov, se \u001b[39m=\u001b[39m variance(q, y, x, result, cov_type)   \n\u001b[0;32m     48\u001b[0m \u001b[39m# collect output in a dict \u001b[39;00m\n",
      "File \u001b[1;32mc:\\Users\\vkt823\\AppData\\Local\\anaconda3\\Lib\\site-packages\\scipy\\optimize\\_minimize.py:705\u001b[0m, in \u001b[0;36mminimize\u001b[1;34m(fun, x0, args, method, jac, hess, hessp, bounds, constraints, tol, callback, options)\u001b[0m\n\u001b[0;32m    703\u001b[0m     res \u001b[39m=\u001b[39m _minimize_cg(fun, x0, args, jac, callback, \u001b[39m*\u001b[39m\u001b[39m*\u001b[39moptions)\n\u001b[0;32m    704\u001b[0m \u001b[39melif\u001b[39;00m meth \u001b[39m==\u001b[39m \u001b[39m'\u001b[39m\u001b[39mbfgs\u001b[39m\u001b[39m'\u001b[39m:\n\u001b[1;32m--> 705\u001b[0m     res \u001b[39m=\u001b[39m _minimize_bfgs(fun, x0, args, jac, callback, \u001b[39m*\u001b[39;49m\u001b[39m*\u001b[39;49moptions)\n\u001b[0;32m    706\u001b[0m \u001b[39melif\u001b[39;00m meth \u001b[39m==\u001b[39m \u001b[39m'\u001b[39m\u001b[39mnewton-cg\u001b[39m\u001b[39m'\u001b[39m:\n\u001b[0;32m    707\u001b[0m     res \u001b[39m=\u001b[39m _minimize_newtoncg(fun, x0, args, jac, hess, hessp, callback,\n\u001b[0;32m    708\u001b[0m                              \u001b[39m*\u001b[39m\u001b[39m*\u001b[39moptions)\n",
      "File \u001b[1;32mc:\\Users\\vkt823\\AppData\\Local\\anaconda3\\Lib\\site-packages\\scipy\\optimize\\_optimize.py:1419\u001b[0m, in \u001b[0;36m_minimize_bfgs\u001b[1;34m(fun, x0, args, jac, callback, gtol, norm, eps, maxiter, disp, return_all, finite_diff_rel_step, xrtol, **unknown_options)\u001b[0m\n\u001b[0;32m   1416\u001b[0m \u001b[39mif\u001b[39;00m maxiter \u001b[39mis\u001b[39;00m \u001b[39mNone\u001b[39;00m:\n\u001b[0;32m   1417\u001b[0m     maxiter \u001b[39m=\u001b[39m \u001b[39mlen\u001b[39m(x0) \u001b[39m*\u001b[39m \u001b[39m200\u001b[39m\n\u001b[1;32m-> 1419\u001b[0m sf \u001b[39m=\u001b[39m _prepare_scalar_function(fun, x0, jac, args\u001b[39m=\u001b[39;49margs, epsilon\u001b[39m=\u001b[39;49meps,\n\u001b[0;32m   1420\u001b[0m                               finite_diff_rel_step\u001b[39m=\u001b[39;49mfinite_diff_rel_step)\n\u001b[0;32m   1422\u001b[0m f \u001b[39m=\u001b[39m sf\u001b[39m.\u001b[39mfun\n\u001b[0;32m   1423\u001b[0m myfprime \u001b[39m=\u001b[39m sf\u001b[39m.\u001b[39mgrad\n",
      "File \u001b[1;32mc:\\Users\\vkt823\\AppData\\Local\\anaconda3\\Lib\\site-packages\\scipy\\optimize\\_optimize.py:383\u001b[0m, in \u001b[0;36m_prepare_scalar_function\u001b[1;34m(fun, x0, jac, args, bounds, epsilon, finite_diff_rel_step, hess)\u001b[0m\n\u001b[0;32m    379\u001b[0m     bounds \u001b[39m=\u001b[39m (\u001b[39m-\u001b[39mnp\u001b[39m.\u001b[39minf, np\u001b[39m.\u001b[39minf)\n\u001b[0;32m    381\u001b[0m \u001b[39m# ScalarFunction caches. Reuse of fun(x) during grad\u001b[39;00m\n\u001b[0;32m    382\u001b[0m \u001b[39m# calculation reduces overall function evaluations.\u001b[39;00m\n\u001b[1;32m--> 383\u001b[0m sf \u001b[39m=\u001b[39m ScalarFunction(fun, x0, args, grad, hess,\n\u001b[0;32m    384\u001b[0m                     finite_diff_rel_step, bounds, epsilon\u001b[39m=\u001b[39;49mepsilon)\n\u001b[0;32m    386\u001b[0m \u001b[39mreturn\u001b[39;00m sf\n",
      "File \u001b[1;32mc:\\Users\\vkt823\\AppData\\Local\\anaconda3\\Lib\\site-packages\\scipy\\optimize\\_differentiable_functions.py:158\u001b[0m, in \u001b[0;36mScalarFunction.__init__\u001b[1;34m(self, fun, x0, args, grad, hess, finite_diff_rel_step, finite_diff_bounds, epsilon)\u001b[0m\n\u001b[0;32m    155\u001b[0m     \u001b[39mself\u001b[39m\u001b[39m.\u001b[39mf \u001b[39m=\u001b[39m fun_wrapped(\u001b[39mself\u001b[39m\u001b[39m.\u001b[39mx)\n\u001b[0;32m    157\u001b[0m \u001b[39mself\u001b[39m\u001b[39m.\u001b[39m_update_fun_impl \u001b[39m=\u001b[39m update_fun\n\u001b[1;32m--> 158\u001b[0m \u001b[39mself\u001b[39;49m\u001b[39m.\u001b[39;49m_update_fun()\n\u001b[0;32m    160\u001b[0m \u001b[39m# Gradient evaluation\u001b[39;00m\n\u001b[0;32m    161\u001b[0m \u001b[39mif\u001b[39;00m \u001b[39mcallable\u001b[39m(grad):\n",
      "File \u001b[1;32mc:\\Users\\vkt823\\AppData\\Local\\anaconda3\\Lib\\site-packages\\scipy\\optimize\\_differentiable_functions.py:251\u001b[0m, in \u001b[0;36mScalarFunction._update_fun\u001b[1;34m(self)\u001b[0m\n\u001b[0;32m    249\u001b[0m \u001b[39mdef\u001b[39;00m \u001b[39m_update_fun\u001b[39m(\u001b[39mself\u001b[39m):\n\u001b[0;32m    250\u001b[0m     \u001b[39mif\u001b[39;00m \u001b[39mnot\u001b[39;00m \u001b[39mself\u001b[39m\u001b[39m.\u001b[39mf_updated:\n\u001b[1;32m--> 251\u001b[0m         \u001b[39mself\u001b[39;49m\u001b[39m.\u001b[39;49m_update_fun_impl()\n\u001b[0;32m    252\u001b[0m         \u001b[39mself\u001b[39m\u001b[39m.\u001b[39mf_updated \u001b[39m=\u001b[39m \u001b[39mTrue\u001b[39;00m\n",
      "File \u001b[1;32mc:\\Users\\vkt823\\AppData\\Local\\anaconda3\\Lib\\site-packages\\scipy\\optimize\\_differentiable_functions.py:155\u001b[0m, in \u001b[0;36mScalarFunction.__init__.<locals>.update_fun\u001b[1;34m()\u001b[0m\n\u001b[0;32m    154\u001b[0m \u001b[39mdef\u001b[39;00m \u001b[39mupdate_fun\u001b[39m():\n\u001b[1;32m--> 155\u001b[0m     \u001b[39mself\u001b[39m\u001b[39m.\u001b[39mf \u001b[39m=\u001b[39m fun_wrapped(\u001b[39mself\u001b[39;49m\u001b[39m.\u001b[39;49mx)\n",
      "File \u001b[1;32mc:\\Users\\vkt823\\AppData\\Local\\anaconda3\\Lib\\site-packages\\scipy\\optimize\\_differentiable_functions.py:137\u001b[0m, in \u001b[0;36mScalarFunction.__init__.<locals>.fun_wrapped\u001b[1;34m(x)\u001b[0m\n\u001b[0;32m    133\u001b[0m \u001b[39mself\u001b[39m\u001b[39m.\u001b[39mnfev \u001b[39m+\u001b[39m\u001b[39m=\u001b[39m \u001b[39m1\u001b[39m\n\u001b[0;32m    134\u001b[0m \u001b[39m# Send a copy because the user may overwrite it.\u001b[39;00m\n\u001b[0;32m    135\u001b[0m \u001b[39m# Overwriting results in undefined behaviour because\u001b[39;00m\n\u001b[0;32m    136\u001b[0m \u001b[39m# fun(self.x) will change self.x, with the two no longer linked.\u001b[39;00m\n\u001b[1;32m--> 137\u001b[0m fx \u001b[39m=\u001b[39m fun(np\u001b[39m.\u001b[39;49mcopy(x), \u001b[39m*\u001b[39;49margs)\n\u001b[0;32m    138\u001b[0m \u001b[39m# Make sure the function returns a true scalar\u001b[39;00m\n\u001b[0;32m    139\u001b[0m \u001b[39mif\u001b[39;00m \u001b[39mnot\u001b[39;00m np\u001b[39m.\u001b[39misscalar(fx):\n",
      "File \u001b[1;32mc:\\Users\\vkt823\\Introprog\\My-repository\\Assignments - Own attempt\\Assignment 3\\estimation.py:41\u001b[0m, in \u001b[0;36mestimate.<locals>.<lambda>\u001b[1;34m(theta)\u001b[0m\n\u001b[0;32m     36\u001b[0m N \u001b[39m=\u001b[39m y\u001b[39m.\u001b[39msize\n\u001b[0;32m     38\u001b[0m \u001b[39m# The objective function is the average of q(), \u001b[39;00m\n\u001b[0;32m     39\u001b[0m \u001b[39m# but Q is only a function of one variable, theta, \u001b[39;00m\n\u001b[0;32m     40\u001b[0m \u001b[39m# which is what minimize() will expect\u001b[39;00m\n\u001b[1;32m---> 41\u001b[0m Q \u001b[39m=\u001b[39m \u001b[39mlambda\u001b[39;00m theta: np\u001b[39m.\u001b[39mmean(q(theta, y, x))\n\u001b[0;32m     43\u001b[0m \u001b[39m# call optimizer\u001b[39;00m\n\u001b[0;32m     44\u001b[0m result \u001b[39m=\u001b[39m optimize\u001b[39m.\u001b[39mminimize(Q, theta0, options\u001b[39m=\u001b[39moptions, \u001b[39m*\u001b[39m\u001b[39m*\u001b[39mkwargs)\n",
      "File \u001b[1;32mc:\\Users\\vkt823\\Introprog\\My-repository\\Assignments - Own attempt\\Assignment 3\\clogit_post.py:7\u001b[0m, in \u001b[0;36mq\u001b[1;34m(theta, y, x)\u001b[0m\n\u001b[0;32m      4\u001b[0m \u001b[39mdef\u001b[39;00m \u001b[39mq\u001b[39m(theta, y, x): \n\u001b[0;32m      5\u001b[0m \u001b[39m    \u001b[39m\u001b[39m'''q: Criterion function, passed to estimation.estimate().\u001b[39;00m\n\u001b[0;32m      6\u001b[0m \u001b[39m    '''\u001b[39;00m\n\u001b[1;32m----> 7\u001b[0m     \u001b[39mreturn\u001b[39;00m \u001b[39m-\u001b[39mloglikelihood(theta, y, x)\n",
      "File \u001b[1;32mc:\\Users\\vkt823\\Introprog\\My-repository\\Assignments - Own attempt\\Assignment 3\\clogit_post.py:57\u001b[0m, in \u001b[0;36mloglikelihood\u001b[1;34m(theta, y, x)\u001b[0m\n\u001b[0;32m     47\u001b[0m N,J,K \u001b[39m=\u001b[39m x\u001b[39m.\u001b[39mshape \n\u001b[0;32m     49\u001b[0m \u001b[39m# deterministic utility \u001b[39;00m\n\u001b[0;32m     50\u001b[0m \u001b[39m# v = util(theta, x)\u001b[39;00m\n\u001b[0;32m     51\u001b[0m \n\u001b[1;32m   (...)\u001b[0m\n\u001b[0;32m     55\u001b[0m \u001b[39m# utility at chosen alternative \u001b[39;00m\n\u001b[0;32m     56\u001b[0m \u001b[39m# v_i = v[np.arange(N), y]\u001b[39;00m\n\u001b[1;32m---> 57\u001b[0m ccp \u001b[39m=\u001b[39m choice_prob(theta, x)\n\u001b[0;32m     59\u001b[0m \u001b[39m#np.sum(y, axis = 1)*np.log(ccp)\u001b[39;00m\n\u001b[0;32m     60\u001b[0m \u001b[39m# likelihood \u001b[39;00m\n\u001b[0;32m     61\u001b[0m temp \u001b[39m=\u001b[39m np\u001b[39m.\u001b[39mmultiply(y, np\u001b[39m.\u001b[39mlog(ccp))\n",
      "File \u001b[1;32mc:\\Users\\vkt823\\Introprog\\My-repository\\Assignments - Own attempt\\Assignment 3\\clogit_post.py:81\u001b[0m, in \u001b[0;36mchoice_prob\u001b[1;34m(theta, x)\u001b[0m\n\u001b[0;32m     78\u001b[0m v \u001b[39m=\u001b[39m util(theta, x)\n\u001b[0;32m     80\u001b[0m \u001b[39m# denominator \u001b[39;00m\n\u001b[1;32m---> 81\u001b[0m denom \u001b[39m=\u001b[39m np\u001b[39m.\u001b[39;49mexp(v)\u001b[39m.\u001b[39msum(axis\u001b[39m=\u001b[39m\u001b[39m1\u001b[39m, keepdims\u001b[39m=\u001b[39m\u001b[39mTrue\u001b[39;00m) \u001b[39m# (N,1)\u001b[39;00m\n\u001b[0;32m     83\u001b[0m \u001b[39m# Conditional choice probabilites\u001b[39;00m\n\u001b[0;32m     84\u001b[0m ccp \u001b[39m=\u001b[39m np\u001b[39m.\u001b[39mexp(v) \u001b[39m/\u001b[39m denom\n",
      "\u001b[1;31mTypeError\u001b[0m: loop of ufunc does not support argument 0 of type float which has no callable exp method"
     ]
    }
   ],
   "source": [
    "res = est.estimate(clogit.q, theta0,  y, x)\n",
    "\n",
    "tab = pd.DataFrame({v:res[v] for v in ['theta', 'se', 't']}, index= x_vars)\n",
    "tab"
   ]
  },
  {
   "cell_type": "markdown",
   "metadata": {},
   "source": [
    "# Partial effect"
   ]
  },
  {
   "cell_type": "markdown",
   "metadata": {},
   "source": [
    "Calculate mean of each other explanatory variable"
   ]
  },
  {
   "cell_type": "code",
   "execution_count": 21,
   "metadata": {},
   "outputs": [
    {
     "data": {
      "text/plain": [
       "['logp',\n",
       " 'home',\n",
       " 'cy',\n",
       " 'hp',\n",
       " 'we',\n",
       " 'li',\n",
       " 'MCC',\n",
       " 'VW',\n",
       " 'alfa romeo',\n",
       " 'audi',\n",
       " 'citroen',\n",
       " 'daewoo',\n",
       " 'daf',\n",
       " 'fiat',\n",
       " 'ford',\n",
       " 'honda',\n",
       " 'hyundai',\n",
       " 'innocenti',\n",
       " 'lancia',\n",
       " 'mazda',\n",
       " 'mercedes',\n",
       " 'mitsubishi',\n",
       " 'nissan',\n",
       " 'opel',\n",
       " 'peugeot',\n",
       " 'renault',\n",
       " 'rover',\n",
       " 'saab',\n",
       " 'seat',\n",
       " 'skoda',\n",
       " 'suzuki',\n",
       " 'tal/hillman',\n",
       " 'tal/matra',\n",
       " 'tal/simca',\n",
       " 'tal/sunb',\n",
       " 'talbot',\n",
       " 'toyota',\n",
       " 'volvo']"
      ]
     },
     "execution_count": 21,
     "metadata": {},
     "output_type": "execute_result"
    }
   ],
   "source": [
    "x_vars"
   ]
  },
  {
   "cell_type": "code",
   "execution_count": 35,
   "metadata": {},
   "outputs": [],
   "source": [
    "mean_logp = cars['logp'].mean()\n",
    "mean_cy = cars['cy'].mean()\n",
    "mean_hp = cars['hp'].mean()\n",
    "mean_we = cars['we'].mean()\n",
    "mean_li = cars['li'].mean()"
   ]
  },
  {
   "cell_type": "code",
   "execution_count": 38,
   "metadata": {},
   "outputs": [],
   "source": [
    "x_me = np.array([mean_logp, 0, mean_cy, mean_hp, mean_we, mean_li] + [1] + [0 for i in range(len(x_vars_dummies)-1)])\n",
    "x_me_stacked = np.tile(x_me, (J, 1))\n"
   ]
  },
  {
   "cell_type": "code",
   "execution_count": null,
   "metadata": {},
   "outputs": [],
   "source": [
    "k=1\n",
    "\n",
    "for j in range(J):\n",
    "    x2_me = x_me.copy()\n",
    "    x2me[j,k] = 1\n",
    "\n",
    "    pe_foreign = clogit.choice_prob(thetahat, x2_me) - clogit.choice_prob(thetahat, x2_me)\n"
   ]
  },
  {
   "cell_type": "markdown",
   "metadata": {},
   "source": [
    "# Price Elasticities"
   ]
  },
  {
   "cell_type": "code",
   "execution_count": null,
   "metadata": {},
   "outputs": [
    {
     "name": "stdout",
     "output_type": "stream",
     "text": [
      "Own-price elasticity:  0.0565\n"
     ]
    }
   ],
   "source": [
    "thetahat = res['theta']\n",
    "# Calculate the original choice probabilities using the estimated parameters\n",
    "ccp1 = clogit.choice_prob(thetahat, x)\n",
    "\n",
    "E_own   = np.zeros((N, J))\n",
    "\n",
    "# Due to log price variable being the first element of x_vars, we can use k_price = 0\n",
    "k_price = 0 \n",
    "\n",
    "for j in range(J):\n",
    "    # A. copy \n",
    "    x2 = x.copy()\n",
    "    \n",
    "    # B. increase price just for car j \n",
    "    rel_change_x = 1e-3\n",
    "    x2[:, j, k_price] *= (1.0+rel_change_x)\n",
    "    \n",
    "    # C. evaluate CCPs.  calculate the new choice probabilities with the increased price.\n",
    "    ccp2 = clogit.choice_prob(thetahat, x2)\n",
    "    \n",
    "    # D. percentage change in CCPs \n",
    "    rel_change_y = ccp2 / ccp1 - 1.0 \n",
    "    \n",
    "    # E. elasticities \n",
    "    elasticity = rel_change_y / rel_change_x \n",
    "    \n",
    "    E_own[:, j] = elasticity[:, j]\n",
    "\n",
    "print(f'Own-price elasticity:  {np.mean(E_own).round(4)}')\n",
    "    "
   ]
  },
  {
   "cell_type": "code",
   "execution_count": null,
   "metadata": {},
   "outputs": [
    {
     "name": "stdout",
     "output_type": "stream",
     "text": [
      "Elasticity, Domestic cars:   0.0454\n",
      "Elasticity, Imported cars: 0.0617\n"
     ]
    }
   ],
   "source": [
    "home = 1\n",
    "# Create two indexed, from where idx1 is for domestic cars\n",
    "# and idx0 is for imported cars.\n",
    "idx1 = x[:, :, home]==1\n",
    "idx0 = x[:, :, home]==0 \n",
    "print(f'Elasticity, Domestic cars:   {np.mean(E_own[idx1]).round(4)}')\n",
    "print(f'Elasticity, Imported cars: {np.mean(E_own[idx0]).round(4)}')"
   ]
  }
 ],
 "metadata": {
  "interpreter": {
   "hash": "7d7da66137592ac323fdae235f73f52cf7e1b708075c75a7c5667c329f8e3fd0"
  },
  "kernelspec": {
   "display_name": "Python 3.9.4 64-bit ('py39': conda)",
   "name": "python3"
  },
  "language_info": {
   "codemirror_mode": {
    "name": "ipython",
    "version": 3
   },
   "file_extension": ".py",
   "mimetype": "text/x-python",
   "name": "python",
   "nbconvert_exporter": "python",
   "pygments_lexer": "ipython3",
   "version": "3.11.5"
  }
 },
 "nbformat": 4,
 "nbformat_minor": 4
}
