{
 "cells": [
  {
   "cell_type": "markdown",
   "metadata": {},
   "source": [
    "# Dynamic linear models"
   ]
  },
  {
   "cell_type": "code",
   "execution_count": 1,
   "metadata": {},
   "outputs": [],
   "source": [
    "import numpy as np\n",
    "from numpy import linalg as la\n",
    "import pandas as pd \n",
    "import LinearDynamic as lm\n",
    "from scipy.stats import chi2\n",
    "import seaborn as sns\n",
    "sns.set_theme(); \n",
    "\n",
    "# ignore future warnings\n",
    "import warnings\n",
    "warnings.simplefilter(action='ignore', category=FutureWarning)\n",
    "\n",
    "np.set_printoptions(precision=5)\n",
    "%load_ext autoreload\n",
    "%autoreload 2"
   ]
  },
  {
   "cell_type": "markdown",
   "metadata": {},
   "source": [
    "# Prepare the data\n",
    "\n",
    "In this problem set, we consider the question of state dependence in **firm revenue** ($y$). The data, `cvr_extract.csv`, comes from the Danish register of firms, \"CVR registret\". It can be reconstructed or modified by downloading the tax files from [skst.dk](https://www.sktst.dk/aktuelt/skatteoplysninger-for-selskaber/) and running the notebook `clean_data.ipynb`. \n",
    "\n",
    "**Research question:** Should we provide assistance to firms? If the effects of adverse shocks (such as a pandemic) are very persistent, then we want to provide a safety net for firms. Conversely, if firms just rebound after a shock, that can be a waste of tax funds. \n",
    "\n",
    "The data consists of all firms observed in every year from 2012-2019, which satisfy that the net income (pre-tax) was below 10 mio. DKK. The variables in the data are: \n",
    "\n",
    "  |*Variable*  | *Content* |\n",
    "  |------------| --------------------------------------------|\n",
    "  |`net_inc`          | Net income (`income - deficit`) |\n",
    "  |`taxable_income`          | Income |\n",
    "  |`deficit`          | Losses |\n",
    "  |`tax`          | Tax payment |\n",
    " | `cat`         | A categorical variable, based on the dummies, `dum_X` below |\n",
    "  | `dum_X`          | Dummy for whether the firm's name contains the string `X` (in Danish) |\n",
    "  \n",
    "  The dummies, e.g. `dum_doctor`, are explained below \n",
    "\n",
    "| **Substring** | **If name contains** | \n",
    "| ---- | ------ | \n",
    "| `as` | 'a/s' | \n",
    "| `aps` | 'aps' | \n",
    "| `ivs` | 'ivs' | \n",
    "| `ab` | 'a/b' | \n",
    "| `realestate` | 'ejendom' | \n",
    "| `holding` | 'holding' | \n",
    "| `invest` | 'invest' | \n",
    "| `consult` | 'consult' | \n",
    "| `service` | 'service' | \n",
    "| `dot_dk` | '.dk' | \n",
    "| `doctor` | 'læge' | \n",
    "| `carpenter` | 'tømrer' | \n",
    "| `transport` | 'transport' or 'lastvogn' | \n",
    "| `plumbing` | 'vvs' or 'kloak' | \n",
    "| `import` | 'import' | \n",
    "| `masonry` | 'murer' | \n",
    "| `nielsen` | 'nielsen' | \n",
    "| `sorensen` | 'sørensen' | "
   ]
  },
  {
   "cell_type": "code",
   "execution_count": 2,
   "metadata": {},
   "outputs": [
    {
     "data": {
      "text/html": [
       "<div>\n",
       "<style scoped>\n",
       "    .dataframe tbody tr th:only-of-type {\n",
       "        vertical-align: middle;\n",
       "    }\n",
       "\n",
       "    .dataframe tbody tr th {\n",
       "        vertical-align: top;\n",
       "    }\n",
       "\n",
       "    .dataframe thead th {\n",
       "        text-align: right;\n",
       "    }\n",
       "</style>\n",
       "<table border=\"1\" class=\"dataframe\">\n",
       "  <thead>\n",
       "    <tr style=\"text-align: right;\">\n",
       "      <th></th>\n",
       "      <th>firmid</th>\n",
       "      <th>year</th>\n",
       "      <th>taxable_income</th>\n",
       "      <th>deficit</th>\n",
       "      <th>tax</th>\n",
       "      <th>net_inc</th>\n",
       "      <th>cat</th>\n",
       "      <th>dum_as</th>\n",
       "      <th>dum_aps</th>\n",
       "      <th>dum_ivs</th>\n",
       "      <th>...</th>\n",
       "      <th>dum_dot_dk</th>\n",
       "      <th>dum_doctor</th>\n",
       "      <th>dum_carpenter</th>\n",
       "      <th>dum_transport</th>\n",
       "      <th>dum_plumbing</th>\n",
       "      <th>dum_import</th>\n",
       "      <th>dum_masonry</th>\n",
       "      <th>dum_nielsen</th>\n",
       "      <th>dum_sorensen</th>\n",
       "      <th>dum_cars</th>\n",
       "    </tr>\n",
       "  </thead>\n",
       "  <tbody>\n",
       "    <tr>\n",
       "      <th>80548</th>\n",
       "      <td>10068</td>\n",
       "      <td>2016</td>\n",
       "      <td>-23778.0</td>\n",
       "      <td>0.0</td>\n",
       "      <td>0.0</td>\n",
       "      <td>-23778.0</td>\n",
       "      <td>NaN</td>\n",
       "      <td>0</td>\n",
       "      <td>1</td>\n",
       "      <td>0</td>\n",
       "      <td>...</td>\n",
       "      <td>0</td>\n",
       "      <td>0</td>\n",
       "      <td>0</td>\n",
       "      <td>0</td>\n",
       "      <td>0</td>\n",
       "      <td>0</td>\n",
       "      <td>0</td>\n",
       "      <td>0</td>\n",
       "      <td>0</td>\n",
       "      <td>0</td>\n",
       "    </tr>\n",
       "    <tr>\n",
       "      <th>266724</th>\n",
       "      <td>33340</td>\n",
       "      <td>2016</td>\n",
       "      <td>205354.0</td>\n",
       "      <td>8545.0</td>\n",
       "      <td>45166.0</td>\n",
       "      <td>196809.0</td>\n",
       "      <td>nielsen</td>\n",
       "      <td>0</td>\n",
       "      <td>1</td>\n",
       "      <td>0</td>\n",
       "      <td>...</td>\n",
       "      <td>0</td>\n",
       "      <td>0</td>\n",
       "      <td>0</td>\n",
       "      <td>0</td>\n",
       "      <td>0</td>\n",
       "      <td>0</td>\n",
       "      <td>0</td>\n",
       "      <td>1</td>\n",
       "      <td>0</td>\n",
       "      <td>0</td>\n",
       "    </tr>\n",
       "    <tr>\n",
       "      <th>355876</th>\n",
       "      <td>44484</td>\n",
       "      <td>2016</td>\n",
       "      <td>44642.0</td>\n",
       "      <td>109709.0</td>\n",
       "      <td>9812.0</td>\n",
       "      <td>-65067.0</td>\n",
       "      <td>NaN</td>\n",
       "      <td>0</td>\n",
       "      <td>1</td>\n",
       "      <td>0</td>\n",
       "      <td>...</td>\n",
       "      <td>0</td>\n",
       "      <td>0</td>\n",
       "      <td>0</td>\n",
       "      <td>0</td>\n",
       "      <td>0</td>\n",
       "      <td>0</td>\n",
       "      <td>0</td>\n",
       "      <td>0</td>\n",
       "      <td>0</td>\n",
       "      <td>0</td>\n",
       "    </tr>\n",
       "  </tbody>\n",
       "</table>\n",
       "<p>3 rows × 26 columns</p>\n",
       "</div>"
      ],
      "text/plain": [
       "        firmid  year  taxable_income   deficit      tax   net_inc      cat  \\\n",
       "80548    10068  2016        -23778.0       0.0      0.0  -23778.0      NaN   \n",
       "266724   33340  2016        205354.0    8545.0  45166.0  196809.0  nielsen   \n",
       "355876   44484  2016         44642.0  109709.0   9812.0  -65067.0      NaN   \n",
       "\n",
       "        dum_as  dum_aps  dum_ivs  ...  dum_dot_dk  dum_doctor  dum_carpenter  \\\n",
       "80548        0        1        0  ...           0           0              0   \n",
       "266724       0        1        0  ...           0           0              0   \n",
       "355876       0        1        0  ...           0           0              0   \n",
       "\n",
       "        dum_transport  dum_plumbing  dum_import  dum_masonry  dum_nielsen  \\\n",
       "80548               0             0           0            0            0   \n",
       "266724              0             0           0            0            1   \n",
       "355876              0             0           0            0            0   \n",
       "\n",
       "        dum_sorensen  dum_cars  \n",
       "80548              0         0  \n",
       "266724             0         0  \n",
       "355876             0         0  \n",
       "\n",
       "[3 rows x 26 columns]"
      ]
     },
     "execution_count": 2,
     "metadata": {},
     "output_type": "execute_result"
    }
   ],
   "source": [
    "dat = pd.read_csv('cvr_extract.csv')\n",
    "dat.sample(3)"
   ]
  },
  {
   "cell_type": "markdown",
   "metadata": {},
   "source": [
    "If you'd like a quick summary of your data, panda data frames have useful summary commands"
   ]
  },
  {
   "cell_type": "code",
   "execution_count": 3,
   "metadata": {},
   "outputs": [
    {
     "name": "stdout",
     "output_type": "stream",
     "text": [
      "<class 'pandas.core.frame.DataFrame'>\n",
      "RangeIndex: 519416 entries, 0 to 519415\n",
      "Data columns (total 26 columns):\n",
      " #   Column          Non-Null Count   Dtype  \n",
      "---  ------          --------------   -----  \n",
      " 0   firmid          519416 non-null  int64  \n",
      " 1   year            519416 non-null  int64  \n",
      " 2   taxable_income  519416 non-null  float64\n",
      " 3   deficit         325538 non-null  float64\n",
      " 4   tax             519415 non-null  float64\n",
      " 5   net_inc         519416 non-null  float64\n",
      " 6   cat             206143 non-null  object \n",
      " 7   dum_as          519416 non-null  int64  \n",
      " 8   dum_aps         519416 non-null  int64  \n",
      " 9   dum_ivs         519416 non-null  int64  \n",
      " 10  dum_ab          519416 non-null  int64  \n",
      " 11  dum_realestate  519416 non-null  int64  \n",
      " 12  dum_holding     519416 non-null  int64  \n",
      " 13  dum_invest      519416 non-null  int64  \n",
      " 14  dum_consult     519416 non-null  int64  \n",
      " 15  dum_service     519416 non-null  int64  \n",
      " 16  dum_dot_dk      519416 non-null  int64  \n",
      " 17  dum_doctor      519416 non-null  int64  \n",
      " 18  dum_carpenter   519416 non-null  int64  \n",
      " 19  dum_transport   519416 non-null  int64  \n",
      " 20  dum_plumbing    519416 non-null  int64  \n",
      " 21  dum_import      519416 non-null  int64  \n",
      " 22  dum_masonry     519416 non-null  int64  \n",
      " 23  dum_nielsen     519416 non-null  int64  \n",
      " 24  dum_sorensen    519416 non-null  int64  \n",
      " 25  dum_cars        519416 non-null  int64  \n",
      "dtypes: float64(4), int64(21), object(1)\n",
      "memory usage: 103.0+ MB\n"
     ]
    }
   ],
   "source": [
    "dat.info() # returns number of elements, data type and column name for each column"
   ]
  },
  {
   "cell_type": "code",
   "execution_count": 4,
   "metadata": {},
   "outputs": [
    {
     "data": {
      "text/html": [
       "<div>\n",
       "<style scoped>\n",
       "    .dataframe tbody tr th:only-of-type {\n",
       "        vertical-align: middle;\n",
       "    }\n",
       "\n",
       "    .dataframe tbody tr th {\n",
       "        vertical-align: top;\n",
       "    }\n",
       "\n",
       "    .dataframe thead th {\n",
       "        text-align: right;\n",
       "    }\n",
       "</style>\n",
       "<table border=\"1\" class=\"dataframe\">\n",
       "  <thead>\n",
       "    <tr style=\"text-align: right;\">\n",
       "      <th></th>\n",
       "      <th>firmid</th>\n",
       "      <th>year</th>\n",
       "      <th>taxable_income</th>\n",
       "      <th>deficit</th>\n",
       "      <th>tax</th>\n",
       "      <th>net_inc</th>\n",
       "      <th>dum_as</th>\n",
       "      <th>dum_aps</th>\n",
       "      <th>dum_ivs</th>\n",
       "      <th>dum_ab</th>\n",
       "      <th>...</th>\n",
       "      <th>dum_dot_dk</th>\n",
       "      <th>dum_doctor</th>\n",
       "      <th>dum_carpenter</th>\n",
       "      <th>dum_transport</th>\n",
       "      <th>dum_plumbing</th>\n",
       "      <th>dum_import</th>\n",
       "      <th>dum_masonry</th>\n",
       "      <th>dum_nielsen</th>\n",
       "      <th>dum_sorensen</th>\n",
       "      <th>dum_cars</th>\n",
       "    </tr>\n",
       "  </thead>\n",
       "  <tbody>\n",
       "    <tr>\n",
       "      <th>count</th>\n",
       "      <td>519416.00</td>\n",
       "      <td>519416.00</td>\n",
       "      <td>519416.00</td>\n",
       "      <td>325538.00</td>\n",
       "      <td>519415.00</td>\n",
       "      <td>519416.00</td>\n",
       "      <td>519416.00</td>\n",
       "      <td>519416.00</td>\n",
       "      <td>519416.00</td>\n",
       "      <td>519416.00</td>\n",
       "      <td>...</td>\n",
       "      <td>519416.00</td>\n",
       "      <td>519416.00</td>\n",
       "      <td>519416.00</td>\n",
       "      <td>519416.00</td>\n",
       "      <td>519416.00</td>\n",
       "      <td>519416.00</td>\n",
       "      <td>519416.00</td>\n",
       "      <td>519416.00</td>\n",
       "      <td>519416.0</td>\n",
       "      <td>519416.00</td>\n",
       "    </tr>\n",
       "    <tr>\n",
       "      <th>mean</th>\n",
       "      <td>32463.00</td>\n",
       "      <td>2015.50</td>\n",
       "      <td>117339.59</td>\n",
       "      <td>86276.41</td>\n",
       "      <td>42206.91</td>\n",
       "      <td>63266.85</td>\n",
       "      <td>0.08</td>\n",
       "      <td>0.77</td>\n",
       "      <td>0.00</td>\n",
       "      <td>0.02</td>\n",
       "      <td>...</td>\n",
       "      <td>0.01</td>\n",
       "      <td>0.02</td>\n",
       "      <td>0.01</td>\n",
       "      <td>0.00</td>\n",
       "      <td>0.00</td>\n",
       "      <td>0.00</td>\n",
       "      <td>0.01</td>\n",
       "      <td>0.01</td>\n",
       "      <td>0.0</td>\n",
       "      <td>0.00</td>\n",
       "    </tr>\n",
       "    <tr>\n",
       "      <th>std</th>\n",
       "      <td>18742.83</td>\n",
       "      <td>2.29</td>\n",
       "      <td>733176.06</td>\n",
       "      <td>367100.49</td>\n",
       "      <td>144385.21</td>\n",
       "      <td>765531.91</td>\n",
       "      <td>0.27</td>\n",
       "      <td>0.42</td>\n",
       "      <td>0.01</td>\n",
       "      <td>0.13</td>\n",
       "      <td>...</td>\n",
       "      <td>0.11</td>\n",
       "      <td>0.13</td>\n",
       "      <td>0.08</td>\n",
       "      <td>0.06</td>\n",
       "      <td>0.07</td>\n",
       "      <td>0.03</td>\n",
       "      <td>0.07</td>\n",
       "      <td>0.10</td>\n",
       "      <td>0.0</td>\n",
       "      <td>0.06</td>\n",
       "    </tr>\n",
       "    <tr>\n",
       "      <th>min</th>\n",
       "      <td>0.00</td>\n",
       "      <td>2012.00</td>\n",
       "      <td>-9922979.00</td>\n",
       "      <td>0.00</td>\n",
       "      <td>-46318.00</td>\n",
       "      <td>-9922979.00</td>\n",
       "      <td>0.00</td>\n",
       "      <td>0.00</td>\n",
       "      <td>0.00</td>\n",
       "      <td>0.00</td>\n",
       "      <td>...</td>\n",
       "      <td>0.00</td>\n",
       "      <td>0.00</td>\n",
       "      <td>0.00</td>\n",
       "      <td>0.00</td>\n",
       "      <td>0.00</td>\n",
       "      <td>0.00</td>\n",
       "      <td>0.00</td>\n",
       "      <td>0.00</td>\n",
       "      <td>0.0</td>\n",
       "      <td>0.00</td>\n",
       "    </tr>\n",
       "    <tr>\n",
       "      <th>25%</th>\n",
       "      <td>16231.00</td>\n",
       "      <td>2013.75</td>\n",
       "      <td>-11829.00</td>\n",
       "      <td>0.00</td>\n",
       "      <td>0.00</td>\n",
       "      <td>-56250.00</td>\n",
       "      <td>0.00</td>\n",
       "      <td>1.00</td>\n",
       "      <td>0.00</td>\n",
       "      <td>0.00</td>\n",
       "      <td>...</td>\n",
       "      <td>0.00</td>\n",
       "      <td>0.00</td>\n",
       "      <td>0.00</td>\n",
       "      <td>0.00</td>\n",
       "      <td>0.00</td>\n",
       "      <td>0.00</td>\n",
       "      <td>0.00</td>\n",
       "      <td>0.00</td>\n",
       "      <td>0.0</td>\n",
       "      <td>0.00</td>\n",
       "    </tr>\n",
       "    <tr>\n",
       "      <th>50%</th>\n",
       "      <td>32463.00</td>\n",
       "      <td>2015.50</td>\n",
       "      <td>0.00</td>\n",
       "      <td>0.00</td>\n",
       "      <td>0.00</td>\n",
       "      <td>-4800.00</td>\n",
       "      <td>0.00</td>\n",
       "      <td>1.00</td>\n",
       "      <td>0.00</td>\n",
       "      <td>0.00</td>\n",
       "      <td>...</td>\n",
       "      <td>0.00</td>\n",
       "      <td>0.00</td>\n",
       "      <td>0.00</td>\n",
       "      <td>0.00</td>\n",
       "      <td>0.00</td>\n",
       "      <td>0.00</td>\n",
       "      <td>0.00</td>\n",
       "      <td>0.00</td>\n",
       "      <td>0.0</td>\n",
       "      <td>0.00</td>\n",
       "    </tr>\n",
       "    <tr>\n",
       "      <th>75%</th>\n",
       "      <td>48695.00</td>\n",
       "      <td>2017.25</td>\n",
       "      <td>77523.75</td>\n",
       "      <td>33843.75</td>\n",
       "      <td>17512.00</td>\n",
       "      <td>59509.75</td>\n",
       "      <td>0.00</td>\n",
       "      <td>1.00</td>\n",
       "      <td>0.00</td>\n",
       "      <td>0.00</td>\n",
       "      <td>...</td>\n",
       "      <td>0.00</td>\n",
       "      <td>0.00</td>\n",
       "      <td>0.00</td>\n",
       "      <td>0.00</td>\n",
       "      <td>0.00</td>\n",
       "      <td>0.00</td>\n",
       "      <td>0.00</td>\n",
       "      <td>0.00</td>\n",
       "      <td>0.0</td>\n",
       "      <td>0.00</td>\n",
       "    </tr>\n",
       "    <tr>\n",
       "      <th>max</th>\n",
       "      <td>64926.00</td>\n",
       "      <td>2019.00</td>\n",
       "      <td>14833306.00</td>\n",
       "      <td>17147427.00</td>\n",
       "      <td>3187492.00</td>\n",
       "      <td>9987792.00</td>\n",
       "      <td>1.00</td>\n",
       "      <td>1.00</td>\n",
       "      <td>1.00</td>\n",
       "      <td>1.00</td>\n",
       "      <td>...</td>\n",
       "      <td>1.00</td>\n",
       "      <td>1.00</td>\n",
       "      <td>1.00</td>\n",
       "      <td>1.00</td>\n",
       "      <td>1.00</td>\n",
       "      <td>1.00</td>\n",
       "      <td>1.00</td>\n",
       "      <td>1.00</td>\n",
       "      <td>0.0</td>\n",
       "      <td>1.00</td>\n",
       "    </tr>\n",
       "  </tbody>\n",
       "</table>\n",
       "<p>8 rows × 25 columns</p>\n",
       "</div>"
      ],
      "text/plain": [
       "          firmid       year  taxable_income      deficit         tax  \\\n",
       "count  519416.00  519416.00       519416.00    325538.00   519415.00   \n",
       "mean    32463.00    2015.50       117339.59     86276.41    42206.91   \n",
       "std     18742.83       2.29       733176.06    367100.49   144385.21   \n",
       "min         0.00    2012.00     -9922979.00         0.00   -46318.00   \n",
       "25%     16231.00    2013.75       -11829.00         0.00        0.00   \n",
       "50%     32463.00    2015.50            0.00         0.00        0.00   \n",
       "75%     48695.00    2017.25        77523.75     33843.75    17512.00   \n",
       "max     64926.00    2019.00     14833306.00  17147427.00  3187492.00   \n",
       "\n",
       "          net_inc     dum_as    dum_aps    dum_ivs     dum_ab  ...  \\\n",
       "count   519416.00  519416.00  519416.00  519416.00  519416.00  ...   \n",
       "mean     63266.85       0.08       0.77       0.00       0.02  ...   \n",
       "std     765531.91       0.27       0.42       0.01       0.13  ...   \n",
       "min   -9922979.00       0.00       0.00       0.00       0.00  ...   \n",
       "25%     -56250.00       0.00       1.00       0.00       0.00  ...   \n",
       "50%      -4800.00       0.00       1.00       0.00       0.00  ...   \n",
       "75%      59509.75       0.00       1.00       0.00       0.00  ...   \n",
       "max    9987792.00       1.00       1.00       1.00       1.00  ...   \n",
       "\n",
       "       dum_dot_dk  dum_doctor  dum_carpenter  dum_transport  dum_plumbing  \\\n",
       "count   519416.00   519416.00      519416.00      519416.00     519416.00   \n",
       "mean         0.01        0.02           0.01           0.00          0.00   \n",
       "std          0.11        0.13           0.08           0.06          0.07   \n",
       "min          0.00        0.00           0.00           0.00          0.00   \n",
       "25%          0.00        0.00           0.00           0.00          0.00   \n",
       "50%          0.00        0.00           0.00           0.00          0.00   \n",
       "75%          0.00        0.00           0.00           0.00          0.00   \n",
       "max          1.00        1.00           1.00           1.00          1.00   \n",
       "\n",
       "       dum_import  dum_masonry  dum_nielsen  dum_sorensen   dum_cars  \n",
       "count   519416.00    519416.00    519416.00      519416.0  519416.00  \n",
       "mean         0.00         0.01         0.01           0.0       0.00  \n",
       "std          0.03         0.07         0.10           0.0       0.06  \n",
       "min          0.00         0.00         0.00           0.0       0.00  \n",
       "25%          0.00         0.00         0.00           0.0       0.00  \n",
       "50%          0.00         0.00         0.00           0.0       0.00  \n",
       "75%          0.00         0.00         0.00           0.0       0.00  \n",
       "max          1.00         1.00         1.00           0.0       1.00  \n",
       "\n",
       "[8 rows x 25 columns]"
      ]
     },
     "execution_count": 4,
     "metadata": {},
     "output_type": "execute_result"
    }
   ],
   "source": [
    "dat.describe().round(2) # returns a number of summary stats (e.g. mean, max, count etc.) for each column"
   ]
  },
  {
   "cell_type": "code",
   "execution_count": 5,
   "metadata": {},
   "outputs": [
    {
     "name": "stdout",
     "output_type": "stream",
     "text": [
      "\\begin{tabular}{lrrrrrrrrrrrrrrrrrrrrrrrrr}\n",
      "\\toprule\n",
      " & firmid & year & taxable_income & deficit & tax & net_inc & dum_as & dum_aps & dum_ivs & dum_ab & dum_realestate & dum_holding & dum_invest & dum_consult & dum_service & dum_dot_dk & dum_doctor & dum_carpenter & dum_transport & dum_plumbing & dum_import & dum_masonry & dum_nielsen & dum_sorensen & dum_cars \\\\\n",
      "\\midrule\n",
      "count & 519416.000000 & 519416.000000 & 519416.000000 & 325538.000000 & 519415.000000 & 519416.000000 & 519416.000000 & 519416.000000 & 519416.000000 & 519416.000000 & 519416.000000 & 519416.000000 & 519416.000000 & 519416.000000 & 519416.000000 & 519416.000000 & 519416.000000 & 519416.000000 & 519416.000000 & 519416.000000 & 519416.000000 & 519416.000000 & 519416.000000 & 519416.000000 & 519416.000000 \\\\\n",
      "mean & 32463.000000 & 2015.500000 & 117339.590000 & 86276.410000 & 42206.910000 & 63266.850000 & 0.080000 & 0.770000 & 0.000000 & 0.020000 & 0.030000 & 0.230000 & 0.060000 & 0.020000 & 0.010000 & 0.010000 & 0.020000 & 0.010000 & 0.000000 & 0.000000 & 0.000000 & 0.010000 & 0.010000 & 0.000000 & 0.000000 \\\\\n",
      "std & 18742.830000 & 2.290000 & 733176.060000 & 367100.490000 & 144385.210000 & 765531.910000 & 0.270000 & 0.420000 & 0.010000 & 0.130000 & 0.170000 & 0.420000 & 0.240000 & 0.120000 & 0.120000 & 0.110000 & 0.130000 & 0.080000 & 0.060000 & 0.070000 & 0.030000 & 0.070000 & 0.100000 & 0.000000 & 0.060000 \\\\\n",
      "min & 0.000000 & 2012.000000 & -9922979.000000 & 0.000000 & -46318.000000 & -9922979.000000 & 0.000000 & 0.000000 & 0.000000 & 0.000000 & 0.000000 & 0.000000 & 0.000000 & 0.000000 & 0.000000 & 0.000000 & 0.000000 & 0.000000 & 0.000000 & 0.000000 & 0.000000 & 0.000000 & 0.000000 & 0.000000 & 0.000000 \\\\\n",
      "25% & 16231.000000 & 2013.750000 & -11829.000000 & 0.000000 & 0.000000 & -56250.000000 & 0.000000 & 1.000000 & 0.000000 & 0.000000 & 0.000000 & 0.000000 & 0.000000 & 0.000000 & 0.000000 & 0.000000 & 0.000000 & 0.000000 & 0.000000 & 0.000000 & 0.000000 & 0.000000 & 0.000000 & 0.000000 & 0.000000 \\\\\n",
      "50% & 32463.000000 & 2015.500000 & 0.000000 & 0.000000 & 0.000000 & -4800.000000 & 0.000000 & 1.000000 & 0.000000 & 0.000000 & 0.000000 & 0.000000 & 0.000000 & 0.000000 & 0.000000 & 0.000000 & 0.000000 & 0.000000 & 0.000000 & 0.000000 & 0.000000 & 0.000000 & 0.000000 & 0.000000 & 0.000000 \\\\\n",
      "75% & 48695.000000 & 2017.250000 & 77523.750000 & 33843.750000 & 17512.000000 & 59509.750000 & 0.000000 & 1.000000 & 0.000000 & 0.000000 & 0.000000 & 0.000000 & 0.000000 & 0.000000 & 0.000000 & 0.000000 & 0.000000 & 0.000000 & 0.000000 & 0.000000 & 0.000000 & 0.000000 & 0.000000 & 0.000000 & 0.000000 \\\\\n",
      "max & 64926.000000 & 2019.000000 & 14833306.000000 & 17147427.000000 & 3187492.000000 & 9987792.000000 & 1.000000 & 1.000000 & 1.000000 & 1.000000 & 1.000000 & 1.000000 & 1.000000 & 1.000000 & 1.000000 & 1.000000 & 1.000000 & 1.000000 & 1.000000 & 1.000000 & 1.000000 & 1.000000 & 1.000000 & 0.000000 & 1.000000 \\\\\n",
      "\\bottomrule\n",
      "\\end{tabular}\n",
      "\n"
     ]
    }
   ],
   "source": [
    "# print table which can be copied to latex\n",
    "print(dat.describe().round(2).to_latex(escape=False))"
   ]
  },
  {
   "cell_type": "markdown",
   "metadata": {},
   "source": [
    "# Descriptives"
   ]
  },
  {
   "cell_type": "code",
   "execution_count": 6,
   "metadata": {},
   "outputs": [
    {
     "data": {
      "image/png": "[encoded data removed]",
      "text/plain": [
       "<Figure size 640x480 with 1 Axes>"
      ]
     },
     "metadata": {},
     "output_type": "display_data"
    }
   ],
   "source": [
    "ax=dat.groupby('year').net_inc.sum().plot(marker='o'); \n",
    "ax.set_ylabel('Total firm revenue'); "
   ]
  },
  {
   "cell_type": "code",
   "execution_count": 7,
   "metadata": {},
   "outputs": [
    {
     "data": {
      "image/png": "[encoded data removed]",
      "text/plain": [
       "<Figure size 640x480 with 1 Axes>"
      ]
     },
     "metadata": {},
     "output_type": "display_data"
    }
   ],
   "source": [
    "ax = dat.groupby('cat').taxable_income.count().plot(kind='bar'); \n",
    "ax.set_ylabel('Observations'); "
   ]
  },
  {
   "cell_type": "code",
   "execution_count": 8,
   "metadata": {},
   "outputs": [
    {
     "data": {
      "image/png": "[encoded data removed]",
      "text/plain": [
       "<Figure size 640x480 with 1 Axes>"
      ]
     },
     "metadata": {},
     "output_type": "display_data"
    }
   ],
   "source": [
    "ax = dat.groupby('cat').taxable_income.mean().plot(kind='bar'); \n",
    "ax.set_ylabel('Avg. net income'); "
   ]
  },
  {
   "cell_type": "code",
   "execution_count": 9,
   "metadata": {},
   "outputs": [
    {
     "data": {
      "image/png": "[encoded data removed]",
      "text/plain": [
       "<Figure size 640x480 with 1 Axes>"
      ]
     },
     "metadata": {},
     "output_type": "display_data"
    }
   ],
   "source": [
    "ax=dat.groupby(['year', 'cat']).taxable_income.mean().unstack().plot(marker='o'); \n",
    "ax.set_ylabel('Firm profits (avg.)'); \n",
    "ax.legend(title='Firm name contains', loc=(1.05,0.)); "
   ]
  },
  {
   "cell_type": "markdown",
   "metadata": {},
   "source": [
    "# Set up data"
   ]
  },
  {
   "cell_type": "code",
   "execution_count": 10,
   "metadata": {},
   "outputs": [],
   "source": [
    "# Select only firms that are in real estate in all years \n",
    "I = dat.groupby('firmid').dum_realestate.transform('all') #<-- creates an indicator for real estate\n",
    "dat = dat[I].copy() # <-- pulls out real estate firms"
   ]
  },
  {
   "cell_type": "code",
   "execution_count": 11,
   "metadata": {},
   "outputs": [
    {
     "name": "stdout",
     "output_type": "stream",
     "text": [
      "Data has 14,272 rows: N = 1,784, T = 8\n"
     ]
    }
   ],
   "source": [
    "# convenient list of the names of all the dummy variables\n",
    "cols_dum = [c for c in dat.columns if c == 'dum_']\n",
    "\n",
    "# convert int->bool \n",
    "for c in cols_dum: \n",
    "    dat[c] = dat[c].astype('bool')\n",
    "\n",
    "N = dat.firmid.unique().size\n",
    "T = dat.year.unique().size\n",
    "print(f'Data has {dat.shape[0]:,d} rows: N = {N:,d}, T = {T}')"
   ]
  },
  {
   "cell_type": "code",
   "execution_count": 12,
   "metadata": {},
   "outputs": [],
   "source": [
    "# measure money in 1000 DKK \n",
    "for v in ['net_inc', 'taxable_income', 'deficit', 'tax']: \n",
    "    dat[v] = dat[v] / 1000."
   ]
  },
  {
   "cell_type": "code",
   "execution_count": 13,
   "metadata": {},
   "outputs": [],
   "source": [
    "# lag net income using \"shift\" from pandas\n",
    "dat['lag_net_inc']  = dat.groupby('firmid').net_inc.shift(1)\n",
    "dat['lag2_net_inc'] = dat.groupby('firmid').net_inc.shift(2)"
   ]
  },
  {
   "cell_type": "markdown",
   "metadata": {},
   "source": [
    "### Pandas to numpy "
   ]
  },
  {
   "cell_type": "code",
   "execution_count": 14,
   "metadata": {},
   "outputs": [],
   "source": [
    "# remove nans due to differencing\n",
    "I = dat.lag_net_inc.notnull() # cannot use first year: no lagged variable \n",
    "\n",
    "T = dat[I].year.unique().size # NB this measure of T already has one year subtracted \n",
    "N = dat[I].firmid.unique().size\n",
    "\n",
    "assert dat[I].shape[0] == N*T, 'Data is not a balanced panel'"
   ]
  },
  {
   "cell_type": "code",
   "execution_count": 15,
   "metadata": {},
   "outputs": [],
   "source": [
    "# turn panda data frames into numpy arrays\n",
    "y = dat[I].net_inc.values.reshape((-1,1))\n",
    "y_l = dat[I].lag_net_inc.values.reshape((-1,1))\n",
    "\n",
    "const = np.ones((N*T,1))\n",
    "x = np.column_stack((const, y_l))\n",
    "\n",
    "# labels\n",
    "ylbl = 'profit'\n",
    "xlbl = ['const', 'lagged profit']"
   ]
  },
  {
   "cell_type": "markdown",
   "metadata": {},
   "source": [
    "# Part 1: POLS\n",
    "Today we will focus on a parsimonious model of profit $\\pi (econometricians often use \"parsimonious\" to mean a \"simple\"). \n",
    "\n",
    "Consider first the following AR(1) (autoregressive model of order $1$),\n",
    "\n",
    "$$\n",
    "\\pi_{it} = \\alpha_0 +  \\rho \\pi_{it-1} + c_i + u_{it}, \\quad t = 1, 2, \\dotsc, T \\tag{1}\n",
    "$$\n",
    "\n",
    "As we have seen before, if one does not take into consideration $c_i$ when estimating $\\rho$, one will get biased results. One way to solve this, which is also a common way for AR(1) processes, is to take first-differences. We then have the model,\n",
    "\n",
    "$$\n",
    "\\Delta \\pi_{it} = \\rho \\Delta \\pi_{it-1} + \\Delta u_{it}, \\quad t = 2, \\dotsc, T \\tag{2}\n",
    "$$\n",
    "\n",
    "This solves the presence of fixed effects."
   ]
  },
  {
   "cell_type": "markdown",
   "metadata": {},
   "source": [
    "### Question 1.1\n",
    "Estimate eq. (1) using POLS and robust standard errors (you'll need to adjust the `robust` function in `LinearDynamic_ante.py` first.)\n",
    "\n",
    "*Note:* We need to use the lagged values of net income. But this time we don't need to lag it ourselves as it that has already been done above."
   ]
  },
  {
   "cell_type": "code",
   "execution_count": 16,
   "metadata": {},
   "outputs": [
    {
     "name": "stdout",
     "output_type": "stream",
     "text": [
      "AR(1)\n",
      "Dependent variable: profit\n",
      "\n",
      "                 Beta       Se    t-values\n",
      "-------------  ------  -------  ----------\n",
      "const          73.494  7.77624        9.45\n",
      "lagged profit   0.517  0.03473       14.90\n",
      "R² = 0.252\n",
      "σ² = 476937.886\n"
     ]
    }
   ],
   "source": [
    "# Estimate the AR(1) model using OLS and robust standard errors\n",
    "ar1_result = lm.estimate(y, x, robust_se=True, T=T)\n",
    "\n",
    "# Print out in a nice table\n",
    "lm.print_table((ylbl, xlbl), ar1_result, title='AR(1)', floatfmt=['', '.3f', '.5f', '.2f'])"
   ]
  },
  {
   "cell_type": "markdown",
   "metadata": {},
   "source": [
    "Your table should look like this:\n",
    "\n",
    "\n",
    "AR(1)\n",
    "Dependent variable: profit\n",
    "\n",
    "|              |  Beta |     Se|   t-values | \n",
    "|------------- | ------|  -------|  ----------|\n",
    "|const   |       73.494 | 7.77624 |      9.45|\n",
    "|lagged profit |  0.517 | 0.03473  |     14.90| \n",
    "R² = 0.252\n",
    "σ² = 476937.886"
   ]
  },
  {
   "cell_type": "code",
   "execution_count": 17,
   "metadata": {},
   "outputs": [
    {
     "data": {
      "text/html": [
       "<div>\n",
       "<style scoped>\n",
       "    .dataframe tbody tr th:only-of-type {\n",
       "        vertical-align: middle;\n",
       "    }\n",
       "\n",
       "    .dataframe tbody tr th {\n",
       "        vertical-align: top;\n",
       "    }\n",
       "\n",
       "    .dataframe thead th {\n",
       "        text-align: right;\n",
       "    }\n",
       "</style>\n",
       "<table border=\"1\" class=\"dataframe\">\n",
       "  <thead>\n",
       "    <tr style=\"text-align: right;\">\n",
       "      <th></th>\n",
       "      <th>beta</th>\n",
       "      <th>se</th>\n",
       "      <th>t</th>\n",
       "    </tr>\n",
       "  </thead>\n",
       "  <tbody>\n",
       "    <tr>\n",
       "      <th>const</th>\n",
       "      <td>73.49</td>\n",
       "      <td>7.78</td>\n",
       "      <td>9.45</td>\n",
       "    </tr>\n",
       "    <tr>\n",
       "      <th>lagged profit</th>\n",
       "      <td>0.52</td>\n",
       "      <td>0.03</td>\n",
       "      <td>14.90</td>\n",
       "    </tr>\n",
       "  </tbody>\n",
       "</table>\n",
       "</div>"
      ],
      "text/plain": [
       "                beta    se      t\n",
       "const          73.49  7.78   9.45\n",
       "lagged profit   0.52  0.03  14.90"
      ]
     },
     "execution_count": 17,
     "metadata": {},
     "output_type": "execute_result"
    }
   ],
   "source": [
    "# in case you want results in a panda data frame\n",
    "ar1_res=pd.DataFrame([ar1_result['b_hat'].flatten(), ar1_result['se'].flatten(),ar1_result['t_values'].flatten()], \n",
    "             index=['beta', 'se', 't'], columns=xlbl).T\n",
    "ar1_res.round(2)\n"
   ]
  },
  {
   "cell_type": "code",
   "execution_count": 18,
   "metadata": {},
   "outputs": [
    {
     "data": {
      "text/plain": [
       "'\\\\begin{tabular}{lrrr}\\n & beta & se & t \\\\\\\\\\nconst & 73.490000 & 7.780000 & 9.450000 \\\\\\\\\\nlagged profit & 0.520000 & 0.030000 & 14.900000 \\\\\\\\\\n\\\\end{tabular}\\n'"
      ]
     },
     "execution_count": 18,
     "metadata": {},
     "output_type": "execute_result"
    }
   ],
   "source": [
    "# or as a latex table\n",
    "(ar1_res.round(2)).style.to_latex()\n"
   ]
  },
  {
   "cell_type": "markdown",
   "metadata": {},
   "source": [
    "Questions:\n",
    "* Are there signs of autocorrelation in profit?\n",
    "* What assumptions are no longer satisfied? What happens with fixed effects when we include a lag?"
   ]
  },
  {
   "cell_type": "markdown",
   "metadata": {},
   "source": [
    "### Question 1.2\n",
    "Estimate eq. (2) using first differences. \n",
    "* What problem does this solve? \n",
    "* What type of exogeneity assumption is used to justify this method of estimation?\n",
    "\n",
    "*Note 1:* You have to create the first differencing matrix yourself, and use the `perm` function to permutate the dependen and independent variables. <br>\n",
    "*Note 2:* Use robust standard errors. "
   ]
  },
  {
   "cell_type": "code",
   "execution_count": 19,
   "metadata": {},
   "outputs": [],
   "source": [
    "# Create a first difference matrix\n",
    "def fd(t):\n",
    "    # Create a first difference matrix.\n",
    "    D_t = np.eye(t, k=1) - np.eye(t)\n",
    "    # We also remove the last row, so that we delete the first observation.\n",
    "    return D_t[:-1]\n",
    "D_t = fd(T)"
   ]
  },
  {
   "cell_type": "code",
   "execution_count": 20,
   "metadata": {},
   "outputs": [],
   "source": [
    "# First difference both pi and lag of pi\n",
    "yfd   = lm.perm(D_t, y)\n",
    "yfd_l = lm.perm(D_t, y_l.reshape(-1, 1))"
   ]
  },
  {
   "cell_type": "code",
   "execution_count": 21,
   "metadata": {},
   "outputs": [
    {
     "name": "stdout",
     "output_type": "stream",
     "text": [
      "FD AR(1)\n",
      "Dependent variable: profit\n",
      "\n",
      "                 Beta      Se    t-values\n",
      "-------------  ------  ------  ----------\n",
      "lagged profit  -0.412  0.0244      -16.89\n",
      "R² = 0.167\n",
      "σ² = 520184.128\n"
     ]
    }
   ],
   "source": [
    "# Estimate AR(1) model using OLS with robust se and print a nice table\n",
    "ar1_diff_result = lm.estimate(yfd, yfd_l, robust_se=True, T=T-1, transform='fd')\n",
    "lm.print_table((ylbl, [xlbl[1]]), \n",
    "    ar1_diff_result, title='FD AR(1)', floatfmt=['', '.3f', '.4f', '.2f'])"
   ]
  },
  {
   "cell_type": "markdown",
   "metadata": {},
   "source": [
    "Your table should look like this:\n",
    "\n",
    "FD AR(1) <br>\n",
    "Dependent variable: profit\n",
    "\n",
    "|              |   Beta |     Se |   t-values |\n",
    "|------------- | ------ | ------ | ---------- |\n",
    "|lagged profit | -0.412 | 0.0244 |     -16.89 |\n",
    "R² = 0.167\n",
    "σ² = 520184.128"
   ]
  },
  {
   "cell_type": "markdown",
   "metadata": {},
   "source": [
    "## Super short introduction to pooled IV (piv)\n",
    "\n",
    "Suppose we want to estimate the effect of $x_K$ on $y$, conditional on $K - 1$ other controls, we then have the usual equation,\n",
    "\n",
    "$$\n",
    "\\mathbf{y} = \\mathbf{X} \\boldsymbol{\\beta} + \\mathbf{u} \\tag{3}\n",
    "$$\n",
    "\n",
    "where $\\mathbf{X} = (\\mathbf{x}_1, \\dotsc, \\mathbf{x}_K)$. If $\\mathbf{x}_K$ is not exogenous, we can define the instrument vector $\\mathbf{Z} = (\\mathbf{x}_1, \\dotsc, \\mathbf{x}_{K - 1}, \\mathbf{z}_1)$, where $\\mathbf{z}_1$ is an instrument for $\\mathbf{x}_K$. The details and necessary assumptions and conditions are outlined in Wooldridge (2010) (chapter 5).\n",
    "\n",
    "We can estimate eq. (3) by OLS using $z_1$ as an instrument for $x_K$, in order to make it easier for you when writing code, I write it up in matrix notation,\n",
    "\n",
    "$$\n",
    "\\boldsymbol{\\hat{\\beta}} = (\\hat{\\mathbf{X}}'\\hat{\\mathbf{X}})^{-1} \\hat{\\mathbf{X}}'\\mathbf{Y}, \\tag{4}\n",
    "$$\n",
    "\n",
    "where $\\mathbf{\\hat{X}} = \\mathbf{Z}(\\mathbf{Z'}\\mathbf{Z})^{-1}\\mathbf{Z'}\\mathbf{X}$."
   ]
  },
  {
   "cell_type": "markdown",
   "metadata": {},
   "source": [
    "# Part 2: Pooled IV\n",
    "It should not be a surprise that models (1) and (2) violate the strict exegoneity assumption but even if we relax this assumption to sequential exegoneity, the FD-estimator remains inconsistent.\n",
    "\n",
    "A solution to this is to use an instrument for $\\Delta \\pi_{it-1}$. The biggest issue is to find an instrument that is not only relevant, but also exogenous.\n",
    "\n",
    "We often use an additional lag as instruments. So for $\\Delta \\pi_{it-1}$, we can use $\\pi_{it-2}$. In general, we have all possible lags available as instruments. So for $\\Delta \\pi_{it-1}$ we have, $\n",
    "\\pi_{it-2}^{\\textbf{o}} = (\\pi_{i0}, \\pi_{i1}, \\dotsc \\pi_{it-2})$ available as instruments.\n",
    "\n",
    "*Note:* $R^2$ has no meaning in IV-regressions, you can report it if you want to. But I set it to 0."
   ]
  },
  {
   "cell_type": "markdown",
   "metadata": {},
   "source": [
    "### Question 2.1\n",
    "Estimate eq. (2) by using the lag of the independent variable in levels, $z_{it} = \\pi_{it-2}$ as an instrument. You need to finish writing the `est_piv` function and a part of the `estimate` function in `LinearDynamic_ante`.\n",
    "\n",
    "*Note 1:* In order to create the instrument, you need to create a lag matrix, and use `perm`. <br>\n",
    "*Note 2:* In the `estimate` function, the `variance` function takes $\\mathbf{X}$ as an argument. But we want to pass the `variance` function $\\mathbf{\\hat{X}}$ instead. You will need to adjust the estimate function and est_piv function in LinearDynamic(_ante).py <br>"
   ]
  },
  {
   "cell_type": "code",
   "execution_count": 22,
   "metadata": {},
   "outputs": [],
   "source": [
    "# Create first a lag matrix\n",
    "def lag(t):\n",
    "    # Create a lag matrix.\n",
    "    L_t = np.eye(t, k=-1)\n",
    "    # Again remove the first observation, by removing the first row.\n",
    "    return L_t[1:]\n",
    "L_t = lag(T)"
   ]
  },
  {
   "cell_type": "code",
   "execution_count": 23,
   "metadata": {},
   "outputs": [],
   "source": [
    "# Lag the lagged pi variable\n",
    "# First lag yl, and then use it as an instrument for the lagged differences.\n",
    "y_2l = lm.perm(L_t, y_l.reshape(-1, 1))"
   ]
  },
  {
   "cell_type": "code",
   "execution_count": 24,
   "metadata": {},
   "outputs": [
    {
     "name": "stdout",
     "output_type": "stream",
     "text": [
      "FD-IV AR(1)\n",
      "Dependent variable: profit\n",
      "\n",
      "                 Beta      Se    t-values\n",
      "-------------  ------  ------  ----------\n",
      "lagged profit   0.129  0.0763        1.69\n",
      "R² = nan\n",
      "σ² = 700805.974\n"
     ]
    }
   ],
   "source": [
    "# Estimate using first differences and lagged first differences. Use the 2. lag as instrument.\n",
    "ar1_iv_lvl_result = lm.estimate(yfd, yfd_l, y_2l, robust_se=True, T=T-1)\n",
    "\n",
    "lm.print_table(\n",
    "    (ylbl, [xlbl[1]]), \n",
    "    ar1_iv_lvl_result, title='FD-IV AR(1)', floatfmt=['', '.3f', '.4f', '.2f']\n",
    ")"
   ]
  },
  {
   "cell_type": "markdown",
   "metadata": {},
   "source": [
    "Your table should look like this:\n",
    "\n",
    "FD-IV AR(1) <br>\n",
    "Dependent variable: delta profit\n",
    "\n",
    "|                   |   Beta |     Se |   t-values |\n",
    "|-------------------|--------|--------|------------|\n",
    "| lagged profit     |  0.129 |  0.0763|      1.69 | \n",
    "R² = n.a. <br>\n",
    "σ² = 700805.974"
   ]
  },
  {
   "cell_type": "markdown",
   "metadata": {},
   "source": [
    "### Question 2.2\n",
    "Estimate eq. (2) by using the lag of the independent variable in first differences, $z_{it} = \\Delta \\pi_{it-2}$ as an instrument.\n",
    "\n",
    "*Note 1:* The second lag uses up an extra observation, so you need to shorten both first differenced pi and the 1. first difference lag."
   ]
  },
  {
   "cell_type": "code",
   "execution_count": 25,
   "metadata": {},
   "outputs": [],
   "source": [
    "# Lag the first differenced lag pi variable\n",
    "# do lagging and differencing by panda data frames (instead of perm function)\n",
    "dat['diff_net_inc']      = dat.groupby('firmid').net_inc.diff()\n",
    "dat['lag_diff_net_inc']  = dat.groupby('firmid').diff_net_inc.shift(1)\n",
    "dat['lag2_diff_net_inc'] = dat.groupby('firmid').diff_net_inc.shift(2)"
   ]
  },
  {
   "cell_type": "code",
   "execution_count": 26,
   "metadata": {},
   "outputs": [],
   "source": [
    "# The second lag uses up an extra observation, so you need to shorten both first differenced pi and the 1. first difference lag.\n",
    "# load into numpy\n",
    "I = dat.lag2_diff_net_inc.notnull() # removes years which have become zeros due to differencing\n",
    "yfd    = dat[I].diff_net_inc.values.reshape((-1,1))\n",
    "yfd_l1 = dat[I].lag_diff_net_inc.values.reshape((-1,1))\n",
    "yfd_l2 = dat[I].lag2_diff_net_inc.values.reshape((-1,1))\n",
    "\n",
    "assert (dat.groupby('firmid').year.size() == dat.year.unique().size).all(), 'not balanced'"
   ]
  },
  {
   "cell_type": "code",
   "execution_count": 27,
   "metadata": {},
   "outputs": [
    {
     "name": "stdout",
     "output_type": "stream",
     "text": [
      "FD-IV AR(1)\n",
      "Dependent variable: profit\n",
      "\n",
      "                 Beta      Se    t-values\n",
      "-------------  ------  ------  ----------\n",
      "delta lag y_t  -0.032  0.1371       -0.23\n",
      "R² = nan\n",
      "σ² = 659600.152\n"
     ]
    }
   ],
   "source": [
    "# Estimate using first differences and lagged first differences. Use the 2. first difference lag as instrument.\n",
    "ar1_iv_result = lm.estimate(yfd, yfd_l1, yfd_l2, robust_se=True, T=T-2)\n",
    "\n",
    "lm.print_table((ylbl, ['delta lag y_t']), \n",
    "    ar1_iv_result, title='FD-IV AR(1)', floatfmt=['', '.3f', '.4f', '.2f'])"
   ]
  },
  {
   "cell_type": "markdown",
   "metadata": {},
   "source": [
    "Your table should look like this:\n",
    "FD-IV AR(1) <br>\n",
    "Dependent variable: delta profit\n",
    "\n",
    "|                   |   Beta |     Se |   t-values |\n",
    "|-------------------|--------|--------|------------|\n",
    "| lag delta profit|  -0.032 | 0.1371 |       -0.23 |\n",
    "R² = NaN <br>\n",
    "σ² = 659600.152"
   ]
  },
  {
   "cell_type": "markdown",
   "metadata": {},
   "source": [
    "### Summing up Exercises 1 and 2.\n",
    "\n",
    "First of all, is it more convincing to use $\\pi_{it-2}$ or $\\Delta \\pi_{it-2}$ as an instrument for $\\Delta \\pi_{it-1}$?\n",
    "\n",
    "Then consider how the different models compare to each other. Some questions that you might discuss with your class mates could be:\n",
    "* Which ones do you feel gives most sense from an economic perspective?\n",
    "* Which ones gives most sense from an econometric perspective? \n",
    "* Do you feel that there is conclusive evidence that there is state dependence in profit?"
   ]
  },
  {
   "cell_type": "markdown",
   "metadata": {},
   "source": [
    "## Part 3: GMM"
   ]
  },
  {
   "cell_type": "markdown",
   "metadata": {},
   "source": [
    "### Question 3.1: Create the level instrument matrix $\\mathbf{Z^{\\mathbf{o}}}$\n",
    "\n",
    "The function `sequential_instruments` creates the instrument matrix $\\mathbf{Z^{\\mathbf{o}}}$ using all available lags in **levels** at each time period as instruments, where we start from the second lag of $\\pi$. Note that you will not have one array that looks like $\\mathbf{Z^{\\mathbf{o}}}$, but an array that has something that looks like $\\mathbf{Z^{\\mathbf{o}}}$ for each firm in the data. Since we have seven time periods, and access to $y_{i0}$, you should get six rows of instruments for each firm.\n",
    "$$\n",
    "\\mathbf{Z^{\\mathbf{o}}} = \n",
    "\\begin{bmatrix}\n",
    "    y_{i0} & 0 & 0 & 0 & 0 & 0 & \\cdots & 0 \\\\\n",
    "    0 & y_{i0} & y_{i1} & 0 & 0 & 0 & \\cdots & 0 \\\\\n",
    "    0 & 0 & 0 & y_{i0} & y_{i1} & y_{i2} & \\cdots & 0 \\\\\n",
    "    \\vdots  & \\vdots & \\vdots & \\vdots & \\vdots & \\vdots & \\ddots & \\vdots \\\\\n",
    "    0 & 0 & 0 & 0 & 0 & 0 & \\cdots & \\mathbf{y^o_{it-2}} \\\\\n",
    "\\end{bmatrix}\n",
    ".\n",
    "$$"
   ]
  },
  {
   "cell_type": "markdown",
   "metadata": {},
   "source": [
    "Load data and remove zero columns due to diff and lag"
   ]
  },
  {
   "cell_type": "code",
   "execution_count": 28,
   "metadata": {},
   "outputs": [],
   "source": [
    "I = dat.lag_diff_net_inc.notnull()\n",
    "\n",
    "yfd    = dat[I].diff_net_inc.values.reshape((-1,1))\n",
    "yfd_l  = dat[I].lag_diff_net_inc.values.reshape((-1,1))\n",
    "y_2l   = dat[I].lag2_net_inc.values.reshape((-1,1))\n",
    "years  = dat[I].year.values\n",
    "\n",
    "Y = yfd\n",
    "X = yfd_l"
   ]
  },
  {
   "cell_type": "code",
   "execution_count": 29,
   "metadata": {},
   "outputs": [],
   "source": [
    "def sequential_instruments(x:np.ndarray, T:int):\n",
    "    \"\"\"Takes x, and creates the instrument matrix.\n",
    "\n",
    "    Args:\n",
    "        >> x (np.ndarray): The instrument vector that we will use to create a new\n",
    "        instrument matrix that uses all possible instruments each period.\n",
    "        >> T (int): Number of periods (in the original dataset, before removing\n",
    "        observations to do first differences or lags). \n",
    "\n",
    "    Returns:\n",
    "        np.ndarray: A (n*(T - 1), k*T*(T - 1)/2) matrix, that has for each individual\n",
    "        have used all instruments available each time period.\n",
    "    \"\"\"\n",
    "\n",
    "    n = int(x.shape[0]/(T - 1))\n",
    "    k = x.shape[1]\n",
    "    Z = np.zeros((n*(T - 1), int(k*T*(T - 1) / 2)))\n",
    "\n",
    "    # Loop through all persons, and then loop through their time periods.\n",
    "    # If first time period, use only that as an instrument.\n",
    "    # Second time period, use the first and this time period as instrument, etc. \n",
    "    # Second last time period (T-1)\n",
    "\n",
    "    # Loop over each individual, we take T-1 steps.\n",
    "    for i in range(0, n*(T - 1), T - 1):\n",
    "        # We make some temporary arrays for the current individual\n",
    "        zi = np.zeros((int(k*T*(T - 1) / 2), T - 1))\n",
    "        xi = x[i: i + T - 1]\n",
    "\n",
    "        # j is a help variable on how many instruments we create each period.\n",
    "        # The first period have 1 iv variable, the next have 2, etc.\n",
    "        j = 0\n",
    "        for t in range(1, T):\n",
    "            zi[j: (j + t), t - 1] = xi[:t].reshape(-1, )\n",
    "            j += t\n",
    "        # It was easier to fill the instruments row wise, so we need to transpose\n",
    "        # the individual matrix before we add it to the main matrix.\n",
    "        Z[i: i + T - 1] = zi.T\n",
    "    return Z"
   ]
  },
  {
   "cell_type": "code",
   "execution_count": 30,
   "metadata": {},
   "outputs": [
    {
     "name": "stdout",
     "output_type": "stream",
     "text": [
      "[[-28.187   0.      0.    ...   0.      0.      0.   ]\n",
      " [  0.    -28.187 -62.855 ...   0.      0.      0.   ]\n",
      " [  0.      0.      0.    ...   0.      0.      0.   ]\n",
      " ...\n",
      " [  0.      0.      0.    ...   0.      0.      0.   ]\n",
      " [  0.      0.      0.    ...   0.      0.      0.   ]\n",
      " [  0.      0.      0.    ... 690.033 511.393 585.533]]\n"
     ]
    }
   ],
   "source": [
    "# Create (telescoping) instrument matrix \n",
    "Z = sequential_instruments(y_2l, T)\n",
    "print(Z)"
   ]
  },
  {
   "cell_type": "markdown",
   "metadata": {},
   "source": [
    "##### your instrument matrix should look like this:\n",
    "$$\n",
    "\\begin{bmatrix}\n",
    "-28.187 &  0. &     0.  &  ... &  0.  &    0.  &    0.   \\\\\n",
    " 0.  &  -28.187 & -62.855& ... &  0.   &   0.  &    0.   \\\\\n",
    "  0. &     0.  &    0. &   ... &  0.  &    0.  &    0.   \\\\\n",
    " &&&...&&&\\\\\n",
    "   0.   &   0.   &   0. &   ... &  0.  &    0.  &    0.   \\\\\n",
    "   0.    &  0.  &    0.  &  ...  & 0.    &  0.   &   0.   \\\\\n",
    "   0.  &    0.   &   0.  &  ... & 690.033 & 511.393 &585.533\\\\\n",
    " \\end{bmatrix}\n",
    " $$"
   ]
  },
  {
   "cell_type": "markdown",
   "metadata": {},
   "source": [
    "### Question 3.2: GMM 1-step and 2-step\n",
    "\n",
    "Compute the following quantities: \n",
    "\n",
    "a) the initial weighting matrix, \n",
    "\n",
    "b) the first-step gmm estimator, \n",
    "\n",
    "c) the updated weighting matrix, \n",
    "\n",
    "d) the 2-step gmm estimator,\n",
    "\n",
    "e) the standard errors,\n",
    "\n",
    "f) the Sargent statistic"
   ]
  },
  {
   "cell_type": "markdown",
   "metadata": {},
   "source": [
    "a) Write the initial weighting matrix W used for the 1-step GMM estimator (equivalent to System 2SLS). What is $\\mathbf{W}$'s dimension?\n",
    "\n",
    "\n",
    "$$\\hat{\\mathbf{W}}=(\\mathbf{Z}'\\mathbf{Z})^{-1}$$"
   ]
  },
  {
   "cell_type": "code",
   "execution_count": 31,
   "metadata": {},
   "outputs": [],
   "source": [
    "# Compute the initial weighting matrix \n",
    "W=la.inv(Z.T@Z)"
   ]
  },
  {
   "cell_type": "markdown",
   "metadata": {},
   "source": [
    "b) Compute the first step GMM estimator:\n",
    "\n",
    "$$\\hat{\\boldsymbol{\\beta}}_{GMM}= (\\mathbf{X}'\\mathbf{Z}\\hat{\\mathbf{W}}\\mathbf{Z}'\\mathbf{X})^{-1}\\mathbf{X}'\\mathbf{Z}\\hat{\\mathbf{W}}\\mathbf{Z}'\\mathbf{Y}$$"
   ]
  },
  {
   "cell_type": "code",
   "execution_count": 32,
   "metadata": {},
   "outputs": [
    {
     "name": "stdout",
     "output_type": "stream",
     "text": [
      "beta_gmm= [[-0.02163]]\n"
     ]
    }
   ],
   "source": [
    "# Compute the 2sls estimator (1-step GMM)\n",
    "beta_gmm=la.solve(X.T@Z@W@Z.T@X,X.T@Z@W@Z.T@Y) #la.inv(X.T@Z@W@Z.T@X)@X.T@Z@W@Z.T@Y\n",
    "print(\"beta_gmm=\",beta_gmm)"
   ]
  },
  {
   "cell_type": "markdown",
   "metadata": {},
   "source": [
    "you should get: `beta_gmm=[[-0.02163]]`"
   ]
  },
  {
   "cell_type": "markdown",
   "metadata": {},
   "source": [
    "c) Write the expression for the updated weighting matrix used for 2-step GMM (Arellano Bond). What is the dimension of this matrix?\n",
    "\n",
    "\n",
    "$$\\hat{\\mathbf{W}}^{\\text{opt}}\n",
    "= \\left(\\sum^N_{i=1}\\mathbf{Z}_i'\\hat{\\mathbf{u}}_i\\hat{\\mathbf{u}}_i'\\mathbf{Z}_i \\right)^{-1}$$\n",
    "\n",
    "*Note: there is no $\\frac1N$.*"
   ]
  },
  {
   "cell_type": "code",
   "execution_count": 33,
   "metadata": {},
   "outputs": [],
   "source": [
    "# Compute the updated weighting matrix\n",
    "# you'll need to compute residuals ui_hat\n",
    "res=Y-X@beta_gmm\n",
    "\n",
    "# and use a loop to multiply each individual's Z_i and ui_hat separately\n",
    "S=np.zeros((Z.shape[1],Z.shape[1]))\n",
    "for i in range(N):\n",
    "        idx = slice(i*(T-1), (i + 1)*(T-1)) # rows for individual i \n",
    "        zi = Z[idx]\n",
    "        resi = res[idx]\n",
    "        S += zi.T@(resi@resi.T)@zi\n",
    "W_opt=la.inv(S)"
   ]
  },
  {
   "cell_type": "markdown",
   "metadata": {},
   "source": [
    "d) Compute the second-step GMM estimator using this weighting matrix\n",
    "\n",
    "$$\\hat{\\boldsymbol{\\beta}}_{GMM}^{\\text{opt}}= (\\mathbf{X}'\\mathbf{Z}\\hat{\\mathbf{W}}^{\\text{opt}}\\mathbf{Z}'\\mathbf{X})^{-1}\\mathbf{X}'\\mathbf{Z}\\hat{\\mathbf{W}}^{\\text{opt}}\\mathbf{Z}'\\mathbf{Y}$$"
   ]
  },
  {
   "cell_type": "code",
   "execution_count": 34,
   "metadata": {},
   "outputs": [
    {
     "name": "stdout",
     "output_type": "stream",
     "text": [
      "beta_gmm= [[0.07076]]\n"
     ]
    }
   ],
   "source": [
    "# Compute the 2-step GMM estimator \n",
    "beta_gmm_opt=la.solve(X.T@Z@W_opt@Z.T@X,X.T@Z@W_opt@Z.T@Y) #la.inv(X.T@Z@W@Z.T@X)@X.T@Z@W@Z.T@Y\n",
    "print(\"beta_gmm_opt=\",beta_gmm)"
   ]
  },
  {
   "cell_type": "markdown",
   "metadata": {},
   "source": [
    "You should get: `beta_gmm_opt= [[0.07076]]`"
   ]
  },
  {
   "cell_type": "markdown",
   "metadata": {},
   "source": [
    "e) Compute standard errors: \n",
    "$$\\hat{\\mathbf{V}}(\\hat{\\boldsymbol{\\beta}}_{\\text{GMM}}^{\\text{opt}}) = \\left(\\mathbf{X'}\\mathbf{Z}\\hat{\\mathbf{W}}^{\\text{opt}}\\mathbf{Z}'\\mathbf{X}\\right)^{-1}$$"
   ]
  },
  {
   "cell_type": "code",
   "execution_count": 35,
   "metadata": {},
   "outputs": [
    {
     "name": "stdout",
     "output_type": "stream",
     "text": [
      "se = [0.03733], t = [[1.8954]]\n"
     ]
    }
   ],
   "source": [
    "cov = np.linalg.inv(X.T@Z@W_opt@Z.T@X)\n",
    "se = np.sqrt(np.diag(cov))\n",
    "print(f'se = {se}, t = {beta_gmm/se}')"
   ]
  },
  {
   "cell_type": "markdown",
   "metadata": {},
   "source": [
    "You should get: `se = [0.03733], t = [[1.8954]]`"
   ]
  },
  {
   "cell_type": "markdown",
   "metadata": {},
   "source": [
    "f) Write up the Sargan Test Statistic. What does it provide a test of? What can you conclude from this test?\n",
    "\n",
    "\n",
    "$$\\mathbf{J}=\\hat{\\mathbf{u}}'\\mathbf{Z} \\hat{\\mathbf{W}}^{\\text{opt}} \\mathbf{Z}'\\hat{\\mathbf{u}}$$"
   ]
  },
  {
   "cell_type": "code",
   "execution_count": 36,
   "metadata": {
    "tags": []
   },
   "outputs": [
    {
     "name": "stdout",
     "output_type": "stream",
     "text": [
      "The Sargan test statistic is: 43, with p-value: 0.002.\n"
     ]
    }
   ],
   "source": [
    "#Compute the Sargan Test Stat\n",
    "J = res.T@ Z@ W_opt @Z.T @res\n",
    "\n",
    "# Run test and print results\n",
    "r=Z.shape[1] # number of instruments\n",
    "K=X.shape[1] # number of regressors\n",
    "df=r-K # number of overidentifying restrictions\n",
    "p_val = chi2.sf(J.flatten()[0], df)\n",
    "\n",
    "print(f'The Sargan test statistic is: {J.item():.2g}, with p-value: {p_val:.2g}.')"
   ]
  },
  {
   "cell_type": "markdown",
   "metadata": {},
   "source": [
    "You should get\n",
    "\n",
    "The Sargan test statistic is: 43, with p-value: 0.002."
   ]
  }
 ],
 "metadata": {
  "kernelspec": {
   "display_name": "Python 3 (ipykernel)",
   "language": "python",
   "name": "python3"
  },
  "language_info": {
   "codemirror_mode": {
    "name": "ipython",
    "version": 3
   },
   "file_extension": ".py",
   "mimetype": "text/x-python",
   "name": "python",
   "nbconvert_exporter": "python",
   "pygments_lexer": "ipython3",
   "version": "3.11.4"
  },
  "vscode": {
   "interpreter": {
    "hash": "28b1ca885001685b2bc3a39df2ddd10ef1aa60bad7babe65fad257ff6b65d8b6"
   }
  }
 },
 "nbformat": 4,
 "nbformat_minor": 4
}
