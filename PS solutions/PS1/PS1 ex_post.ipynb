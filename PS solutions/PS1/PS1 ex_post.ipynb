{
 "cells": [
  {
   "cell_type": "markdown",
   "metadata": {},
   "source": [
    "# Week 1 \n",
    "\n",
    "The purpose of this week's excercise is twofold: First, introduce you to Numpy and making you familiar to the library and some of its pitfalls. Secondly, you will use this knowledge to estimate the linear model using OLS."
   ]
  },
  {
   "cell_type": "markdown",
   "metadata": {},
   "source": [
    "## A short introduction to Numpy and Linear Algebra (Linalg)\n",
    "First, import all necessary packages. If you are missing a package, you can either install it through your terminal using pip, or an Anaconda terminal using conda."
   ]
  },
  {
   "cell_type": "code",
   "execution_count": 1,
   "metadata": {},
   "outputs": [],
   "source": [
    "import numpy as np\n",
    "from numpy import linalg as la\n",
    "from numpy import random as random\n",
    "from tabulate import tabulate\n",
    "from matplotlib import pyplot as plt"
   ]
  },
  {
   "cell_type": "markdown",
   "metadata": {},
   "source": [
    "### Entering matrices manually\n",
    "To create a $1\\times9$ *row* vector write,"
   ]
  },
  {
   "cell_type": "code",
   "execution_count": 2,
   "metadata": {},
   "outputs": [
    {
     "name": "stdout",
     "output_type": "stream",
     "text": [
      "[1 2 3 4 5 6 7 8 9]\n"
     ]
    }
   ],
   "source": [
    "row = np.array([1, 2, 3, 4, 5, 6, 7, 8, 9])\n",
    "print(row)"
   ]
  },
  {
   "cell_type": "markdown",
   "metadata": {},
   "source": [
    "To create a $9\\times1$ *column* vector write,"
   ]
  },
  {
   "cell_type": "code",
   "execution_count": 3,
   "metadata": {},
   "outputs": [
    {
     "name": "stdout",
     "output_type": "stream",
     "text": [
      "[[1]\n",
      " [2]\n",
      " [3]\n",
      " [4]\n",
      " [5]\n",
      " [6]\n",
      " [7]\n",
      " [8]\n",
      " [9]]\n"
     ]
    }
   ],
   "source": [
    "col = np.array([[1], [2], [3], [4], [5], [6], [7], [8], [9]])\n",
    "print(col)"
   ]
  },
  {
   "cell_type": "markdown",
   "metadata": {},
   "source": [
    "An easier method is to define a row vector, and transpose it. Notice the double [[]]. Try to see what happens if you transpose a row vector using only []."
   ]
  },
  {
   "cell_type": "code",
   "execution_count": 4,
   "metadata": {},
   "outputs": [
    {
     "name": "stdout",
     "output_type": "stream",
     "text": [
      "[[1]\n",
      " [2]\n",
      " [3]\n",
      " [4]\n",
      " [5]\n",
      " [6]\n",
      " [7]\n",
      " [8]\n",
      " [9]]\n"
     ]
    }
   ],
   "source": [
    "col = np.array([[1, 2, 3, 4, 5, 6, 7, 8, 9]]).T\n",
    "print(col)"
   ]
  },
  {
   "cell_type": "markdown",
   "metadata": {},
   "source": [
    "**A short note on numpy vectors**\n",
    "Numpy does not treat vectors and matrices the same. A *true* numpy vector has the shape (k,), . The shape of a numpy array is an attribute, how do you call this attribute for the `row` and `col` arrays? What is the shape of the `row.T` array? "
   ]
  },
  {
   "cell_type": "code",
   "execution_count": 5,
   "metadata": {},
   "outputs": [
    {
     "name": "stdout",
     "output_type": "stream",
     "text": [
      "(9,)\n",
      "(1, 9)\n",
      "(9, 1)\n"
     ]
    }
   ],
   "source": [
    "# Call the shape attribute for the row and col vars. Check the shape of row.T\n",
    "print(row.shape)\n",
    "print(col.T.shape)\n",
    "print(col.shape)"
   ]
  },
  {
   "cell_type": "markdown",
   "metadata": {},
   "source": [
    "To create a matrix, you combine what you have learned to manually create a $3 \\times 3$ matrix called x, that has the numbers 0 to 8."
   ]
  },
  {
   "cell_type": "code",
   "execution_count": 6,
   "metadata": {},
   "outputs": [
    {
     "name": "stdout",
     "output_type": "stream",
     "text": [
      "[[0 1 2]\n",
      " [3 4 5]\n",
      " [6 7 8]]\n"
     ]
    }
   ],
   "source": [
    "x = np.array([[0, 1, 2], [3, 4, 5], [6, 7, 8]])\n",
    "print(x)"
   ]
  },
  {
   "cell_type": "markdown",
   "metadata": {},
   "source": [
    "Create the same $3 \\times 3$ using `np.arange()` and np.reshape()"
   ]
  },
  {
   "cell_type": "code",
   "execution_count": 7,
   "metadata": {},
   "outputs": [
    {
     "name": "stdout",
     "output_type": "stream",
     "text": [
      "[[0 1 2]\n",
      " [3 4 5]\n",
      " [6 7 8]]\n"
     ]
    }
   ],
   "source": [
    "x = np.arange(9)\n",
    "x = x.reshape(3, 3)\n",
    "print(x)"
   ]
  },
  {
   "cell_type": "markdown",
   "metadata": {},
   "source": [
    "### Matrix calculations \n",
    "There are several types of matrix calculations available to us with the numpy library, and we will introduce some here.\n",
    "\n",
    "For matrix **multiplication** you can for the matrices `a` and `b` use `a@b`, `np.dot(a, b)` or `a.dot(b)`\n",
    "\n",
    "Perform matrix multiplication on the following:\n",
    "- `row`$\\cdot$`row'`, `row'`$\\cdot$`row`, `row`$\\cdot$`row`;\n",
    "- `col`$\\cdot$`col'`, `col'`$\\cdot$`col`, `col`$\\cdot$`col`;\n",
    "- `x`$\\cdot$`x`, `row`$\\cdot$`col'`, `col`$\\cdot$`row'`.\n",
    "\n",
    "Does the `row` vector behave as you would expect?"
   ]
  },
  {
   "cell_type": "code",
   "execution_count": 8,
   "metadata": {},
   "outputs": [
    {
     "name": "stdout",
     "output_type": "stream",
     "text": [
      "285\n",
      "285\n",
      "285\n"
     ]
    }
   ],
   "source": [
    "# The row vector is (9,), and creates a scalar even though you don't transpose.\n",
    "print(row@row.T)\n",
    "print(row.T@row)\n",
    "print(row@row)"
   ]
  },
  {
   "cell_type": "code",
   "execution_count": 9,
   "metadata": {},
   "outputs": [
    {
     "name": "stdout",
     "output_type": "stream",
     "text": [
      "[[ 1  2  3  4  5  6  7  8  9]\n",
      " [ 2  4  6  8 10 12 14 16 18]\n",
      " [ 3  6  9 12 15 18 21 24 27]\n",
      " [ 4  8 12 16 20 24 28 32 36]\n",
      " [ 5 10 15 20 25 30 35 40 45]\n",
      " [ 6 12 18 24 30 36 42 48 54]\n",
      " [ 7 14 21 28 35 42 49 56 63]\n",
      " [ 8 16 24 32 40 48 56 64 72]\n",
      " [ 9 18 27 36 45 54 63 72 81]]\n",
      "[[285]]\n"
     ]
    },
    {
     "ename": "ValueError",
     "evalue": "matmul: Input operand 1 has a mismatch in its core dimension 0, with gufunc signature (n?,k),(k,m?)->(n?,m?) (size 9 is different from 1)",
     "output_type": "error",
     "traceback": [
      "\u001b[1;31m---------------------------------------------------------------------------\u001b[0m",
      "\u001b[1;31mValueError\u001b[0m                                Traceback (most recent call last)",
      "\u001b[1;32mh:\\teaching\\AME\\AME\\Intro\\ex_post.ipynb Cell 18\u001b[0m line \u001b[0;36m4\n\u001b[0;32m      <a href='vscode-notebook-cell:/h%3A/teaching/AME/AME/Intro/ex_post.ipynb#X23sZmlsZQ%3D%3D?line=1'>2</a>\u001b[0m \u001b[39mprint\u001b[39m(col\u001b[39m@col\u001b[39m\u001b[39m.\u001b[39mT)\n\u001b[0;32m      <a href='vscode-notebook-cell:/h%3A/teaching/AME/AME/Intro/ex_post.ipynb#X23sZmlsZQ%3D%3D?line=2'>3</a>\u001b[0m \u001b[39mprint\u001b[39m(col\u001b[39m.\u001b[39mT\u001b[39m@col\u001b[39m)\n\u001b[1;32m----> <a href='vscode-notebook-cell:/h%3A/teaching/AME/AME/Intro/ex_post.ipynb#X23sZmlsZQ%3D%3D?line=3'>4</a>\u001b[0m \u001b[39mprint\u001b[39m(col\u001b[39m@col\u001b[39;49m)\n",
      "\u001b[1;31mValueError\u001b[0m: matmul: Input operand 1 has a mismatch in its core dimension 0, with gufunc signature (n?,k),(k,m?)->(n?,m?) (size 9 is different from 1)"
     ]
    }
   ],
   "source": [
    "# The col vector is (9,1), and behaves as expected. It isn't possible to calculate col@col, because the dimensions don't match.\n",
    "print(col@col.T)\n",
    "print(col.T@col)\n",
    "print(col@col)"
   ]
  },
  {
   "cell_type": "code",
   "execution_count": 10,
   "metadata": {},
   "outputs": [
    {
     "name": "stdout",
     "output_type": "stream",
     "text": [
      "[[ 15  18  21]\n",
      " [ 42  54  66]\n",
      " [ 69  90 111]]\n",
      "[285]\n"
     ]
    },
    {
     "ename": "ValueError",
     "evalue": "matmul: Input operand 1 has a mismatch in its core dimension 0, with gufunc signature (n?,k),(k,m?)->(n?,m?) (size 9 is different from 1)",
     "output_type": "error",
     "traceback": [
      "\u001b[1;31m---------------------------------------------------------------------------\u001b[0m",
      "\u001b[1;31mValueError\u001b[0m                                Traceback (most recent call last)",
      "\u001b[1;32mh:\\teaching\\AME\\AME\\Intro\\ex_post.ipynb Cell 19\u001b[0m line \u001b[0;36m4\n\u001b[0;32m      <a href='vscode-notebook-cell:/h%3A/teaching/AME/AME/Intro/ex_post.ipynb#X24sZmlsZQ%3D%3D?line=1'>2</a>\u001b[0m \u001b[39mprint\u001b[39m(x\u001b[39m@x\u001b[39m)\n\u001b[0;32m      <a href='vscode-notebook-cell:/h%3A/teaching/AME/AME/Intro/ex_post.ipynb#X24sZmlsZQ%3D%3D?line=2'>3</a>\u001b[0m \u001b[39mprint\u001b[39m(row\u001b[39m@col\u001b[39m)\n\u001b[1;32m----> <a href='vscode-notebook-cell:/h%3A/teaching/AME/AME/Intro/ex_post.ipynb#X24sZmlsZQ%3D%3D?line=3'>4</a>\u001b[0m \u001b[39mprint\u001b[39m(col\u001b[39m@row\u001b[39;49m)\n",
      "\u001b[1;31mValueError\u001b[0m: matmul: Input operand 1 has a mismatch in its core dimension 0, with gufunc signature (n?,k),(k,m?)->(n?,m?) (size 9 is different from 1)"
     ]
    }
   ],
   "source": [
    "# The x matrix is (3,3), and behaves as expected. row@col creates a (1,) array. col@row can't be calculated.\n",
    "print(x@x)\n",
    "print(row@col)\n",
    "print(col@row)"
   ]
  },
  {
   "cell_type": "markdown",
   "metadata": {},
   "source": [
    "What happens if you use `*` and `/` operators on the same pairs as above?"
   ]
  },
  {
   "cell_type": "code",
   "execution_count": 11,
   "metadata": {},
   "outputs": [
    {
     "name": "stdout",
     "output_type": "stream",
     "text": [
      "[ 1  4  9 16 25 36 49 64 81]\n",
      "[ 1  4  9 16 25 36 49 64 81]\n",
      "[ 1  4  9 16 25 36 49 64 81]\n",
      "[1. 1. 1. 1. 1. 1. 1. 1. 1.]\n",
      "[1. 1. 1. 1. 1. 1. 1. 1. 1.]\n",
      "[1. 1. 1. 1. 1. 1. 1. 1. 1.]\n"
     ]
    }
   ],
   "source": [
    "# The row vector is (9,), and performs the operation element-wise, returning a (9,) array in all cases.\n",
    "print(row*row.T)\n",
    "print(row.T*row)\n",
    "print(row*row)\n",
    "print(row/row.T)\n",
    "print(row.T/row)\n",
    "print(row/row)"
   ]
  },
  {
   "cell_type": "code",
   "execution_count": 12,
   "metadata": {},
   "outputs": [
    {
     "name": "stdout",
     "output_type": "stream",
     "text": [
      "[[ 1  2  3  4  5  6  7  8  9]\n",
      " [ 2  4  6  8 10 12 14 16 18]\n",
      " [ 3  6  9 12 15 18 21 24 27]\n",
      " [ 4  8 12 16 20 24 28 32 36]\n",
      " [ 5 10 15 20 25 30 35 40 45]\n",
      " [ 6 12 18 24 30 36 42 48 54]\n",
      " [ 7 14 21 28 35 42 49 56 63]\n",
      " [ 8 16 24 32 40 48 56 64 72]\n",
      " [ 9 18 27 36 45 54 63 72 81]]\n",
      "[[ 1  2  3  4  5  6  7  8  9]\n",
      " [ 2  4  6  8 10 12 14 16 18]\n",
      " [ 3  6  9 12 15 18 21 24 27]\n",
      " [ 4  8 12 16 20 24 28 32 36]\n",
      " [ 5 10 15 20 25 30 35 40 45]\n",
      " [ 6 12 18 24 30 36 42 48 54]\n",
      " [ 7 14 21 28 35 42 49 56 63]\n",
      " [ 8 16 24 32 40 48 56 64 72]\n",
      " [ 9 18 27 36 45 54 63 72 81]]\n",
      "[[ 1]\n",
      " [ 4]\n",
      " [ 9]\n",
      " [16]\n",
      " [25]\n",
      " [36]\n",
      " [49]\n",
      " [64]\n",
      " [81]]\n",
      "[[1.         0.5        0.33333333 0.25       0.2        0.16666667\n",
      "  0.14285714 0.125      0.11111111]\n",
      " [2.         1.         0.66666667 0.5        0.4        0.33333333\n",
      "  0.28571429 0.25       0.22222222]\n",
      " [3.         1.5        1.         0.75       0.6        0.5\n",
      "  0.42857143 0.375      0.33333333]\n",
      " [4.         2.         1.33333333 1.         0.8        0.66666667\n",
      "  0.57142857 0.5        0.44444444]\n",
      " [5.         2.5        1.66666667 1.25       1.         0.83333333\n",
      "  0.71428571 0.625      0.55555556]\n",
      " [6.         3.         2.         1.5        1.2        1.\n",
      "  0.85714286 0.75       0.66666667]\n",
      " [7.         3.5        2.33333333 1.75       1.4        1.16666667\n",
      "  1.         0.875      0.77777778]\n",
      " [8.         4.         2.66666667 2.         1.6        1.33333333\n",
      "  1.14285714 1.         0.88888889]\n",
      " [9.         4.5        3.         2.25       1.8        1.5\n",
      "  1.28571429 1.125      1.        ]]\n",
      "[[1.         2.         3.         4.         5.         6.\n",
      "  7.         8.         9.        ]\n",
      " [0.5        1.         1.5        2.         2.5        3.\n",
      "  3.5        4.         4.5       ]\n",
      " [0.33333333 0.66666667 1.         1.33333333 1.66666667 2.\n",
      "  2.33333333 2.66666667 3.        ]\n",
      " [0.25       0.5        0.75       1.         1.25       1.5\n",
      "  1.75       2.         2.25      ]\n",
      " [0.2        0.4        0.6        0.8        1.         1.2\n",
      "  1.4        1.6        1.8       ]\n",
      " [0.16666667 0.33333333 0.5        0.66666667 0.83333333 1.\n",
      "  1.16666667 1.33333333 1.5       ]\n",
      " [0.14285714 0.28571429 0.42857143 0.57142857 0.71428571 0.85714286\n",
      "  1.         1.14285714 1.28571429]\n",
      " [0.125      0.25       0.375      0.5        0.625      0.75\n",
      "  0.875      1.         1.125     ]\n",
      " [0.11111111 0.22222222 0.33333333 0.44444444 0.55555556 0.66666667\n",
      "  0.77777778 0.88888889 1.        ]]\n",
      "[[1.]\n",
      " [1.]\n",
      " [1.]\n",
      " [1.]\n",
      " [1.]\n",
      " [1.]\n",
      " [1.]\n",
      " [1.]\n",
      " [1.]]\n"
     ]
    }
   ],
   "source": [
    "# The col vector is (1,9), and performs broadcasting if the dimensions don't match. \n",
    "# Broadcasting expands the dimensions of the smaller array to match the larger array, and then performs the operation element-wise.\n",
    "# If the dimensions match, it performs the operation element-wise.\n",
    "print(col*col.T)\n",
    "print(col.T*col)\n",
    "print(col*col)\n",
    "print(col/col.T)\n",
    "print(col.T/col)\n",
    "print(col/col)"
   ]
  },
  {
   "cell_type": "code",
   "execution_count": 13,
   "metadata": {},
   "outputs": [
    {
     "name": "stdout",
     "output_type": "stream",
     "text": [
      "[[ 0  1  4]\n",
      " [ 9 16 25]\n",
      " [36 49 64]]\n",
      "[[ 1  2  3  4  5  6  7  8  9]\n",
      " [ 2  4  6  8 10 12 14 16 18]\n",
      " [ 3  6  9 12 15 18 21 24 27]\n",
      " [ 4  8 12 16 20 24 28 32 36]\n",
      " [ 5 10 15 20 25 30 35 40 45]\n",
      " [ 6 12 18 24 30 36 42 48 54]\n",
      " [ 7 14 21 28 35 42 49 56 63]\n",
      " [ 8 16 24 32 40 48 56 64 72]\n",
      " [ 9 18 27 36 45 54 63 72 81]]\n",
      "[[ 1  2  3  4  5  6  7  8  9]\n",
      " [ 2  4  6  8 10 12 14 16 18]\n",
      " [ 3  6  9 12 15 18 21 24 27]\n",
      " [ 4  8 12 16 20 24 28 32 36]\n",
      " [ 5 10 15 20 25 30 35 40 45]\n",
      " [ 6 12 18 24 30 36 42 48 54]\n",
      " [ 7 14 21 28 35 42 49 56 63]\n",
      " [ 8 16 24 32 40 48 56 64 72]\n",
      " [ 9 18 27 36 45 54 63 72 81]]\n",
      "[[nan  1.  1.]\n",
      " [ 1.  1.  1.]\n",
      " [ 1.  1.  1.]]\n",
      "[[1.         2.         3.         4.         5.         6.\n",
      "  7.         8.         9.        ]\n",
      " [0.5        1.         1.5        2.         2.5        3.\n",
      "  3.5        4.         4.5       ]\n",
      " [0.33333333 0.66666667 1.         1.33333333 1.66666667 2.\n",
      "  2.33333333 2.66666667 3.        ]\n",
      " [0.25       0.5        0.75       1.         1.25       1.5\n",
      "  1.75       2.         2.25      ]\n",
      " [0.2        0.4        0.6        0.8        1.         1.2\n",
      "  1.4        1.6        1.8       ]\n",
      " [0.16666667 0.33333333 0.5        0.66666667 0.83333333 1.\n",
      "  1.16666667 1.33333333 1.5       ]\n",
      " [0.14285714 0.28571429 0.42857143 0.57142857 0.71428571 0.85714286\n",
      "  1.         1.14285714 1.28571429]\n",
      " [0.125      0.25       0.375      0.5        0.625      0.75\n",
      "  0.875      1.         1.125     ]\n",
      " [0.11111111 0.22222222 0.33333333 0.44444444 0.55555556 0.66666667\n",
      "  0.77777778 0.88888889 1.        ]]\n",
      "[[1.         0.5        0.33333333 0.25       0.2        0.16666667\n",
      "  0.14285714 0.125      0.11111111]\n",
      " [2.         1.         0.66666667 0.5        0.4        0.33333333\n",
      "  0.28571429 0.25       0.22222222]\n",
      " [3.         1.5        1.         0.75       0.6        0.5\n",
      "  0.42857143 0.375      0.33333333]\n",
      " [4.         2.         1.33333333 1.         0.8        0.66666667\n",
      "  0.57142857 0.5        0.44444444]\n",
      " [5.         2.5        1.66666667 1.25       1.         0.83333333\n",
      "  0.71428571 0.625      0.55555556]\n",
      " [6.         3.         2.         1.5        1.2        1.\n",
      "  0.85714286 0.75       0.66666667]\n",
      " [7.         3.5        2.33333333 1.75       1.4        1.16666667\n",
      "  1.         0.875      0.77777778]\n",
      " [8.         4.         2.66666667 2.         1.6        1.33333333\n",
      "  1.14285714 1.         0.88888889]\n",
      " [9.         4.5        3.         2.25       1.8        1.5\n",
      "  1.28571429 1.125      1.        ]]\n"
     ]
    },
    {
     "name": "stderr",
     "output_type": "stream",
     "text": [
      "C:\\Users\\zbk883\\AppData\\Local\\Temp\\ipykernel_2768\\247176505.py:6: RuntimeWarning: invalid value encountered in divide\n",
      "  print(x/x)\n"
     ]
    }
   ],
   "source": [
    "# The x matrix is (3,3), and performs the operation element-wise, returning a (3,3).\n",
    "# For row@col and col@row the dimensions don't match, so broadcasting is performed.\n",
    "print(x*x)\n",
    "print(row*col)\n",
    "print(col*row)\n",
    "print(x/x)\n",
    "print(row/col)\n",
    "print(col/row)"
   ]
  },
  {
   "cell_type": "markdown",
   "metadata": {},
   "source": [
    "For OLS we need to be able to calculate the inverse. This is done with the `linalg` submodule. Create a new matrix that we can calculate the inverse on. Why can't we take the inverse of `x`?"
   ]
  },
  {
   "cell_type": "code",
   "execution_count": 14,
   "metadata": {},
   "outputs": [],
   "source": [
    "a = np.array([[4, 9], [1, 3]])"
   ]
  },
  {
   "cell_type": "code",
   "execution_count": 15,
   "metadata": {},
   "outputs": [
    {
     "name": "stdout",
     "output_type": "stream",
     "text": [
      "[[ 1.         -3.        ]\n",
      " [-0.33333333  1.33333333]]\n"
     ]
    },
    {
     "ename": "LinAlgError",
     "evalue": "Singular matrix",
     "output_type": "error",
     "traceback": [
      "\u001b[1;31m---------------------------------------------------------------------------\u001b[0m",
      "\u001b[1;31mLinAlgError\u001b[0m                               Traceback (most recent call last)",
      "\u001b[1;32mh:\\teaching\\AME\\AME\\Intro\\ex_post.ipynb Cell 26\u001b[0m line \u001b[0;36m2\n\u001b[0;32m      <a href='vscode-notebook-cell:/h%3A/teaching/AME/AME/Intro/ex_post.ipynb#X34sZmlsZQ%3D%3D?line=0'>1</a>\u001b[0m \u001b[39mprint\u001b[39m(la\u001b[39m.\u001b[39minv(a))\n\u001b[1;32m----> <a href='vscode-notebook-cell:/h%3A/teaching/AME/AME/Intro/ex_post.ipynb#X34sZmlsZQ%3D%3D?line=1'>2</a>\u001b[0m \u001b[39mprint\u001b[39m(la\u001b[39m.\u001b[39;49minv(x)) \u001b[39m# x doesn't have full rank, so it can't be inverted.\u001b[39;00m\n",
      "File \u001b[1;32m<__array_function__ internals>:200\u001b[0m, in \u001b[0;36minv\u001b[1;34m(*args, **kwargs)\u001b[0m\n",
      "File \u001b[1;32mc:\\Users\\zbk883\\AppData\\Local\\anaconda3\\Lib\\site-packages\\numpy\\linalg\\linalg.py:538\u001b[0m, in \u001b[0;36minv\u001b[1;34m(a)\u001b[0m\n\u001b[0;32m    536\u001b[0m signature \u001b[39m=\u001b[39m \u001b[39m'\u001b[39m\u001b[39mD->D\u001b[39m\u001b[39m'\u001b[39m \u001b[39mif\u001b[39;00m isComplexType(t) \u001b[39melse\u001b[39;00m \u001b[39m'\u001b[39m\u001b[39md->d\u001b[39m\u001b[39m'\u001b[39m\n\u001b[0;32m    537\u001b[0m extobj \u001b[39m=\u001b[39m get_linalg_error_extobj(_raise_linalgerror_singular)\n\u001b[1;32m--> 538\u001b[0m ainv \u001b[39m=\u001b[39m _umath_linalg\u001b[39m.\u001b[39;49minv(a, signature\u001b[39m=\u001b[39;49msignature, extobj\u001b[39m=\u001b[39;49mextobj)\n\u001b[0;32m    539\u001b[0m \u001b[39mreturn\u001b[39;00m wrap(ainv\u001b[39m.\u001b[39mastype(result_t, copy\u001b[39m=\u001b[39m\u001b[39mFalse\u001b[39;00m))\n",
      "File \u001b[1;32mc:\\Users\\zbk883\\AppData\\Local\\anaconda3\\Lib\\site-packages\\numpy\\linalg\\linalg.py:89\u001b[0m, in \u001b[0;36m_raise_linalgerror_singular\u001b[1;34m(err, flag)\u001b[0m\n\u001b[0;32m     88\u001b[0m \u001b[39mdef\u001b[39;00m \u001b[39m_raise_linalgerror_singular\u001b[39m(err, flag):\n\u001b[1;32m---> 89\u001b[0m     \u001b[39mraise\u001b[39;00m LinAlgError(\u001b[39m\"\u001b[39m\u001b[39mSingular matrix\u001b[39m\u001b[39m\"\u001b[39m)\n",
      "\u001b[1;31mLinAlgError\u001b[0m: Singular matrix"
     ]
    }
   ],
   "source": [
    "print(la.inv(a))\n",
    "print(la.inv(x)) # x doesn't have full rank, so it can't be inverted."
   ]
  },
  {
   "cell_type": "markdown",
   "metadata": {},
   "source": [
    "What do we normaly need to check before we take the inverse? What `numpy.linalg` method can we use to help us check for this?"
   ]
  },
  {
   "cell_type": "code",
   "execution_count": 16,
   "metadata": {},
   "outputs": [
    {
     "name": "stdout",
     "output_type": "stream",
     "text": [
      "2\n",
      "(array([ 1.33484692e+01, -1.34846923e+00, -1.26963291e-15]), array([[ 0.16476382,  0.79969966,  0.40824829],\n",
      "       [ 0.50577448,  0.10420579, -0.81649658],\n",
      "       [ 0.84678513, -0.59128809,  0.40824829]]))\n",
      "0.0\n"
     ]
    }
   ],
   "source": [
    "print(la.matrix_rank(x)) # Check if rank is full.\n",
    "print(la.eig(x)) # Check if eigenvalues are all non-zero.\n",
    "print(la.det(x)) # Check if determinant is non-zero."
   ]
  },
  {
   "cell_type": "markdown",
   "metadata": {},
   "source": [
    "### Stack vectors or matrices together\n",
    "If you have several 1-D vectors (has the shape (k,)), you can use `np.column_stack()` to get a matrix with the input vectors put together as column.\n",
    "\n",
    "If you have matrices (or arrays) that are multidimensional (have the shape (k, t)), you can use `np.hstack()` (means horizontal stack). This is very useful if you already have a matrix, and you want to add a vector.\n",
    "\n",
    "Try to make a matrix with two `row` vectors, this should give you a $9 \\times 2$ vector.\n",
    "\n",
    "Make a new vector, and add it to the `x` matrix. This should then be a $3 \\times 4$ matrix"
   ]
  },
  {
   "cell_type": "code",
   "execution_count": 17,
   "metadata": {},
   "outputs": [
    {
     "name": "stdout",
     "output_type": "stream",
     "text": [
      "[[1 1]\n",
      " [2 2]\n",
      " [3 3]\n",
      " [4 4]\n",
      " [5 5]\n",
      " [6 6]\n",
      " [7 7]\n",
      " [8 8]\n",
      " [9 9]]\n",
      "[[0 1 2 9]\n",
      " [3 4 5 9]\n",
      " [6 7 8 9]]\n"
     ]
    }
   ],
   "source": [
    "print(np.column_stack((row, row)))\n",
    "print(np.hstack((x, np.array([[9, 9, 9]]).T)))"
   ]
  },
  {
   "cell_type": "markdown",
   "metadata": {},
   "source": [
    "### Other methods that you need to know.\n",
    "The numpy library is vast. Some other methods that are useful are `ones`, `diag`, `diagonal`, `eye`."
   ]
  },
  {
   "cell_type": "markdown",
   "metadata": {},
   "source": [
    "## Exercise 1 - Data generation\n",
    "### 1.1 \n",
    "Create a synthetic dataset with the following characteristics\n",
    "\n",
    "\\begin{align}\n",
    "    y_i &= \\beta_0 + x_{1i}\\beta_1 + x_{2i}\\beta_2 + \\varepsilon_i\n",
    "\\end{align}\n",
    "\n",
    "where $\\beta_0=1$, $\\beta_1 = -0.5$, $\\beta_2 = 2$, $x_{1i} \\sim \\mathcal{N}(0, 4)$, $x_{2i} \\sim \\mathcal{N}(5, 9)$, $\\varepsilon_i \\sim \\mathcal{N}(0, 1)$, and $(x_{1i},x_{2i})$ and $\\varepsilon_i$ are independent, and where $i = 0, ..., 99$. <br>"
   ]
  },
  {
   "cell_type": "code",
   "execution_count": 18,
   "metadata": {},
   "outputs": [
    {
     "name": "stdout",
     "output_type": "stream",
     "text": [
      "(100, 1)\n"
     ]
    }
   ],
   "source": [
    "# Create a seed to always have identical draws.\n",
    "seed = 42\n",
    "# Instance a random number generator using this seed.\n",
    "rng = random.default_rng(seed=seed)\n",
    "n = 100\n",
    "b = np.array([1, -0.5, 2]).reshape(-1, 1)\n",
    "\n",
    "# Make random draws from a normal distribution.\n",
    "def random_draws(n):\n",
    "    x0 = np.ones(n)\n",
    "    x1 = rng.normal(0, 2, n)\n",
    "    x2 = rng.normal(5, 3, n)\n",
    "    eps = rng.normal(0, 1, n).reshape(-1, 1)\n",
    "    \n",
    "    # Stack the single columns into a matrix, \n",
    "    X = np.column_stack((x0, x1, x2))\n",
    "    \n",
    "    return X, eps\n",
    "\n",
    "X, eps = random_draws(n)\n",
    "\n",
    "# Create y using the betas, X and eps.\n",
    "y = X@b + eps\n",
    "\n",
    "# Does y have the dimensions you expect?\n",
    "print(y.shape)"
   ]
  },
  {
   "cell_type": "markdown",
   "metadata": {},
   "source": [
    "### 1.2 \n",
    "Imagine that you had not generated the dataset yourself, but that you were given a similar data set that was already collected (generated) and ready to analyze. What would you observe and not observe in that data set?"
   ]
  },
  {
   "cell_type": "markdown",
   "metadata": {},
   "source": [
    "You would observe y, x1, and x2."
   ]
  },
  {
   "cell_type": "markdown",
   "metadata": {},
   "source": [
    "## Exercise 2 - OLS\n",
    "### 2.1\n",
    "Make sure that you remember the mathematical equation for the OLS estimation, which we will later use to estimate the beta coefficients using date from the previous excercise. <br> \n",
    "**Write out the OLS estimator in matrix form:**\n"
   ]
  },
  {
   "cell_type": "markdown",
   "metadata": {},
   "source": [
    "$$\\boldsymbol{\\hat{\\beta}} = (\\mathbf{X}'\\mathbf{X})^{-1} \\mathbf{X'}\\mathbf{y}$$"
   ]
  },
  {
   "cell_type": "markdown",
   "metadata": {},
   "source": [
    "*Hint: Look it up on p.57 in Wooldridge*"
   ]
  },
  {
   "cell_type": "markdown",
   "metadata": {},
   "source": [
    "### 2.2\n",
    "As you might remember, to perform inference on the OLS estimators, we need to calculate the standard errors for the previously estimates OLS coefficients. Again, make sure you remember its equation, *and write up the OLS standard errors in matrix form:*"
   ]
  },
  {
   "cell_type": "markdown",
   "metadata": {},
   "source": [
    "$\\mathbf{\\widehat{Var(\\boldsymbol{\\hat{\\beta}})}} = \\hat{\\sigma}^2 (\\mathbf{X'}\\mathbf{X)^{-1}}$, for $\\hat{\\sigma}^2 = \\frac{SSR}{N - K}$, <br>\n",
    "\n",
    "where $SSR = \\sum_{i=0}^{N - 1} \\hat{u}^2_i$, $N$ is the number of observations, and $K$ is the number of explanatory variables including the constant."
   ]
  },
  {
   "cell_type": "markdown",
   "metadata": {},
   "source": [
    "*Hint: Look it up on p.60 in Wooldridge* <br>\n",
    "*Hint: Remember that the variance estimate is a function of $\\hat{\\sigma}^2$, which is calculated using SSR*"
   ]
  },
  {
   "cell_type": "markdown",
   "metadata": {},
   "source": [
    "### 2.3\n",
    "Estimate $\\boldsymbol{\\hat{\\beta}}$ from the synthetic data set. Furthermore, calculate standard errors and t-values (assuming that the assumptions of the classical linear regression model are satisfied)."
   ]
  },
  {
   "cell_type": "code",
   "execution_count": 19,
   "metadata": {},
   "outputs": [],
   "source": [
    "def ols_estimation(y, X):\n",
    "    # Make sure that y and X are 2-D.\n",
    "    y = y.reshape(-1, 1)\n",
    "    if len(X.shape)<2:\n",
    "        X = X.reshape(-1, 1)\n",
    "\n",
    "    # Estimate beta\n",
    "    b_hat = la.inv((X.T@X))@(X.T@y)\n",
    "\n",
    "    # Calculate standard errors\n",
    "    residual = y - X@b_hat\n",
    "    sigma = residual.T@residual/(n - b_hat.size)\n",
    "    varb = sigma*la.inv(X.T@X)\n",
    "    se = np.sqrt(varb.diagonal()).reshape(-1, 1)  # The diagonal method returns 1d array.\n",
    "\n",
    "    # Calculate t-values\n",
    "    t_values = b_hat/se\n",
    "    \n",
    "    return b_hat, se, t_values\n",
    "\n",
    "b_hat, se, t_values = ols_estimation(y, X)"
   ]
  },
  {
   "cell_type": "markdown",
   "metadata": {},
   "source": [
    "Python stores vectors as one-dimensional rather than two-dimensional objects. This can sometimes cause havoc when we want to compute matrix products. Compute the outer and inner products of the residuals from above using np.inner() and np.outer(). Compare these with your computed outer and inner products when using matrix multiplication @. When computing outer and inner products of a column vector, a, recall that a'a is the inner product and aa' is the outer product."
   ]
  },
  {
   "cell_type": "code",
   "execution_count": 20,
   "metadata": {},
   "outputs": [
    {
     "name": "stdout",
     "output_type": "stream",
     "text": [
      "res shape:          (100, 1)\n",
      "inner shape:        (100, 100)\n",
      "outer shape:        (100, 100)\n",
      "matmul_inner shape: (1, 1)\n",
      "matmul_outer shape: (100, 100)\n"
     ]
    }
   ],
   "source": [
    "res = y - X@b_hat\n",
    "inner = np.inner(res,res)\n",
    "outer = np.outer(res,res)\n",
    "matmul_inner = res.T@res\n",
    "matmul_outer = res@res.T\n",
    "\n",
    "print('res shape:         ', res.shape)\n",
    "print('inner shape:       ', inner.shape)\n",
    "print('outer shape:       ', outer.shape)\n",
    "print('matmul_inner shape:', matmul_inner.shape)\n",
    "print('matmul_outer shape:', matmul_outer.shape)"
   ]
  },
  {
   "cell_type": "markdown",
   "metadata": {},
   "source": [
    "Now if we flatten the residuals to be stored in Python's default mode (i.e. one-dimensional) what happens?"
   ]
  },
  {
   "cell_type": "code",
   "execution_count": 21,
   "metadata": {},
   "outputs": [
    {
     "name": "stdout",
     "output_type": "stream",
     "text": [
      "res shape:          (100,)\n",
      "inner shape:        ()\n",
      "outer shape:        (100, 100)\n",
      "matmul_inner shape: ()\n",
      "matmul_outer shape: ()\n"
     ]
    }
   ],
   "source": [
    "res = res.flatten()\n",
    "inner = np.inner(res,res)\n",
    "outer = np.outer(res,res)\n",
    "matmul_inner = res.T@res\n",
    "matmul_outer = res@res.T\n",
    "\n",
    "print('res shape:         ', res.shape)\n",
    "print('inner shape:       ', inner.shape)\n",
    "print('outer shape:       ', outer.shape)\n",
    "print('matmul_inner shape:', matmul_inner.shape)\n",
    "print('matmul_outer shape:', matmul_outer.shape)\n",
    "\n",
    "# key: np.inner and np.outer treat vectors as one dimensional i.e. (k,) whilst @ treats vectors as two dimensional matrices (k,1)\n",
    "# be careful to use the right operand when computing inner and outer products :)"
   ]
  },
  {
   "cell_type": "markdown",
   "metadata": {},
   "source": [
    "I have written a code to print a table, using the `tabulate` package. You will need to add the row names for this code to work - each row contains a information about the different coefficients on the explanatory variables."
   ]
  },
  {
   "cell_type": "code",
   "execution_count": 22,
   "metadata": {},
   "outputs": [
    {
     "name": "stdout",
     "output_type": "stream",
     "text": [
      "OLS Estimates:\n",
      "\n",
      "       β      β̂      Se    t-value\n",
      "--  ----  ------  -----  ---------\n",
      "b0   1.0   0.914  0.205        4.4\n",
      "b1  -0.5  -0.505  0.067       -7.5\n",
      "b2   2.0   2.005  0.036       56.4\n"
     ]
    },
    {
     "name": "stderr",
     "output_type": "stream",
     "text": [
      "C:\\Users\\zbk883\\AppData\\Roaming\\Python\\Python311\\site-packages\\tabulate\\__init__.py:108: FutureWarning: elementwise comparison failed; returning scalar instead, but in the future will perform elementwise comparison\n",
      "  or (len(row) >= 2 and row[1] == SEPARATING_LINE)\n"
     ]
    }
   ],
   "source": [
    "def print_table(row_names, b, b_hat, se, t_values):\n",
    "    table = []\n",
    "\n",
    "    # Make a list, where each row contains the estimated and calculated values.\n",
    "    for index, name in enumerate(row_names):\n",
    "        table_row = [\n",
    "            name, b[index], b_hat[index], se[index], t_values[index]\n",
    "        ]\n",
    "        table.append(table_row)\n",
    "\n",
    "    # Print the list using the tabulate class.\n",
    "    headers = ['', '\\u03b2', '\\u03b2\\u0302 ', 'Se', 't-value']\n",
    "    print('OLS Estimates:\\n')\n",
    "    print(tabulate(table, headers, floatfmt=['', '.1f', '.3f', '.3f', '.1f']))\n",
    "    \n",
    "row_names = ['b0', 'b1', 'b2']\n",
    "print_table(row_names, b, b_hat, se, t_values)"
   ]
  },
  {
   "cell_type": "markdown",
   "metadata": {},
   "source": [
    "Alternatively, you can print a table which you can paste straight into latex using the following code. This uses panda data frames  which we'll cover next week."
   ]
  },
  {
   "cell_type": "code",
   "execution_count": 23,
   "metadata": {},
   "outputs": [
    {
     "name": "stdout",
     "output_type": "stream",
     "text": [
      "\\begin{tabular}{lllll}\n",
      "\\toprule\n",
      " & β & β̂ & se & t-values \\\\\n",
      "\\midrule\n",
      "beta1 & [1.] & [0.9136] & [0.2054] & [4.4482] \\\\\n",
      "beta2 & [-0.5] & [-0.5054] & [0.0673] & [-7.5141] \\\\\n",
      "beta3 & [2.] & [2.0047] & [0.0356] & [56.3869] \\\\\n",
      "\\bottomrule\n",
      "\\end{tabular}\n",
      "\n"
     ]
    }
   ],
   "source": [
    "import pandas as pd\n",
    "dat = pd.DataFrame(zip(b,b_hat.round(4),se.round(4),t_values.round(4)))\n",
    "dat.columns = ['\\u03b2','\\u03b2\\u0302','se','t-values']\n",
    "dat.index = ['beta1','beta2','beta3']\n",
    "print(dat.to_latex())"
   ]
  },
  {
   "cell_type": "markdown",
   "metadata": {},
   "source": [
    "## Exercise 3 - a simple Monte Carlo Experiment\n",
    "Carry out a Monte Carlo experiment with $S = 200$ replications and $N = 100$ observations to check if the OLS estimator provides an unbiased estimate of $\\boldsymbol{\\beta}$\n",
    "### 3.1\n",
    "Generate 200 data sets similar to what you did in exercise 1, and estimate $\\boldsymbol{\\beta}$ on each of them."
   ]
  },
  {
   "cell_type": "markdown",
   "metadata": {},
   "source": [
    "*Hint:* Start by making prefilling two arrays using `np.zeros`, one array to store the estimated beta coefficients, and one to store the estimated standard errors. What shape should these arrays have?\n",
    "\n",
    "Then make a loop where each loop makes a random draw, and then estimates on this random draw. And finally stores the estimated coefficients and standard errors."
   ]
  },
  {
   "cell_type": "code",
   "execution_count": 24,
   "metadata": {},
   "outputs": [],
   "source": [
    "# Initialize the variables and lists\n",
    "s = 200\n",
    "n = 100\n",
    "\n",
    "# Allocate memory for arrays to later fill\n",
    "b_coeffs = np.zeros((s, b.size))\n",
    "b_ses = np.zeros((s, b.size))\n",
    "\n",
    "for i in range(s):\n",
    "    # Generate data\n",
    "    X, eps = random_draws(n)\n",
    "    y = X@b + eps\n",
    "\n",
    "    # Estimate coefficients and variance\n",
    "    b_hat, se, t_values = ols_estimation(y, X)\n",
    "\n",
    "    # Store estimates\n",
    "    b_coeffs[i, :] = b_hat.T\n",
    "    b_ses[i, :] = se.T\n",
    "\n",
    "# Make sure that there are no more zeros left in the arrays.\n",
    "assert np.all(b_coeffs) and np.all(b_ses), 'Not all coefficients or standard errors are non-zero.'"
   ]
  },
  {
   "cell_type": "markdown",
   "metadata": {},
   "source": [
    "### 3.2\n",
    "Do the following three calculations:\n",
    "- Calculate the means of the estimates (means across simulations)\n",
    "- Calculate the means of the standard errors (means across simulations)\n",
    "- Calculate the standard error of the MC estimates"
   ]
  },
  {
   "cell_type": "code",
   "execution_count": 25,
   "metadata": {},
   "outputs": [],
   "source": [
    "mean_b_hat = np.mean(b_coeffs, axis=0)\n",
    "mean_b_se = np.mean(b_ses, axis=0)\n",
    "mean_mc_se = np.sqrt((np.sum((b_coeffs - np.mean(b_coeffs, axis=0))*(b_coeffs - np.mean(b_coeffs, axis=0)), axis=0)/(s - 1)))"
   ]
  },
  {
   "cell_type": "code",
   "execution_count": 26,
   "metadata": {},
   "outputs": [
    {
     "name": "stdout",
     "output_type": "stream",
     "text": [
      "[[ 1.  -0.5  2. ]]\n",
      "[ 0.9925581  -0.50040161  1.99899186]\n",
      "[0.19674767 0.05065598 0.03371504]\n",
      "[0.19662749 0.05223633 0.03244893]\n"
     ]
    }
   ],
   "source": [
    "print(b.T)\n",
    "print(mean_b_hat)\n",
    "print(mean_b_se)\n",
    "print(mean_mc_se)"
   ]
  },
  {
   "cell_type": "markdown",
   "metadata": {},
   "source": [
    "### 3.3\n",
    "Draw a histogram for the 200 estimates of $\\beta_1$"
   ]
  },
  {
   "cell_type": "code",
   "execution_count": 27,
   "metadata": {},
   "outputs": [
    {
     "data": {
      "image/png": "[encoded data removed]",
      "text/plain": [
       "<Figure size 640x480 with 1 Axes>"
      ]
     },
     "metadata": {},
     "output_type": "display_data"
    }
   ],
   "source": [
    "# Draw a histogram for the 200 estimates of $\\beta_1$. This can be done using matplotlib with the method `plt.hist()`.\n",
    "# If you use jupyter notebook, include \";\" to force the notebook to not print the return value \n",
    "# (the plt method also returns the two arrays it use to plot the histogram, but we do not always want to see these).\n",
    "plt.hist(b_coeffs[:, 1], bins=20) ;"
   ]
  },
  {
   "cell_type": "code",
   "execution_count": null,
   "metadata": {},
   "outputs": [],
   "source": []
  }
 ],
 "metadata": {
  "kernelspec": {
   "display_name": "Python 3.8.13 ('base')",
   "language": "python",
   "name": "python3"
  },
  "language_info": {
   "codemirror_mode": {
    "name": "ipython",
    "version": 3
   },
   "file_extension": ".py",
   "mimetype": "text/x-python",
   "name": "python",
   "nbconvert_exporter": "python",
   "pygments_lexer": "ipython3",
   "version": "3.11.4"
  },
  "vscode": {
   "interpreter": {
    "hash": "28b1ca885001685b2bc3a39df2ddd10ef1aa60bad7babe65fad257ff6b65d8b6"
   }
  }
 },
 "nbformat": 4,
 "nbformat_minor": 2
}
