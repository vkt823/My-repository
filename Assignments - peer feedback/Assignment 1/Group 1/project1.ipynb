{
 "cells": [
  {
   "cell_type": "markdown",
   "metadata": {},
   "source": [
    "# Project 1 - Production Technology\n",
    "\n",
    "The dataset contains `N = 441` firms observed over `T = 12` years, 1968-1979. There variables are: \n",
    "* `lcap`: Log of capital stock, $k_{it}$ \n",
    "* `lemp`: log of employment, $\\ell_{it}$ \n",
    "* `ldsa`: log of deflated sales, $y_{it}$\n",
    "* `year`: the calendar year of the observation, `year` $ = 1968, ..., 1979$, \n",
    "* `firmid`: anonymized indicator variable for the firm, $i = 1, ..., N$, with $N=441$. "
   ]
  },
  {
   "cell_type": "code",
   "execution_count": 31,
   "metadata": {},
   "outputs": [],
   "source": [
    "import pandas as pd \n",
    "import numpy as np\n",
    "import seaborn as sns\n",
    "import matplotlib.pyplot as plt\n",
    "\n",
    "from numpy import linalg as la\n",
    "from scipy.stats import chi2\n",
    "from tabulate import tabulate\n",
    "\n",
    "\n",
    "# Import this weeks LinearModels.py file\n",
    "import LinearModels as lm\n",
    "\n",
    "#Supress Future Warnings\n",
    "import warnings\n",
    "warnings.simplefilter(action='ignore', category=FutureWarning)\n"
   ]
  },
  {
   "cell_type": "code",
   "execution_count": 32,
   "metadata": {},
   "outputs": [],
   "source": [
    "dat = pd.read_csv('firms.csv')"
   ]
  },
  {
   "cell_type": "code",
   "execution_count": 33,
   "metadata": {},
   "outputs": [
    {
     "data": {
      "text/html": [
       "<div>\n",
       "<style scoped>\n",
       "    .dataframe tbody tr th:only-of-type {\n",
       "        vertical-align: middle;\n",
       "    }\n",
       "\n",
       "    .dataframe tbody tr th {\n",
       "        vertical-align: top;\n",
       "    }\n",
       "\n",
       "    .dataframe thead th {\n",
       "        text-align: right;\n",
       "    }\n",
       "</style>\n",
       "<table border=\"1\" class=\"dataframe\">\n",
       "  <thead>\n",
       "    <tr style=\"text-align: right;\">\n",
       "      <th></th>\n",
       "      <th>firmid</th>\n",
       "      <th>year</th>\n",
       "      <th>lcap</th>\n",
       "      <th>lemp</th>\n",
       "      <th>ldsa</th>\n",
       "    </tr>\n",
       "  </thead>\n",
       "  <tbody>\n",
       "    <tr>\n",
       "      <th>3086</th>\n",
       "      <td>258</td>\n",
       "      <td>1970</td>\n",
       "      <td>1.246196</td>\n",
       "      <td>0.387242</td>\n",
       "      <td>-0.101201</td>\n",
       "    </tr>\n",
       "    <tr>\n",
       "      <th>662</th>\n",
       "      <td>56</td>\n",
       "      <td>1970</td>\n",
       "      <td>1.382703</td>\n",
       "      <td>2.031049</td>\n",
       "      <td>2.173773</td>\n",
       "    </tr>\n",
       "    <tr>\n",
       "      <th>2179</th>\n",
       "      <td>182</td>\n",
       "      <td>1975</td>\n",
       "      <td>0.194555</td>\n",
       "      <td>0.794666</td>\n",
       "      <td>0.465070</td>\n",
       "    </tr>\n",
       "    <tr>\n",
       "      <th>2258</th>\n",
       "      <td>189</td>\n",
       "      <td>1970</td>\n",
       "      <td>-2.295680</td>\n",
       "      <td>-2.451450</td>\n",
       "      <td>-2.295350</td>\n",
       "    </tr>\n",
       "    <tr>\n",
       "      <th>3868</th>\n",
       "      <td>323</td>\n",
       "      <td>1972</td>\n",
       "      <td>-0.151328</td>\n",
       "      <td>0.003701</td>\n",
       "      <td>0.343343</td>\n",
       "    </tr>\n",
       "  </tbody>\n",
       "</table>\n",
       "</div>"
      ],
      "text/plain": [
       "      firmid  year      lcap      lemp      ldsa\n",
       "3086     258  1970  1.246196  0.387242 -0.101201\n",
       "662       56  1970  1.382703  2.031049  2.173773\n",
       "2179     182  1975  0.194555  0.794666  0.465070\n",
       "2258     189  1970 -2.295680 -2.451450 -2.295350\n",
       "3868     323  1972 -0.151328  0.003701  0.343343"
      ]
     },
     "execution_count": 33,
     "metadata": {},
     "output_type": "execute_result"
    }
   ],
   "source": [
    "dat.sample(5)"
   ]
  },
  {
   "cell_type": "markdown",
   "metadata": {},
   "source": [
    "#### We create the dataset 'data' with only the three first years in the time series"
   ]
  },
  {
   "cell_type": "code",
   "execution_count": 34,
   "metadata": {},
   "outputs": [],
   "source": [
    "data = dat.loc[dat['year'] <= 1970]"
   ]
  },
  {
   "cell_type": "code",
   "execution_count": 35,
   "metadata": {},
   "outputs": [
    {
     "data": {
      "text/plain": [
       "array([1968, 1969, 1970])"
      ]
     },
     "execution_count": 35,
     "metadata": {},
     "output_type": "execute_result"
    }
   ],
   "source": [
    "data.year.unique()\n"
   ]
  },
  {
   "cell_type": "markdown",
   "metadata": {},
   "source": [
    "# Descriptives"
   ]
  },
  {
   "cell_type": "code",
   "execution_count": 36,
   "metadata": {},
   "outputs": [
    {
     "data": {
      "text/html": [
       "<div>\n",
       "<style scoped>\n",
       "    .dataframe tbody tr th:only-of-type {\n",
       "        vertical-align: middle;\n",
       "    }\n",
       "\n",
       "    .dataframe tbody tr th {\n",
       "        vertical-align: top;\n",
       "    }\n",
       "\n",
       "    .dataframe thead th {\n",
       "        text-align: right;\n",
       "    }\n",
       "</style>\n",
       "<table border=\"1\" class=\"dataframe\">\n",
       "  <thead>\n",
       "    <tr style=\"text-align: right;\">\n",
       "      <th></th>\n",
       "      <th>firmid</th>\n",
       "      <th>year</th>\n",
       "      <th>lcap</th>\n",
       "      <th>lemp</th>\n",
       "      <th>ldsa</th>\n",
       "    </tr>\n",
       "  </thead>\n",
       "  <tbody>\n",
       "    <tr>\n",
       "      <th>count</th>\n",
       "      <td>1323.000000</td>\n",
       "      <td>1323.000000</td>\n",
       "      <td>1.323000e+03</td>\n",
       "      <td>1.323000e+03</td>\n",
       "      <td>1.323000e+03</td>\n",
       "    </tr>\n",
       "    <tr>\n",
       "      <th>mean</th>\n",
       "      <td>221.000000</td>\n",
       "      <td>1969.000000</td>\n",
       "      <td>-3.432577e-08</td>\n",
       "      <td>5.291005e-09</td>\n",
       "      <td>3.253968e-08</td>\n",
       "    </tr>\n",
       "    <tr>\n",
       "      <th>std</th>\n",
       "      <td>127.353547</td>\n",
       "      <td>0.816805</td>\n",
       "      <td>1.367661e+00</td>\n",
       "      <td>1.212370e+00</td>\n",
       "      <td>1.238870e+00</td>\n",
       "    </tr>\n",
       "    <tr>\n",
       "      <th>min</th>\n",
       "      <td>1.000000</td>\n",
       "      <td>1968.000000</td>\n",
       "      <td>-3.864950e+00</td>\n",
       "      <td>-3.108660e+00</td>\n",
       "      <td>-3.433130e+00</td>\n",
       "    </tr>\n",
       "    <tr>\n",
       "      <th>25%</th>\n",
       "      <td>111.000000</td>\n",
       "      <td>1968.000000</td>\n",
       "      <td>-9.629080e-01</td>\n",
       "      <td>-8.435585e-01</td>\n",
       "      <td>-9.082370e-01</td>\n",
       "    </tr>\n",
       "    <tr>\n",
       "      <th>50%</th>\n",
       "      <td>221.000000</td>\n",
       "      <td>1969.000000</td>\n",
       "      <td>-1.016350e-01</td>\n",
       "      <td>-1.141760e-01</td>\n",
       "      <td>-1.142770e-01</td>\n",
       "    </tr>\n",
       "    <tr>\n",
       "      <th>75%</th>\n",
       "      <td>331.000000</td>\n",
       "      <td>1970.000000</td>\n",
       "      <td>9.708763e-01</td>\n",
       "      <td>8.067791e-01</td>\n",
       "      <td>8.648864e-01</td>\n",
       "    </tr>\n",
       "    <tr>\n",
       "      <th>max</th>\n",
       "      <td>441.000000</td>\n",
       "      <td>1970.000000</td>\n",
       "      <td>3.993508e+00</td>\n",
       "      <td>3.187258e+00</td>\n",
       "      <td>3.418170e+00</td>\n",
       "    </tr>\n",
       "  </tbody>\n",
       "</table>\n",
       "</div>"
      ],
      "text/plain": [
       "            firmid         year          lcap          lemp          ldsa\n",
       "count  1323.000000  1323.000000  1.323000e+03  1.323000e+03  1.323000e+03\n",
       "mean    221.000000  1969.000000 -3.432577e-08  5.291005e-09  3.253968e-08\n",
       "std     127.353547     0.816805  1.367661e+00  1.212370e+00  1.238870e+00\n",
       "min       1.000000  1968.000000 -3.864950e+00 -3.108660e+00 -3.433130e+00\n",
       "25%     111.000000  1968.000000 -9.629080e-01 -8.435585e-01 -9.082370e-01\n",
       "50%     221.000000  1969.000000 -1.016350e-01 -1.141760e-01 -1.142770e-01\n",
       "75%     331.000000  1970.000000  9.708763e-01  8.067791e-01  8.648864e-01\n",
       "max     441.000000  1970.000000  3.993508e+00  3.187258e+00  3.418170e+00"
      ]
     },
     "execution_count": 36,
     "metadata": {},
     "output_type": "execute_result"
    }
   ],
   "source": [
    "data.describe()"
   ]
  },
  {
   "cell_type": "code",
   "execution_count": 37,
   "metadata": {},
   "outputs": [
    {
     "data": {
      "image/png": "[encoded data removed]",
      "text/plain": [
       "<Figure size 432x288 with 4 Axes>"
      ]
     },
     "metadata": {
      "needs_background": "light"
     },
     "output_type": "display_data"
    }
   ],
   "source": [
    "data[['lcap','lemp','ldsa']].hist();"
   ]
  },
  {
   "cell_type": "code",
   "execution_count": 38,
   "metadata": {},
   "outputs": [
    {
     "data": {
      "image/png": "[encoded data removed]",
      "text/plain": [
       "<Figure size 432x288 with 1 Axes>"
      ]
     },
     "metadata": {
      "needs_background": "light"
     },
     "output_type": "display_data"
    }
   ],
   "source": [
    "sns.scatterplot(x='lemp', y='ldsa', data=data); "
   ]
  },
  {
   "cell_type": "markdown",
   "metadata": {},
   "source": [
    "# Converting data to numpy format "
   ]
  },
  {
   "cell_type": "code",
   "execution_count": 39,
   "metadata": {},
   "outputs": [
    {
     "data": {
      "text/plain": [
       "(1323,)"
      ]
     },
     "execution_count": 39,
     "metadata": {},
     "output_type": "execute_result"
    }
   ],
   "source": [
    "data.ldsa.values.shape"
   ]
  },
  {
   "cell_type": "code",
   "execution_count": 40,
   "metadata": {},
   "outputs": [
    {
     "name": "stdout",
     "output_type": "stream",
     "text": [
      "Data has N=441 and T=3\n"
     ]
    }
   ],
   "source": [
    "N = data.firmid.unique().size\n",
    "T = data.year.unique().size\n",
    "assert data.shape[0] == N*T, f'Error: data is not a balanced panel'\n",
    "print(f'Data has N={N} and T={T}')"
   ]
  },
  {
   "cell_type": "markdown",
   "metadata": {},
   "source": [
    "Extract data from `pandas` to `numpy` arrays. "
   ]
  },
  {
   "cell_type": "code",
   "execution_count": 41,
   "metadata": {},
   "outputs": [],
   "source": [
    "y = data.ldsa.values.reshape((N*T,1))\n",
    "\n",
    "ones = np.ones((N*T,1))\n",
    "l = data.lemp.values.reshape((N*T,1))\n",
    "k = data.lcap.values.reshape((N*T,1))\n",
    "x = np.hstack([l, k])\n",
    "#Before the hstack had ones before the l to create a constant\n",
    "#We do not need this constant as the model is with no constant\n",
    "\n",
    "# Lets also make some variable names\n",
    "label_y = 'Log deflated sales'\n",
    "label_x = [ \n",
    "    'ln of employment', \n",
    "    'ln adj. cap. stock',  \n",
    "]"
   ]
  },
  {
   "cell_type": "code",
   "execution_count": 42,
   "metadata": {},
   "outputs": [
    {
     "name": "stdout",
     "output_type": "stream",
     "text": [
      "['ln of employment', 'ln adj. cap. stock']\n",
      "[[-0.242185   0.9986017]\n",
      " [-0.241278   0.9252139]\n",
      " [-0.265134   0.8796163]\n",
      " ...\n",
      " [-1.94421   -1.61839  ]\n",
      " [-1.85658   -1.63503  ]\n",
      " [-1.53894   -1.45489  ]]\n"
     ]
    }
   ],
   "source": [
    "print(label_x)\n",
    "\n",
    "print(x)"
   ]
  },
  {
   "cell_type": "markdown",
   "metadata": {},
   "source": [
    "\n",
    "## We start by estimating using pooled OLS"
   ]
  },
  {
   "cell_type": "code",
   "execution_count": 43,
   "metadata": {},
   "outputs": [
    {
     "name": "stdout",
     "output_type": "stream",
     "text": [
      "ln of employment:  0.6860\n",
      "ln adj. cap. stock:  0.2768\n"
     ]
    }
   ],
   "source": [
    "#Estimate (1) by pooled OLS\n",
    "\n",
    "# Estimate coefficients\n",
    "b_hat = lm.est_ols(y,x)\n",
    "\n",
    "# Print the results\n",
    "for label, b_k in zip(label_x, b_hat):\n",
    "    print(f'{label:16}: {b_k[0]:7.4f}')\n"
   ]
  },
  {
   "cell_type": "markdown",
   "metadata": {},
   "source": [
    "#### Calculate the standard errors of the coefficients."
   ]
  },
  {
   "cell_type": "code",
   "execution_count": 44,
   "metadata": {},
   "outputs": [
    {
     "name": "stdout",
     "output_type": "stream",
     "text": [
      "ln of employment:  0.6860    (0.0194)\n",
      "ln adj. cap. stock:  0.2768    (0.0172)\n"
     ]
    }
   ],
   "source": [
    "# Calculate the residuals\n",
    "resid = y - x @ b_hat\n",
    "\n",
    "# Calculate estimate of variance of residuals\n",
    "SSR = resid.T @ resid\n",
    "K = x.shape[1]\n",
    "sigma = SSR / (N*T - K)\n",
    "\n",
    "# Calculate the variance-covariance matrix\n",
    "cov = sigma * la.inv(x.T @ x)\n",
    "\n",
    "# Calculate the standard errors \n",
    "# Make sure to output the result in a vector\n",
    "se = np.sqrt(np.diag(cov)).reshape(-1,1)\n",
    "\n",
    "#Print results\n",
    "for label, b_k, se_k in zip(label_x, b_hat, se):\n",
    "    print(f'{label:16}: {b_k[0]:7.4f}    ({se_k[0]:6.4f})')\n",
    "    "
   ]
  },
  {
   "cell_type": "code",
   "execution_count": 45,
   "metadata": {},
   "outputs": [
    {
     "name": "stdout",
     "output_type": "stream",
     "text": [
      "[[-0.242185  -0.241278  -0.265134  ... -1.94421   -1.85658   -1.53894  ]\n",
      " [ 0.9986017  0.9252139  0.8796163 ... -1.61839   -1.63503   -1.45489  ]]\n"
     ]
    }
   ],
   "source": [
    "cov_xc = x.T @ resid\n",
    "print(x.T)"
   ]
  },
  {
   "cell_type": "markdown",
   "metadata": {},
   "source": [
    "#### Estimating the model using OLS"
   ]
  },
  {
   "cell_type": "code",
   "execution_count": 46,
   "metadata": {},
   "outputs": [
    {
     "name": "stdout",
     "output_type": "stream",
     "text": [
      "Pooled OLS\n",
      "Dependent variable: Log deflated sales\n",
      "\n",
      "                      Beta      Se    t-values\n",
      "------------------  ------  ------  ----------\n",
      "ln of employment    0.6860  0.0112     61.1659\n",
      "ln adj. cap. stock  0.2768  0.0099     27.8412\n",
      "R² = 0.917\n",
      "σ² = 0.042\n"
     ]
    }
   ],
   "source": [
    "# Estimate model using OLS\n",
    "ols_result = lm.estimate(y,x, T=T)\n",
    "\n",
    "# Print table\n",
    "lm.print_table((label_y, label_x), ols_result, title=\"Pooled OLS\", floatfmt='.4f')"
   ]
  },
  {
   "cell_type": "markdown",
   "metadata": {},
   "source": [
    "### Estimating our model using Fixed effects\n",
    "\n",
    "Doing the below steps\n",
    "* Create the demeaning matrix Q.\n",
    "* Demean x and y using the `perm` function and Q.\n",
    "* Remove the columns in the demeaned x that are only zeroes and shorten the `label_x`. A function that does this is provided.\n",
    "* Estimate y on x using the demeaned arrays.\n",
    "* Print it out in a nice table."
   ]
  },
  {
   "cell_type": "code",
   "execution_count": 47,
   "metadata": {},
   "outputs": [],
   "source": [
    "def remove_zero_columns(x, label_x):\n",
    "    \"\"\"\n",
    "    The function removes columns from a matrix that are all zeros and returns the updated matrix and\n",
    "    corresponding labels.\n",
    "    \n",
    "    Args:\n",
    "      x: The parameter `x` is a numpy array representing a matrix with columns that may contain zeros.\n",
    "      label_x: The parameter `label_x` is a list that contains the labels for each column in the input\n",
    "    array `x`.\n",
    "    \n",
    "    Returns:\n",
    "      x_nonzero: numpy array of x with columns that are all zeros removed.\n",
    "      label_nonzero: list of labels for each column in x_nonzero.\n",
    "    \"\"\"\n",
    "    \n",
    "    # Find the columns that are not all zeros\n",
    "    nonzero_cols = ~np.all(x == 0, axis=0)\n",
    "    \n",
    "    # Remove the columns that are all zeros\n",
    "    x_nonzero = x[:, nonzero_cols]\n",
    "    \n",
    "    # Get the labels for the columns that are not all zeros\n",
    "    label_nonzero = [label_x[i] for i in range(len(label_x)) if nonzero_cols[i]]\n",
    "    return x_nonzero, label_nonzero"
   ]
  },
  {
   "cell_type": "code",
   "execution_count": 48,
   "metadata": {
    "tags": []
   },
   "outputs": [
    {
     "name": "stdout",
     "output_type": "stream",
     "text": [
      "Fixed Effects\n",
      "Dependent variable: Log deflated sales\n",
      "\n",
      "                      Beta      Se    t-values\n",
      "------------------  ------  ------  ----------\n",
      "ln of employment    0.6004  0.0346     17.3515\n",
      "ln adj. cap. stock  0.0502  0.0382      1.3143\n",
      "R² = 0.284\n",
      "σ² = 0.008\n"
     ]
    }
   ],
   "source": [
    "# Transform the data\n",
    "Q_T = np.eye(T) - np.tile(1/T, (T, T))\n",
    "y_dot = lm.perm(Q_T, y)\n",
    "x_dot = lm.perm(Q_T, x)\n",
    "\n",
    "# Remove the columns that are only zeroes\n",
    "x_dot, label_x_dot = remove_zero_columns(x_dot,label_x)\n",
    "\n",
    "# Estimate \n",
    "fe_result = lm.estimate(y_dot, x_dot, transform='fe', T=T)\n",
    "lm.print_table((label_y, label_x_dot), fe_result, title=\"Fixed Effects\", floatfmt='.4f')"
   ]
  },
  {
   "cell_type": "markdown",
   "metadata": {
    "tags": []
   },
   "source": [
    "### Estimating our model using First differences \n",
    "\n",
    "\n",
    "Following the below steps\n",
    "* Create the first difference matrix D.\n",
    "* First difference x and y using the `perm` function and Q.\n",
    "* Remove the columns in the first differenced x that are only zeroes and shorten the `label_x`.\n",
    "* Estimate y on x using the first differenced arrays.\n",
    "* Print it out in a nice table."
   ]
  },
  {
   "cell_type": "code",
   "execution_count": 49,
   "metadata": {},
   "outputs": [
    {
     "name": "stdout",
     "output_type": "stream",
     "text": [
      "First Difference\n",
      "Dependent variable: Log deflated sales\n",
      "\n",
      "                      Beta      Se    t-values\n",
      "------------------  ------  ------  ----------\n",
      "ln of employment    0.5509  0.0258     21.3367\n",
      "ln adj. cap. stock  0.0381  0.0306      1.2475\n",
      "R² = 0.217\n",
      "σ² = 0.007\n"
     ]
    }
   ],
   "source": [
    "# Create transformation matrix\n",
    "def fd_matrix(T):\n",
    "    D_T = np.eye(T) - np.eye(T, k=-1) #k=-1 betyder vi forskyder til venstre.\n",
    "    D_T = D_T[1:]\n",
    "    return D_T\n",
    "\n",
    "#D_T bliver T-1xT lang da vi fjerner første række (print for at se)\n",
    "#matrice x er TxK\n",
    "#x_diff er T-1xK\n",
    "\n",
    "# Transform the data\n",
    "D_T = fd_matrix(T)\n",
    "y_diff = lm.perm(D_T, y)\n",
    "x_diff = lm.perm(D_T, x)\n",
    "\n",
    "# Remove the columns that are only zeroes\n",
    "x_diff, label_x_diff = remove_zero_columns(x_diff,label_x)\n",
    "\n",
    "# Estimate \n",
    "fd_result = lm.estimate(y_diff, x_diff, transform='fd', T=T-1)\n",
    "lm.print_table((label_y, label_x_diff), fd_result, title=\"First Difference\", floatfmt='.4f')"
   ]
  },
  {
   "cell_type": "markdown",
   "metadata": {
    "tags": []
   },
   "source": [
    "### Estimating our model using Random effects\n",
    "\n"
   ]
  },
  {
   "cell_type": "markdown",
   "metadata": {},
   "source": [
    "##### We will start by estimating the between estimator which will be used later on for the RE estimator (random effects), as the BE estimator is needed to calculate \n",
    "\n",
    "\n",
    "$$\\hat{\\lambda} = 1 - \\sqrt{\\frac{\\widehat{\\sigma}_{u}^{2}}{(\\widehat{\\sigma}_{u}^{2} + T\\widehat{\\sigma}_{c}^{2})}}. $$"
   ]
  },
  {
   "cell_type": "code",
   "execution_count": 50,
   "metadata": {},
   "outputs": [
    {
     "name": "stdout",
     "output_type": "stream",
     "text": [
      "Between Estimator\n",
      "Dependent variable: Log deflated sales\n",
      "\n",
      "                      Beta      Se    t-values\n",
      "------------------  ------  ------  ----------\n",
      "ln of employment    0.6856  0.0333     20.5565\n",
      "ln adj. cap. stock  0.2778  0.0295      9.4042\n",
      "R² = 0.921\n",
      "σ² = 0.122\n"
     ]
    }
   ],
   "source": [
    "# Transform the data\n",
    "\n",
    "P_T = (1/T)*np.ones([1,T]) \n",
    "#ganger 1/T udenpå for at få gennemsnitsvektor, og laver matrice med 1'ere \n",
    "# hvor der bedes om én række og T kolonner, så vektoren får størrelsen 1xK\n",
    "\n",
    "\n",
    "y_mean = lm.perm(P_T, y)\n",
    "x_mean = lm.perm(P_T, x)\n",
    "\n",
    "# Estimate \n",
    "be_result = lm.estimate(y_mean, x_mean, transform='be', T=T)\n",
    "lm.print_table((label_y, label_x), be_result, title=\"Between Estimator\", floatfmt='.4f')"
   ]
  },
  {
   "cell_type": "markdown",
   "metadata": {},
   "source": [
    "#### By now we have the two error variances we need to calculate \n",
    "$\\hat{\\sigma}_{c}^{2} = \\hat{\\sigma}_{w}^{2} - \\frac{1}{T}\\hat{\\sigma}_{u}^{2}$"
   ]
  },
  {
   "cell_type": "code",
   "execution_count": 51,
   "metadata": {},
   "outputs": [
    {
     "name": "stdout",
     "output_type": "stream",
     "text": [
      "Lambda is approximately equal to 0.8509.\n"
     ]
    }
   ],
   "source": [
    "# Calculate lambda (note lambda is a reserved keyword in Python, so we use _lambda instead)\n",
    "sigma2_u = fe_result['sigma2']\n",
    "sigma2_w = be_result['sigma2'] #use sigma from BE estimation above\n",
    "sigma2_c = sigma2_w - (1/T)*sigma2_u\n",
    "_lambda = 1 - (sigma2_u/(sigma2_u+T*sigma2_c))**(1/2)\n",
    "\n",
    "# Print lambda \n",
    "print(f'Lambda is approximately equal to {_lambda.item():.4f}.')"
   ]
  },
  {
   "cell_type": "markdown",
   "metadata": {},
   "source": [
    "#### Now we can estimate the model using the methods of random effects\n",
    "\n",
    "$$\n",
    "\\begin{align}\n",
    "y_{it} & =\\beta_{K}\\textit{k}_{it}+\\beta_{L}\\textit{l}_{it}+\\nu_{it} \\tag{3}\n",
    "\\end{align}\n",
    "$$\n",
    "\n",
    "\n",
    "Considering that we will be quasi-demeaning each firm with $\\hat{\\lambda}$, we will again use the `perm` function. This time, we pass it through the following transformation matrix,\n",
    "\n",
    "$$\n",
    "\\mathbf{C}_{T}:=\\mathbf{I}_{T} - \\hat{\\lambda}\\mathbf{P}_{T},\n",
    "$$\n",
    "\n",
    "where $\\mathbf{P}_{T}$ is the $1 \\times T$ transformation vector we used earlier to calculate the mean of each firm.\n"
   ]
  },
  {
   "cell_type": "code",
   "execution_count": 52,
   "metadata": {},
   "outputs": [
    {
     "name": "stdout",
     "output_type": "stream",
     "text": [
      "Random Effects\n",
      "Dependent variable: Log deflated sales\n",
      "\n",
      "                      Beta      Se    t-values\n",
      "------------------  ------  ------  ----------\n",
      "ln of employment    0.6912  0.0235     29.4669\n",
      "ln adj. cap. stock  0.2477  0.0214     11.6004\n",
      "R² = 0.797\n",
      "σ² = 0.008\n"
     ]
    }
   ],
   "source": [
    "# Transform the data\n",
    "C_T = np.eye(T) - _lambda*P_T\n",
    "y_re = lm.perm(C_T,y)\n",
    "x_re = lm.perm(C_T,x)\n",
    "\n",
    "# Estimate \n",
    "re_result = lm.estimate(y_re, x_re, transform='re', T=T)\n",
    "lm.print_table((label_y, label_x), re_result, title=\"Random Effects\", floatfmt='.4f')"
   ]
  },
  {
   "cell_type": "markdown",
   "metadata": {
    "tags": []
   },
   "source": [
    "#### We will now conduct the Hausman test\n",
    "\n",
    "This is to test whether RE should be chosen or FE. \n",
    "If the test is rejected RE should not be chosen.\n",
    "If RE.1 (b) does not hold and random effects estimation is inconsistent whereas fixed effects estimator is consistent. \n"
   ]
  },
  {
   "cell_type": "code",
   "execution_count": 53,
   "metadata": {},
   "outputs": [
    {
     "name": "stdout",
     "output_type": "stream",
     "text": [
      "The test statistic is 50.88.\n",
      "The critical value at a 5% significance level is 5.99.\n",
      "The p-value is 0.00000000.\n"
     ]
    }
   ],
   "source": [
    "# Unpack\n",
    "b_fe = fe_result['b_hat']\n",
    "b_re = re_result['b_hat'] \n",
    "cov_fe = fe_result['cov']\n",
    "cov_re = re_result['cov'] \n",
    "\n",
    "# Calculate the test statistic\n",
    "b_diff = b_fe - b_re\n",
    "cov_diff = cov_fe - cov_re\n",
    "H = b_diff.T @ la.inv(cov_diff) @ b_diff\n",
    "\n",
    "# Find critical value and p-value at 5% significance level of chi^2 with M degrees of freedom\n",
    "M = len(b_fe)\n",
    "crit_val = chi2.ppf(0.95, M)\n",
    "p_val = 1-chi2.cdf(H[0], M)\n",
    "\n",
    "# Print the results\n",
    "print(f'The test statistic is {H.item():.2f}.')\n",
    "print(f'The critical value at a 5% significance level is {crit_val:.2f}.')\n",
    "print(f'The p-value is {p_val.item():.8f}.')"
   ]
  },
  {
   "cell_type": "markdown",
   "metadata": {},
   "source": [
    "#### Testing if FE.3 holds through FD-residuals"
   ]
  },
  {
   "cell_type": "code",
   "execution_count": 54,
   "metadata": {},
   "outputs": [
    {
     "name": "stdout",
     "output_type": "stream",
     "text": [
      "(441, 2)\n"
     ]
    }
   ],
   "source": [
    "# Calculating FD-residuals\n",
    "\n",
    "residual_diff = y_diff - x_diff@fd_result['b_hat']\n",
    "residualit_diff = residual_diff.reshape(-1,2)\n",
    "print(residualit_diff.shape)"
   ]
  },
  {
   "cell_type": "code",
   "execution_count": 55,
   "metadata": {},
   "outputs": [],
   "source": [
    "# Computing correlation matrix\n",
    "\n",
    "corrmat = np.corrcoef(residualit_diff, rowvar=False)\n"
   ]
  },
  {
   "cell_type": "markdown",
   "metadata": {
    "tags": []
   },
   "source": [
    "## Test om beta'er fra valgte FD estimator er god ved en wald-test"
   ]
  },
  {
   "cell_type": "markdown",
   "metadata": {
    "tags": []
   },
   "source": [
    "#### : \n",
    "\n",
    "$$\n",
    "\\begin{align}\n",
    "H_0 & : R\\beta=r \\tag{}\n",
    "\\end{align}\n",
    "$$\n",
    "\n",
    "We are interested in $H_0: R\\beta=r$.\n",
    "R: QxK with rank $R= Q =< K$\n",
    "r: Qx1\n",
    "\n",
    "Wald statistic:\n",
    "\n",
    "\n",
    "$$\n",
    "\\begin{align}\n",
    "W & := (R\\beta-r)'[R\\hat{Avar(\\beta)}R'](R\\hat{\\beta}-r) \\tag{}\n",
    "\\end{align}\n",
    "$$\n",
    "\n",
    "Under $H_0$, $W \\rightarrow_d \\chi^2_Q$\n",
    "Q: degrees of freedom, is the no. of restrictions we are trying to test\n",
    "\n",
    "Wald test: reject $H_0$ at level $\\alpha \\Leftrightarrow$ $W>(1-\\alpha)$-quantile of $\\chi^2_Q$\n",
    "\n",
    "We choose $R=[1 1]$ and r=1 as we wanna test the null-hypothesis of $\\beta_K+\\beta_L=1$"
   ]
  },
  {
   "cell_type": "code",
   "execution_count": 56,
   "metadata": {},
   "outputs": [
    {
     "name": "stdout",
     "output_type": "stream",
     "text": [
      "[[1.]]\n"
     ]
    }
   ],
   "source": [
    "R = np.ndarray([1 ,1])\n",
    "r = 1\n",
    "print(R)\n",
    "b_hat_fe = fe_result['b_hat']\n",
    "cov_fe = fe_result['cov']\n",
    "\n",
    "Wald = (R * b_hat_fe-r).T @ la.inv(R * cov_fe * R.T) @ (R * b_hat_fe-r)"
   ]
  },
  {
   "cell_type": "code",
   "execution_count": 57,
   "metadata": {},
   "outputs": [
    {
     "name": "stdout",
     "output_type": "stream",
     "text": [
      "(1, 2)\n"
     ]
    }
   ],
   "source": [
    "R = np.ones(2)\n",
    "R = R.reshape(1,-1)\n",
    "r = 1\n",
    "print(R.shape)"
   ]
  },
  {
   "cell_type": "code",
   "execution_count": 58,
   "metadata": {},
   "outputs": [
    {
     "name": "stdout",
     "output_type": "stream",
     "text": [
      "[[66.06939843]]\n"
     ]
    }
   ],
   "source": [
    "b_hat_fe = fe_result['b_hat']\n",
    "cov_fe = fe_result['cov']\n",
    "\n",
    "Wald = (R @ b_hat_fe-r).T @ la.inv(R @ cov_fe @ R.T) @ (R @ b_hat_fe-r)\n",
    "\n",
    "print(Wald)"
   ]
  },
  {
   "cell_type": "code",
   "execution_count": 59,
   "metadata": {},
   "outputs": [
    {
     "name": "stdout",
     "output_type": "stream",
     "text": [
      "The test statistic is 66.07.\n",
      "The critical value at a 5% significance level is 3.84.\n",
      "The p-value is 0.00000000.\n"
     ]
    }
   ],
   "source": [
    "# Find critical value and p-value at 5% significance level of t with M degrees of freedom\n",
    "Q = r\n",
    "crit_val = chi2.ppf(0.95, Q)\n",
    "p_val = 1-chi2.cdf(Wald[0], Q)\n",
    "\n",
    "# Print the results\n",
    "print(f'The test statistic is {Wald.item():.2f}.')\n",
    "print(f'The critical value at a 5% significance level is {crit_val:.2f}.')\n",
    "print(f'The p-value is {p_val.item():.8f}.')"
   ]
  },
  {
   "cell_type": "markdown",
   "metadata": {
    "tags": []
   },
   "source": [
    "### Wald-test for first differences\n"
   ]
  },
  {
   "cell_type": "code",
   "execution_count": 60,
   "metadata": {},
   "outputs": [
    {
     "name": "stdout",
     "output_type": "stream",
     "text": [
      "[[1.]]\n"
     ]
    }
   ],
   "source": [
    "R = np.ndarray([1 ,1])\n",
    "r = 1\n",
    "print(R)\n",
    "b_hat_fd = fd_result['b_hat']\n",
    "cov_fd = fd_result['cov']\n",
    "\n",
    "Wald = (R * b_hat_fd-r).T @ la.inv(R * cov_fd * R.T) @ (R * b_hat_fd-r)"
   ]
  },
  {
   "cell_type": "code",
   "execution_count": 61,
   "metadata": {},
   "outputs": [
    {
     "name": "stdout",
     "output_type": "stream",
     "text": [
      "(1, 2)\n"
     ]
    }
   ],
   "source": [
    "R = np.ones(2)\n",
    "R = R.reshape(1,-1)\n",
    "r = 1\n",
    "print(R.shape)"
   ]
  },
  {
   "cell_type": "code",
   "execution_count": 62,
   "metadata": {},
   "outputs": [
    {
     "name": "stdout",
     "output_type": "stream",
     "text": [
      "[[132.2756122]]\n"
     ]
    }
   ],
   "source": [
    "b_hat_fd = fd_result['b_hat']\n",
    "cov_fd = fd_result['cov']\n",
    "\n",
    "Wald = (R @ b_hat_fd-r).T @ la.inv(R @ cov_fd @ R.T) @ (R @ b_hat_fd-r)\n",
    "\n",
    "print(Wald)"
   ]
  },
  {
   "cell_type": "code",
   "execution_count": 63,
   "metadata": {},
   "outputs": [
    {
     "name": "stdout",
     "output_type": "stream",
     "text": [
      "The test statistic is 132.28.\n",
      "The critical value at a 5% significance level is 3.84.\n",
      "The p-value is 0.00000000.\n"
     ]
    }
   ],
   "source": [
    "# Find critical value and p-value at 5% significance level of t with M degrees of freedom\n",
    "Q = r\n",
    "crit_val = chi2.ppf(0.95, Q)\n",
    "p_val = 1-chi2.cdf(Wald[0], Q)\n",
    "\n",
    "# Print the results\n",
    "print(f'The test statistic is {Wald.item():.2f}.')\n",
    "print(f'The critical value at a 5% significance level is {crit_val:.2f}.')\n",
    "print(f'The p-value is {p_val.item():.8f}.')"
   ]
  },
  {
   "cell_type": "code",
   "execution_count": null,
   "metadata": {},
   "outputs": [],
   "source": []
  },
  {
   "cell_type": "code",
   "execution_count": null,
   "metadata": {},
   "outputs": [],
   "source": []
  }
 ],
 "metadata": {
  "kernelspec": {
   "display_name": "Python 3 (ipykernel)",
   "language": "python",
   "name": "python3"
  },
  "language_info": {
   "codemirror_mode": {
    "name": "ipython",
    "version": 3
   },
   "file_extension": ".py",
   "mimetype": "text/x-python",
   "name": "python",
   "nbconvert_exporter": "python",
   "pygments_lexer": "ipython3",
   "version": "3.9.7"
  },
  "vscode": {
   "interpreter": {
    "hash": "ef42839c56fd8bee084dafb278faf4416bb17c87278e59e0e4bb5f7c8f27c505"
   }
  }
 },
 "nbformat": 4,
 "nbformat_minor": 4
}
