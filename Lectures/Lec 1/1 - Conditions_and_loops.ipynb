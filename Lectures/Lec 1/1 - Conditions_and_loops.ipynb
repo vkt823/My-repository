{
 "cells": [
  {
   "attachments": {},
   "cell_type": "markdown",
   "metadata": {},
   "source": [
    "# Conditions and loops"
   ]
  },
  {
   "attachments": {},
   "cell_type": "markdown",
   "metadata": {},
   "source": [
    "**Table of contents**<a id='toc0_'></a>    \n",
    "- 1. [Conditionals](#toc1_)    \n",
    "- 2. [Basics of looping](#toc2_)    \n",
    "  - 2.1. [More complex loops](#toc2_1_)    \n",
    "  - 2.2. [Dictionaries](#toc2_2_)    \n",
    "  - 2.3. [Summary](#toc2_3_)    \n",
    "\n",
    "<!-- vscode-jupyter-toc-config\n",
    "\tnumbering=true\n",
    "\tanchor=true\n",
    "\tflat=false\n",
    "\tminLevel=2\n",
    "\tmaxLevel=6\n",
    "\t/vscode-jupyter-toc-config -->\n",
    "<!-- THIS CELL WILL BE REPLACED ON TOC UPDATE. DO NOT WRITE YOUR TEXT IN THIS CELL -->"
   ]
  },
  {
   "attachments": {},
   "cell_type": "markdown",
   "metadata": {},
   "source": [
    "## 1. <a id='toc1_'></a>[Conditionals](#toc0_)"
   ]
  },
  {
   "attachments": {},
   "cell_type": "markdown",
   "metadata": {
    "slideshow": {
     "slide_type": "fragment"
    },
    "tags": []
   },
   "source": [
    "You typically want your program to do one thing if some condition is met, and another thing if another condition is met. \n",
    "\n",
    "In Python this is done with **conditional statments**:"
   ]
  },
  {
   "cell_type": "code",
   "execution_count": 1,
   "metadata": {
    "slideshow": {
     "slide_type": "fragment"
    },
    "tags": []
   },
   "outputs": [
    {
     "name": "stdout",
     "output_type": "stream",
     "text": [
      "fourth possiblity\n"
     ]
    }
   ],
   "source": [
    "x = 3\n",
    "if x < 2: \n",
    "    # happens if x is smaller than 2\n",
    "    print('first possibility')    \n",
    "elif x > 4: # elif = else if\n",
    "    # happens if x is not smaller than 2 and x is larger than 4\n",
    "    print('second possibility')\n",
    "elif x < 0:\n",
    "    # happens if x is not smaller than 2, x is not larger than 4\n",
    "    #  and x is smaller than 0\n",
    "    print('third posibility') # note: this can never happen, because if it was not smaller than 2, then it's not smaller than 0 either.\n",
    "else:\n",
    "    # happens if x is not smaller than 2, x is not larger than 4\n",
    "    #  and x is not smaller than 0\n",
    "    print('fourth possiblity')  \n",
    "    "
   ]
  },
  {
   "attachments": {},
   "cell_type": "markdown",
   "metadata": {
    "slideshow": {
     "slide_type": "skip"
    },
    "tags": []
   },
   "source": [
    "**Note:**\n",
    "\n",
    "1. \"elif\" is short for \"else if\" \n",
    "2. the **indentation** after if, elif and else is required (tabs or spaces, typically 4)"
   ]
  },
  {
   "attachments": {},
   "cell_type": "markdown",
   "metadata": {
    "slideshow": {
     "slide_type": "skip"
    },
    "tags": []
   },
   "source": [
    "An **equivalent formulation** of the above if-elif-else statement is:"
   ]
  },
  {
   "cell_type": "code",
   "execution_count": 5,
   "metadata": {
    "slideshow": {
     "slide_type": "skip"
    },
    "tags": []
   },
   "outputs": [
    {
     "name": "stdout",
     "output_type": "stream",
     "text": [
      "first possibility\n"
     ]
    }
   ],
   "source": [
    "x = -1\n",
    "cond_1 = x < 2 # a boolean (True or False)\n",
    "cond_2 = x > 4 # a boolean (True or False)\n",
    "cond_3 = x < 0 # a boolean (True or False)\n",
    "if cond_1: \n",
    "    print('first possibility')\n",
    "elif cond_2:\n",
    "    print('second possibility')\n",
    "elif cond_3:\n",
    "    print('third posibility')\n",
    "else:\n",
    "    print('fourth possiblity')"
   ]
  },
  {
   "attachments": {},
   "cell_type": "markdown",
   "metadata": {
    "slideshow": {
     "slide_type": "skip"
    },
    "tags": []
   },
   "source": [
    "The above can also be written purely in terms of if-statements:"
   ]
  },
  {
   "cell_type": "code",
   "execution_count": 6,
   "metadata": {
    "slideshow": {
     "slide_type": "skip"
    },
    "tags": []
   },
   "outputs": [
    {
     "name": "stdout",
     "output_type": "stream",
     "text": [
      "first possibility\n"
     ]
    }
   ],
   "source": [
    "if cond_1: \n",
    "    print('first possibility')\n",
    "if not cond_1 and cond_2:\n",
    "    print('second possibility')\n",
    "if not (cond_1 or cond_2) and cond_3:\n",
    "    print('third posibility')\n",
    "if not (cond_1 or cond_2 or cond_3):\n",
    "    print('fourth possiblity')"
   ]
  },
  {
   "attachments": {},
   "cell_type": "markdown",
   "metadata": {},
   "source": [
    "### True/False definitions of other types:"
   ]
  },
  {
   "attachments": {},
   "cell_type": "markdown",
   "metadata": {},
   "source": [
    "If you place non-boolean types after the `if` statement, Python will transfer it to a boolean value by calling `bool()` on it. <br>\n",
    "This can be useful, but you should be careful."
   ]
  },
  {
   "cell_type": "code",
   "execution_count": 14,
   "metadata": {},
   "outputs": [
    {
     "name": "stdout",
     "output_type": "stream",
     "text": [
      "y is not empty: [1, 2]\n"
     ]
    }
   ],
   "source": [
    "y = [1,2]\n",
    "if y:\n",
    "    print('y is not empty:', y)\n",
    "else:\n",
    "    print('y is empty:', y)"
   ]
  },
  {
   "cell_type": "code",
   "execution_count": 16,
   "metadata": {},
   "outputs": [
    {
     "name": "stdout",
     "output_type": "stream",
     "text": [
      "bool([1,2]) =  True\n",
      "bool([]) =  False\n",
      "bool(0) =  False\n",
      "bool(5) =  True\n"
     ]
    }
   ],
   "source": [
    "print('bool([1,2]) = ',bool([1,2]))\n",
    "print('bool([]) = ',bool([])) # Checks if list is empty\n",
    "print('bool(0) = ',bool(0))\n",
    "print('bool(5) = ',bool(5)) # This is true for all integers that are not 0 (also negative)"
   ]
  },
  {
   "cell_type": "markdown",
   "metadata": {},
   "source": [
    "CHR: So if list is empty and we put it after an if statement, the bool will return false. If list contains element then it returns true.\n",
    "If integer is 0 then bool returns false, if integer is not 0 then it returns true."
   ]
  },
  {
   "cell_type": "code",
   "execution_count": 17,
   "metadata": {},
   "outputs": [
    {
     "name": "stdout",
     "output_type": "stream",
     "text": [
      "bool(0.0) =  False\n",
      "bool(0.2) =  True\n",
      "bool(1e-100) =  True\n",
      "1e-100 0.0000000000\n"
     ]
    }
   ],
   "source": [
    "# Don't do this with floats\n",
    "print('bool(0.0) = ',bool(0.0))\n",
    "print('bool(0.2) = ',bool(0.2))\n",
    "close_to_zero = 1e-100\n",
    "print('bool(1e-100) = ',bool(1e-100)) # This is close to zero so should be False\n",
    "print('1e-100',f'{1e-100:.10f}')"
   ]
  },
  {
   "attachments": {},
   "cell_type": "markdown",
   "metadata": {},
   "source": [
    "## 2. <a id='toc2_'></a>[Basics of looping](#toc0_)\n",
    "\n",
    "* We often need to do the same task many times over. \n",
    "* We use loops to do that. \n",
    "* **Code repetition** gives you **horrible errors** and takes time.\n",
    "* **2 kinds of loop**\n",
    "    * `for` loop: when you know how many iterations to do\n",
    "    * `while` loop: when the stopping point is unknown\n",
    "* Use **list comprehension** instead of simple for loops."
   ]
  },
  {
   "attachments": {},
   "cell_type": "markdown",
   "metadata": {
    "slideshow": {
     "slide_type": "subslide"
    },
    "tags": []
   },
   "source": [
    "Never do this:"
   ]
  },
  {
   "cell_type": "code",
   "execution_count": 1,
   "metadata": {
    "slideshow": {
     "slide_type": "fragment"
    },
    "tags": []
   },
   "outputs": [
    {
     "name": "stdout",
     "output_type": "stream",
     "text": [
      "[1, 4, 9, 16, 25]\n"
     ]
    }
   ],
   "source": [
    "xs = [1,2,3,4,5]\n",
    "x_sqr = []\n",
    "\n",
    "x_sqr.append(xs[0]**2)\n",
    "x_sqr.append(xs[1]**2)\n",
    "x_sqr.append(xs[2]**2)\n",
    "x_sqr.append(xs[3]**2)\n",
    "x_sqr.append(xs[4]**2)\n",
    "print(x_sqr)"
   ]
  },
  {
   "attachments": {},
   "cell_type": "markdown",
   "metadata": {
    "slideshow": {
     "slide_type": "subslide"
    },
    "tags": []
   },
   "source": [
    "Use a **for loop** instead:"
   ]
  },
  {
   "cell_type": "code",
   "execution_count": 2,
   "metadata": {
    "slideshow": {
     "slide_type": "fragment"
    },
    "tags": []
   },
   "outputs": [
    {
     "name": "stdout",
     "output_type": "stream",
     "text": [
      "[1, 4, 9, 16, 25]\n"
     ]
    }
   ],
   "source": [
    "x_sqr = [] # empty list\n",
    "for x in xs:\n",
    "    x_sqr.append(x**2) #append: adds to list\n",
    "print(x_sqr)"
   ]
  },
  {
   "attachments": {},
   "cell_type": "markdown",
   "metadata": {
    "slideshow": {
     "slide_type": "fragment"
    },
    "tags": []
   },
   "source": [
    "Even better: a **list comprehension**  \n",
    "List comprehension is the shortest syntax and runs faster. Use that if you can."
   ]
  },
  {
   "cell_type": "code",
   "execution_count": null,
   "metadata": {
    "slideshow": {
     "slide_type": "fragment"
    },
    "tags": []
   },
   "outputs": [],
   "source": [
    "x_sqr = [x**2 for x in xs]\n",
    "x_sqr"
   ]
  },
  {
   "cell_type": "markdown",
   "metadata": {},
   "source": [
    "Note structure of list comprehension: [function(id) for id in list].  \n",
    "If you have an if statement then it goes behind the list.   \n",
    "If you also have an else statement then it goes at the front"
   ]
  },
  {
   "cell_type": "code",
   "execution_count": 28,
   "metadata": {},
   "outputs": [
    {
     "name": "stdout",
     "output_type": "stream",
     "text": [
      "[9, 16, 25]\n",
      "['x was less than 2, so not computed', 'x was less than 2, so not computed', 9, 16, 25]\n"
     ]
    }
   ],
   "source": [
    "x_sqr_2 = [x**2 for x in xs if x >2]\n",
    "print(x_sqr_2)\n",
    "\n",
    "x_sqr_3 = [x**2 if x > 2 else \"x was less than 2, so not computed\" for x in xs]\n",
    "print(x_sqr_3)\n"
   ]
  },
  {
   "attachments": {},
   "cell_type": "markdown",
   "metadata": {
    "slideshow": {
     "slide_type": "subslide"
    },
    "tags": []
   },
   "source": [
    "A **while loop**:"
   ]
  },
  {
   "cell_type": "code",
   "execution_count": 30,
   "metadata": {
    "slideshow": {
     "slide_type": "fragment"
    },
    "tags": []
   },
   "outputs": [
    {
     "name": "stdout",
     "output_type": "stream",
     "text": [
      "[0, 1, 4, 9, 16]\n"
     ]
    }
   ],
   "source": [
    "i_sqr = [] # empty list\n",
    "i = 0 #set counter\n",
    "while i < 5:\n",
    "    i_sqr.append(i**2)\n",
    "    i += 1 #need an iterator if using a while loop. something to move the loop along.\n",
    "    \n",
    "\n",
    "print(i_sqr)"
   ]
  },
  {
   "cell_type": "markdown",
   "metadata": {},
   "source": [
    "when i = 5 then it stops"
   ]
  },
  {
   "attachments": {},
   "cell_type": "markdown",
   "metadata": {
    "slideshow": {
     "slide_type": "fragment"
    },
    "tags": []
   },
   "source": [
    "Use a **for loop** with **range** instead:"
   ]
  },
  {
   "cell_type": "code",
   "execution_count": null,
   "metadata": {
    "slideshow": {
     "slide_type": "fragment"
    },
    "tags": []
   },
   "outputs": [],
   "source": [
    "y_list = [] # empty list\n",
    "for x in range(5):\n",
    "    print(x)\n",
    "    y_list.append(x**2)\n",
    "print(y_list)"
   ]
  },
  {
   "cell_type": "code",
   "execution_count": 36,
   "metadata": {},
   "outputs": [
    {
     "name": "stdout",
     "output_type": "stream",
     "text": [
      "[] stoped before entering range\n",
      "[9, 16] kept running until in range and then stopped after exiting range\n"
     ]
    }
   ],
   "source": [
    "test_1 = []\n",
    "i = 0\n",
    "while i <5 and i >2:\n",
    "    test_1.append(i**2)\n",
    "    i +=1\n",
    "\n",
    "print(test_1, \"stoped before entering range\")\n",
    "\n",
    "test_2 = []\n",
    "i = 0\n",
    "for i in range(3,5):\n",
    "    test_2.append(i**2)\n",
    "    i +=1\n",
    "\n",
    "print(test_2, \"kept running until in range and then stopped after exiting range\")"
   ]
  },
  {
   "attachments": {},
   "cell_type": "markdown",
   "metadata": {},
   "source": [
    "Range has some additional options, if more arguments are added: `range(start,stop,step)`"
   ]
  },
  {
   "cell_type": "code",
   "execution_count": 37,
   "metadata": {},
   "outputs": [
    {
     "name": "stdout",
     "output_type": "stream",
     "text": [
      "3\n",
      "6\n",
      "9\n",
      "12\n"
     ]
    }
   ],
   "source": [
    "for x in range(3,15,3): # Note that the range still ends 1 number before stop\n",
    "    print(x)"
   ]
  },
  {
   "cell_type": "markdown",
   "metadata": {},
   "source": [
    "note, again doesn't report 15 as we stop 3 before that"
   ]
  },
  {
   "attachments": {},
   "cell_type": "markdown",
   "metadata": {},
   "source": [
    "### 2.1. <a id='toc2_1_'></a>[More complex loops](#toc0_)\n",
    "\n",
    "Nice to know when looping in python\n",
    "* Need a count variable? For loops can be **enumerated**.\n",
    "* Need to loop over 2 lists, element-by-element? Use **zipping**.\n",
    "* You can **nest** loops. "
   ]
  },
  {
   "cell_type": "code",
   "execution_count": 38,
   "metadata": {
    "slideshow": {
     "slide_type": "subslide"
    },
    "tags": []
   },
   "outputs": [
    {
     "name": "stdout",
     "output_type": "stream",
     "text": [
      "i = 0\n",
      "i = 1\n",
      "i = 2\n",
      "i = 3\n",
      "y_list = [0, 25, 62, 120]\n"
     ]
    }
   ],
   "source": [
    "y_list = []\n",
    "x_list = [10,25,31,40]\n",
    "\n",
    "for i,x in enumerate(x_list): #i takes the counter, x takes the corresponding\n",
    "    print('i =', i)\n",
    "    y_list.append(x*i)\n",
    "print('y_list =',y_list)"
   ]
  },
  {
   "attachments": {},
   "cell_type": "markdown",
   "metadata": {
    "slideshow": {
     "slide_type": "skip"
    },
    "tags": []
   },
   "source": [
    "Loops can be fine-tuned with **continue** and **break**."
   ]
  },
  {
   "cell_type": "code",
   "execution_count": 40,
   "metadata": {
    "slideshow": {
     "slide_type": "skip"
    },
    "tags": []
   },
   "outputs": [
    {
     "name": "stdout",
     "output_type": "stream",
     "text": [
      "[0, 4, 9]\n"
     ]
    }
   ],
   "source": [
    "y_list = []\n",
    "x_list = [*range(10)]\n",
    "#The expression [*range(10)] creates a list x_list \n",
    "# containing the numbers from 0 to 9. The range(10) \n",
    "# function generates a sequence of numbers starting \n",
    "# from 0 (inclusive) up to 10 (exclusive). The asterisk\n",
    "#  (*) before range(10) is used to unpack the values\n",
    "#  generated by the range function into a list\n",
    "\n",
    "for i,x in enumerate(x_list):\n",
    "    if i == 1:\n",
    "        continue # go to next iteration \n",
    "    elif i == 4:\n",
    "        break # stop loop prematurely\n",
    "    y_list.append(x**2)\n",
    "print(y_list)"
   ]
  },
  {
   "attachments": {},
   "cell_type": "markdown",
   "metadata": {
    "slideshow": {
     "slide_type": "skip"
    },
    "tags": []
   },
   "source": [
    "**Task:** Create a list with the 10 first positive uneven numbers."
   ]
  },
  {
   "cell_type": "code",
   "execution_count": null,
   "metadata": {
    "slideshow": {
     "slide_type": "skip"
    },
    "tags": []
   },
   "outputs": [],
   "source": [
    "# write your code here"
   ]
  },
  {
   "attachments": {},
   "cell_type": "markdown",
   "metadata": {
    "slideshow": {
     "slide_type": "skip"
    },
    "tags": []
   },
   "source": [
    "**Answer:**"
   ]
  },
  {
   "cell_type": "code",
   "execution_count": 42,
   "metadata": {},
   "outputs": [
    {
     "name": "stdout",
     "output_type": "stream",
     "text": [
      "[1, 3, 5, 7, 9, 11, 13, 15, 17, 19]\n",
      "length of x is 10\n"
     ]
    }
   ],
   "source": [
    "# The long way \n",
    "i = 1\n",
    "x = []\n",
    "while len(x)<10:\n",
    "    if i%2==0: # The %-operator returns the remainder after division which is 0 for even numbers\n",
    "        pass # Do nothing\n",
    "    else:\n",
    "        # Add the uneven number\n",
    "        x.append(i)\n",
    "    i +=1\n",
    "\n",
    "print(x)\n",
    "print(\"length of x is\", len(x))"
   ]
  },
  {
   "cell_type": "markdown",
   "metadata": {},
   "source": [
    "why 10 long when we restricted on len(x)<10?     \n",
    "well when len is 9 then the statement is true and the code still runs. when we get the 10th number, the statement is no longer true and we stop."
   ]
  },
  {
   "cell_type": "code",
   "execution_count": 44,
   "metadata": {},
   "outputs": [
    {
     "name": "stdout",
     "output_type": "stream",
     "text": [
      "[1, 3, 5, 7, 9, 11, 13, 15, 17, 19]\n"
     ]
    }
   ],
   "source": [
    "# The pythonic way\n",
    "my_list = [*range(1,21,2)] # The third argument means we want every second number in the range from 1 to 21. this solution takes it as known that we know 21 is the final number that should not be included and 1 is the first number that should\n",
    "print(my_list)"
   ]
  },
  {
   "cell_type": "code",
   "execution_count": 43,
   "metadata": {
    "jupyter": {
     "source_hidden": true
    }
   },
   "outputs": [
    {
     "name": "stdout",
     "output_type": "stream",
     "text": [
      "[1, 3, 5, 7, 9, 11, 13, 15, 17, 19]\n"
     ]
    }
   ],
   "source": [
    "# The 'mathy' way\n",
    "my_list = []\n",
    "for i in range(1,11):\n",
    "    my_list.append(i*2-1)\n",
    "print(my_list)"
   ]
  },
  {
   "attachments": {},
   "cell_type": "markdown",
   "metadata": {
    "slideshow": {
     "slide_type": "subslide"
    },
    "tags": []
   },
   "source": [
    "**Zip:** We can loop over **2 lists at the same time**:"
   ]
  },
  {
   "cell_type": "code",
   "execution_count": 47,
   "metadata": {
    "slideshow": {
     "slide_type": "fragment"
    },
    "tags": []
   },
   "outputs": [
    {
     "name": "stdout",
     "output_type": "stream",
     "text": [
      "Ia\n",
      "IIb\n",
      "IIIc\n"
     ]
    }
   ],
   "source": [
    "x = ['I', 'II', 'III']\n",
    "y = ['a', 'b', 'c']\n",
    "\n",
    "for i,j in zip(x,y):\n",
    "    print(i+j)"
   ]
  },
  {
   "cell_type": "code",
   "execution_count": 48,
   "metadata": {},
   "outputs": [
    {
     "name": "stdout",
     "output_type": "stream",
     "text": [
      "[('I', 'a'), ('II', 'b'), ('III', 'c')]\n"
     ]
    }
   ],
   "source": [
    "z=[]\n",
    "for i,j in zip(x,y):\n",
    "    z.append((i,j))\n",
    "print(z)"
   ]
  },
  {
   "attachments": {},
   "cell_type": "markdown",
   "metadata": {
    "slideshow": {
     "slide_type": "fragment"
    },
    "tags": []
   },
   "source": [
    "Zipping is **not** the same as **nesting** "
   ]
  },
  {
   "cell_type": "code",
   "execution_count": 49,
   "metadata": {
    "slideshow": {
     "slide_type": "fragment"
    },
    "tags": []
   },
   "outputs": [
    {
     "name": "stdout",
     "output_type": "stream",
     "text": [
      "Ia\n",
      "Ib\n",
      "Ic\n",
      "IIa\n",
      "IIb\n",
      "IIc\n",
      "IIIa\n",
      "IIIb\n",
      "IIIc\n"
     ]
    }
   ],
   "source": [
    "# A nested loop\n",
    "for i in x:\n",
    "    for j in y:\n",
    "        print(i+j)"
   ]
  },
  {
   "cell_type": "markdown",
   "metadata": {},
   "source": [
    "first it looks at the first element in x, here it then looks at element 0-2 in y, then it goes on to second element in x, and so on..."
   ]
  },
  {
   "attachments": {},
   "cell_type": "markdown",
   "metadata": {
    "slideshow": {
     "slide_type": "skip"
    },
    "tags": []
   },
   "source": [
    "Iter(ation)tools enable us do complicated loops in a smart way. We can e.g. loop through **all combinations of elements in 2 lists**:"
   ]
  },
  {
   "cell_type": "code",
   "execution_count": 50,
   "metadata": {
    "slideshow": {
     "slide_type": "skip"
    },
    "tags": []
   },
   "outputs": [
    {
     "name": "stdout",
     "output_type": "stream",
     "text": [
      "I a\n",
      "I b\n",
      "I c\n",
      "II a\n",
      "II b\n",
      "II c\n",
      "III a\n",
      "III b\n",
      "III c\n"
     ]
    }
   ],
   "source": [
    "import itertools as it\n",
    "for i,j in it.product(x,y):\n",
    "    print(i,j)"
   ]
  },
  {
   "attachments": {},
   "cell_type": "markdown",
   "metadata": {},
   "source": [
    "### 2.2. <a id='toc2_2_'></a>[Dictionaries](#toc0_)"
   ]
  },
  {
   "attachments": {},
   "cell_type": "markdown",
   "metadata": {
    "slideshow": {
     "slide_type": "skip"
    },
    "tags": []
   },
   "source": [
    "We can loop throug keys, values or key-value pairs of a dictionary."
   ]
  },
  {
   "cell_type": "code",
   "execution_count": 51,
   "metadata": {
    "slideshow": {
     "slide_type": "skip"
    },
    "tags": []
   },
   "outputs": [
    {
     "name": "stdout",
     "output_type": "stream",
     "text": [
      "a\n",
      "b\n",
      "c\n"
     ]
    }
   ],
   "source": [
    "my_dict = {'a': '-', 'b': '--', 'c': '---'}\n",
    "for key in my_dict.keys():\n",
    "    print(key)"
   ]
  },
  {
   "cell_type": "code",
   "execution_count": 52,
   "metadata": {
    "slideshow": {
     "slide_type": "skip"
    },
    "tags": []
   },
   "outputs": [
    {
     "name": "stdout",
     "output_type": "stream",
     "text": [
      "-\n",
      "--\n",
      "---\n"
     ]
    }
   ],
   "source": [
    "for val in my_dict.values():\n",
    "    print(val)"
   ]
  },
  {
   "cell_type": "code",
   "execution_count": 57,
   "metadata": {
    "slideshow": {
     "slide_type": "skip"
    },
    "tags": []
   },
   "outputs": [
    {
     "name": "stdout",
     "output_type": "stream",
     "text": [
      "a -\n",
      "b --\n",
      "c ---\n"
     ]
    }
   ],
   "source": [
    "for key,val in my_dict.items():\n",
    "    print(key,val)"
   ]
  },
  {
   "cell_type": "code",
   "execution_count": 54,
   "metadata": {},
   "outputs": [
    {
     "data": {
      "text/plain": [
       "dict_items([('a', '-'), ('b', '--'), ('c', '---')])"
      ]
     },
     "execution_count": 54,
     "metadata": {},
     "output_type": "execute_result"
    }
   ],
   "source": [
    "my_dict.items()"
   ]
  },
  {
   "cell_type": "code",
   "execution_count": 58,
   "metadata": {},
   "outputs": [
    {
     "name": "stdout",
     "output_type": "stream",
     "text": [
      "0 a -\n",
      "1 b --\n",
      "2 c ---\n"
     ]
    }
   ],
   "source": [
    "for i,(key,val) in enumerate(my_dict.items()):\n",
    "    print(i, key,val)"
   ]
  },
  {
   "attachments": {},
   "cell_type": "markdown",
   "metadata": {
    "slideshow": {
     "slide_type": "skip"
    },
    "tags": []
   },
   "source": [
    "We can also **check whether a key exists**:"
   ]
  },
  {
   "cell_type": "code",
   "execution_count": 59,
   "metadata": {
    "slideshow": {
     "slide_type": "skip"
    },
    "tags": []
   },
   "outputs": [
    {
     "name": "stdout",
     "output_type": "stream",
     "text": [
      "a is in my_dict with the value -\n"
     ]
    }
   ],
   "source": [
    "if 'a' in my_dict:\n",
    "    print('a is in my_dict with the value ' + my_dict['a'])\n",
    "else:\n",
    "    print('a is not in my_dict')"
   ]
  },
  {
   "cell_type": "code",
   "execution_count": 60,
   "metadata": {
    "slideshow": {
     "slide_type": "skip"
    },
    "tags": []
   },
   "outputs": [
    {
     "name": "stdout",
     "output_type": "stream",
     "text": [
      "d is not in my_dict\n"
     ]
    }
   ],
   "source": [
    "if 'd' in my_dict:\n",
    "    print('d is in my_dict with the value ' + my_dict['d'])\n",
    "else:\n",
    "    print('d is not in my_dict')"
   ]
  },
  {
   "attachments": {},
   "cell_type": "markdown",
   "metadata": {
    "slideshow": {
     "slide_type": "skip"
    },
    "tags": []
   },
   "source": [
    "**Note:** dictionaries can do this operation very quickly without looping through all elements. So use a dictionary when lookups are relevant."
   ]
  },
  {
   "attachments": {},
   "cell_type": "markdown",
   "metadata": {},
   "source": [
    "### 2.3. <a id='toc2_3_'></a>[Summary](#toc0_)"
   ]
  },
  {
   "attachments": {},
   "cell_type": "markdown",
   "metadata": {
    "slideshow": {
     "slide_type": "skip"
    },
    "tags": []
   },
   "source": [
    "The new central concepts are:\n",
    "\n",
    "1. Conditionals (if, elif, else)\n",
    "2. Loops (for, while, range, enumerate, continue, break, zip)\n",
    "3. List comprehensions\n",
    "4. Itertools (product)"
   ]
  }
 ],
 "metadata": {
  "kernelspec": {
   "display_name": "base",
   "language": "python",
   "name": "python3"
  },
  "language_info": {
   "codemirror_mode": {
    "name": "ipython",
    "version": 3
   },
   "file_extension": ".py",
   "mimetype": "text/x-python",
   "name": "python",
   "nbconvert_exporter": "python",
   "pygments_lexer": "ipython3",
   "version": "3.11.5"
  },
  "orig_nbformat": 4,
  "vscode": {
   "interpreter": {
    "hash": "2164e4eaf16dd6cd705646718fcef4f5f263bad5b7d103e76e9308c0132ca24b"
   }
  }
 },
 "nbformat": 4,
 "nbformat_minor": 2
}
