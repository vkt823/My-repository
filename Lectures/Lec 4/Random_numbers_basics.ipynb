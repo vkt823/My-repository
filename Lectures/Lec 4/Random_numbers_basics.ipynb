{
 "cells": [
  {
   "cell_type": "markdown",
   "metadata": {},
   "source": [
    "# Random numbers basics"
   ]
  },
  {
   "cell_type": "markdown",
   "metadata": {},
   "source": [
    "**Table of contents**<a id='toc0_'></a>    \n",
    "- 1. [Random numbers and simulation](#toc1_)    \n",
    "- 2. [Motivation: Exchange economy with many consumers](#toc2_)    \n",
    "- 3. [Random numbers](#toc3_)    \n",
    "  - 3.1. [Numpy](#toc3_1_)    \n",
    "  - 3.2. [Different distributions](#toc3_2_)    \n",
    "  - 3.3. [Analytical results](#toc3_3_)    \n",
    "- 4. [Load and save variables](#toc4_)    \n",
    "  - 4.1. [Pickle](#toc4_1_)    \n",
    "  - 4.2. [Saving with numpy](#toc4_2_)    \n",
    "- 5. [Create a class to generate random numbers](#toc5_)    \n",
    "\n",
    "<!-- vscode-jupyter-toc-config\n",
    "\tnumbering=true\n",
    "\tanchor=true\n",
    "\tflat=false\n",
    "\tminLevel=2\n",
    "\tmaxLevel=6\n",
    "\t/vscode-jupyter-toc-config -->\n",
    "<!-- THIS CELL WILL BE REPLACED ON TOC UPDATE. DO NOT WRITE YOUR TEXT IN THIS CELL -->"
   ]
  },
  {
   "cell_type": "markdown",
   "metadata": {},
   "source": [
    "## 1. <a id='toc1_'></a>[Random numbers and simulation](#toc0_)"
   ]
  },
  {
   "attachments": {},
   "cell_type": "markdown",
   "metadata": {},
   "source": [
    "You will learn how to use a random number generator with a seed and produce simulation results (**numpy.random**, **scipy.stats**), and calcuate the expected value of a random variable through Monte Carlo integration. You will learn how to save your results for later use (**pickle**)."
   ]
  },
  {
   "attachments": {},
   "cell_type": "markdown",
   "metadata": {},
   "source": [
    "**Links:**\n",
    "\n",
    "* [numpy.random](https://docs.scipy.org/doc/numpy-1.13.0/reference/routines.random.html)\n",
    "* [scipy.stats](https://docs.scipy.org/doc/scipy/reference/stats.html)\n",
    "* datacamp on [pickle](https://www.datacamp.com/community/tutorials/pickle-python-tutorial)"
   ]
  },
  {
   "cell_type": "markdown",
   "metadata": {},
   "source": [
    "**Imports:** We now import all the modules, we need for this notebook. Importing everything in the beginning makes it more clear what modules the notebook relies on."
   ]
  },
  {
   "cell_type": "code",
   "execution_count": 2,
   "metadata": {},
   "outputs": [],
   "source": [
    "import pickle\n",
    "import numpy as np\n",
    "\n",
    "from scipy.stats import norm # normal distribution\n",
    "\n",
    "%matplotlib inline\n",
    "import matplotlib.pyplot as plt\n",
    "plt.rcParams.update({\"axes.grid\":True,\"grid.color\":\"black\",\"grid.alpha\":\"0.25\",\"grid.linestyle\":\"-\"})\n",
    "plt.rcParams.update({'font.size': 14})"
   ]
  },
  {
   "cell_type": "markdown",
   "metadata": {},
   "source": [
    "## 2. <a id='toc2_'></a>[Motivation: Exchange economy with many consumers](#toc0_)"
   ]
  },
  {
   "cell_type": "markdown",
   "metadata": {},
   "source": [
    "Consider an **exchange economy** with"
   ]
  },
  {
   "cell_type": "markdown",
   "metadata": {},
   "source": [
    "1. 2 goods, $(x_1,x_2)$\n",
    "2. $N$ consumers indexed by $j \\in \\{1,2,\\dots,N\\}$\n",
    "3. Preferences are Cobb-Douglas with uniformly *heterogenous* coefficients\n",
    "\n",
    "$$\n",
    "\\begin{aligned}\n",
    "u^{j}(x_{1},x_{2}) & = x_{1}^{\\alpha_{j}}x_{2}^{1-\\alpha_{j}}\\\\\n",
    " & \\,\\,\\,\\alpha_{j}\\sim\\mathcal{U}(\\underline{\\mu},\\overline{\\mu})\\\\\n",
    " & \\,\\,\\,0<\\underline{\\mu}<\\overline{\\mu}<1\n",
    "\\end{aligned}\n",
    "$$\n",
    "\n",
    "4. Endowments are *homogenous* and given by\n",
    "\n",
    "$$\n",
    "\\boldsymbol{e}^{j}=(e_{1}^{j},e_{2}^{j})=(k,1),\\,k>0\n",
    "$$\n",
    "where good 2 is *numeraire*."
   ]
  },
  {
   "attachments": {},
   "cell_type": "markdown",
   "metadata": {},
   "source": [
    "Giving income $I$, with the following budget constriant:\n",
    "\\begin{equation}\n",
    "I \\equiv kp_1+ p_2 \\geq x_1p_1 + x_2\n",
    "\\end{equation}"
   ]
  },
  {
   "attachments": {},
   "cell_type": "markdown",
   "metadata": {},
   "source": [
    "The implied **demand functions** are:\n",
    "\n",
    "$$\n",
    "\\begin{align}\n",
    "x_{1}^{\\star j}(p_{1},p_{2},e^{j})&=&\\alpha_{j}\\frac{I}{p_{1}}&=&\\alpha_{j}\\frac{kp_{1}+p_{2}}{p_{1}} \\\\\n",
    "x_{2}^{\\star j}(p_{1},p_{2},e^{j})&=&(1-\\alpha_{j})\\frac{I}{p_{2}}&=&(1-\\alpha_{j})\\frac{kp_{1}+p_{2}}{p_{2}}\n",
    "\\end{align}\n",
    "$$"
   ]
  },
  {
   "attachments": {},
   "cell_type": "markdown",
   "metadata": {},
   "source": [
    "The **equilibrium** for a random draw of $\\alpha = \\{\\alpha_1,\\alpha_2,\\dots,\\alpha_N\\}$ is a set of **prices** $p_1$ and $p_2$ satifying:\n",
    "\n",
    "$$\n",
    "\\begin{aligned}\n",
    "x_1(p_1,p_2) = \\underset{\\text{Demand}}{\\underbrace{\\sum_{j=1}^N x_{1}^{\\star j}(p_{1},p_{2},e^{j})}} &=  \\underset{\\text{Supply}}{\\underbrace{\\sum_{j=1}^N e_1^j}} = Nk \\\\\n",
    "x_2(p_1,p_2) = \\sum_{j=1}^N x_{2}^{\\star j}(p_{1},p_{2},e^{j}) &= \\sum_{j=1}^N e_2^j = N\n",
    "\\end{aligned}\n",
    "$$"
   ]
  },
  {
   "attachments": {},
   "cell_type": "markdown",
   "metadata": {},
   "source": [
    "**Problem:** Solve for this equilibrium.  \n",
    "But this requires a **distribution** of agents. Which means randomness.  \n",
    "We need a random number generator (RNG)"
   ]
  },
  {
   "cell_type": "markdown",
   "metadata": {},
   "source": [
    "## 3. <a id='toc3_'></a>[Random numbers](#toc0_)"
   ]
  },
  {
   "cell_type": "markdown",
   "metadata": {},
   "source": [
    "The two main approaches to generating random numbers are:\n",
    "\n",
    "1. **Physical observations** of random processes (radioactive decay,  atmospheric noise, roulette wheels, etc.)\n",
    "2. **Algorithms** creating **pseudo-random numbers**. Numbers that are *determined* by the algo but **appear** random."
   ]
  },
  {
   "attachments": {},
   "cell_type": "markdown",
   "metadata": {},
   "source": [
    "**Pseudo-random numbers** satisfy properties such that they are as good as random. It should be impossible (for all practical purposes) to calculate, or otherwise guess, from any given subsequence, any previous or future values in the sequence."
   ]
  },
  {
   "cell_type": "markdown",
   "metadata": {},
   "source": [
    "**More information:** See this [video](https://www.youtube.com/watch?v=C82JyCmtKWg&app=desktop#fauxfullscreen) by Infinite Series."
   ]
  },
  {
   "cell_type": "markdown",
   "metadata": {},
   "source": [
    "### 3.1. <a id='toc3_1_'></a>[Numpy](#toc0_)"
   ]
  },
  {
   "cell_type": "markdown",
   "metadata": {},
   "source": [
    "Numpy provides various functions for drawing random numbers. We can, for example, draw random integers between 0 and 10000:"
   ]
  },
  {
   "cell_type": "code",
   "execution_count": 3,
   "metadata": {},
   "outputs": [
    {
     "name": "stdout",
     "output_type": "stream",
     "text": [
      "[9147 3082 8560  757 2080]\n"
     ]
    }
   ],
   "source": [
    "X = np.random.randint(0,10000,size=5) #CHR: We draw 5 random numbers between 0 and 10.000.\n",
    "print(X)"
   ]
  },
  {
   "cell_type": "markdown",
   "metadata": {},
   "source": [
    "**Problem:** How can we reproduce our results the next time we open Python?\n",
    "\n",
    "**Solution:** Use a **seed**. This will fix the algorithm to give the same set numbers each time.     \n",
    "Choose the seed, and reset the random number generator:"
   ]
  },
  {
   "cell_type": "code",
   "execution_count": 5,
   "metadata": {},
   "outputs": [
    {
     "name": "stdout",
     "output_type": "stream",
     "text": [
      "set seed to 2000 and create numbers:\n",
      "[0.57051729 0.56452876 0.48844183 0.33647775 0.37586818]\n",
      "\n",
      "reset algorithm by stating the same seed again:\n",
      "[0.57051729 0.56452876 0.48844183 0.33647775 0.37586818]\n",
      "\n",
      "CHR: if we do not specify the seed when we draw random numbers again, python will move on and draw new random numbers:\n",
      "[0.53203587 0.06810629 0.58452906 0.23789776 0.16075658]\n"
     ]
    }
   ],
   "source": [
    "print('set seed to 2000 and create numbers:')\n",
    "np.random.seed(2000) #CHR: We choose a specific seed. Can be any number.\n",
    "print(np.random.uniform(size=5)) #CHR: uniform draws from the uniform distribution - float between 0 and 1\n",
    "\n",
    "print('\\nreset algorithm by stating the same seed again:')\n",
    "np.random.seed(2000)\n",
    "print(np.random.uniform(size=5))\n",
    "\n",
    "print('\\nCHR: if we do not specify the seed when we draw random numbers again, python will move on and draw new random numbers:')\n",
    "print(np.random.uniform(size=5))\n"
   ]
  },
  {
   "cell_type": "markdown",
   "metadata": {},
   "source": [
    "We can also **save and load the state** of the random number generator."
   ]
  },
  {
   "cell_type": "code",
   "execution_count": 6,
   "metadata": {},
   "outputs": [
    {
     "name": "stdout",
     "output_type": "stream",
     "text": [
      "generate numbers from current state:\n",
      "[0.15211915 0.12706922 0.32744117 0.69415387 0.35896647]\n",
      "\n",
      "change state by generating some more numbers:\n",
      "[0.89136566 0.20187988 0.1106025  0.52755676 0.86765533]\n",
      "\n",
      "generate numbers from past state by reloading state:\n",
      "[0.15211915 0.12706922 0.32744117 0.69415387 0.35896647]\n"
     ]
    }
   ],
   "source": [
    "# a. save state\n",
    "state = np.random.get_state() #CHR: we save the state of the random numbers - later we can then go back to this state and get the same numbers\n",
    "print('generate numbers from current state:')\n",
    "print(np.random.uniform(size=5))\n",
    "\n",
    "# b. draw some random number\n",
    "print('\\nchange state by generating some more numbers:')\n",
    "print(np.random.uniform(size=5))\n",
    "\n",
    "# c. reset state \n",
    "np.random.set_state(state)\n",
    "\n",
    "# d. draw the same random numbers again\n",
    "print('\\ngenerate numbers from past state by reloading state:')\n",
    "print(np.random.uniform(size=5))"
   ]
  },
  {
   "cell_type": "markdown",
   "metadata": {},
   "source": [
    "> **Important**: You should *only set the seed once* per program. Changing seed might brake randomness."
   ]
  },
  {
   "cell_type": "markdown",
   "metadata": {},
   "source": [
    "### 3.2. <a id='toc3_2_'></a>[Different distributions](#toc0_)"
   ]
  },
  {
   "cell_type": "markdown",
   "metadata": {},
   "source": [
    "Draw random numbers from various distributions: normal, beta, uniform."
   ]
  },
  {
   "cell_type": "code",
   "execution_count": 9,
   "metadata": {},
   "outputs": [],
   "source": [
    "X = np.random.normal(loc=0,scale=1,size=10**6) #CHR: loc = mean, scale = standard deviation, size = number of observations\n",
    "Y = np.random.beta(a=5,b=2,size=10**6)\n",
    "Z = np.random.uniform(low=-2,high=2,size=10**6) #CHR: default is that it goes from 0 to 1"
   ]
  },
  {
   "cell_type": "markdown",
   "metadata": {},
   "source": [
    "CHR: THere is a bunch of different distributions that you can draw from - look up"
   ]
  },
  {
   "cell_type": "markdown",
   "metadata": {},
   "source": [
    "Create a **user-defined** probability distribution with `np.random.choice`"
   ]
  },
  {
   "cell_type": "code",
   "execution_count": 10,
   "metadata": {},
   "outputs": [],
   "source": [
    "# a. Support of distribution\n",
    "vec = np.array([-2.5,-2.0,-1.5,-1.0,-0.5,0,0.5,1.0,1.5,2]) #CHR: We create a vector of the discrete numbers you can get\n",
    "\n",
    "# b. Define probabilities\n",
    "prob = np.exp(np.linspace(-1,1,vec.size))**1.1254 # all positive numbers\n",
    "prob /= np.sum(prob) # make probabilities sum to one\n",
    "#CHR: We assign probabilities of drawing each of the discrete number\n",
    "\n",
    "# c. Get draws from distribution\n",
    "K = np.random.choice(vec,size=10**6,p=prob)"
   ]
  },
  {
   "cell_type": "markdown",
   "metadata": {},
   "source": [
    "Plot the various distributions:"
   ]
  },
  {
   "cell_type": "code",
   "execution_count": 17,
   "metadata": {},
   "outputs": [
    {
     "data": {
      "image/png": "[encoded data removed]",
      "text/plain": [
       "<Figure size 640x480 with 1 Axes>"
      ]
     },
     "metadata": {},
     "output_type": "display_data"
    }
   ],
   "source": [
    "fig = plt.figure(dpi=100)\n",
    "ax = fig.add_subplot(1,1,1)\n",
    "ax.hist(X,bins=100,density=True,alpha=0.5,label='normal') # alpha < 1 = transparent\n",
    "ax.hist(Y,bins=100,density=True,alpha=0.5,label='beta')\n",
    "ax.hist(Z,bins=100,density=True,alpha=0.5,label='uniform')\n",
    "ax.hist(K,bins=100,density=True,alpha=0.5,label='choice')\n",
    "ax.hist(V,bins=100,density=True,alpha=0.5,label='chisquare')\n",
    "\n",
    "ax.set_xlim([-3,3]) #CHR: We specify the x-axis\n",
    "ax.legend(loc='upper left'); # note: the ; stops output from being printed"
   ]
  },
  {
   "cell_type": "markdown",
   "metadata": {},
   "source": [
    "**Task:** Follow this [link](https://docs.scipy.org/doc/numpy-1.13.0/reference/routines.random.html). Choose a distribution and add it to the figure above."
   ]
  },
  {
   "cell_type": "markdown",
   "metadata": {},
   "source": [
    "### 3.3. <a id='toc3_3_'></a>[Analytical results](#toc0_)"
   ]
  },
  {
   "cell_type": "markdown",
   "metadata": {},
   "source": [
    "Sometimes, you want to compare a distribution of numbers to a **known** distribution.   \n",
    "For instance, how close are our draws to a normal distribution?  \n",
    "In this case, the `scipy.stats.norm` module comes in handy.  \n",
    "It operates differently from numpy. It creates an **object** to generate numbers from rather than just making an array at once. "
   ]
  },
  {
   "cell_type": "code",
   "execution_count": 31,
   "metadata": {},
   "outputs": [
    {
     "name": "stdout",
     "output_type": "stream",
     "text": [
      "F pdf at 0.0:  0.503 \n",
      "F cdf at 0.0:  0.369\n"
     ]
    },
    {
     "data": {
      "image/png": "[encoded data removed]",
      "text/plain": [
       "<Figure size 640x480 with 1 Axes>"
      ]
     },
     "metadata": {},
     "output_type": "display_data"
    }
   ],
   "source": [
    "from scipy.stats import norm\n",
    "\n",
    "# a. create analytical distribution\n",
    "loc_guess = 0.25 \n",
    "scale_guess = 0.75\n",
    "\n",
    "# Alternative: estimate the guesses\n",
    "# loc_guess, scale_guess = norm.fit(X)\n",
    "\n",
    "# Object to generate random numbers based on parameters\n",
    "F = norm(loc=loc_guess,scale=scale_guess)\n",
    "rnd = F.rvs(5) # example: create 5 random draws from the distribution F\n",
    "print(f'F pdf at 0.0: {F.pdf(0.0): 1.3f} \\nF cdf at 0.0: {F.cdf(0.0): 1.3f}') # the object F has several useful functions available  \n",
    "\n",
    "# b. vector of x values\n",
    "x_low = F.ppf(0.001) # x value where cdf is 0.001 \n",
    "x_high = F.ppf(0.999) # x value where cdf is 0.999\n",
    "#CHR: We cut it off between the two numbers above, technically there is a very small probability that we could get -infinity or infinity from a normal \n",
    "# distribution, but we cut it off here.\n",
    "x_support = np.linspace(x_low,x_high,100) #CHR: we create a vector of 100 numbers between our x_low and x_high\n",
    "x_guess = F.pdf(x_support) # call F to evaluate density at x_support\n",
    "\n",
    "# c. compare X from before with new distribution\n",
    "fig = plt.figure(dpi=100)\n",
    "ax = fig.add_subplot(1,1,1)\n",
    "ax.plot(x_support,x_guess,lw=2,label='estimated') \n",
    "ax.hist(X,bins=100,density=True,histtype='stepfilled'); # plot X using a histogram"
   ]
  },
  {
   "attachments": {},
   "cell_type": "markdown",
   "metadata": {},
   "source": [
    "**Task:** Make the pdf fit the histogram closely."
   ]
  },
  {
   "attachments": {},
   "cell_type": "markdown",
   "metadata": {},
   "source": [
    "CHR: To solve task change loc and scale to 0 and 1 respectively"
   ]
  },
  {
   "cell_type": "code",
   "execution_count": 32,
   "metadata": {},
   "outputs": [
    {
     "name": "stdout",
     "output_type": "stream",
     "text": [
      "[ 1.46825902 -0.20881731 -0.14612881 -0.55472647  0.89905572]\n",
      "[ 1.46825902 -0.20881731 -0.14612881 -0.55472647  0.89905572]\n"
     ]
    }
   ],
   "source": [
    "# Scipy is built on Numpy. So the seed set by Numpy is carried over to Scipy.\n",
    "np.random.seed(1)\n",
    "print(F.rvs(5))\n",
    "np.random.seed(1)\n",
    "print(F.rvs(5))"
   ]
  },
  {
   "cell_type": "markdown",
   "metadata": {},
   "source": [
    "## 4. <a id='toc4_'></a>[Load and save variables](#toc0_)"
   ]
  },
  {
   "cell_type": "markdown",
   "metadata": {},
   "source": [
    "### 4.1. <a id='toc4_1_'></a>[Pickle](#toc0_)"
   ]
  },
  {
   "cell_type": "markdown",
   "metadata": {},
   "source": [
    "A good allround method for loading and saving is to use **pickle**. Here is how to save:"
   ]
  },
  {
   "cell_type": "code",
   "execution_count": 34,
   "metadata": {},
   "outputs": [
    {
     "name": "stdout",
     "output_type": "stream",
     "text": [
      "{'my_dict': {'a': 1, 'b': 2}, 'my_vec': array([1, 2, 3]), 'my_tupple': (1, 4, 2)}\n"
     ]
    }
   ],
   "source": [
    "# a. variables\n",
    "my_dict = {'a':1,'b':2}\n",
    "my_vec = np.array([1,2,3])\n",
    "my_tupple = (1,4,2)\n",
    "\n",
    "# b. put them in a dictionary\n",
    "my_data = {}\n",
    "my_data['my_dict'] = my_dict\n",
    "my_data['my_vec'] = my_vec\n",
    "my_data['my_tupple'] = my_tupple\n",
    "\n",
    "#CHR print(my_data)\n",
    "\n",
    "# c. save the dictionary in a file\n",
    "with open(f'data.p', 'wb') as f: # wb = write binary\n",
    "    pickle.dump(my_data, f)"
   ]
  },
  {
   "cell_type": "markdown",
   "metadata": {},
   "source": [
    "Delete the variables:"
   ]
  },
  {
   "cell_type": "code",
   "execution_count": 35,
   "metadata": {},
   "outputs": [],
   "source": [
    "del my_dict\n",
    "del my_vec\n",
    "del my_tupple"
   ]
  },
  {
   "cell_type": "markdown",
   "metadata": {},
   "source": [
    "Load the data again:"
   ]
  },
  {
   "cell_type": "code",
   "execution_count": 36,
   "metadata": {},
   "outputs": [
    {
     "name": "stdout",
     "output_type": "stream",
     "text": [
      "my_vec does not exist\n",
      "{'a': 1, 'b': 2}\n",
      "[1 2 3]\n",
      "(1, 4, 2)\n"
     ]
    }
   ],
   "source": [
    "# a. try\n",
    "try:\n",
    "    print(my_tupple)\n",
    "except:\n",
    "    print('my_vec does not exist')\n",
    "    \n",
    "# b. load    \n",
    "with open(f'data.p', 'rb') as f: # rb = read binary\n",
    "    data = pickle.load(f)\n",
    "\n",
    "# Unpack data\n",
    "my_dict = data['my_dict']\n",
    "my_vec = data['my_vec']\n",
    "my_tupple = data['my_tupple']\n",
    "\n",
    "# c. try again\n",
    "print(my_dict)\n",
    "print(my_vec)\n",
    "print(my_tupple)"
   ]
  },
  {
   "cell_type": "markdown",
   "metadata": {},
   "source": [
    "### 4.2. <a id='toc4_2_'></a>[Saving with numpy](#toc0_)"
   ]
  },
  {
   "cell_type": "markdown",
   "metadata": {},
   "source": [
    "When only saving/loading **numpy arrays**, an alternative is to use ``np.savez`` (or ``np.savez_compressed``). This is typically faster than pickle."
   ]
  },
  {
   "cell_type": "markdown",
   "metadata": {},
   "source": [
    "Here is how to save some data:"
   ]
  },
  {
   "cell_type": "code",
   "execution_count": 37,
   "metadata": {},
   "outputs": [],
   "source": [
    "my_data = {}\n",
    "my_data['A'] = np.array([1,2,3])\n",
    "my_data['B'] = np.zeros((5,8))\n",
    "my_data['C'] = np.ones((7,3,8))\n",
    "np.savez(f'data.npz', **my_data) #CHR: Remember **kwargs, by writing star star and then our dictionarry, we take all of the key-value pairs in my_data.\n",
    "# '**' unpacks the dictionary"
   ]
  },
  {
   "cell_type": "markdown",
   "metadata": {},
   "source": [
    "Here is how to load the data again:"
   ]
  },
  {
   "cell_type": "code",
   "execution_count": 38,
   "metadata": {},
   "outputs": [
    {
     "name": "stdout",
     "output_type": "stream",
     "text": [
      "[1 2 3]\n",
      "[1 2 3]\n"
     ]
    }
   ],
   "source": [
    "# a. delete\n",
    "del my_data\n",
    "\n",
    "# a. load all\n",
    "my_data = {}\n",
    "with np.load(f'data.npz') as data_obj: #CHR: we load and give it some name\n",
    "    for key in data_obj.files:\n",
    "        my_data[key] = data_obj[key]\n",
    "print(my_data['A']) #CHR: works like a dictionary\n",
    "\n",
    "# b. load single array\n",
    "X = np.load(f'data.npz')['A']\n",
    "print(X)"
   ]
  },
  {
   "cell_type": "markdown",
   "metadata": {},
   "source": [
    "## 5. <a id='toc5_'></a>[Create a class to generate random numbers](#toc0_)"
   ]
  },
  {
   "cell_type": "code",
   "execution_count": 39,
   "metadata": {},
   "outputs": [
    {
     "name": "stdout",
     "output_type": "stream",
     "text": [
      "[6 3 5 4]\n",
      "[3 4 5 6]\n",
      "[6 3 5 2]\n",
      "16\n"
     ]
    }
   ],
   "source": [
    "class dice_cup:\n",
    "    \n",
    "    def __init__(self,ndice):\n",
    "        self.ndice = ndice\n",
    "        #CHR: You initialize by saying how many dices are in the cup\n",
    "    \n",
    "    def roll(self):\n",
    "        self.dice = np.random.randint(1,7,size=self.ndice) #CHR: Draws random numbers for how many dizes you have \n",
    "        print(self.dice) #prints outcome of dice\n",
    "        \n",
    "    def shuffle(self):\n",
    "        np.random.shuffle(self.dice) #CHR: You shuffle the order, so you have the same random numbers, but you just shuffle them around so you get a new order.\n",
    "        print(self.dice)\n",
    "        \n",
    "    def roll_and_sum(self):\n",
    "        self.roll() #CHR: could have also just copied the code from roll()\n",
    "        print(np.sum(self.dice))\n",
    "        \n",
    "my_dice_cup = dice_cup(4)\n",
    "my_dice_cup.roll()\n",
    "my_dice_cup.shuffle()\n",
    "my_dice_cup.roll_and_sum()"
   ]
  },
  {
   "attachments": {},
   "cell_type": "markdown",
   "metadata": {},
   "source": [
    "**Task:** Add a method ``roll_and_sum()`` to the class above, which rolls and print the sum of the dice. <br>\n",
    "*(You can delete the pass statement when starting to code. It's there to inform Python that roll_and_sum() is well defined as Python cannot handle a totally codeless function)*"
   ]
  },
  {
   "cell_type": "code",
   "execution_count": null,
   "metadata": {},
   "outputs": [],
   "source": [
    "# Answer\n",
    "class dice_cup:\n",
    "    \n",
    "    def __init__(self,ndice):\n",
    "        self.ndice = ndice\n",
    "    \n",
    "    def roll(self):\n",
    "        self.dice = np.random.randint(1,7,size=self.ndice)\n",
    "        print(self.dice)\n",
    "        \n",
    "    def shuffle(self):\n",
    "        np.random.shuffle(self.dice)\n",
    "        print(self.dice)\n",
    "        \n",
    "    def roll_and_sum(self):\n",
    "        self.roll()\n",
    "        print(np.sum(self.dice))\n",
    "        \n",
    "my_dice_cup = dice_cup(4)\n",
    "my_dice_cup.roll_and_sum()"
   ]
  },
  {
   "attachments": {},
   "cell_type": "markdown",
   "metadata": {},
   "source": [
    "**This lecture:** We have talked about:\n",
    "\n",
    "1. numpy.random: Drawing (pseudo-)random numbers (seed, state, distributions)\n",
    "2. scipy.stats: Using analytical random distributions (ppf, pdf, cdf, rvs)\n",
    "3. pickle and np.savez: Saving and loading data"
   ]
  },
  {
   "attachments": {},
   "cell_type": "markdown",
   "metadata": {},
   "source": [
    "These methods will be vital when we encouter models that have e.g. many heterogeneous agents "
   ]
  }
 ],
 "metadata": {
  "kernelspec": {
   "display_name": "base",
   "language": "python",
   "name": "python3"
  },
  "language_info": {
   "codemirror_mode": {
    "name": "ipython",
    "version": 3
   },
   "file_extension": ".py",
   "mimetype": "text/x-python",
   "name": "python",
   "nbconvert_exporter": "python",
   "pygments_lexer": "ipython3",
   "version": "3.9.16"
  },
  "orig_nbformat": 4,
  "vscode": {
   "interpreter": {
    "hash": "2164e4eaf16dd6cd705646718fcef4f5f263bad5b7d103e76e9308c0132ca24b"
   }
  }
 },
 "nbformat": 4,
 "nbformat_minor": 2
}
