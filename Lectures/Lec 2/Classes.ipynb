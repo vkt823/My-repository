{
 "cells": [
  {
   "attachments": {},
   "cell_type": "markdown",
   "metadata": {},
   "source": [
    "# Classes"
   ]
  },
  {
   "attachments": {},
   "cell_type": "markdown",
   "metadata": {},
   "source": [
    "**Table of contents**<a id='toc0_'></a>    \n",
    "- 1. [Classes (user-defined types)](#toc1_)    \n",
    "  - 1.1. [Operator methods](#toc1_1_)    \n",
    "  - 1.2. [Creating an economic agent](#toc1_2_)    \n",
    "  - 1.3. [Summary](#toc1_3_)    \n",
    "- 2. [Extra: Iterators](#toc2_)    \n",
    "\n",
    "<!-- vscode-jupyter-toc-config\n",
    "\tnumbering=true\n",
    "\tanchor=true\n",
    "\tflat=false\n",
    "\tminLevel=2\n",
    "\tmaxLevel=6\n",
    "\t/vscode-jupyter-toc-config -->\n",
    "<!-- THIS CELL WILL BE REPLACED ON TOC UPDATE. DO NOT WRITE YOUR TEXT IN THIS CELL -->"
   ]
  },
  {
   "attachments": {},
   "cell_type": "markdown",
   "metadata": {},
   "source": [
    "## 1. <a id='toc1_'></a>[Classes (user-defined types)](#toc0_)"
   ]
  },
  {
   "attachments": {},
   "cell_type": "markdown",
   "metadata": {
    "slideshow": {
     "slide_type": "skip"
    },
    "tags": []
   },
   "source": [
    "New types of objects can be defined using **classes**. <br>\n",
    "Classes can be a bit abstract, but are really useful for solving complicating models. <br>\n",
    "You can view them as advanced containers that contain both data (accessed as attributes) and functions specific the the class (methods) <br>\n",
    "A common approach to solving models using classes is to define the model as a class, then the parameters can be stored as attributes of the class, and the operations required to solve the model will be the methods of the class."
   ]
  },
  {
   "cell_type": "code",
   "execution_count": 1,
   "metadata": {
    "slideshow": {
     "slide_type": "skip"
    },
    "tags": []
   },
   "outputs": [],
   "source": [
    "class Human():\n",
    "    \n",
    "    def __init__(self,name,height,weight): # called when created (initialize). All methods start with the argument self.\n",
    "        \n",
    "        # save the inputs as attributes\n",
    "        self.name = name # an attribute\n",
    "        self.height = height # an attribute\n",
    "        self.weight = weight # an attribute\n",
    "\n",
    "        #CHR: this way we can use them for later in the class.\n",
    "    \n",
    "    def bmi(self): # defines a method\n",
    "        \n",
    "        bmi = self.weight/(self.height/100)**2 # calculate bmi\n",
    "        return bmi # output bmi\n",
    "    \n",
    "    def print_bmi(self): #defines another method\n",
    "        print(self.bmi())\n"
   ]
  },
  {
   "attachments": {},
   "cell_type": "markdown",
   "metadata": {},
   "source": [
    "CHR: A class is like a function, where you create a class here, but it's not actually created until you call the class - then you create an instance of a class (like Jeppe below), where you can have specific data, but all of the methods are the same for different instances of the class.\n",
    "\n",
    "We also call an instance for an object. "
   ]
  },
  {
   "attachments": {},
   "cell_type": "markdown",
   "metadata": {},
   "source": [
    "CHR: All the methods (def ... (self, ...):) start with the argument self, which is the class itself, and then you can have different variables (like here we have name, height, weight)."
   ]
  },
  {
   "attachments": {},
   "cell_type": "markdown",
   "metadata": {
    "slideshow": {
     "slide_type": "skip"
    },
    "tags": []
   },
   "source": [
    "A class is used as follows:"
   ]
  },
  {
   "cell_type": "code",
   "execution_count": 2,
   "metadata": {
    "slideshow": {
     "slide_type": "skip"
    },
    "tags": []
   },
   "outputs": [
    {
     "name": "stdout",
     "output_type": "stream",
     "text": [
      "<class '__main__.Human'>\n",
      "jeppe\n",
      "182\n",
      "80\n",
      "24.151672503320853\n"
     ]
    }
   ],
   "source": [
    "# a. create an instance of the human object called \"jeppe\"       \n",
    "jeppe = Human('jeppe',182,80) # height=182, weight=80\n",
    "print(type(jeppe))\n",
    "\n",
    "# b. print an attribute\n",
    "print(jeppe.name)\n",
    "print(jeppe.height)\n",
    "print(jeppe.weight)\n",
    "\n",
    "# c. print the result of calling a method\n",
    "print(jeppe.bmi()) #when you call a method then you need the brackets"
   ]
  },
  {
   "cell_type": "code",
   "execution_count": 3,
   "metadata": {},
   "outputs": [
    {
     "name": "stdout",
     "output_type": "stream",
     "text": [
      "24.151672503320853\n"
     ]
    }
   ],
   "source": [
    "jeppe.print_bmi()"
   ]
  },
  {
   "attachments": {},
   "cell_type": "markdown",
   "metadata": {
    "slideshow": {
     "slide_type": "skip"
    },
    "tags": []
   },
   "source": [
    "**Methods** are like functions, but can automatically use all the attributes of the class (saved in *self.*) without getting them as arguments."
   ]
  },
  {
   "attachments": {},
   "cell_type": "markdown",
   "metadata": {},
   "source": [
    "CHR: for example, if you have defined parameters in the init part, then you don't need to use the parameters as arguments in later function - you can just unpack them there."
   ]
  },
  {
   "attachments": {},
   "cell_type": "markdown",
   "metadata": {
    "slideshow": {
     "slide_type": "skip"
    },
    "tags": []
   },
   "source": [
    "**Attributes** can be changed and extracted with **.-notation**"
   ]
  },
  {
   "cell_type": "code",
   "execution_count": 4,
   "metadata": {
    "slideshow": {
     "slide_type": "skip"
    },
    "tags": []
   },
   "outputs": [
    {
     "name": "stdout",
     "output_type": "stream",
     "text": [
      "160\n",
      "31.249999999999993\n"
     ]
    }
   ],
   "source": [
    "jeppe.height = 160\n",
    "print(jeppe.height)\n",
    "print(jeppe.bmi())"
   ]
  },
  {
   "attachments": {},
   "cell_type": "markdown",
   "metadata": {
    "slideshow": {
     "slide_type": "skip"
    },
    "tags": []
   },
   "source": [
    "Or with **setattr- and getattr-notation** (set attribute/get attribute)"
   ]
  },
  {
   "cell_type": "code",
   "execution_count": 5,
   "metadata": {
    "slideshow": {
     "slide_type": "skip"
    },
    "tags": []
   },
   "outputs": [
    {
     "name": "stdout",
     "output_type": "stream",
     "text": [
      "182\n",
      "24.151672503320853\n"
     ]
    }
   ],
   "source": [
    "setattr(jeppe,'height',182) # jeppe.height = 182. Changes the attribute.\n",
    "height = getattr(jeppe,'height') # height = jeppe.height. Gets the attribute out of the object.\n",
    "print(height)\n",
    "print(jeppe.bmi())"
   ]
  },
  {
   "attachments": {},
   "cell_type": "markdown",
   "metadata": {},
   "source": [
    "### 1.1. <a id='toc1_1_'></a>[Operator methods](#toc0_)"
   ]
  },
  {
   "attachments": {},
   "cell_type": "markdown",
   "metadata": {
    "slideshow": {
     "slide_type": "skip"
    },
    "tags": []
   },
   "source": [
    "If the **appropriate methods** are defined, standard operators, e.g. +, and general functions such as print can be used.\n",
    "\n",
    "Define a new type of object called a **fraction**:"
   ]
  },
  {
   "cell_type": "code",
   "execution_count": 6,
   "metadata": {
    "code_folding": [],
    "hidden": true,
    "slideshow": {
     "slide_type": "skip"
    },
    "tags": []
   },
   "outputs": [],
   "source": [
    "class Fraction:\n",
    "    \n",
    "    def __init__(self,numerator,denominator): # called when created\n",
    "        self.num = numerator\n",
    "        self.denom = denominator\n",
    "    \n",
    "    def __str__(self): # called when using print\n",
    "        \n",
    "        return f'{self.num}/{self.denom}' # string = self.nom/self.denom\n",
    "    \n",
    "    def __add__(self,other): # called when using +\n",
    "        \n",
    "        new_num = self.num*other.denom + other.num*self.denom\n",
    "        new_denom = self.denom*other.denom\n",
    "        \n",
    "        return Fraction(new_num,new_denom)\n",
    "    "
   ]
  },
  {
   "attachments": {},
   "cell_type": "markdown",
   "metadata": {
    "slideshow": {
     "slide_type": "skip"
    },
    "tags": []
   },
   "source": [
    "**Note:** We use that \n",
    "\n",
    "$$\\frac{a}{b}+\\frac{c}{d}=\\frac{a \\cdot d+c \\cdot b}{b \\cdot d}$$"
   ]
  },
  {
   "attachments": {},
   "cell_type": "markdown",
   "metadata": {
    "slideshow": {
     "slide_type": "skip"
    },
    "tags": []
   },
   "source": [
    "We can now **add fractions**:"
   ]
  },
  {
   "cell_type": "code",
   "execution_count": 7,
   "metadata": {
    "slideshow": {
     "slide_type": "skip"
    },
    "tags": []
   },
   "outputs": [
    {
     "name": "stdout",
     "output_type": "stream",
     "text": [
      "1/3\n"
     ]
    }
   ],
   "source": [
    "x = Fraction(1,3)\n",
    "print(x)"
   ]
  },
  {
   "cell_type": "code",
   "execution_count": 8,
   "metadata": {
    "slideshow": {
     "slide_type": "skip"
    },
    "tags": []
   },
   "outputs": [
    {
     "name": "stdout",
     "output_type": "stream",
     "text": [
      "11/15 <class '__main__.Fraction'>\n"
     ]
    }
   ],
   "source": [
    "x = Fraction(1,3) # 1/3 = 5/15\n",
    "y = Fraction(2,5) # 2/5 = 6/15\n",
    "z = x+y # 5/15 + 6/15 = 11/15\n",
    "print(z,type(z))"
   ]
  },
  {
   "attachments": {},
   "cell_type": "markdown",
   "metadata": {
    "slideshow": {
     "slide_type": "skip"
    },
    "tags": []
   },
   "source": [
    "Equivalent to:"
   ]
  },
  {
   "cell_type": "code",
   "execution_count": null,
   "metadata": {
    "slideshow": {
     "slide_type": "skip"
    },
    "tags": []
   },
   "outputs": [],
   "source": [
    "z_alt = x.__add__(y)\n",
    "print(z,type(z))"
   ]
  },
  {
   "attachments": {},
   "cell_type": "markdown",
   "metadata": {
    "slideshow": {
     "slide_type": "skip"
    },
    "tags": []
   },
   "source": [
    "But we **cannot multiply** fractions (yet):"
   ]
  },
  {
   "cell_type": "code",
   "execution_count": 9,
   "metadata": {
    "slideshow": {
     "slide_type": "skip"
    },
    "tags": []
   },
   "outputs": [
    {
     "name": "stdout",
     "output_type": "stream",
     "text": [
      "multiplication is not defined for the fraction type\n"
     ]
    }
   ],
   "source": [
    "try:\n",
    "    z = x*y\n",
    "    print(z)\n",
    "except:\n",
    "    print('multiplication is not defined for the fraction type')"
   ]
  },
  {
   "attachments": {},
   "cell_type": "markdown",
   "metadata": {
    "slideshow": {
     "slide_type": "skip"
    },
    "tags": []
   },
   "source": [
    "**Task:** Implement multiplication for fractions. <br>\n",
    "Hint: `__mul__` is the name for `*`, like `__add__`is the name for `+`. <br>\n",
    "But you can also just add a method for multiplication, and call it whatever you want."
   ]
  },
  {
   "cell_type": "code",
   "execution_count": 10,
   "metadata": {},
   "outputs": [],
   "source": [
    "class Fraction:\n",
    "    \n",
    "    def __init__(self,numerator,denominator): # called when created\n",
    "        self.num = numerator\n",
    "        self.denom = denominator\n",
    "    \n",
    "    def __str__(self): # called when using print\n",
    "        \n",
    "        return f'{self.num}/{self.denom}' # string = self.nom/self.denom\n",
    "    \n",
    "    def __add__(self,other): # called when using +\n",
    "        \n",
    "        new_num = self.num*other.denom + other.num*self.denom\n",
    "        new_denom = self.denom*other.denom\n",
    "        \n",
    "        return Fraction(new_num,new_denom)\n",
    "    \n",
    "    def __mul__(self,other):\n",
    "\n",
    "        new_num = self.num*other.num\n",
    "        new_denom = self.denom*other.denom\n",
    "\n",
    "        return Fraction(new_num, new_denom)"
   ]
  },
  {
   "cell_type": "code",
   "execution_count": 11,
   "metadata": {},
   "outputs": [
    {
     "name": "stdout",
     "output_type": "stream",
     "text": [
      "2/15\n"
     ]
    }
   ],
   "source": [
    "x = Fraction(1,3) # 1/3 = 5/15\n",
    "y = Fraction(2,5) # 2/5 = 6/15\n",
    "z=x*y # 1/3*2/5 = 2/15\n",
    "print(z)"
   ]
  },
  {
   "attachments": {},
   "cell_type": "markdown",
   "metadata": {},
   "source": [
    "**Answer**"
   ]
  },
  {
   "cell_type": "code",
   "execution_count": null,
   "metadata": {},
   "outputs": [],
   "source": [
    "class Fraction:\n",
    "    \n",
    "    def __init__(self,numerator,denominator): # called when created\n",
    "        self.num = numerator\n",
    "        self.denom = denominator\n",
    "    \n",
    "    def __str__(self): # called when using print\n",
    "        \n",
    "        return f'{self.num}/{self.denom}' # string = self.nom/self.denom\n",
    "    \n",
    "    def __add__(self,other): # called when using +\n",
    "        \n",
    "        new_num = self.num*other.denom + other.num*self.denom\n",
    "        new_denom = self.denom*other.denom\n",
    "        \n",
    "        return Fraction(new_num,new_denom)\n",
    "\n",
    "    def __mul__(self,other):\n",
    "\n",
    "        new_num = self.num*other.num\n",
    "        new_denom = self.denom*other.denom\n",
    "\n",
    "        return Fraction(new_num,new_denom)\n",
    "    "
   ]
  },
  {
   "cell_type": "code",
   "execution_count": null,
   "metadata": {},
   "outputs": [],
   "source": [
    "x = Fraction(1,3) # 1/3 \n",
    "y = Fraction(2,5) # 2/5 \n",
    "z = x*y # 1/3*2/5 = 2/15\n",
    "print(z,type(z))"
   ]
  },
  {
   "attachments": {},
   "cell_type": "markdown",
   "metadata": {},
   "source": [
    "### 1.2. <a id='toc1_2_'></a>[Creating an economic agent](#toc0_)"
   ]
  },
  {
   "attachments": {},
   "cell_type": "markdown",
   "metadata": {},
   "source": [
    "Classes can help simplify and structure your code, especially when solving economic models <br>\n",
    "Another example is defining an economic agent as a class. <br>\n",
    "We'll keep things as simple as possible, and look at an agent with cobb douglass utility function.\n",
    "$$\n",
    "u(x_1,x_2)= x_{1}^{\\alpha}x_{2}^{1-\\alpha}  \n",
    "$$\n",
    "With income, $I$, and prices $p_1$ and $p_2$ we know the solution:\n",
    "$$\n",
    "x_{1}^{*} = \\alpha \\frac{I}{p_1}\n",
    "$$\n",
    "\n",
    "$$\n",
    "x_{2}^{*} = (1-\\alpha) \\frac{I}{p_2}\n",
    "$$"
   ]
  },
  {
   "cell_type": "code",
   "execution_count": 12,
   "metadata": {},
   "outputs": [],
   "source": [
    "import numpy as np"
   ]
  },
  {
   "cell_type": "code",
   "execution_count": 13,
   "metadata": {},
   "outputs": [],
   "source": [
    "class Agent:\n",
    "    def __init__(self,**kwargs):\n",
    "        \n",
    "        self.name = 'Asker'\n",
    "\n",
    "        self.alpha = 0.5\n",
    "        \n",
    "        self.p1 = 1\n",
    "        self.p2 = 2\n",
    "        self.I = 10\n",
    "        \n",
    "        self.x1 = np.nan # not-a-number - we dont have a solution yet\n",
    "        self.x2 = np.nan\n",
    "\n",
    "        self.solved = False\n",
    "\n",
    "        for key, value in kwargs.items():\n",
    "            setattr(self,key,value) # like self.key = value\n",
    "\n",
    "    def __str__(self):\n",
    "        '''\n",
    "        Called when print() is called \n",
    "        Ignore this for now, it simply prints a lot of information about the class\n",
    "        '''\n",
    "\n",
    "        # f-strings (f'') allows for including the string version of variables inside a string if they are inside {}-brackes\n",
    "        # They also allow for choosing how many digits are printed, we'll learn more about them later\n",
    "        text = f'The Agent is called {self.name} and faces this problem: \\n' \n",
    "        text += f'Income = {self.I} \\n' # \\n is line break\n",
    "        text += f'\\u03B1 = {self.alpha} \\n' # \\u03B1 is alpha in unicode for printing\n",
    "        text += f'Prices are (p1,p2) = ({self.p1},{self.p2})\\n'\n",
    "        if self.solved: # Checks if agent problem has been solved\n",
    "            text += f'Optimal consumption of (x1,x2) = ({self.x1},{self.x2})'\n",
    "        else:\n",
    "            text += 'Optimal consumption of (x1,x2) has not been found'\n",
    "        return text\n",
    "\n",
    "\n",
    "    def u_func(self,x1,x2):\n",
    "        return x1**self.alpha*x2**(1-self.alpha)\n",
    "\n",
    "    def expenditure(self,x1,x2):\n",
    "        return x1*self.p1+x2*self.p2\n",
    "\n",
    "    def solve(self):\n",
    "        # We use the cobb douglass formula for an easy solution\n",
    "        self.x1 = self.alpha* self.I/self.p1\n",
    "        self.x2 = (1-self.alpha)*self.I/self.p2\n",
    "\n",
    "    def print_solution(self):\n",
    "        # Prints the solution and the utility and expenditure\n",
    "        text = f'Optimal consumption of (x1,x2) = ({self.x1},{self.x2}) \\n'\n",
    "        text += f'Utility is {self.u_func(self.x1,self.x2):.2f}\\n'\n",
    "        text += f'Expenditure is {self.expenditure(self.x1,self.x2)}'\n",
    "        print(text)\n"
   ]
  },
  {
   "cell_type": "code",
   "execution_count": 14,
   "metadata": {},
   "outputs": [
    {
     "name": "stdout",
     "output_type": "stream",
     "text": [
      "The Agent is called Asker and faces this problem: \n",
      "Income = 10 \n",
      "α = 0.5 \n",
      "Prices are (p1,p2) = (1,2)\n",
      "Optimal consumption of (x1,x2) has not been found\n"
     ]
    }
   ],
   "source": [
    "Asker = Agent()\n",
    "print(Asker)"
   ]
  },
  {
   "cell_type": "code",
   "execution_count": 15,
   "metadata": {},
   "outputs": [
    {
     "name": "stdout",
     "output_type": "stream",
     "text": [
      "Optimal consumption of (x1,x2) = (5.0,2.5) \n",
      "Utility is 3.54\n",
      "Expenditure is 10.0\n"
     ]
    }
   ],
   "source": [
    "Asker.solve()\n",
    "Asker.print_solution()"
   ]
  },
  {
   "cell_type": "code",
   "execution_count": 16,
   "metadata": {},
   "outputs": [
    {
     "name": "stdout",
     "output_type": "stream",
     "text": [
      "The Agent is called Søren and faces this problem: \n",
      "Income = 50 \n",
      "α = 0.5 \n",
      "Prices are (p1,p2) = (1,2)\n",
      "Optimal consumption of (x1,x2) has not been found\n"
     ]
    }
   ],
   "source": [
    "Søren = Agent(I=50, name='Søren')\n",
    "print(Søren)"
   ]
  },
  {
   "cell_type": "code",
   "execution_count": 17,
   "metadata": {},
   "outputs": [
    {
     "name": "stdout",
     "output_type": "stream",
     "text": [
      "Optimal consumption of (x1,x2) = (25.0,12.5) \n",
      "Utility is 17.68\n",
      "Expenditure is 50.0\n"
     ]
    }
   ],
   "source": [
    "Søren.solve()\n",
    "Søren.print_solution()"
   ]
  },
  {
   "attachments": {},
   "cell_type": "markdown",
   "metadata": {},
   "source": [
    "### 1.3. <a id='toc1_3_'></a>[Summary](#toc0_)"
   ]
  },
  {
   "attachments": {},
   "cell_type": "markdown",
   "metadata": {
    "slideshow": {
     "slide_type": "skip"
    },
    "tags": []
   },
   "source": [
    "The take-aways are:\n",
    "\n",
    "1. **A class is a user-defined type**\n",
    "2. **Attributes** are like **variables** encapsulated in the class\n",
    "3. **Methods** are like **functions** encapsulated in the class\n",
    "4. Operators are fundamentally defined in terms of methods"
   ]
  },
  {
   "attachments": {},
   "cell_type": "markdown",
   "metadata": {},
   "source": [
    "## 2. <a id='toc2_'></a>[Extra: Iterators](#toc0_)"
   ]
  },
  {
   "attachments": {},
   "cell_type": "markdown",
   "metadata": {
    "slideshow": {
     "slide_type": "skip"
    },
    "tags": []
   },
   "source": [
    "Consider the following loop, where my_list is said to be **iterable**."
   ]
  },
  {
   "attachments": {},
   "cell_type": "markdown",
   "metadata": {},
   "source": [
    "CHR: Because you can iterate over the list"
   ]
  },
  {
   "cell_type": "code",
   "execution_count": 18,
   "metadata": {
    "slideshow": {
     "slide_type": "skip"
    },
    "tags": []
   },
   "outputs": [
    {
     "name": "stdout",
     "output_type": "stream",
     "text": [
      "0\n",
      "2\n",
      "4\n",
      "6\n",
      "8\n"
     ]
    }
   ],
   "source": [
    "my_list = [0,2,4,6,8]\n",
    "for i in my_list:\n",
    "    print(i)"
   ]
  },
  {
   "attachments": {},
   "cell_type": "markdown",
   "metadata": {
    "slideshow": {
     "slide_type": "skip"
    },
    "tags": []
   },
   "source": [
    "Consider the same loop generated with an **iterator**."
   ]
  },
  {
   "cell_type": "code",
   "execution_count": 19,
   "metadata": {
    "slideshow": {
     "slide_type": "skip"
    },
    "tags": []
   },
   "outputs": [
    {
     "name": "stdout",
     "output_type": "stream",
     "text": [
      "0\n",
      "2\n",
      "4\n",
      "6\n",
      "8\n"
     ]
    }
   ],
   "source": [
    "for i in range(0,10,2):\n",
    "    print(i)"
   ]
  },
  {
   "attachments": {},
   "cell_type": "markdown",
   "metadata": {},
   "source": [
    "CHR: We have created the same loop, but without storing the list"
   ]
  },
  {
   "attachments": {},
   "cell_type": "markdown",
   "metadata": {
    "slideshow": {
     "slide_type": "skip"
    },
    "tags": []
   },
   "source": [
    "This can also be written as:"
   ]
  },
  {
   "cell_type": "code",
   "execution_count": 20,
   "metadata": {
    "slideshow": {
     "slide_type": "skip"
    },
    "tags": []
   },
   "outputs": [
    {
     "name": "stdout",
     "output_type": "stream",
     "text": [
      "<range_iterator object at 0x000001EE5F55E330>\n",
      "0\n",
      "2\n",
      "4\n",
      "6\n",
      "8\n"
     ]
    },
    {
     "ename": "StopIteration",
     "evalue": "",
     "output_type": "error",
     "traceback": [
      "\u001b[1;31m---------------------------------------------------------------------------\u001b[0m",
      "\u001b[1;31mStopIteration\u001b[0m                             Traceback (most recent call last)",
      "\u001b[1;32mc:\\Users\\vkt823\\Introprog\\My-repository\\Lectures\\Lec 2\\Classes.ipynb Cell 52\u001b[0m line \u001b[0;36m8\n\u001b[0;32m      <a href='vscode-notebook-cell:/c%3A/Users/vkt823/Introprog/My-repository/Lectures/Lec%202/Classes.ipynb#Y102sZmlsZQ%3D%3D?line=5'>6</a>\u001b[0m \u001b[39mprint\u001b[39m(\u001b[39mnext\u001b[39m(x))\n\u001b[0;32m      <a href='vscode-notebook-cell:/c%3A/Users/vkt823/Introprog/My-repository/Lectures/Lec%202/Classes.ipynb#Y102sZmlsZQ%3D%3D?line=6'>7</a>\u001b[0m \u001b[39mprint\u001b[39m(\u001b[39mnext\u001b[39m(x))\n\u001b[1;32m----> <a href='vscode-notebook-cell:/c%3A/Users/vkt823/Introprog/My-repository/Lectures/Lec%202/Classes.ipynb#Y102sZmlsZQ%3D%3D?line=7'>8</a>\u001b[0m \u001b[39mprint\u001b[39m(\u001b[39mnext\u001b[39;49m(x))\n",
      "\u001b[1;31mStopIteration\u001b[0m: "
     ]
    }
   ],
   "source": [
    "x = iter(range(0,10,2))\n",
    "print(x)\n",
    "print(next(x))\n",
    "print(next(x))\n",
    "print(next(x))\n",
    "print(next(x))\n",
    "print(next(x))\n",
    "print(next(x))"
   ]
  },
  {
   "attachments": {},
   "cell_type": "markdown",
   "metadata": {
    "slideshow": {
     "slide_type": "skip"
    },
    "tags": []
   },
   "source": [
    "The main benefit here is that the, potentially long, my_list, is never created."
   ]
  },
  {
   "attachments": {},
   "cell_type": "markdown",
   "metadata": {
    "slideshow": {
     "slide_type": "skip"
    },
    "tags": []
   },
   "source": [
    "We can also write **our own iterator class**:"
   ]
  },
  {
   "cell_type": "code",
   "execution_count": 21,
   "metadata": {
    "slideshow": {
     "slide_type": "skip"
    },
    "tags": []
   },
   "outputs": [],
   "source": [
    "class Range_two_step:\n",
    "    \n",
    "    def __init__(self, N):\n",
    "        self.i = 0\n",
    "        self.N = N\n",
    "        \n",
    "    def __iter__(self):\n",
    "        return self\n",
    "    \n",
    "    def __next__(self):\n",
    "        \n",
    "        if self.i >= self.N:\n",
    "            raise StopIteration\n",
    "        \n",
    "        temp = self.i\n",
    "        self.i = self.i + 2\n",
    "        return temp "
   ]
  },
  {
   "attachments": {},
   "cell_type": "markdown",
   "metadata": {
    "slideshow": {
     "slide_type": "skip"
    },
    "tags": []
   },
   "source": [
    "Can then be used as follows:"
   ]
  },
  {
   "cell_type": "code",
   "execution_count": 27,
   "metadata": {
    "slideshow": {
     "slide_type": "skip"
    },
    "tags": []
   },
   "outputs": [
    {
     "name": "stdout",
     "output_type": "stream",
     "text": [
      "0\n",
      "2\n",
      "4\n",
      "6\n",
      "8\n"
     ]
    },
    {
     "ename": "StopIteration",
     "evalue": "",
     "output_type": "error",
     "traceback": [
      "\u001b[1;31m---------------------------------------------------------------------------\u001b[0m",
      "\u001b[1;31mStopIteration\u001b[0m                             Traceback (most recent call last)",
      "\u001b[1;32mc:\\Users\\vkt823\\Introprog\\My-repository\\Lectures\\Lec 2\\Classes.ipynb Cell 57\u001b[0m line \u001b[0;36m7\n\u001b[0;32m      <a href='vscode-notebook-cell:/c%3A/Users/vkt823/Introprog/My-repository/Lectures/Lec%202/Classes.ipynb#Y110sZmlsZQ%3D%3D?line=4'>5</a>\u001b[0m \u001b[39mprint\u001b[39m(\u001b[39mnext\u001b[39m(x))\n\u001b[0;32m      <a href='vscode-notebook-cell:/c%3A/Users/vkt823/Introprog/My-repository/Lectures/Lec%202/Classes.ipynb#Y110sZmlsZQ%3D%3D?line=5'>6</a>\u001b[0m \u001b[39mprint\u001b[39m(\u001b[39mnext\u001b[39m(x))\n\u001b[1;32m----> <a href='vscode-notebook-cell:/c%3A/Users/vkt823/Introprog/My-repository/Lectures/Lec%202/Classes.ipynb#Y110sZmlsZQ%3D%3D?line=6'>7</a>\u001b[0m \u001b[39mprint\u001b[39m(\u001b[39mnext\u001b[39;49m(x))\n\u001b[0;32m      <a href='vscode-notebook-cell:/c%3A/Users/vkt823/Introprog/My-repository/Lectures/Lec%202/Classes.ipynb#Y110sZmlsZQ%3D%3D?line=7'>8</a>\u001b[0m \u001b[39mprint\u001b[39m(\u001b[39mnext\u001b[39m(x))\n",
      "\u001b[1;32mc:\\Users\\vkt823\\Introprog\\My-repository\\Lectures\\Lec 2\\Classes.ipynb Cell 57\u001b[0m line \u001b[0;36m1\n\u001b[0;32m     <a href='vscode-notebook-cell:/c%3A/Users/vkt823/Introprog/My-repository/Lectures/Lec%202/Classes.ipynb#Y110sZmlsZQ%3D%3D?line=9'>10</a>\u001b[0m \u001b[39mdef\u001b[39;00m \u001b[39m__next__\u001b[39m(\u001b[39mself\u001b[39m):\n\u001b[0;32m     <a href='vscode-notebook-cell:/c%3A/Users/vkt823/Introprog/My-repository/Lectures/Lec%202/Classes.ipynb#Y110sZmlsZQ%3D%3D?line=11'>12</a>\u001b[0m     \u001b[39mif\u001b[39;00m \u001b[39mself\u001b[39m\u001b[39m.\u001b[39mi \u001b[39m>\u001b[39m\u001b[39m=\u001b[39m \u001b[39mself\u001b[39m\u001b[39m.\u001b[39mN:\n\u001b[1;32m---> <a href='vscode-notebook-cell:/c%3A/Users/vkt823/Introprog/My-repository/Lectures/Lec%202/Classes.ipynb#Y110sZmlsZQ%3D%3D?line=12'>13</a>\u001b[0m         \u001b[39mraise\u001b[39;00m \u001b[39mStopIteration\u001b[39;00m\n\u001b[0;32m     <a href='vscode-notebook-cell:/c%3A/Users/vkt823/Introprog/My-repository/Lectures/Lec%202/Classes.ipynb#Y110sZmlsZQ%3D%3D?line=14'>15</a>\u001b[0m     temp \u001b[39m=\u001b[39m \u001b[39mself\u001b[39m\u001b[39m.\u001b[39mi\n\u001b[0;32m     <a href='vscode-notebook-cell:/c%3A/Users/vkt823/Introprog/My-repository/Lectures/Lec%202/Classes.ipynb#Y110sZmlsZQ%3D%3D?line=15'>16</a>\u001b[0m     \u001b[39mself\u001b[39m\u001b[39m.\u001b[39mi \u001b[39m=\u001b[39m \u001b[39mself\u001b[39m\u001b[39m.\u001b[39mi \u001b[39m+\u001b[39m \u001b[39m2\u001b[39m\n",
      "\u001b[1;31mStopIteration\u001b[0m: "
     ]
    }
   ],
   "source": [
    "x = iter(Range_two_step(10))\n",
    "print(next(x))\n",
    "print(next(x))\n",
    "print(next(x))\n",
    "print(next(x))\n",
    "print(next(x))\n",
    "print(next(x))\n",
    "print(next(x))"
   ]
  },
  {
   "cell_type": "code",
   "execution_count": 28,
   "metadata": {},
   "outputs": [
    {
     "data": {
      "text/plain": [
       "10"
      ]
     },
     "execution_count": 28,
     "metadata": {},
     "output_type": "execute_result"
    }
   ],
   "source": [
    "x.i"
   ]
  },
  {
   "attachments": {},
   "cell_type": "markdown",
   "metadata": {
    "slideshow": {
     "slide_type": "skip"
    },
    "tags": []
   },
   "source": [
    "Or in a loop:"
   ]
  },
  {
   "cell_type": "code",
   "execution_count": 29,
   "metadata": {
    "slideshow": {
     "slide_type": "skip"
    },
    "tags": []
   },
   "outputs": [
    {
     "name": "stdout",
     "output_type": "stream",
     "text": [
      "0\n",
      "2\n",
      "4\n",
      "6\n",
      "8\n"
     ]
    }
   ],
   "source": [
    "for i in Range_two_step(10):\n",
    "    print(i)"
   ]
  }
 ],
 "metadata": {
  "kernelspec": {
   "display_name": "base",
   "language": "python",
   "name": "python3"
  },
  "language_info": {
   "codemirror_mode": {
    "name": "ipython",
    "version": 3
   },
   "file_extension": ".py",
   "mimetype": "text/x-python",
   "name": "python",
   "nbconvert_exporter": "python",
   "pygments_lexer": "ipython3",
   "version": "3.11.5"
  },
  "orig_nbformat": 4,
  "vscode": {
   "interpreter": {
    "hash": "d23f3ceec305a45481076084313530cecc6283a24046b34365f00383ab0a81b1"
   }
  }
 },
 "nbformat": 4,
 "nbformat_minor": 2
}
