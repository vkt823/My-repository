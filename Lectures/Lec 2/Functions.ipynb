{
 "cells": [
  {
   "attachments": {},
   "cell_type": "markdown",
   "metadata": {},
   "source": [
    "# Functions"
   ]
  },
  {
   "attachments": {},
   "cell_type": "markdown",
   "metadata": {},
   "source": [
    "**Table of contents**<a id='toc0_'></a>    \n",
    "- 1. [Functions](#toc1_)    \n",
    "  - 1.1. [No outputs...](#toc1_1_)    \n",
    "  - 1.2. [Keyword arguments](#toc1_2_)    \n",
    "  - 1.3. [Advanced: unpacking using `*` and `**`](#toc1_3_)    \n",
    "  - 1.4. [A function is an object](#toc1_4_)    \n",
    "  - 1.5. [Scope](#toc1_5_)    \n",
    "  - 1.6. [Task](#toc1_6_)    \n",
    "  - 1.7. [Summary](#toc1_7_)    \n",
    "- 2. [Extra: More on functions](#toc2_)    \n",
    "\n",
    "<!-- vscode-jupyter-toc-config\n",
    "\tnumbering=true\n",
    "\tanchor=true\n",
    "\tflat=false\n",
    "\tminLevel=2\n",
    "\tmaxLevel=6\n",
    "\t/vscode-jupyter-toc-config -->\n",
    "<!-- THIS CELL WILL BE REPLACED ON TOC UPDATE. DO NOT WRITE YOUR TEXT IN THIS CELL -->"
   ]
  },
  {
   "attachments": {},
   "cell_type": "markdown",
   "metadata": {},
   "source": [
    "## 1. <a id='toc1_'></a>[Functions](#toc0_)"
   ]
  },
  {
   "attachments": {},
   "cell_type": "markdown",
   "metadata": {
    "slideshow": {
     "slide_type": "fragment"
    },
    "tags": []
   },
   "source": [
    "The most simple function takes **one argument** and returns **one output**:"
   ]
  },
  {
   "cell_type": "code",
   "execution_count": 2,
   "metadata": {
    "slideshow": {
     "slide_type": "fragment"
    },
    "tags": []
   },
   "outputs": [
    {
     "name": "stdout",
     "output_type": "stream",
     "text": [
      "4\n"
     ]
    }
   ],
   "source": [
    "def f(x):\n",
    "    return x**2\n",
    "\n",
    "print(f(2))"
   ]
  },
  {
   "attachments": {},
   "cell_type": "markdown",
   "metadata": {
    "slideshow": {
     "slide_type": "fragment"
    },
    "tags": []
   },
   "source": [
    "**Note:** The identation after `def` is again required (typically 4 spaces)."
   ]
  },
  {
   "attachments": {},
   "cell_type": "markdown",
   "metadata": {
    "slideshow": {
     "slide_type": "fragment"
    },
    "tags": []
   },
   "source": [
    "Alternatively, you can use a single-line **lambda formulation**:"
   ]
  },
  {
   "cell_type": "code",
   "execution_count": 3,
   "metadata": {
    "slideshow": {
     "slide_type": "fragment"
    },
    "tags": []
   },
   "outputs": [
    {
     "name": "stdout",
     "output_type": "stream",
     "text": [
      "4\n"
     ]
    }
   ],
   "source": [
    "g = lambda x: x**2 \n",
    "print(g(2))"
   ]
  },
  {
   "attachments": {},
   "cell_type": "markdown",
   "metadata": {
    "slideshow": {
     "slide_type": "skip"
    },
    "tags": []
   },
   "source": [
    "Introducing **multiple arguments** are straigtforward:"
   ]
  },
  {
   "cell_type": "code",
   "execution_count": 4,
   "metadata": {
    "slideshow": {
     "slide_type": "skip"
    },
    "tags": []
   },
   "outputs": [
    {
     "name": "stdout",
     "output_type": "stream",
     "text": [
      "8\n"
     ]
    }
   ],
   "source": [
    "def f(x,y):\n",
    "    return x**2 + y**2\n",
    "\n",
    "print(f(2,2))"
   ]
  },
  {
   "cell_type": "code",
   "execution_count": 6,
   "metadata": {},
   "outputs": [
    {
     "name": "stdout",
     "output_type": "stream",
     "text": [
      "8\n"
     ]
    }
   ],
   "source": [
    "g = lambda x,y: x**2+y**2\n",
    "print(g(2,2))"
   ]
  },
  {
   "attachments": {},
   "cell_type": "markdown",
   "metadata": {
    "slideshow": {
     "slide_type": "subslide"
    },
    "tags": []
   },
   "source": [
    "**Multiple outputs** gives tuples"
   ]
  },
  {
   "cell_type": "code",
   "execution_count": 7,
   "metadata": {
    "slideshow": {
     "slide_type": "fragment"
    },
    "tags": []
   },
   "outputs": [
    {
     "name": "stdout",
     "output_type": "stream",
     "text": [
      "full_output = (4, 4)\n",
      "full_output is a <class 'tuple'>\n"
     ]
    }
   ],
   "source": [
    "def f(x,y):\n",
    "    z = x**2\n",
    "    q = y**2\n",
    "    return z,q\n",
    "\n",
    "full_output = f(2,2) # returns a tuple\n",
    "print('full_output =', full_output)\n",
    "print('full_output is a',type(full_output))"
   ]
  },
  {
   "cell_type": "code",
   "execution_count": 18,
   "metadata": {},
   "outputs": [
    {
     "name": "stdout",
     "output_type": "stream",
     "text": [
      "z = 4\n",
      "q = 4\n"
     ]
    }
   ],
   "source": [
    "z,q=f(2,2)\n",
    "#here I just unpack the tuple directly\n",
    "print('z =',z)\n",
    "print('q =',q)"
   ]
  },
  {
   "attachments": {},
   "cell_type": "markdown",
   "metadata": {
    "slideshow": {
     "slide_type": "fragment"
    },
    "tags": []
   },
   "source": [
    "The output tuple can be unpacked:"
   ]
  },
  {
   "cell_type": "code",
   "execution_count": 9,
   "metadata": {
    "slideshow": {
     "slide_type": "fragment"
    },
    "tags": []
   },
   "outputs": [
    {
     "name": "stdout",
     "output_type": "stream",
     "text": [
      "z = 4 q = 4\n"
     ]
    }
   ],
   "source": [
    "z,q = full_output # unpacking\n",
    "print('z =',z,'q =',q)"
   ]
  },
  {
   "attachments": {},
   "cell_type": "markdown",
   "metadata": {},
   "source": [
    "### 1.1. <a id='toc1_1_'></a>[No outputs...](#toc0_)"
   ]
  },
  {
   "attachments": {},
   "cell_type": "markdown",
   "metadata": {
    "slideshow": {
     "slide_type": "skip"
    },
    "tags": []
   },
   "source": [
    "Functions without *any* output can be useful when arguments are mutable:"
   ]
  },
  {
   "cell_type": "code",
   "execution_count": 21,
   "metadata": {
    "slideshow": {
     "slide_type": "skip"
    },
    "tags": []
   },
   "outputs": [
    {
     "name": "stdout",
     "output_type": "stream",
     "text": [
      "[1, 2, 3, 4, 5, 6]\n"
     ]
    }
   ],
   "source": [
    "def f(x): # assume x is a list\n",
    "    new_element = x[-1]+1\n",
    "    x.append(new_element) \n",
    "    \n",
    "x = [1,2,3] # original list\n",
    "f(x) # update list (appending the element 4)\n",
    "f(x) # update list (appending the element 5)\n",
    "f(x)\n",
    "print(x)"
   ]
  },
  {
   "attachments": {},
   "cell_type": "markdown",
   "metadata": {
    "slideshow": {
     "slide_type": "skip"
    },
    "tags": []
   },
   "source": [
    "Note: this can also happen in cases where you do not intend it it happen, so be vary of changing input inside a function"
   ]
  },
  {
   "attachments": {},
   "cell_type": "markdown",
   "metadata": {},
   "source": [
    "### 1.2. <a id='toc1_2_'></a>[Keyword arguments](#toc0_)"
   ]
  },
  {
   "attachments": {},
   "cell_type": "markdown",
   "metadata": {
    "slideshow": {
     "slide_type": "fragment"
    },
    "tags": []
   },
   "source": [
    "We can also have **keyword arguments** with default values (instead of **positionel** arguments):"
   ]
  },
  {
   "cell_type": "code",
   "execution_count": 22,
   "metadata": {
    "slideshow": {
     "slide_type": "fragment"
    },
    "tags": []
   },
   "outputs": [
    {
     "name": "stdout",
     "output_type": "stream",
     "text": [
      "12\n",
      "28\n",
      "76\n"
     ]
    }
   ],
   "source": [
    "def f(x,y,a=2,b=2):\n",
    "    return x**a + y*b\n",
    "\n",
    "print(f(2,4)) \n",
    "print(f(2,4,b=6))\n",
    "print(f(2,4,a=6,b=3))"
   ]
  },
  {
   "attachments": {},
   "cell_type": "markdown",
   "metadata": {
    "slideshow": {
     "slide_type": "fragment"
    },
    "tags": []
   },
   "source": [
    "**Note:** Keyword arguments must come after positional arguments."
   ]
  },
  {
   "attachments": {},
   "cell_type": "markdown",
   "metadata": {},
   "source": [
    "### 1.3. <a id='toc1_3_'></a>[Advanced: unpacking using `*` and `**`](#toc0_)"
   ]
  },
  {
   "attachments": {},
   "cell_type": "markdown",
   "metadata": {},
   "source": [
    "We can define a function with a unspecified number of postional arguments"
   ]
  },
  {
   "cell_type": "code",
   "execution_count": 23,
   "metadata": {},
   "outputs": [
    {
     "name": "stdout",
     "output_type": "stream",
     "text": [
      "ab\n",
      "ab\n"
     ]
    }
   ],
   "source": [
    "def f(*args):\n",
    "    # Inside the function args will be a tuple\n",
    "    output = ''\n",
    "    for x in args:\n",
    "        output += x\n",
    "    return output\n",
    "args = ('a','b')\n",
    "print(f(*args))\n",
    "print(f(args[0],args[1]))"
   ]
  },
  {
   "attachments": {},
   "cell_type": "markdown",
   "metadata": {
    "slideshow": {
     "slide_type": "skip"
    },
    "tags": []
   },
   "source": [
    "We can also use undefined keyword arguments:"
   ]
  },
  {
   "cell_type": "code",
   "execution_count": 24,
   "metadata": {
    "slideshow": {
     "slide_type": "skip"
    },
    "tags": []
   },
   "outputs": [
    {
     "name": "stdout",
     "output_type": "stream",
     "text": [
      "a abc\n",
      "b 2\n",
      "c [1, 2, 3]\n"
     ]
    }
   ],
   "source": [
    "def f(**kwargs):\n",
    "    # kwargs (= \"keyword arguments\") is a dictionary\n",
    "    for key,value in kwargs.items():\n",
    "        print(key,value)\n",
    "f(a='abc',b='2',c=[1,2,3])"
   ]
  },
  {
   "attachments": {},
   "cell_type": "markdown",
   "metadata": {
    "slideshow": {
     "slide_type": "skip"
    },
    "tags": []
   },
   "source": [
    "and these keywords can come from *unpacking a dictionary*: "
   ]
  },
  {
   "cell_type": "code",
   "execution_count": 25,
   "metadata": {
    "slideshow": {
     "slide_type": "skip"
    },
    "tags": []
   },
   "outputs": [
    {
     "name": "stdout",
     "output_type": "stream",
     "text": [
      "a abc\n",
      "b 2\n",
      "c [1, 2, 3]\n"
     ]
    }
   ],
   "source": [
    "my_dict = {'a': 'abc', 'b': '2', 'c': [1,2,3]}\n",
    "f(**my_dict)"
   ]
  },
  {
   "attachments": {},
   "cell_type": "markdown",
   "metadata": {},
   "source": [
    "### 1.4. <a id='toc1_4_'></a>[A function is an object](#toc0_)"
   ]
  },
  {
   "attachments": {},
   "cell_type": "markdown",
   "metadata": {
    "slideshow": {
     "slide_type": "fragment"
    },
    "tags": []
   },
   "source": [
    "A function is an object and can be given to another functions as an argument."
   ]
  },
  {
   "cell_type": "code",
   "execution_count": 26,
   "metadata": {
    "slideshow": {
     "slide_type": "fragment"
    },
    "tags": []
   },
   "outputs": [
    {
     "name": "stdout",
     "output_type": "stream",
     "text": [
      "5\n"
     ]
    }
   ],
   "source": [
    "def f(x):\n",
    "    return x**2\n",
    "\n",
    "def g(x,h):\n",
    "    temp = h(x) # call function h with argument x\n",
    "    return temp+1\n",
    "\n",
    "print(g(2,f))"
   ]
  },
  {
   "attachments": {},
   "cell_type": "markdown",
   "metadata": {},
   "source": [
    "### 1.5. <a id='toc1_5_'></a>[Scope](#toc0_)"
   ]
  },
  {
   "attachments": {},
   "cell_type": "markdown",
   "metadata": {
    "slideshow": {
     "slide_type": "fragment"
    },
    "tags": []
   },
   "source": [
    "**Important:** Variables in functions can be either **local** or **global** in scope.  \n",
    "* **Global** is the main body of your python code.  \n",
    "* **Local** is inside the belly of a function.\n",
    "* **Never** use global variables inside your function's belly."
   ]
  },
  {
   "cell_type": "code",
   "execution_count": 27,
   "metadata": {
    "slideshow": {
     "slide_type": "fragment"
    },
    "tags": []
   },
   "outputs": [
    {
     "name": "stdout",
     "output_type": "stream",
     "text": [
      "16 16 16\n",
      "incrementing the global variable:\n",
      "32 16 16\n"
     ]
    }
   ],
   "source": [
    "a = 4 # a global variable\n",
    "\n",
    "def f(x):\n",
    "    return x**a # a is global. This is BAD. maybe I redefine it at some point\n",
    "\n",
    "def g(x,a=4):\n",
    "    # a's default value is fixed when the function is defined\n",
    "    return x**a \n",
    "\n",
    "def h(x):\n",
    "    a = 4 # a is local, doesn't change the global variable.\n",
    "    return x**a\n",
    "\n",
    "print(f(2), g(2), h(2))\n",
    "print('incrementing the global variable:')\n",
    "a += 1 \n",
    "print(f(2), g(2), h(2)) # output is only changed for f"
   ]
  },
  {
   "attachments": {},
   "cell_type": "markdown",
   "metadata": {},
   "source": [
    "### 1.6. <a id='toc1_6_'></a>[Task](#toc0_)"
   ]
  },
  {
   "attachments": {},
   "cell_type": "markdown",
   "metadata": {
    "slideshow": {
     "slide_type": "skip"
    },
    "tags": []
   },
   "source": [
    "**Task:**  <br>\n",
    "Create a function returning a person's full name. <br>\n",
    "The positional arguments should be her first name and her family name, with middle name as an optional keyword argument with empty as a default."
   ]
  },
  {
   "cell_type": "code",
   "execution_count": 28,
   "metadata": {
    "slideshow": {
     "slide_type": "skip"
    },
    "tags": []
   },
   "outputs": [
    {
     "name": "stdout",
     "output_type": "stream",
     "text": [
      "Christian Fogel Henneberg\n"
     ]
    }
   ],
   "source": [
    "# write your code here\n",
    "def f(first_name, family_name, middle_name=''):\n",
    "    name = first_name + ' ' + family_name\n",
    "    if middle_name != '':\n",
    "        name = first_name +' '+middle_name+' ' + family_name\n",
    "    return name\n",
    "\n",
    "print(f('Christian', 'Henneberg', 'Fogel'))\n",
    "    "
   ]
  },
  {
   "attachments": {},
   "cell_type": "markdown",
   "metadata": {
    "slideshow": {
     "slide_type": "skip"
    },
    "tags": []
   },
   "source": [
    "**Answer:**"
   ]
  },
  {
   "cell_type": "code",
   "execution_count": 29,
   "metadata": {
    "jupyter": {
     "source_hidden": true
    }
   },
   "outputs": [
    {
     "name": "stdout",
     "output_type": "stream",
     "text": [
      "Jeppe \"Economist\" Druedahl\n"
     ]
    }
   ],
   "source": [
    "def full_name(first_name,family_name,middle_name=''):\n",
    "    name = first_name\n",
    "    if middle_name != '':\n",
    "        name += ' '\n",
    "        name += middle_name\n",
    "    name += ' '\n",
    "    name += family_name\n",
    "    return name\n",
    "    \n",
    "print(full_name('Jeppe','Druedahl',middle_name='\"Economist\"'))\n",
    "#best practice to write keyword argument explicitly"
   ]
  },
  {
   "attachments": {},
   "cell_type": "markdown",
   "metadata": {
    "slideshow": {
     "slide_type": "skip"
    },
    "tags": []
   },
   "source": [
    "**Alternative answer** (more advanced, using a built-in list function):"
   ]
  },
  {
   "cell_type": "code",
   "execution_count": 36,
   "metadata": {
    "jupyter": {
     "source_hidden": true
    }
   },
   "outputs": [
    {
     "name": "stdout",
     "output_type": "stream",
     "text": [
      "Jeppe \"Economist\" Druedahl\n"
     ]
    }
   ],
   "source": [
    "def full_name(first_name,family_name,middle_name=''):\n",
    "    name = [first_name]\n",
    "    \n",
    "    if middle_name != '':\n",
    "        name.append(middle_name)\n",
    "        \n",
    "    name.append(family_name)\n",
    "    return ' '.join(name)\n",
    "    #the elements of the name list are joined together \n",
    "    # into a string separated by spaces using the join\n",
    "    #  method with a space character as the separator\n",
    "print(full_name('Jeppe','Druedahl','\"Economist\"'))"
   ]
  },
  {
   "attachments": {},
   "cell_type": "markdown",
   "metadata": {},
   "source": [
    "### 1.7. <a id='toc1_7_'></a>[Summary](#toc0_)"
   ]
  },
  {
   "attachments": {},
   "cell_type": "markdown",
   "metadata": {
    "slideshow": {
     "slide_type": "skip"
    },
    "tags": []
   },
   "source": [
    "**Functions:** \n",
    "\n",
    "1. are **objects**\n",
    "2. can have multiple (or no) **arguments** and **outputs**\n",
    "3. can have **positional** and **keyword** arguments\n",
    "4. can use **local** or **global** variables (**scope**)"
   ]
  },
  {
   "attachments": {},
   "cell_type": "markdown",
   "metadata": {},
   "source": [
    "## 2. <a id='toc2_'></a>[Extra: More on functions](#toc0_)"
   ]
  },
  {
   "attachments": {},
   "cell_type": "markdown",
   "metadata": {
    "slideshow": {
     "slide_type": "skip"
    },
    "tags": []
   },
   "source": [
    "We can have **recursive functions** to calculate the Fibonacci sequence:"
   ]
  },
  {
   "attachments": {},
   "cell_type": "markdown",
   "metadata": {
    "slideshow": {
     "slide_type": "skip"
    },
    "tags": []
   },
   "source": [
    "$$\n",
    "\\begin{aligned}\n",
    "F_0 &= 0 \\\\\n",
    "F_1 &= 1 \\\\\n",
    "F_n &= F_{n-1} + F_{n-2} \\\\\n",
    "\\end{aligned}\n",
    "$$"
   ]
  },
  {
   "cell_type": "code",
   "execution_count": 37,
   "metadata": {
    "slideshow": {
     "slide_type": "skip"
    },
    "tags": []
   },
   "outputs": [
    {
     "name": "stdout",
     "output_type": "stream",
     "text": [
      "13\n"
     ]
    }
   ],
   "source": [
    "def fibonacci(n):\n",
    "    if n == 0:\n",
    "        return 0\n",
    "    elif n == 1:\n",
    "        return 1\n",
    "    else:\n",
    "        return fibonacci(n-1) + fibonacci(n-2)\n",
    "    \n",
    "y = fibonacci(7)\n",
    "print(y)\n",
    "\n",
    "#can be very costly: fibonacci(7) calls fibonacci (6) and fibonacci(5), which then calls..."
   ]
  }
 ],
 "metadata": {
  "kernelspec": {
   "display_name": "base",
   "language": "python",
   "name": "python3"
  },
  "language_info": {
   "codemirror_mode": {
    "name": "ipython",
    "version": 3
   },
   "file_extension": ".py",
   "mimetype": "text/x-python",
   "name": "python",
   "nbconvert_exporter": "python",
   "pygments_lexer": "ipython3",
   "version": "3.9.16"
  },
  "orig_nbformat": 4,
  "vscode": {
   "interpreter": {
    "hash": "d23f3ceec305a45481076084313530cecc6283a24046b34365f00383ab0a81b1"
   }
  }
 },
 "nbformat": 4,
 "nbformat_minor": 2
}
