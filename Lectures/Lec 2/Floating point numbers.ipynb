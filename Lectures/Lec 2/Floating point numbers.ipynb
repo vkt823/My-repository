{
 "cells": [
  {
   "cell_type": "markdown",
   "metadata": {},
   "source": [
    "# Floating point numbers"
   ]
  },
  {
   "cell_type": "markdown",
   "metadata": {},
   "source": [
    "**Table of contents**<a id='toc0_'></a>    \n",
    "- 1. [Floating point numbers](#toc1_)    \n",
    "- 2. [Summary](#toc2_)    \n",
    "\n",
    "<!-- vscode-jupyter-toc-config\n",
    "\tnumbering=true\n",
    "\tanchor=true\n",
    "\tflat=false\n",
    "\tminLevel=2\n",
    "\tmaxLevel=6\n",
    "\t/vscode-jupyter-toc-config -->\n",
    "<!-- THIS CELL WILL BE REPLACED ON TOC UPDATE. DO NOT WRITE YOUR TEXT IN THIS CELL -->"
   ]
  },
  {
   "attachments": {},
   "cell_type": "markdown",
   "metadata": {},
   "source": [
    "## 1. <a id='toc1_'></a>[Floating point numbers](#toc0_)\n",
    "\n",
    "On a computer the real line is approximated with numbers on the form:\n",
    "\n",
    "$$\\text{number} = \\text{significand} \\times \\text{base}^{exponent}$$\n",
    "\n",
    "For a standard 64-bit number this is:\n",
    "* **significand**: 1 bit, positive or negative\n",
    "* **base**: 52 bits\n",
    "* **exponent**: 11 bits\n",
    "\n",
    "Obviously, this is a finite approximation.  \n",
    "All numbers can therefore ***not*** be represented exactly. A *close* neighboring number is thus used."
   ]
  },
  {
   "cell_type": "code",
   "execution_count": 20,
   "metadata": {
    "slideshow": {
     "slide_type": "fragment"
    },
    "tags": []
   },
   "outputs": [
    {
     "name": "stdout",
     "output_type": "stream",
     "text": [
      "0.1000000000000000055511151231257827021181583404541015625000000000000000000000000000000000000000000000\n",
      "17.1999999999999992894572642398998141288757324218750000000000000000000000000000000000000000000000000000\n"
     ]
    }
   ],
   "source": [
    "x = 0.1\n",
    "print(f'{x:.100f}') # printing x with 100 decimals\n",
    "x = 17.2\n",
    "print(f'{x:.100f}') # printing x with 100 decimals"
   ]
  },
  {
   "cell_type": "markdown",
   "metadata": {
    "slideshow": {
     "slide_type": "subslide"
    },
    "tags": []
   },
   "source": [
    "Simple sums might, consequently, not be exactly what you expect."
   ]
  },
  {
   "cell_type": "code",
   "execution_count": 21,
   "metadata": {
    "slideshow": {
     "slide_type": "fragment"
    },
    "tags": []
   },
   "outputs": [
    {
     "name": "stdout",
     "output_type": "stream",
     "text": [
      "0.9999999999999999\n"
     ]
    }
   ],
   "source": [
    "d = 0.0\n",
    "for i in range(10):\n",
    "    d += 0.1\n",
    "print(d)"
   ]
  },
  {
   "cell_type": "code",
   "execution_count": 22,
   "metadata": {},
   "outputs": [
    {
     "name": "stdout",
     "output_type": "stream",
     "text": [
      "0.9999999999999999\n"
     ]
    }
   ],
   "source": [
    "#with a while loop\n",
    "i=0\n",
    "d = 0.0\n",
    "while i < 10:\n",
    "    d +=0.1\n",
    "    i+=1\n",
    "print(d)"
   ]
  },
  {
   "cell_type": "code",
   "execution_count": 28,
   "metadata": {},
   "outputs": [
    {
     "name": "stdout",
     "output_type": "stream",
     "text": [
      "0.9999999999999999\n"
     ]
    }
   ],
   "source": [
    "#list comprehension\n",
    "d = sum([0.1 for _ in range(10)]) #use _ to signify that no var is being used.\n",
    "print(d)"
   ]
  },
  {
   "cell_type": "markdown",
   "metadata": {},
   "source": [
    "And just as surprising:"
   ]
  },
  {
   "cell_type": "code",
   "execution_count": 29,
   "metadata": {},
   "outputs": [
    {
     "name": "stdout",
     "output_type": "stream",
     "text": [
      "True\n"
     ]
    }
   ],
   "source": [
    "print(0.1 == 0.10000000000000001)\n",
    "\n",
    "#you shouldn't test whether floating point numbers to eachother)"
   ]
  },
  {
   "cell_type": "markdown",
   "metadata": {
    "slideshow": {
     "slide_type": "subslide"
    },
    "tags": []
   },
   "source": [
    "**Comparisions of floating point numbers** is therefore always problematic.<br>\n",
    "We know that \n",
    "\n",
    "$$\\frac{a \\cdot c}{b \\cdot c} = \\frac{a}{b}$$\n",
    "\n",
    "but:"
   ]
  },
  {
   "cell_type": "code",
   "execution_count": 30,
   "metadata": {
    "slideshow": {
     "slide_type": "fragment"
    },
    "tags": []
   },
   "outputs": [
    {
     "name": "stdout",
     "output_type": "stream",
     "text": [
      "Does equality hold? False\n"
     ]
    }
   ],
   "source": [
    "a = 100\n",
    "b = 0.3\n",
    "c = 10\n",
    "equality = ((a*c)/(b*c) == a/b)\n",
    "print('Does equality hold?', equality)"
   ]
  },
  {
   "cell_type": "markdown",
   "metadata": {
    "slideshow": {
     "slide_type": "fragment"
    },
    "tags": []
   },
   "source": [
    "However, rounding off the numbers to a close neighbor may help:"
   ]
  },
  {
   "cell_type": "code",
   "execution_count": 31,
   "metadata": {
    "slideshow": {
     "slide_type": "fragment"
    },
    "tags": []
   },
   "outputs": [
    {
     "name": "stdout",
     "output_type": "stream",
     "text": [
      "True\n"
     ]
    }
   ],
   "source": [
    "test = round((a*c)/(b*c), 10) == round(a/b, 10) #we round down to 10 decimals\n",
    "print(test)"
   ]
  },
  {
   "cell_type": "markdown",
   "metadata": {
    "slideshow": {
     "slide_type": "skip"
    },
    "tags": []
   },
   "source": [
    "You may also use the np.isclose function to test if 2 floats are numerically very close, i.e. practically the same:"
   ]
  },
  {
   "cell_type": "code",
   "execution_count": 32,
   "metadata": {
    "slideshow": {
     "slide_type": "fragment"
    },
    "tags": []
   },
   "outputs": [
    {
     "name": "stdout",
     "output_type": "stream",
     "text": [
      "True\n"
     ]
    }
   ],
   "source": [
    "import numpy as np\n",
    "print(np.isclose((a*c)/(b*c), a/b)) "
   ]
  },
  {
   "attachments": {},
   "cell_type": "markdown",
   "metadata": {},
   "source": [
    "CHR: Underflow and overflow will rarely happen in practice, but it's good to know"
   ]
  },
  {
   "cell_type": "markdown",
   "metadata": {
    "slideshow": {
     "slide_type": "subslide"
    },
    "tags": []
   },
   "source": [
    "**Underflow**: Multiplying many small numbers can result in an exact zero:"
   ]
  },
  {
   "cell_type": "code",
   "execution_count": 33,
   "metadata": {
    "slideshow": {
     "slide_type": "fragment"
    },
    "tags": []
   },
   "outputs": [
    {
     "name": "stdout",
     "output_type": "stream",
     "text": [
      "1e-60\n",
      "1e-120\n",
      "1e-180\n",
      "1e-240\n",
      "9.999999999999999e-301\n",
      "0.0\n"
     ]
    }
   ],
   "source": [
    "x = 1e-60\n",
    "y = 1\n",
    "for _ in range(6):\n",
    "    y *= x\n",
    "    print(y)"
   ]
  },
  {
   "cell_type": "markdown",
   "metadata": {
    "slideshow": {
     "slide_type": "subslide"
    },
    "tags": []
   },
   "source": [
    "**Overflow**: If intermediate results are too large to be represented, the final result may be wrong or not possible to calculate:"
   ]
  },
  {
   "cell_type": "code",
   "execution_count": 34,
   "metadata": {
    "slideshow": {
     "slide_type": "fragment"
    },
    "tags": []
   },
   "outputs": [
    {
     "name": "stdout",
     "output_type": "stream",
     "text": [
      "nan\n",
      "inf inf\n"
     ]
    }
   ],
   "source": [
    "x = 1.0\n",
    "y = 2.7\n",
    "\n",
    "# Multiply x and y by (i+1) for each iteration in the loop\n",
    "for i in range(200):    \n",
    "    x *= (i+1)\n",
    "    y *= (i+1) \n",
    "\n",
    "print(y/x) # should be 2.7\n",
    "print(x,y)"
   ]
  },
  {
   "cell_type": "markdown",
   "metadata": {
    "slideshow": {
     "slide_type": "fragment"
    },
    "tags": []
   },
   "source": [
    "**Note:** `nan` is not-a-number. `inf` is infinite."
   ]
  },
  {
   "cell_type": "markdown",
   "metadata": {
    "slideshow": {
     "slide_type": "skip"
    },
    "tags": []
   },
   "source": [
    "**Note:** Order of additions matter, but not by that much:"
   ]
  },
  {
   "cell_type": "code",
   "execution_count": 35,
   "metadata": {
    "slideshow": {
     "slide_type": "skip"
    },
    "tags": []
   },
   "outputs": [
    {
     "name": "stdout",
     "output_type": "stream",
     "text": [
      "1.862645149230957e-09\n"
     ]
    }
   ],
   "source": [
    "sum1 = 10001234.0 + 0.12012 + 0.12312 + 1e-5\n",
    "sum2 = 1e-5 + 0.12312 + 0.12012 + 10001234.0\n",
    "print(sum1-sum2)"
   ]
  },
  {
   "cell_type": "markdown",
   "metadata": {},
   "source": [
    "## 2. <a id='toc2_'></a>[Summary](#toc0_)"
   ]
  },
  {
   "cell_type": "markdown",
   "metadata": {
    "slideshow": {
     "slide_type": "skip"
    },
    "tags": []
   },
   "source": [
    "The take-aways are:\n",
    "\n",
    "1. Decimal numbers are **approximate** on a computer!\n",
    "2. **Never compare floats with equality** (only use strict inequalities)\n",
    "3. Underflow and overflow can create problem (not very important in practice) \n",
    "\n",
    "For further details see [here](https://docs.python.org/3/tutorial/floatingpoint.html).\n",
    "\n",
    "**Videos:**\n",
    "\n",
    "* [Why computers are bad at algebra - Infinite Series](https://www.youtube.com/watch?v=pQs_wx8eoQ8)\n",
    "* [Floating point numbers - Computerphile](https://www.youtube.com/watch?v=PZRI1IfStY0)"
   ]
  }
 ],
 "metadata": {
  "kernelspec": {
   "display_name": "base",
   "language": "python",
   "name": "python3"
  },
  "language_info": {
   "codemirror_mode": {
    "name": "ipython",
    "version": 3
   },
   "file_extension": ".py",
   "mimetype": "text/x-python",
   "name": "python",
   "nbconvert_exporter": "python",
   "pygments_lexer": "ipython3",
   "version": "3.11.5"
  },
  "orig_nbformat": 4,
  "vscode": {
   "interpreter": {
    "hash": "d23f3ceec305a45481076084313530cecc6283a24046b34365f00383ab0a81b1"
   }
  }
 },
 "nbformat": 4,
 "nbformat_minor": 2
}
