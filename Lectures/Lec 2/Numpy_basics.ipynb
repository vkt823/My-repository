{
 "cells": [
  {
   "cell_type": "markdown",
   "metadata": {},
   "source": [
    "# Numpy basics"
   ]
  },
  {
   "cell_type": "markdown",
   "metadata": {},
   "source": [
    "**Table of contents**<a id='toc0_'></a>    \n",
    "- 1. [Numerical python (numpy)](#toc1_)    \n",
    "  - 1.1. [Basics](#toc1_1_)    \n",
    "  - 1.2. [Math](#toc1_2_)    \n",
    "  - 1.3. [Indexing](#toc1_3_)    \n",
    "  - 1.4. [Multidimensional arrays](#toc1_4_)    \n",
    "  - 1.5. [List of good things to know](#toc1_5_)    \n",
    "  - 1.6. [Small quiz](#toc1_6_)    \n",
    "- 2. [Extra: Memory](#toc2_)    \n",
    "\n",
    "<!-- vscode-jupyter-toc-config\n",
    "\tnumbering=true\n",
    "\tanchor=true\n",
    "\tflat=false\n",
    "\tminLevel=2\n",
    "\tmaxLevel=6\n",
    "\t/vscode-jupyter-toc-config -->\n",
    "<!-- THIS CELL WILL BE REPLACED ON TOC UPDATE. DO NOT WRITE YOUR TEXT IN THIS CELL -->"
   ]
  },
  {
   "attachments": {},
   "cell_type": "markdown",
   "metadata": {},
   "source": [
    "**[Numpy](https://numpy.org/)** is the main package for handling numerical data\n",
    "\n",
    "**Further:** [Very detailed numpy tutorial](https://www.python-course.eu/numpy.php)"
   ]
  },
  {
   "cell_type": "markdown",
   "metadata": {},
   "source": [
    "## 1. <a id='toc1_'></a>[Numerical python (numpy)](#toc0_)\n",
    "\n",
    "* So far we have mainly used **base Python**. The set of operations and containers baked into the core of Python. \n",
    "* Now we are importing the package **numpy** (which you got through the Anaconda distribution).  \n",
    "* Numpy is **the** package for handling data going into mathmatical operations (base Python isn't great there). \n",
    "* It is build around it's container, the **ndarray**, for which there is a bunch of especially made routines. \n",
    "* The routines (multiplications, matrix algebra, etc) are highly efficient. Implemented in C-code. \n",
    "* A list (which is base Python) and a ndarray are thus different things that behave differently. "
   ]
  },
  {
   "cell_type": "code",
   "execution_count": 1,
   "metadata": {
    "slideshow": {
     "slide_type": "fragment"
    },
    "tags": []
   },
   "outputs": [],
   "source": [
    "import numpy as np # import the numpy module"
   ]
  },
  {
   "attachments": {},
   "cell_type": "markdown",
   "metadata": {
    "slideshow": {
     "slide_type": "subslide"
    },
    "tags": []
   },
   "source": [
    "A **numpy array** is a lot like a list but with important differences:\n",
    "\n",
    "1. Elements must be of **one homogenous type** (ints, floats...).\n",
    "2. A **slice returns a view** rather than copy of the content.\n",
    "3. A numpy array **cannot change size** after creation (there is no append function).\n",
    "\n",
    "Thus, numpy arrays are less flexible things than lists.  \n",
    "But that is what allows them to use more effecient mathmatical routines. "
   ]
  },
  {
   "cell_type": "markdown",
   "metadata": {},
   "source": [
    "### 1.1. <a id='toc1_1_'></a>[Basics](#toc0_)"
   ]
  },
  {
   "cell_type": "markdown",
   "metadata": {
    "slideshow": {
     "slide_type": "fragment"
    },
    "tags": []
   },
   "source": [
    "Numpy arrays can be **created from lists** and can be **multi-dimensional**:"
   ]
  },
  {
   "cell_type": "code",
   "execution_count": 2,
   "metadata": {
    "slideshow": {
     "slide_type": "fragment"
    },
    "tags": []
   },
   "outputs": [
    {
     "name": "stdout",
     "output_type": "stream",
     "text": [
      "A is a <class 'numpy.ndarray'> and B is a <class 'numpy.ndarray'>\n",
      "As data is int32 Bs data is float64\n",
      "A dimensions: 1 B dimensions: 2\n",
      "shape of A: (10,) shape of B: (4, 3)\n",
      "size of A: 10 size of B: 12\n"
     ]
    }
   ],
   "source": [
    "A = np.array([0, 1, 2, 3, 4, 5, 6, 7, 8, 9]) # one dimension\n",
    "B = np.array([[3.4, 8.7, 9.9], \n",
    "              [1.1, -7.8, -0.7],\n",
    "              [1. , 0.5 , -5.7],\n",
    "              [4.1, 12.3, 4.8]]) # two dimensions #CHR: Can be seen as a matrix\n",
    "\n",
    "print('A is a', type(A),'and B is a', type(B)) # type\n",
    "print('As data is',A.dtype,'Bs data is' , B.dtype) # data type\n",
    "print('A dimensions:', A.ndim, 'B dimensions:',B.ndim) # dimensions\n",
    "print('shape of A:',A.shape,'shape of B:',B.shape) # shape (1d: (columns,), 2d: (row,columns))\n",
    "print('size of A:',A.size,'size of B:',B.size) # size #CHR: the total number of elements"
   ]
  },
  {
   "attachments": {},
   "cell_type": "markdown",
   "metadata": {
    "slideshow": {
     "slide_type": "fragment"
    },
    "tags": []
   },
   "source": [
    "Notice that the matrix `B` was a bunch of stacked **rows**. <br> \n",
    "Python is row major language which means the elements of the ndarray are stored in memory as concatenated rows (Fortran, MATLAB, and Julia are examples of column major languages), see the extra section at the bottom for more on this. "
   ]
  },
  {
   "attachments": {},
   "cell_type": "markdown",
   "metadata": {
    "slideshow": {
     "slide_type": "subslide"
    },
    "tags": []
   },
   "source": [
    "**Slicing** a numpy array returns a **view**, which is a **reference** to the part of the array that was sliced out.  \n",
    "*Remember that views and copies can be extracted from containers.* <br> \n",
    "*Views allows for changing the original object when the view is changed, copies does not*"
   ]
  },
  {
   "cell_type": "code",
   "execution_count": 3,
   "metadata": {
    "slideshow": {
     "slide_type": "fragment"
    },
    "tags": []
   },
   "outputs": [
    {
     "name": "stdout",
     "output_type": "stream",
     "text": [
      "V = [0 0 4 5]\n",
      "A = [0 1 0 0 4 5 6 7 8 9] changed\n",
      "A = [0 1 0 0 4 5 6 7 8 9] did not change\n"
     ]
    }
   ],
   "source": [
    "A = np.array([0, 1, 2, 3, 4, 5, 6, 7, 8, 9])\n",
    "V = A[2:6]         # V is a reference to a slice of a A\n",
    "\n",
    "# Make changes in V and note what happens in A\n",
    "V[0] = 0; V[1] = 0  # The ; allows you to write multiple code-lines in a single line\n",
    "print('V =',V)\n",
    "print('A =',A,'changed')     # A has changed\n",
    "\n",
    "# If C was a copy, A wouldn't have changed\n",
    "C = A.copy()\n",
    "C[0] = 99\n",
    "print('A =',A, 'did not change') "
   ]
  },
  {
   "cell_type": "markdown",
   "metadata": {
    "slideshow": {
     "slide_type": "subslide"
    },
    "tags": []
   },
   "source": [
    "Numpy array can also be created using numpy functions:"
   ]
  },
  {
   "attachments": {},
   "cell_type": "markdown",
   "metadata": {},
   "source": [
    "CHR: the default for these numpy functions is to create float types"
   ]
  },
  {
   "cell_type": "code",
   "execution_count": 4,
   "metadata": {
    "slideshow": {
     "slide_type": "fragment"
    },
    "tags": []
   },
   "outputs": [
    {
     "name": "stdout",
     "output_type": "stream",
     "text": [
      "[[1. 1. 1.]\n",
      " [1. 1. 1.]]\n",
      "[[0. 0.]\n",
      " [0. 0.]\n",
      " [0. 0.]\n",
      " [0. 0.]]\n",
      "[[1. 0.]\n",
      " [0. 1.]]\n",
      "[0.  0.2 0.4 0.6 0.8 1. ]\n"
     ]
    }
   ],
   "source": [
    "print(np.ones((2,3))) #CHR: creates a matrix filled with ones and you input the shape you want\n",
    "print(np.zeros((4,2))) #CHR: creates a matrix filled with zeros and you input the shape you want\n",
    "print(np.eye(2,)) #CHR: creates with ones in the diagonal, you input the shape you want\n",
    "print(np.linspace(0,1,6)) # linear spacing #CHR: sort of the same as range, in regular python, but for integers"
   ]
  },
  {
   "attachments": {},
   "cell_type": "markdown",
   "metadata": {
    "slideshow": {
     "slide_type": "fragment"
    },
    "tags": []
   },
   "source": [
    "**Tip 1:** Try typing a comma inside a function #CHR: Shows help with the specific function\n",
    "\n",
    "**Tip 2:** Try to write `?np.linspace` in a cell"
   ]
  },
  {
   "cell_type": "code",
   "execution_count": null,
   "metadata": {
    "slideshow": {
     "slide_type": "fragment"
    },
    "tags": []
   },
   "outputs": [],
   "source": [
    "?np.linspace"
   ]
  },
  {
   "cell_type": "markdown",
   "metadata": {},
   "source": [
    "### 1.2. <a id='toc1_2_'></a>[Math](#toc0_)\n",
    "\n",
    "Numpy arrays are designed for **mathematical operations**\n",
    "\n",
    "Operations * + - / happen element-by-element between to ndarrays."
   ]
  },
  {
   "cell_type": "code",
   "execution_count": 5,
   "metadata": {
    "slideshow": {
     "slide_type": "fragment"
    },
    "tags": []
   },
   "outputs": [
    {
     "name": "stdout",
     "output_type": "stream",
     "text": [
      "A\n",
      " [[1 0]\n",
      " [0 1]] \n",
      "B\n",
      " [[2 2]\n",
      " [2 2]]\n",
      "A+B\n",
      " [[3 2]\n",
      " [2 3]] \n",
      "\n"
     ]
    }
   ],
   "source": [
    "A = np.array([[1,0],[0,1]])\n",
    "B = np.array([[2,2],[2,2]])\n",
    "\n",
    "print('A\\n',A,'\\nB\\n',B)\n",
    "print('A+B\\n',A+B,'\\n') # Add 2 numpy arrays element-by-element"
   ]
  },
  {
   "cell_type": "code",
   "execution_count": 6,
   "metadata": {
    "slideshow": {
     "slide_type": "subslide"
    },
    "tags": []
   },
   "outputs": [
    {
     "name": "stdout",
     "output_type": "stream",
     "text": [
      "A-B\n",
      " [[-1 -2]\n",
      " [-2 -1]] \n",
      "\n",
      "A*B\n",
      " [[2 0]\n",
      " [0 2]] \n",
      "\n",
      "A/B\n",
      " [[0.5 0. ]\n",
      " [0.  0.5]] \n",
      "\n",
      "A@B\n",
      " [[2 2]\n",
      " [2 2]] \n",
      "\n"
     ]
    }
   ],
   "source": [
    "# More examples\n",
    "print('A-B\\n',A-B,'\\n')\n",
    "print('A*B\\n',A*B,'\\n') # element-by-element product\n",
    "print('A/B\\n',A/B,'\\n') # element-by-element division\n",
    "print('A@B\\n',A@B,'\\n') # matrix product"
   ]
  },
  {
   "cell_type": "markdown",
   "metadata": {
    "slideshow": {
     "slide_type": "subslide"
    },
    "tags": []
   },
   "source": [
    "**Broadcasting**  \n",
    "* If arrays does not fit together **broadcasting** is applied.  \n",
    "* When broadcasting, numpy uses the dimensions that **do fit** (if possible).  \n",
    "* **Simple case:** multiplying a scalar (an array with 1 element) with a larger ndarray.  "
   ]
  },
  {
   "cell_type": "code",
   "execution_count": 7,
   "metadata": {
    "slideshow": {
     "slide_type": "fragment"
    },
    "tags": []
   },
   "outputs": [
    {
     "name": "stdout",
     "output_type": "stream",
     "text": [
      "A\n",
      " [[10 20 30]\n",
      " [40 50 60]] (2, 3)\n",
      "B\n",
      " [1 2 3] (3,)\n",
      "\n",
      "Multiplication along columns\n",
      "[[ 10  40  90]\n",
      " [ 40 100 180]]\n"
     ]
    }
   ],
   "source": [
    "A = np.array([[10, 20, 30], \n",
    "              [40, 50, 60]]) # shape = (2,3) \n",
    "              \n",
    "B = np.array([1, 2, 3]) # shape = (3,) = (1,3)\n",
    "\n",
    "print('A\\n',A, A.shape)\n",
    "print('B\\n',B, B.shape) # Notice the shape 'transformation' column vector!\n",
    "print('\\nMultiplication along columns')\n",
    "print(A*B) "
   ]
  },
  {
   "attachments": {},
   "cell_type": "markdown",
   "metadata": {},
   "source": [
    "In the example above, python notices that A has 3 columns, so for each row it will multiply column 1 with column 1, column2 with column 2, etc."
   ]
  },
  {
   "cell_type": "markdown",
   "metadata": {
    "slideshow": {
     "slide_type": "subslide"
    },
    "tags": []
   },
   "source": [
    "Another example. Note that B above did not have a 2nd dimension.  \n",
    "C has explicitely 2 rows and 1 columun when created as such."
   ]
  },
  {
   "cell_type": "code",
   "execution_count": null,
   "metadata": {
    "slideshow": {
     "slide_type": "fragment"
    },
    "tags": []
   },
   "outputs": [
    {
     "name": "stdout",
     "output_type": "stream",
     "text": [
      "[[1]\n",
      " [2]] (2, 1) \n",
      "\n",
      "[[1 2 3]\n",
      " [2 4 6]] \n",
      "\n"
     ]
    }
   ],
   "source": [
    "C = np.array([[1],[2]]) \n",
    "\n",
    "print(C, C.shape, '\\n') \n",
    "print(A*C,'\\n') # every column is multiplied by C"
   ]
  },
  {
   "cell_type": "code",
   "execution_count": null,
   "metadata": {},
   "outputs": [],
   "source": []
  },
  {
   "attachments": {},
   "cell_type": "markdown",
   "metadata": {},
   "source": [
    "Note that in the example above, python sees, that A has two rows and so it multiplies 1st row with 1st row of C and 2nd row with 2nd row of C"
   ]
  },
  {
   "attachments": {},
   "cell_type": "markdown",
   "metadata": {
    "slideshow": {
     "slide_type": "fragment"
    },
    "tags": []
   },
   "source": [
    "If you want to e.g. add arrays where broadcasting is not possible, consider **np.newaxis**. <br>\n",
    "`np.newaxis` also allows you to be more explict about the operations you want to perform."
   ]
  },
  {
   "cell_type": "code",
   "execution_count": 9,
   "metadata": {
    "slideshow": {
     "slide_type": "skip"
    },
    "tags": []
   },
   "outputs": [
    {
     "name": "stdout",
     "output_type": "stream",
     "text": [
      "[[1]\n",
      " [2]\n",
      " [3]] (3, 1) \n",
      "\n",
      "[[1 2]] (1, 2) \n",
      "\n",
      "[[1 2]\n",
      " [2 4]\n",
      " [3 6]] \n",
      "\n",
      "[[1 2 3]\n",
      " [2 4 6]]\n"
     ]
    }
   ],
   "source": [
    "A = np.array([1, 2, 3]) # Is only 1D, shape = (3,)\n",
    "B = np.array([1,2]) # Is only 1D, shape = (2,)\n",
    "\n",
    "# You cannot broadcast B on A, because neither have 2 dimensions.\n",
    "# Therefore, use newaxis\n",
    "print(A[:,np.newaxis], A[:,np.newaxis].shape, '\\n') # Is now (3,1)\n",
    "print(B[np.newaxis,:], B[np.newaxis,:].shape, '\\n') # Is now (1,2)\n",
    "\n",
    "print(A[:,np.newaxis]*B[np.newaxis,:], '\\n') # A is column vector, B is row vector\n",
    "print(A[np.newaxis,:]*B[:,np.newaxis]) # A is row vector, B is column vector"
   ]
  },
  {
   "cell_type": "markdown",
   "metadata": {
    "slideshow": {
     "slide_type": "skip"
    },
    "tags": []
   },
   "source": [
    "**More on broadcasting:** [Documentation](https://docs.scipy.org/doc/numpy-1.13.0/user/basics.broadcasting.html)."
   ]
  },
  {
   "cell_type": "markdown",
   "metadata": {
    "slideshow": {
     "slide_type": "subslide"
    },
    "tags": []
   },
   "source": [
    "A lot of **mathematical procedures** can easily be performed on numpy arrays."
   ]
  },
  {
   "cell_type": "code",
   "execution_count": 11,
   "metadata": {
    "slideshow": {
     "slide_type": "fragment"
    },
    "tags": []
   },
   "outputs": [
    {
     "name": "stdout",
     "output_type": "stream",
     "text": [
      "-2.5\n",
      "3\n",
      "4.82\n",
      "[-2.5  2.3  3.1  9.1 12.1]\n"
     ]
    }
   ],
   "source": [
    "A =  np.array([3.1, 2.3, 9.1, -2.5, 12.1])\n",
    "print(np.min(A)) # find minimum\n",
    "print(np.argmin(A)) # find index for minimum\n",
    "print(np.mean(A)) # calculate mean\n",
    "print(np.sort(A)) # sort (ascending)"
   ]
  },
  {
   "attachments": {},
   "cell_type": "markdown",
   "metadata": {
    "slideshow": {
     "slide_type": "fragment"
    },
    "tags": []
   },
   "source": [
    "**Note:** Sometimes a method can be used instead of a function, e.g. ``A.mean()``. <br> \n",
    "In numpy all methods are available as functions but not all functions are available as methods. Sometimes there are minute differences between them, like whether they return a copy or a view. <br>\n",
    "We'll tend to stick to functions.\n",
    "\n",
    "CHR: All methods can be found as functions too, but not all functions will be methods too"
   ]
  },
  {
   "cell_type": "markdown",
   "metadata": {},
   "source": [
    "### 1.3. <a id='toc1_3_'></a>[Indexing](#toc0_)"
   ]
  },
  {
   "cell_type": "markdown",
   "metadata": {
    "slideshow": {
     "slide_type": "fragment"
    },
    "tags": []
   },
   "source": [
    "**Multi-dimensional** indexing is done as:"
   ]
  },
  {
   "cell_type": "code",
   "execution_count": 12,
   "metadata": {
    "slideshow": {
     "slide_type": "fragment"
    },
    "tags": []
   },
   "outputs": [
    {
     "name": "stdout",
     "output_type": "stream",
     "text": [
      "X\n",
      " [[11 12 13]\n",
      " [21 22 23]]\n",
      "\n",
      "X[0]\n",
      " [11 12 13]\n",
      "\n",
      "X[:,0]\n",
      " [11 21]\n",
      "\n",
      "X[1,2]\n",
      " 23\n",
      "\n",
      "X[0:2,1:3]\n",
      " [[12 13]\n",
      " [22 23]]\n"
     ]
    }
   ],
   "source": [
    "X = np.array([ [11, 12, 13], \n",
    "               [21, 22, 23] ])\n",
    "print('X\\n',X)\n",
    "print('\\nX[0]\\n',X[0]) # first row, all columns (this is implictly X[0,:])\n",
    "print('\\nX[:,0]\\n',X[:,0]) # all rows, first column\n",
    "print('\\nX[1,2]\\n',X[1,2]) # second row, third column\n",
    "print('\\nX[0:2,1:3]\\n',X[0:2,1:3]) # rows 1-2, Column 2-3"
   ]
  },
  {
   "attachments": {},
   "cell_type": "markdown",
   "metadata": {
    "slideshow": {
     "slide_type": "subslide"
    },
    "tags": []
   },
   "source": [
    "Indexes can be **logical**. Logical 'and' is `&` and logical 'or' is `|`. <br>\n",
    "(how to type `|` varies a lot across keyboards, you should be able to find out how to type it by searching \"vertical line keyboard\" for your computer)"
   ]
  },
  {
   "cell_type": "code",
   "execution_count": null,
   "metadata": {
    "slideshow": {
     "slide_type": "fragment"
    },
    "tags": []
   },
   "outputs": [],
   "source": [
    "A = np.array([1,2,3,4,1,2,3,4])\n",
    "B = np.array([3,3,3,3,2,3,2,2])\n",
    "I = (A < 3) & (B == 3) # note & instead of 'and', indicates element-wise comparison\n",
    "print(I)\n",
    "print(A[I],'\\n') #CHR: You get the elements of A where I is true\n",
    "\n",
    "# Two ways of getting indices of the elements == True\n",
    "print(np.where(I)) # A 'where' clause normally asks for where the True elements are.\n",
    "print(np.nonzero(I)) # Because a True boolean is a 1 while a False is a 0."
   ]
  },
  {
   "cell_type": "code",
   "execution_count": null,
   "metadata": {
    "slideshow": {
     "slide_type": "fragment"
    },
    "tags": []
   },
   "outputs": [],
   "source": [
    "I = (A < 3) | (B == 3) # note | instead of 'or'\n",
    "print(A[I])"
   ]
  },
  {
   "cell_type": "markdown",
   "metadata": {},
   "source": [
    "### 1.4. <a id='toc1_4_'></a>[Multidimensional arrays](#toc0_)"
   ]
  },
  {
   "attachments": {},
   "cell_type": "markdown",
   "metadata": {},
   "source": [
    "Arrays can have more dimensions than two, they become more difficult to understand, but can be really useful. <br>\n",
    "The python way of understanding them is as matrices storing matrices. <br>\n",
    "In the shape attribute, the rows and columns of the most iner matrix is then the second last and last elements of the shape"
   ]
  },
  {
   "cell_type": "code",
   "execution_count": null,
   "metadata": {},
   "outputs": [],
   "source": [
    "A_i = np.array([[1,2],\n",
    "                [3,4]])\n",
    "A = np.array([A_i,A_i,A_i])\n",
    "\n",
    "print(A.shape) # (Number of matrices,rows,cols)\n",
    "print(A)"
   ]
  },
  {
   "cell_type": "code",
   "execution_count": null,
   "metadata": {},
   "outputs": [],
   "source": [
    "B_i = np.array([[5,5],\n",
    "                [5,5]])\n",
    "\n",
    "AB = np.array([[A_i,A_i,A_i],\n",
    "                [B_i,B_i,B_i]])\n",
    "print(AB.shape) # (rows in matrix of matrices , columns in matrix of matrices, rows, columns )\n",
    "print(AB)"
   ]
  },
  {
   "attachments": {},
   "cell_type": "markdown",
   "metadata": {},
   "source": [
    "**Note:** the inner matrices (A_i and B_i) should be of the same shape"
   ]
  },
  {
   "cell_type": "markdown",
   "metadata": {},
   "source": [
    "### 1.5. <a id='toc1_5_'></a>[List of good things to know](#toc0_)"
   ]
  },
  {
   "cell_type": "markdown",
   "metadata": {
    "slideshow": {
     "slide_type": "fragment"
    },
    "tags": []
   },
   "source": [
    "**Attributes and methods** to know:\n",
    "\n",
    "- size / ndim / shape\n",
    "- ravel / reshape / sort\n",
    "- copy"
   ]
  },
  {
   "cell_type": "markdown",
   "metadata": {
    "slideshow": {
     "slide_type": "fragment"
    },
    "tags": []
   },
   "source": [
    "**Functions** to know:\n",
    "\n",
    "- array / empty / zeros / ones / linspace\n",
    "- mean / median / std / var / sum / percentile\n",
    "- min/max, argmin/argmax / fmin / fmax / sort / clip\n",
    "- meshgrid / hstack / vstack / concatenate / tile / insert\n",
    "- allclose / isnan / isinf / isfinite / any / all"
   ]
  },
  {
   "cell_type": "markdown",
   "metadata": {
    "slideshow": {
     "slide_type": "fragment"
    },
    "tags": []
   },
   "source": [
    "**Concepts** to know:\n",
    "\n",
    "- view vs. copy\n",
    "- broadcasting\n",
    "- logical indexing"
   ]
  },
  {
   "attachments": {},
   "cell_type": "markdown",
   "metadata": {},
   "source": [
    "The important thing is not to try to memorize all of this. <br> \n",
    "The important thing is to understand the logic of how numpy works and get an idea about the things numpy can help you with.\n",
    "Googling numpy and what mathematical operation you want to do will more often than not, give a numpy function that does what you're looking for. \n",
    "As you code during your projects, hopefully you'll then memorize the functiontionalities you find the most useful."
   ]
  },
  {
   "cell_type": "markdown",
   "metadata": {},
   "source": [
    "### 1.6. <a id='toc1_6_'></a>[Small quiz](#toc0_)"
   ]
  },
  {
   "attachments": {},
   "cell_type": "markdown",
   "metadata": {
    "slideshow": {
     "slide_type": "subslide"
    },
    "tags": []
   },
   "source": [
    "What follows is a number of codeblocks, with print statements that are commented out. Try to predict what will be printed, and check if you're correct afterwards."
   ]
  },
  {
   "cell_type": "code",
   "execution_count": 14,
   "metadata": {},
   "outputs": [
    {
     "name": "stdout",
     "output_type": "stream",
     "text": [
      "[3 3 2 2]\n"
     ]
    }
   ],
   "source": [
    "A = np.array([1, 2, 3, 4])\n",
    "B = np.array([3,3,2,2])\n",
    "I = (B==3) | A>=1\n",
    "print(B[I])"
   ]
  },
  {
   "cell_type": "code",
   "execution_count": 16,
   "metadata": {},
   "outputs": [
    {
     "name": "stdout",
     "output_type": "stream",
     "text": [
      "[[2. 2.]\n",
      " [2. 2.]\n",
      " [2. 2.]\n",
      " [2. 2.]]\n",
      "[3. 3.]\n"
     ]
    }
   ],
   "source": [
    "A = np.ones((4,2))*2\n",
    "B = A[0:2,1]+ 1 \n",
    "print(A)"
   ]
  },
  {
   "cell_type": "code",
   "execution_count": 17,
   "metadata": {},
   "outputs": [
    {
     "name": "stdout",
     "output_type": "stream",
     "text": [
      "[3. 3.]\n"
     ]
    }
   ],
   "source": [
    "A = np.ones((4,2))*2\n",
    "B = A[0:2,1]+ 1 \n",
    "print(B)"
   ]
  },
  {
   "attachments": {},
   "cell_type": "markdown",
   "metadata": {},
   "source": [
    "B is a NumPy array with two elements, both of which are 3.0. This is because A[0:2,1] extracts the elements in the second column of the first two rows of A, which are both 2.0, and then adding 1 to each element gives us the array [3.0, 3.0]."
   ]
  },
  {
   "cell_type": "code",
   "execution_count": 20,
   "metadata": {},
   "outputs": [
    {
     "name": "stdout",
     "output_type": "stream",
     "text": [
      "[[1. 1.]\n",
      " [1. 1.]]\n",
      "[[ 5]\n",
      " [10]]\n",
      "[[ 5.  5.]\n",
      " [10. 10.]]\n",
      "[[ 5.  5.]\n",
      " [10. 10.]]\n",
      "True\n"
     ]
    }
   ],
   "source": [
    "A = np.ones((2,2))\n",
    "B = np.array([[5],[10]])\n",
    "print(A)\n",
    "print(B)\n",
    "print(A*B)\n",
    "print(B*A)\n",
    "print(np.all(A*B==B*A))"
   ]
  },
  {
   "cell_type": "code",
   "execution_count": 22,
   "metadata": {
    "slideshow": {
     "slide_type": "fragment"
    },
    "tags": []
   },
   "outputs": [
    {
     "name": "stdout",
     "output_type": "stream",
     "text": [
      "[1 2 3 0 0]\n",
      "6\n"
     ]
    }
   ],
   "source": [
    "A = np.array([1,2,3,4,5])\n",
    "B = A[3:]\n",
    "B[:] = 0\n",
    "print(A)\n",
    "print(np.sum(A))"
   ]
  },
  {
   "cell_type": "markdown",
   "metadata": {},
   "source": [
    "## 2. <a id='toc2_'></a>[Extra: Memory](#toc0_)"
   ]
  },
  {
   "cell_type": "markdown",
   "metadata": {
    "slideshow": {
     "slide_type": "skip"
    },
    "tags": []
   },
   "source": [
    "Recall that matrices in memory is structured in **rows** (as opposed to columns). You can see how B (the unravelled version of A) looks - it's a row.. "
   ]
  },
  {
   "cell_type": "code",
   "execution_count": null,
   "metadata": {
    "slideshow": {
     "slide_type": "skip"
    },
    "tags": []
   },
   "outputs": [],
   "source": [
    "A = np.array([[3.1,4.2],[5.7,9.3]])\n",
    "B = A.ravel() # one-dimensional view of A\n",
    "print(A.shape,A[0,:])\n",
    "print(B.shape,B)"
   ]
  }
 ],
 "metadata": {
  "kernelspec": {
   "display_name": "base",
   "language": "python",
   "name": "python3"
  },
  "language_info": {
   "codemirror_mode": {
    "name": "ipython",
    "version": 3
   },
   "file_extension": ".py",
   "mimetype": "text/x-python",
   "name": "python",
   "nbconvert_exporter": "python",
   "pygments_lexer": "ipython3",
   "version": "3.9.16"
  },
  "orig_nbformat": 4,
  "vscode": {
   "interpreter": {
    "hash": "d23f3ceec305a45481076084313530cecc6283a24046b34365f00383ab0a81b1"
   }
  }
 },
 "nbformat": 4,
 "nbformat_minor": 2
}
