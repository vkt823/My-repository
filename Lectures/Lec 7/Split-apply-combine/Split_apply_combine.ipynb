{
 "cells": [
  {
   "cell_type": "markdown",
   "metadata": {},
   "source": [
    "# Split-apply-combine"
   ]
  },
  {
   "cell_type": "markdown",
   "metadata": {},
   "source": [
    "**Table of contents**<a id='toc0_'></a>    \n",
    "- 1. [Groupby](#toc1_)    \n",
    "- 2. [Split-Apply-Combine](#toc2_)    \n",
    "    - 2.1.1. [Do the splitting and applying with `agg()`](#toc2_1_1_)    \n",
    "    - 2.1.2. [Splitting, applying and combining all together with - `apply()`  and `transform()` directly](#toc2_1_2_)    \n",
    "- 3. [Optimizing performance](#toc3_)    \n",
    "    - 3.1.1. [Need more complex group by stuff?](#toc3_1_1_)    \n",
    "    - 3.1.2. [Additional links](#toc3_1_2_)    \n",
    "- 4. [Built-in functions to aggregate data in Pandas](#toc4_)    \n",
    "\n",
    "<!-- vscode-jupyter-toc-config\n",
    "\tnumbering=true\n",
    "\tanchor=true\n",
    "\tflat=false\n",
    "\tminLevel=2\n",
    "\tmaxLevel=6\n",
    "\t/vscode-jupyter-toc-config -->\n",
    "<!-- THIS CELL WILL BE REPLACED ON TOC UPDATE. DO NOT WRITE YOUR TEXT IN THIS CELL -->"
   ]
  },
  {
   "cell_type": "markdown",
   "metadata": {},
   "source": [
    "One of the most useful skills to learn is **the split-apply-combine process**. For example, we may want to compute the average employment rate within a municipality over time and calculate whether the employment rate in each year is above or below the average. We calculate this variable using a split-apply-combine procedure: \n",
    "\n",
    "1. **split**: divide the dataset into units (one for each municipality)\n",
    "2. **apply**: compute the average employment rate for each unit\n",
    "3. **combine**: merge this new variable back onto the original dataset"
   ]
  },
  {
   "cell_type": "code",
   "execution_count": 1,
   "metadata": {},
   "outputs": [],
   "source": [
    "import numpy as np\n",
    "import pandas as pd\n",
    "\n",
    "import matplotlib.pyplot as plt\n",
    "plt.rcParams.update({\"axes.grid\":True,\"grid.color\":\"black\",\"grid.alpha\":\"0.25\",\"grid.linestyle\":\"--\"})\n",
    "plt.rcParams.update({'font.size': 14})"
   ]
  },
  {
   "cell_type": "markdown",
   "metadata": {},
   "source": [
    "## 1. <a id='toc1_'></a>[Groupby](#toc0_)"
   ]
  },
  {
   "cell_type": "markdown",
   "metadata": {},
   "source": [
    "**Example data:**"
   ]
  },
  {
   "cell_type": "code",
   "execution_count": 2,
   "metadata": {},
   "outputs": [
    {
     "data": {
      "text/html": [
       "<div>\n",
       "<style scoped>\n",
       "    .dataframe tbody tr th:only-of-type {\n",
       "        vertical-align: middle;\n",
       "    }\n",
       "\n",
       "    .dataframe tbody tr th {\n",
       "        vertical-align: top;\n",
       "    }\n",
       "\n",
       "    .dataframe thead th {\n",
       "        text-align: right;\n",
       "    }\n",
       "</style>\n",
       "<table border=\"1\" class=\"dataframe\">\n",
       "  <thead>\n",
       "    <tr style=\"text-align: right;\">\n",
       "      <th></th>\n",
       "      <th>municipality</th>\n",
       "      <th>year</th>\n",
       "      <th>empl</th>\n",
       "    </tr>\n",
       "  </thead>\n",
       "  <tbody>\n",
       "    <tr>\n",
       "      <th>0</th>\n",
       "      <td>Copenhagen</td>\n",
       "      <td>2008</td>\n",
       "      <td>72.5</td>\n",
       "    </tr>\n",
       "    <tr>\n",
       "      <th>1</th>\n",
       "      <td>Frederiksberg</td>\n",
       "      <td>2008</td>\n",
       "      <td>75.6</td>\n",
       "    </tr>\n",
       "    <tr>\n",
       "      <th>2</th>\n",
       "      <td>Dragør</td>\n",
       "      <td>2008</td>\n",
       "      <td>80.5</td>\n",
       "    </tr>\n",
       "    <tr>\n",
       "      <th>3</th>\n",
       "      <td>Tårnby</td>\n",
       "      <td>2008</td>\n",
       "      <td>79.0</td>\n",
       "    </tr>\n",
       "    <tr>\n",
       "      <th>4</th>\n",
       "      <td>Albertslund</td>\n",
       "      <td>2008</td>\n",
       "      <td>73.1</td>\n",
       "    </tr>\n",
       "  </tbody>\n",
       "</table>\n",
       "</div>"
      ],
      "text/plain": [
       "    municipality  year  empl\n",
       "0     Copenhagen  2008  72.5\n",
       "1  Frederiksberg  2008  75.6\n",
       "2         Dragør  2008  80.5\n",
       "3         Tårnby  2008  79.0\n",
       "4    Albertslund  2008  73.1"
      ]
     },
     "execution_count": 2,
     "metadata": {},
     "output_type": "execute_result"
    }
   ],
   "source": [
    "empl = pd.read_csv('data/RAS200_long.csv')\n",
    "empl.head()"
   ]
  },
  {
   "cell_type": "code",
   "execution_count": 3,
   "metadata": {},
   "outputs": [],
   "source": [
    "empl.rename(columns={'empl':'e'}, inplace=True)"
   ]
  },
  {
   "cell_type": "code",
   "execution_count": 4,
   "metadata": {},
   "outputs": [
    {
     "data": {
      "text/html": [
       "<div>\n",
       "<style scoped>\n",
       "    .dataframe tbody tr th:only-of-type {\n",
       "        vertical-align: middle;\n",
       "    }\n",
       "\n",
       "    .dataframe tbody tr th {\n",
       "        vertical-align: top;\n",
       "    }\n",
       "\n",
       "    .dataframe thead th {\n",
       "        text-align: right;\n",
       "    }\n",
       "</style>\n",
       "<table border=\"1\" class=\"dataframe\">\n",
       "  <thead>\n",
       "    <tr style=\"text-align: right;\">\n",
       "      <th></th>\n",
       "      <th>municipality</th>\n",
       "      <th>year</th>\n",
       "      <th>e</th>\n",
       "      <th>empl_demean</th>\n",
       "    </tr>\n",
       "  </thead>\n",
       "  <tbody>\n",
       "    <tr>\n",
       "      <th>0</th>\n",
       "      <td>Copenhagen</td>\n",
       "      <td>2008</td>\n",
       "      <td>72.5</td>\n",
       "      <td>-1.61811</td>\n",
       "    </tr>\n",
       "    <tr>\n",
       "      <th>1</th>\n",
       "      <td>Frederiksberg</td>\n",
       "      <td>2008</td>\n",
       "      <td>75.6</td>\n",
       "      <td>1.48189</td>\n",
       "    </tr>\n",
       "    <tr>\n",
       "      <th>2</th>\n",
       "      <td>Dragør</td>\n",
       "      <td>2008</td>\n",
       "      <td>80.5</td>\n",
       "      <td>6.38189</td>\n",
       "    </tr>\n",
       "    <tr>\n",
       "      <th>3</th>\n",
       "      <td>Tårnby</td>\n",
       "      <td>2008</td>\n",
       "      <td>79.0</td>\n",
       "      <td>4.88189</td>\n",
       "    </tr>\n",
       "    <tr>\n",
       "      <th>4</th>\n",
       "      <td>Albertslund</td>\n",
       "      <td>2008</td>\n",
       "      <td>73.1</td>\n",
       "      <td>-1.01811</td>\n",
       "    </tr>\n",
       "  </tbody>\n",
       "</table>\n",
       "</div>"
      ],
      "text/plain": [
       "    municipality  year     e  empl_demean\n",
       "0     Copenhagen  2008  72.5     -1.61811\n",
       "1  Frederiksberg  2008  75.6      1.48189\n",
       "2         Dragør  2008  80.5      6.38189\n",
       "3         Tårnby  2008  79.0      4.88189\n",
       "4    Albertslund  2008  73.1     -1.01811"
      ]
     },
     "execution_count": 4,
     "metadata": {},
     "output_type": "execute_result"
    }
   ],
   "source": [
    "# A simple, unconditional transformation of data. Works because of broadcasting. \n",
    "empl['empl_demean'] = empl.e - empl.e.mean()\n",
    "empl.head()"
   ]
  },
  {
   "cell_type": "code",
   "execution_count": 5,
   "metadata": {},
   "outputs": [
    {
     "data": {
      "text/html": [
       "<div>\n",
       "<style scoped>\n",
       "    .dataframe tbody tr th:only-of-type {\n",
       "        vertical-align: middle;\n",
       "    }\n",
       "\n",
       "    .dataframe tbody tr th {\n",
       "        vertical-align: top;\n",
       "    }\n",
       "\n",
       "    .dataframe thead th {\n",
       "        text-align: right;\n",
       "    }\n",
       "</style>\n",
       "<table border=\"1\" class=\"dataframe\">\n",
       "  <thead>\n",
       "    <tr style=\"text-align: right;\">\n",
       "      <th></th>\n",
       "      <th>municipality</th>\n",
       "      <th>year</th>\n",
       "      <th>e</th>\n",
       "      <th>empl_demean</th>\n",
       "    </tr>\n",
       "  </thead>\n",
       "  <tbody>\n",
       "    <tr>\n",
       "      <th>68</th>\n",
       "      <td>Aabenraa</td>\n",
       "      <td>2008</td>\n",
       "      <td>74.6</td>\n",
       "      <td>0.48189</td>\n",
       "    </tr>\n",
       "    <tr>\n",
       "      <th>167</th>\n",
       "      <td>Aabenraa</td>\n",
       "      <td>2009</td>\n",
       "      <td>71.6</td>\n",
       "      <td>-2.51811</td>\n",
       "    </tr>\n",
       "    <tr>\n",
       "      <th>266</th>\n",
       "      <td>Aabenraa</td>\n",
       "      <td>2010</td>\n",
       "      <td>70.9</td>\n",
       "      <td>-3.21811</td>\n",
       "    </tr>\n",
       "    <tr>\n",
       "      <th>365</th>\n",
       "      <td>Aabenraa</td>\n",
       "      <td>2011</td>\n",
       "      <td>70.2</td>\n",
       "      <td>-3.91811</td>\n",
       "    </tr>\n",
       "    <tr>\n",
       "      <th>464</th>\n",
       "      <td>Aabenraa</td>\n",
       "      <td>2012</td>\n",
       "      <td>69.5</td>\n",
       "      <td>-4.61811</td>\n",
       "    </tr>\n",
       "  </tbody>\n",
       "</table>\n",
       "</div>"
      ],
      "text/plain": [
       "    municipality  year     e  empl_demean\n",
       "68      Aabenraa  2008  74.6      0.48189\n",
       "167     Aabenraa  2009  71.6     -2.51811\n",
       "266     Aabenraa  2010  70.9     -3.21811\n",
       "365     Aabenraa  2011  70.2     -3.91811\n",
       "464     Aabenraa  2012  69.5     -4.61811"
      ]
     },
     "execution_count": 5,
     "metadata": {},
     "output_type": "execute_result"
    }
   ],
   "source": [
    "empl = empl.sort_values(['municipality','year']) # sort by first municipality then year\n",
    "empl.head(5)"
   ]
  },
  {
   "cell_type": "markdown",
   "metadata": {},
   "source": [
    "Use **groupby** to calculate **within means**:"
   ]
  },
  {
   "cell_type": "code",
   "execution_count": 6,
   "metadata": {},
   "outputs": [
    {
     "data": {
      "text/plain": [
       "municipality\n",
       "Aabenraa       72.092857\n",
       "Aalborg        70.164286\n",
       "Aarhus         69.671429\n",
       "Albertslund    69.500000\n",
       "Allerød        81.900000\n",
       "Name: e, dtype: float64"
      ]
     },
     "execution_count": 6,
     "metadata": {},
     "output_type": "execute_result"
    }
   ],
   "source": [
    "empl.groupby(['municipality'])['e'].mean().head(5)"
   ]
  },
  {
   "attachments": {},
   "cell_type": "markdown",
   "metadata": {},
   "source": [
    "A more general formulation would use apply:"
   ]
  },
  {
   "cell_type": "code",
   "execution_count": 7,
   "metadata": {},
   "outputs": [
    {
     "data": {
      "text/plain": [
       "municipality\n",
       "Aabenraa       72.092857\n",
       "Aalborg        70.164286\n",
       "Aarhus         69.671429\n",
       "Albertslund    69.500000\n",
       "Allerød        81.900000\n",
       "Name: e, dtype: float64"
      ]
     },
     "execution_count": 7,
     "metadata": {},
     "output_type": "execute_result"
    }
   ],
   "source": [
    "empl.groupby(['municipality'])['e'].apply('mean').head(5)"
   ]
  },
  {
   "attachments": {},
   "cell_type": "markdown",
   "metadata": {},
   "source": [
    "**Custom functions:** In the apply part, `'mean'` can be replaced with a different statistic or specified using `lambda` notation. \n",
    "\n",
    "**Warning:** `lambda` implementations will often be a pretty slow alternative to *vectorized* operations. More on that later. \n",
    "\n",
    "An example with average change:"
   ]
  },
  {
   "cell_type": "code",
   "execution_count": 8,
   "metadata": {},
   "outputs": [
    {
     "data": {
      "text/plain": [
       "municipality\n",
       "Aabenraa       0.069231\n",
       "Aalborg        0.084615\n",
       "Aarhus         0.084615\n",
       "Albertslund    0.038462\n",
       "Allerød        0.038462\n",
       "Name: e, dtype: float64"
      ]
     },
     "execution_count": 8,
     "metadata": {},
     "output_type": "execute_result"
    }
   ],
   "source": [
    "# Define a lambda function to applied down rows of a column in blocks defined by the groupby. \n",
    "avg_first_diff = lambda x: x.diff(1).mean() # A pd.Series has a function diff that does the job.\n",
    "\n",
    "# Apply the lambda and print head of output\n",
    "empl.groupby('municipality')['e'].apply(avg_first_diff).head(5)"
   ]
  },
  {
   "cell_type": "markdown",
   "metadata": {},
   "source": [
    "Or:"
   ]
  },
  {
   "cell_type": "code",
   "execution_count": 9,
   "metadata": {},
   "outputs": [
    {
     "data": {
      "text/plain": [
       "municipality\n",
       "Aabenraa       0.069231\n",
       "Aalborg        0.084615\n",
       "Aarhus         0.084615\n",
       "Albertslund    0.038462\n",
       "Allerød        0.038462\n",
       "Name: e, dtype: float64"
      ]
     },
     "execution_count": 9,
     "metadata": {},
     "output_type": "execute_result"
    }
   ],
   "source": [
    "# We can also define our lambda with a numpy implementation. \n",
    "avg_first_diff = lambda x: np.mean(x[1:]-x[:-1])\n",
    "\n",
    "# Need the extra lambda function to retrieve values (aka a numpy array) of e for the avg_first_diff.\n",
    "empl.groupby('municipality')['e'].apply(lambda x: avg_first_diff(x.values)).head(5)"
   ]
  },
  {
   "attachments": {},
   "cell_type": "markdown",
   "metadata": {},
   "source": [
    "**Note:** Using multiple methods in one line (e.g. `empl.groupby().apply().head()`) is called method chaining, and is very popular and usefull for pandas "
   ]
  },
  {
   "cell_type": "markdown",
   "metadata": {},
   "source": [
    "**Plot statistics**: Dispersion in employment rate across Danish municipalities over time."
   ]
  },
  {
   "cell_type": "code",
   "execution_count": 10,
   "metadata": {},
   "outputs": [
    {
     "data": {
      "image/png": "[encoded data removed]",
      "text/plain": [
       "<Figure size 640x480 with 1 Axes>"
      ]
     },
     "metadata": {},
     "output_type": "display_data"
    }
   ],
   "source": [
    "fig = plt.figure()\n",
    "ax = fig.add_subplot(1,1,1)\n",
    "\n",
    "empl.groupby('year')['e'].std().plot(ax=ax,style='-o')\n",
    "\n",
    "ax.set_ylabel('std. dev.')\n",
    "ax.set_title('std. dev. across municipalities in the employment rate');"
   ]
  },
  {
   "cell_type": "markdown",
   "metadata": {},
   "source": [
    "## 2. <a id='toc2_'></a>[Split-Apply-Combine](#toc0_)"
   ]
  },
  {
   "cell_type": "markdown",
   "metadata": {},
   "source": [
    "**Goal:** Calculate within municipality difference to mean employment rate."
   ]
  },
  {
   "cell_type": "markdown",
   "metadata": {},
   "source": [
    "**Start** by splitting, applying and combining **manually:**"
   ]
  },
  {
   "cell_type": "markdown",
   "metadata": {},
   "source": [
    "**1. Split**:"
   ]
  },
  {
   "cell_type": "code",
   "execution_count": 11,
   "metadata": {},
   "outputs": [
    {
     "name": "stdout",
     "output_type": "stream",
     "text": [
      "<pandas.core.groupby.generic.SeriesGroupBy object at 0x000001D778BA6A60>\n"
     ]
    }
   ],
   "source": [
    "e_grouped = empl.groupby('municipality')['e']\n",
    "\n",
    "# The e_grouped object is not ready for inspection\n",
    "print(e_grouped)"
   ]
  },
  {
   "cell_type": "markdown",
   "metadata": {},
   "source": [
    "**2. Apply:**"
   ]
  },
  {
   "cell_type": "code",
   "execution_count": 12,
   "metadata": {},
   "outputs": [
    {
     "data": {
      "text/plain": [
       "municipality\n",
       "Aabenraa       72.092857\n",
       "Aalborg        70.164286\n",
       "Aarhus         69.671429\n",
       "Albertslund    69.500000\n",
       "Allerød        81.900000\n",
       "Assens         72.814286\n",
       "Ballerup       73.592857\n",
       "Billund        76.978571\n",
       "Bornholm       68.485714\n",
       "Brøndby        69.357143\n",
       "Name: e, dtype: float64"
      ]
     },
     "execution_count": 12,
     "metadata": {},
     "output_type": "execute_result"
    }
   ],
   "source": [
    "e_mean = e_grouped.mean() # mean employment for each municipality\n",
    "e_mean.head(10)"
   ]
  },
  {
   "cell_type": "markdown",
   "metadata": {},
   "source": [
    "Change name of series:"
   ]
  },
  {
   "cell_type": "code",
   "execution_count": 13,
   "metadata": {},
   "outputs": [],
   "source": [
    "e_mean.name = 'e_mean' # necessary for join"
   ]
  },
  {
   "cell_type": "markdown",
   "metadata": {},
   "source": [
    "**3. Combine:**"
   ]
  },
  {
   "cell_type": "code",
   "execution_count": 14,
   "metadata": {},
   "outputs": [
    {
     "data": {
      "text/html": [
       "<div>\n",
       "<style scoped>\n",
       "    .dataframe tbody tr th:only-of-type {\n",
       "        vertical-align: middle;\n",
       "    }\n",
       "\n",
       "    .dataframe tbody tr th {\n",
       "        vertical-align: top;\n",
       "    }\n",
       "\n",
       "    .dataframe thead th {\n",
       "        text-align: right;\n",
       "    }\n",
       "</style>\n",
       "<table border=\"1\" class=\"dataframe\">\n",
       "  <thead>\n",
       "    <tr style=\"text-align: right;\">\n",
       "      <th></th>\n",
       "      <th>year</th>\n",
       "      <th>e</th>\n",
       "      <th>empl_demean</th>\n",
       "      <th>e_mean</th>\n",
       "      <th>e_demean</th>\n",
       "    </tr>\n",
       "    <tr>\n",
       "      <th>municipality</th>\n",
       "      <th></th>\n",
       "      <th></th>\n",
       "      <th></th>\n",
       "      <th></th>\n",
       "      <th></th>\n",
       "    </tr>\n",
       "  </thead>\n",
       "  <tbody>\n",
       "    <tr>\n",
       "      <th>Copenhagen</th>\n",
       "      <td>2008</td>\n",
       "      <td>72.5</td>\n",
       "      <td>-1.61811</td>\n",
       "      <td>71.528571</td>\n",
       "      <td>0.971429</td>\n",
       "    </tr>\n",
       "    <tr>\n",
       "      <th>Copenhagen</th>\n",
       "      <td>2009</td>\n",
       "      <td>70.0</td>\n",
       "      <td>-4.11811</td>\n",
       "      <td>71.528571</td>\n",
       "      <td>-1.528571</td>\n",
       "    </tr>\n",
       "    <tr>\n",
       "      <th>Copenhagen</th>\n",
       "      <td>2010</td>\n",
       "      <td>69.7</td>\n",
       "      <td>-4.41811</td>\n",
       "      <td>71.528571</td>\n",
       "      <td>-1.828571</td>\n",
       "    </tr>\n",
       "    <tr>\n",
       "      <th>Copenhagen</th>\n",
       "      <td>2011</td>\n",
       "      <td>69.6</td>\n",
       "      <td>-4.51811</td>\n",
       "      <td>71.528571</td>\n",
       "      <td>-1.928571</td>\n",
       "    </tr>\n",
       "    <tr>\n",
       "      <th>Copenhagen</th>\n",
       "      <td>2012</td>\n",
       "      <td>69.4</td>\n",
       "      <td>-4.71811</td>\n",
       "      <td>71.528571</td>\n",
       "      <td>-2.128571</td>\n",
       "    </tr>\n",
       "    <tr>\n",
       "      <th>Copenhagen</th>\n",
       "      <td>2013</td>\n",
       "      <td>69.7</td>\n",
       "      <td>-4.41811</td>\n",
       "      <td>71.528571</td>\n",
       "      <td>-1.828571</td>\n",
       "    </tr>\n",
       "    <tr>\n",
       "      <th>Copenhagen</th>\n",
       "      <td>2014</td>\n",
       "      <td>70.0</td>\n",
       "      <td>-4.11811</td>\n",
       "      <td>71.528571</td>\n",
       "      <td>-1.528571</td>\n",
       "    </tr>\n",
       "    <tr>\n",
       "      <th>Copenhagen</th>\n",
       "      <td>2015</td>\n",
       "      <td>70.8</td>\n",
       "      <td>-3.31811</td>\n",
       "      <td>71.528571</td>\n",
       "      <td>-0.728571</td>\n",
       "    </tr>\n",
       "    <tr>\n",
       "      <th>Copenhagen</th>\n",
       "      <td>2016</td>\n",
       "      <td>71.5</td>\n",
       "      <td>-2.61811</td>\n",
       "      <td>71.528571</td>\n",
       "      <td>-0.028571</td>\n",
       "    </tr>\n",
       "    <tr>\n",
       "      <th>Copenhagen</th>\n",
       "      <td>2017</td>\n",
       "      <td>72.2</td>\n",
       "      <td>-1.91811</td>\n",
       "      <td>71.528571</td>\n",
       "      <td>0.671429</td>\n",
       "    </tr>\n",
       "    <tr>\n",
       "      <th>Copenhagen</th>\n",
       "      <td>2018</td>\n",
       "      <td>73.2</td>\n",
       "      <td>-0.91811</td>\n",
       "      <td>71.528571</td>\n",
       "      <td>1.671429</td>\n",
       "    </tr>\n",
       "    <tr>\n",
       "      <th>Copenhagen</th>\n",
       "      <td>2019</td>\n",
       "      <td>73.9</td>\n",
       "      <td>-0.21811</td>\n",
       "      <td>71.528571</td>\n",
       "      <td>2.371429</td>\n",
       "    </tr>\n",
       "    <tr>\n",
       "      <th>Copenhagen</th>\n",
       "      <td>2020</td>\n",
       "      <td>72.8</td>\n",
       "      <td>-1.31811</td>\n",
       "      <td>71.528571</td>\n",
       "      <td>1.271429</td>\n",
       "    </tr>\n",
       "    <tr>\n",
       "      <th>Copenhagen</th>\n",
       "      <td>2021</td>\n",
       "      <td>76.1</td>\n",
       "      <td>1.98189</td>\n",
       "      <td>71.528571</td>\n",
       "      <td>4.571429</td>\n",
       "    </tr>\n",
       "  </tbody>\n",
       "</table>\n",
       "</div>"
      ],
      "text/plain": [
       "              year     e  empl_demean     e_mean  e_demean\n",
       "municipality                                              \n",
       "Copenhagen    2008  72.5     -1.61811  71.528571  0.971429\n",
       "Copenhagen    2009  70.0     -4.11811  71.528571 -1.528571\n",
       "Copenhagen    2010  69.7     -4.41811  71.528571 -1.828571\n",
       "Copenhagen    2011  69.6     -4.51811  71.528571 -1.928571\n",
       "Copenhagen    2012  69.4     -4.71811  71.528571 -2.128571\n",
       "Copenhagen    2013  69.7     -4.41811  71.528571 -1.828571\n",
       "Copenhagen    2014  70.0     -4.11811  71.528571 -1.528571\n",
       "Copenhagen    2015  70.8     -3.31811  71.528571 -0.728571\n",
       "Copenhagen    2016  71.5     -2.61811  71.528571 -0.028571\n",
       "Copenhagen    2017  72.2     -1.91811  71.528571  0.671429\n",
       "Copenhagen    2018  73.2     -0.91811  71.528571  1.671429\n",
       "Copenhagen    2019  73.9     -0.21811  71.528571  2.371429\n",
       "Copenhagen    2020  72.8     -1.31811  71.528571  1.271429\n",
       "Copenhagen    2021  76.1      1.98189  71.528571  4.571429"
      ]
     },
     "execution_count": 14,
     "metadata": {},
     "output_type": "execute_result"
    }
   ],
   "source": [
    "empl_ = empl.set_index('municipality').join(e_mean, how='left') # Many-to-one left join\n",
    "empl_['e_demean'] = empl_.e - empl_.e_mean\n",
    "\n",
    "# Extract the rows for Copenhagen\n",
    "I = (empl_.index =='Copenhagen')\n",
    "empl_.loc[I,:]\n",
    "\n",
    "# When municipality is in the index this can also be done using .xs:\n",
    "empl_.xs('Copenhagen')"
   ]
  },
  {
   "cell_type": "markdown",
   "metadata": {},
   "source": [
    "**Plot:**"
   ]
  },
  {
   "cell_type": "code",
   "execution_count": 15,
   "metadata": {},
   "outputs": [
    {
     "data": {
      "image/png": "[encoded data removed]",
      "text/plain": [
       "<Figure size 640x480 with 1 Axes>"
      ]
     },
     "metadata": {},
     "output_type": "display_data"
    }
   ],
   "source": [
    "municipalities = ['Copenhagen','Roskilde','Lejre']\n",
    "\n",
    "fig = plt.figure()\n",
    "ax = fig.add_subplot(1,1,1)\n",
    "\n",
    "# Here we use the fact that the index has multiple levels (years) for an elegant loop\n",
    "for m in municipalities:\n",
    "    empl_.xs(m).plot(x='year',y='e_demean',ax=ax,label=m)\n",
    "\n",
    "ax.legend(frameon=True)\n",
    "ax.set_ylabel('difference to mean');"
   ]
  },
  {
   "cell_type": "markdown",
   "metadata": {},
   "source": [
    "#### 2.1.1. <a id='toc2_1_1_'></a>[Do the splitting and applying with `agg()`](#toc0_)"
   ]
  },
  {
   "attachments": {},
   "cell_type": "markdown",
   "metadata": {},
   "source": [
    "**Agg:** Very similar to `apply()` but allows you to calculate more than one statistic, and allows you to calculate different statistics for different variables using a dictionary, you cannot however calculate cross variable statistics. "
   ]
  },
  {
   "cell_type": "code",
   "execution_count": 16,
   "metadata": {},
   "outputs": [
    {
     "data": {
      "text/html": [
       "<div>\n",
       "<style scoped>\n",
       "    .dataframe tbody tr th:only-of-type {\n",
       "        vertical-align: middle;\n",
       "    }\n",
       "\n",
       "    .dataframe tbody tr th {\n",
       "        vertical-align: top;\n",
       "    }\n",
       "\n",
       "    .dataframe thead th {\n",
       "        text-align: right;\n",
       "    }\n",
       "</style>\n",
       "<table border=\"1\" class=\"dataframe\">\n",
       "  <thead>\n",
       "    <tr style=\"text-align: right;\">\n",
       "      <th></th>\n",
       "      <th>year</th>\n",
       "      <th>e</th>\n",
       "      <th>empl_demean</th>\n",
       "      <th>e_mean</th>\n",
       "      <th>e_std</th>\n",
       "      <th>diff</th>\n",
       "    </tr>\n",
       "    <tr>\n",
       "      <th>municipality</th>\n",
       "      <th></th>\n",
       "      <th></th>\n",
       "      <th></th>\n",
       "      <th></th>\n",
       "      <th></th>\n",
       "      <th></th>\n",
       "    </tr>\n",
       "  </thead>\n",
       "  <tbody>\n",
       "    <tr>\n",
       "      <th>Copenhagen</th>\n",
       "      <td>2008</td>\n",
       "      <td>72.5</td>\n",
       "      <td>-1.61811</td>\n",
       "      <td>71.528571</td>\n",
       "      <td>2.008991</td>\n",
       "      <td>0.971429</td>\n",
       "    </tr>\n",
       "    <tr>\n",
       "      <th>Copenhagen</th>\n",
       "      <td>2009</td>\n",
       "      <td>70.0</td>\n",
       "      <td>-4.11811</td>\n",
       "      <td>71.528571</td>\n",
       "      <td>2.008991</td>\n",
       "      <td>-1.528571</td>\n",
       "    </tr>\n",
       "    <tr>\n",
       "      <th>Copenhagen</th>\n",
       "      <td>2010</td>\n",
       "      <td>69.7</td>\n",
       "      <td>-4.41811</td>\n",
       "      <td>71.528571</td>\n",
       "      <td>2.008991</td>\n",
       "      <td>-1.828571</td>\n",
       "    </tr>\n",
       "    <tr>\n",
       "      <th>Copenhagen</th>\n",
       "      <td>2011</td>\n",
       "      <td>69.6</td>\n",
       "      <td>-4.51811</td>\n",
       "      <td>71.528571</td>\n",
       "      <td>2.008991</td>\n",
       "      <td>-1.928571</td>\n",
       "    </tr>\n",
       "    <tr>\n",
       "      <th>Copenhagen</th>\n",
       "      <td>2012</td>\n",
       "      <td>69.4</td>\n",
       "      <td>-4.71811</td>\n",
       "      <td>71.528571</td>\n",
       "      <td>2.008991</td>\n",
       "      <td>-2.128571</td>\n",
       "    </tr>\n",
       "    <tr>\n",
       "      <th>Copenhagen</th>\n",
       "      <td>2013</td>\n",
       "      <td>69.7</td>\n",
       "      <td>-4.41811</td>\n",
       "      <td>71.528571</td>\n",
       "      <td>2.008991</td>\n",
       "      <td>-1.828571</td>\n",
       "    </tr>\n",
       "    <tr>\n",
       "      <th>Copenhagen</th>\n",
       "      <td>2014</td>\n",
       "      <td>70.0</td>\n",
       "      <td>-4.11811</td>\n",
       "      <td>71.528571</td>\n",
       "      <td>2.008991</td>\n",
       "      <td>-1.528571</td>\n",
       "    </tr>\n",
       "    <tr>\n",
       "      <th>Copenhagen</th>\n",
       "      <td>2015</td>\n",
       "      <td>70.8</td>\n",
       "      <td>-3.31811</td>\n",
       "      <td>71.528571</td>\n",
       "      <td>2.008991</td>\n",
       "      <td>-0.728571</td>\n",
       "    </tr>\n",
       "    <tr>\n",
       "      <th>Copenhagen</th>\n",
       "      <td>2016</td>\n",
       "      <td>71.5</td>\n",
       "      <td>-2.61811</td>\n",
       "      <td>71.528571</td>\n",
       "      <td>2.008991</td>\n",
       "      <td>-0.028571</td>\n",
       "    </tr>\n",
       "    <tr>\n",
       "      <th>Copenhagen</th>\n",
       "      <td>2017</td>\n",
       "      <td>72.2</td>\n",
       "      <td>-1.91811</td>\n",
       "      <td>71.528571</td>\n",
       "      <td>2.008991</td>\n",
       "      <td>0.671429</td>\n",
       "    </tr>\n",
       "    <tr>\n",
       "      <th>Copenhagen</th>\n",
       "      <td>2018</td>\n",
       "      <td>73.2</td>\n",
       "      <td>-0.91811</td>\n",
       "      <td>71.528571</td>\n",
       "      <td>2.008991</td>\n",
       "      <td>1.671429</td>\n",
       "    </tr>\n",
       "    <tr>\n",
       "      <th>Copenhagen</th>\n",
       "      <td>2019</td>\n",
       "      <td>73.9</td>\n",
       "      <td>-0.21811</td>\n",
       "      <td>71.528571</td>\n",
       "      <td>2.008991</td>\n",
       "      <td>2.371429</td>\n",
       "    </tr>\n",
       "    <tr>\n",
       "      <th>Copenhagen</th>\n",
       "      <td>2020</td>\n",
       "      <td>72.8</td>\n",
       "      <td>-1.31811</td>\n",
       "      <td>71.528571</td>\n",
       "      <td>2.008991</td>\n",
       "      <td>1.271429</td>\n",
       "    </tr>\n",
       "    <tr>\n",
       "      <th>Copenhagen</th>\n",
       "      <td>2021</td>\n",
       "      <td>76.1</td>\n",
       "      <td>1.98189</td>\n",
       "      <td>71.528571</td>\n",
       "      <td>2.008991</td>\n",
       "      <td>4.571429</td>\n",
       "    </tr>\n",
       "  </tbody>\n",
       "</table>\n",
       "</div>"
      ],
      "text/plain": [
       "              year     e  empl_demean     e_mean     e_std      diff\n",
       "municipality                                                        \n",
       "Copenhagen    2008  72.5     -1.61811  71.528571  2.008991  0.971429\n",
       "Copenhagen    2009  70.0     -4.11811  71.528571  2.008991 -1.528571\n",
       "Copenhagen    2010  69.7     -4.41811  71.528571  2.008991 -1.828571\n",
       "Copenhagen    2011  69.6     -4.51811  71.528571  2.008991 -1.928571\n",
       "Copenhagen    2012  69.4     -4.71811  71.528571  2.008991 -2.128571\n",
       "Copenhagen    2013  69.7     -4.41811  71.528571  2.008991 -1.828571\n",
       "Copenhagen    2014  70.0     -4.11811  71.528571  2.008991 -1.528571\n",
       "Copenhagen    2015  70.8     -3.31811  71.528571  2.008991 -0.728571\n",
       "Copenhagen    2016  71.5     -2.61811  71.528571  2.008991 -0.028571\n",
       "Copenhagen    2017  72.2     -1.91811  71.528571  2.008991  0.671429\n",
       "Copenhagen    2018  73.2     -0.91811  71.528571  2.008991  1.671429\n",
       "Copenhagen    2019  73.9     -0.21811  71.528571  2.008991  2.371429\n",
       "Copenhagen    2020  72.8     -1.31811  71.528571  2.008991  1.271429\n",
       "Copenhagen    2021  76.1      1.98189  71.528571  2.008991  4.571429"
      ]
     },
     "execution_count": 16,
     "metadata": {},
     "output_type": "execute_result"
    }
   ],
   "source": [
    "empl_ = empl.copy()\n",
    "\n",
    "# a. Good use: a built-in function for mean rather than lambda.\n",
    "e_mean = empl_.groupby('municipality')['e'].agg(['mean','std'])\n",
    "\n",
    "# b. Rename \n",
    "e_mean.rename(columns= {'mean':'e_mean','std':'e_std'},inplace=True)\n",
    "\n",
    "# c. combine\n",
    "empl_ = empl_.set_index('municipality').join(e_mean, how='left')\n",
    "empl_['diff'] = empl_.e - empl_.e_mean\n",
    "empl_.xs('Copenhagen')"
   ]
  },
  {
   "cell_type": "markdown",
   "metadata": {},
   "source": [
    "**Note:** Same result!!"
   ]
  },
  {
   "cell_type": "markdown",
   "metadata": {},
   "source": [
    "**Question** Are there any dangers with the variable name 'diff'?"
   ]
  },
  {
   "cell_type": "markdown",
   "metadata": {},
   "source": [
    "This is pretty cumbersome though. Creating a new variable and then merging in separate step - we can do better with the tools in Pandas."
   ]
  },
  {
   "cell_type": "markdown",
   "metadata": {},
   "source": [
    "#### 2.1.2. <a id='toc2_1_2_'></a>[Splitting, applying and combining all together with - `apply()`  and `transform()` directly](#toc0_)"
   ]
  },
  {
   "attachments": {},
   "cell_type": "markdown",
   "metadata": {},
   "source": [
    "**Transform:** In case you are dealing with multiple variables, `transform` (and also `agg`) will work on one variable/column at a time. In the case below, had we selected both *e* and *year* rather than just *e*, x.mean() would and could only have been applied to observations within one column at a time. `transform` has to return an array of size 1 or of the same size as the original column.  \n",
    "**Apply:** The set of columns passed to the `apply` function is considered to be a whole dataframe on its own. You can therefore make lambda functions that utilizes several columns of data in each operation. That is not possible with the `transform` function.  \n",
    "**More info:** you can read more about the differences between `transform` and `apply` [here](https://stackoverflow.com/questions/27517425/apply-vs-transform-on-a-group-object).    \n",
    "\n",
    "**Note** when you are dealing with selections of **only 1** variable, then `transform` and `apply` behave similarly. "
   ]
  },
  {
   "cell_type": "code",
   "execution_count": 17,
   "metadata": {},
   "outputs": [
    {
     "data": {
      "text/html": [
       "<div>\n",
       "<style scoped>\n",
       "    .dataframe tbody tr th:only-of-type {\n",
       "        vertical-align: middle;\n",
       "    }\n",
       "\n",
       "    .dataframe tbody tr th {\n",
       "        vertical-align: top;\n",
       "    }\n",
       "\n",
       "    .dataframe thead th {\n",
       "        text-align: right;\n",
       "    }\n",
       "</style>\n",
       "<table border=\"1\" class=\"dataframe\">\n",
       "  <thead>\n",
       "    <tr style=\"text-align: right;\">\n",
       "      <th></th>\n",
       "      <th>year</th>\n",
       "      <th>e</th>\n",
       "      <th>empl_demean</th>\n",
       "      <th>e_demean</th>\n",
       "    </tr>\n",
       "    <tr>\n",
       "      <th>municipality</th>\n",
       "      <th></th>\n",
       "      <th></th>\n",
       "      <th></th>\n",
       "      <th></th>\n",
       "    </tr>\n",
       "  </thead>\n",
       "  <tbody>\n",
       "    <tr>\n",
       "      <th>Copenhagen</th>\n",
       "      <td>2008</td>\n",
       "      <td>72.5</td>\n",
       "      <td>-1.61811</td>\n",
       "      <td>0.971429</td>\n",
       "    </tr>\n",
       "    <tr>\n",
       "      <th>Copenhagen</th>\n",
       "      <td>2009</td>\n",
       "      <td>70.0</td>\n",
       "      <td>-4.11811</td>\n",
       "      <td>-1.528571</td>\n",
       "    </tr>\n",
       "    <tr>\n",
       "      <th>Copenhagen</th>\n",
       "      <td>2010</td>\n",
       "      <td>69.7</td>\n",
       "      <td>-4.41811</td>\n",
       "      <td>-1.828571</td>\n",
       "    </tr>\n",
       "    <tr>\n",
       "      <th>Copenhagen</th>\n",
       "      <td>2011</td>\n",
       "      <td>69.6</td>\n",
       "      <td>-4.51811</td>\n",
       "      <td>-1.928571</td>\n",
       "    </tr>\n",
       "    <tr>\n",
       "      <th>Copenhagen</th>\n",
       "      <td>2012</td>\n",
       "      <td>69.4</td>\n",
       "      <td>-4.71811</td>\n",
       "      <td>-2.128571</td>\n",
       "    </tr>\n",
       "    <tr>\n",
       "      <th>Copenhagen</th>\n",
       "      <td>2013</td>\n",
       "      <td>69.7</td>\n",
       "      <td>-4.41811</td>\n",
       "      <td>-1.828571</td>\n",
       "    </tr>\n",
       "    <tr>\n",
       "      <th>Copenhagen</th>\n",
       "      <td>2014</td>\n",
       "      <td>70.0</td>\n",
       "      <td>-4.11811</td>\n",
       "      <td>-1.528571</td>\n",
       "    </tr>\n",
       "    <tr>\n",
       "      <th>Copenhagen</th>\n",
       "      <td>2015</td>\n",
       "      <td>70.8</td>\n",
       "      <td>-3.31811</td>\n",
       "      <td>-0.728571</td>\n",
       "    </tr>\n",
       "    <tr>\n",
       "      <th>Copenhagen</th>\n",
       "      <td>2016</td>\n",
       "      <td>71.5</td>\n",
       "      <td>-2.61811</td>\n",
       "      <td>-0.028571</td>\n",
       "    </tr>\n",
       "    <tr>\n",
       "      <th>Copenhagen</th>\n",
       "      <td>2017</td>\n",
       "      <td>72.2</td>\n",
       "      <td>-1.91811</td>\n",
       "      <td>0.671429</td>\n",
       "    </tr>\n",
       "    <tr>\n",
       "      <th>Copenhagen</th>\n",
       "      <td>2018</td>\n",
       "      <td>73.2</td>\n",
       "      <td>-0.91811</td>\n",
       "      <td>1.671429</td>\n",
       "    </tr>\n",
       "    <tr>\n",
       "      <th>Copenhagen</th>\n",
       "      <td>2019</td>\n",
       "      <td>73.9</td>\n",
       "      <td>-0.21811</td>\n",
       "      <td>2.371429</td>\n",
       "    </tr>\n",
       "    <tr>\n",
       "      <th>Copenhagen</th>\n",
       "      <td>2020</td>\n",
       "      <td>72.8</td>\n",
       "      <td>-1.31811</td>\n",
       "      <td>1.271429</td>\n",
       "    </tr>\n",
       "    <tr>\n",
       "      <th>Copenhagen</th>\n",
       "      <td>2021</td>\n",
       "      <td>76.1</td>\n",
       "      <td>1.98189</td>\n",
       "      <td>4.571429</td>\n",
       "    </tr>\n",
       "  </tbody>\n",
       "</table>\n",
       "</div>"
      ],
      "text/plain": [
       "              year     e  empl_demean  e_demean\n",
       "municipality                                   \n",
       "Copenhagen    2008  72.5     -1.61811  0.971429\n",
       "Copenhagen    2009  70.0     -4.11811 -1.528571\n",
       "Copenhagen    2010  69.7     -4.41811 -1.828571\n",
       "Copenhagen    2011  69.6     -4.51811 -1.928571\n",
       "Copenhagen    2012  69.4     -4.71811 -2.128571\n",
       "Copenhagen    2013  69.7     -4.41811 -1.828571\n",
       "Copenhagen    2014  70.0     -4.11811 -1.528571\n",
       "Copenhagen    2015  70.8     -3.31811 -0.728571\n",
       "Copenhagen    2016  71.5     -2.61811 -0.028571\n",
       "Copenhagen    2017  72.2     -1.91811  0.671429\n",
       "Copenhagen    2018  73.2     -0.91811  1.671429\n",
       "Copenhagen    2019  73.9     -0.21811  2.371429\n",
       "Copenhagen    2020  72.8     -1.31811  1.271429\n",
       "Copenhagen    2021  76.1      1.98189  4.571429"
      ]
     },
     "execution_count": 17,
     "metadata": {},
     "output_type": "execute_result"
    }
   ],
   "source": [
    "empl_ = empl.copy()\n",
    "empl_['e_demean'] = empl_.groupby('municipality')['e'].transform(lambda x:  x - x.mean())\n",
    "\n",
    "# In this case, you could have used apply as well\n",
    "#empl_['e_demean'] = empl_.groupby('municipality')['e'].apply(lambda x: x - x.mean())\n",
    "\n",
    "empl_.set_index('municipality').xs('Copenhagen')"
   ]
  },
  {
   "attachments": {},
   "cell_type": "markdown",
   "metadata": {},
   "source": [
    "The main difference between `apply` and `transform` is what happens when your function aggregates the data into fewer observations"
   ]
  },
  {
   "cell_type": "code",
   "execution_count": 18,
   "metadata": {},
   "outputs": [
    {
     "name": "stdout",
     "output_type": "stream",
     "text": [
      "(99,)\n"
     ]
    }
   ],
   "source": [
    "# Apply creates an obervation per municpality\n",
    "apply = empl_.groupby('municipality')['e'].apply(lambda x: x.mean())\n",
    "print(apply.shape)"
   ]
  },
  {
   "cell_type": "code",
   "execution_count": 19,
   "metadata": {},
   "outputs": [
    {
     "name": "stdout",
     "output_type": "stream",
     "text": [
      "(1386,)\n"
     ]
    },
    {
     "data": {
      "text/plain": [
       "68     72.092857\n",
       "167    72.092857\n",
       "266    72.092857\n",
       "365    72.092857\n",
       "464    72.092857\n",
       "563    72.092857\n",
       "662    72.092857\n",
       "761    72.092857\n",
       "860    72.092857\n",
       "959    72.092857\n",
       "Name: e, dtype: float64"
      ]
     },
     "execution_count": 19,
     "metadata": {},
     "output_type": "execute_result"
    }
   ],
   "source": [
    "# Transform preserves the size of the original dataframe, repeating the mean multiple times for each municipality\n",
    "transform = empl_.groupby('municipality')['e'].transform(lambda x: x.mean())\n",
    "print(transform.shape)\n",
    "transform.head(10)"
   ]
  },
  {
   "cell_type": "markdown",
   "metadata": {},
   "source": [
    "## 3. <a id='toc3_'></a>[Optimizing performance](#toc0_)\n",
    "\n",
    "It is quite important for your own and other's productivity to implement effecient procedures when dealing with large datasets. The **apply** method (as well as the transform) with lambda functions essentially **loops over** the rows of a column when applying a **lambda** function. This may be much **slower** than needed if you for example end up calculating averages over the whole column or group many, many times (one per row) as in the case below. Using pandas functions **without lambdas** gets it right. Important to avoid such behavior with large data sets. "
   ]
  },
  {
   "cell_type": "code",
   "execution_count": 20,
   "metadata": {},
   "outputs": [
    {
     "name": "stdout",
     "output_type": "stream",
     "text": [
      "Performance with lambda function  4.044\n",
      "Performance with pandas vectorized:  0.134\n",
      "Check of consistency:                                    False\n",
      "Check of consistency, accounting for small differences:  True\n"
     ]
    }
   ],
   "source": [
    "import time\n",
    "N = 300\n",
    "\n",
    "# a. Check performance with lambda function. Sooo slooow.. \n",
    "demean = lambda x: x - x.mean()\n",
    "tic = time.perf_counter()\n",
    "for i in range(N):\n",
    "    d1 = empl.groupby('municipality')['e'].transform(demean)\n",
    "toc = time.perf_counter()\n",
    "print(f'Performance with lambda function {toc-tic: 5.3f}')\n",
    "\n",
    "# b. Performance when relying on built-in pandas methods. It is not because we're using transform per se. \n",
    "# It's much faster, because mean is not calculated for each row in data and we're in Cython. \n",
    "tic = time.perf_counter()\n",
    "for i in range(N):\n",
    "    d2 = empl.e - empl.groupby('municipality')['e'].transform('mean') # Demean by subtracting grouped mean from e column.    \n",
    "toc = time.perf_counter()\n",
    "print(f'Performance with pandas vectorized: {toc-tic: 5.3f}')\n",
    "\n",
    "print('Check of consistency:                                   ', np.all(d1==d2))\n",
    "print('Check of consistency, accounting for small differences: ', np.all(np.isclose(d1,d2)))"
   ]
  },
  {
   "cell_type": "markdown",
   "metadata": {},
   "source": [
    "We can also see that an explicit numpy implementation is faster than relying on pandas methods. The example with first differencing from above."
   ]
  },
  {
   "cell_type": "code",
   "execution_count": 21,
   "metadata": {},
   "outputs": [
    {
     "name": "stdout",
     "output_type": "stream",
     "text": [
      "Performance with pandas:  2.989143\n",
      "Performance with numpy:  0.755940\n",
      "Is d1 == d2: True\n"
     ]
    }
   ],
   "source": [
    "# a. The pandas series implementation\n",
    "avg_first_diff = lambda x: x.diff(1).mean()\n",
    "tic = time.perf_counter()\n",
    "for i in range(N):\n",
    "    d1 = empl.groupby('municipality')['e'].apply(avg_first_diff)\n",
    "toc = time.perf_counter()\n",
    "print(f'Performance with pandas: {toc-tic: 3.6f}')\n",
    "\n",
    "# b. The Numpy implementation\n",
    "avg_first_diff = lambda x: np.mean(x.values[1:]-x.values[:-1])\n",
    "tic = time.perf_counter()\n",
    "for i in range(N):\n",
    "    d2 = empl.groupby('municipality')['e'].apply(avg_first_diff)\n",
    "toc = time.perf_counter()\n",
    "print(f'Performance with numpy: {toc-tic: 3.6f}')\n",
    "print('Is d1 == d2:', np.all(d1==d2))"
   ]
  },
  {
   "cell_type": "markdown",
   "metadata": {},
   "source": [
    "**Note:** Same result!!"
   ]
  },
  {
   "cell_type": "code",
   "execution_count": 22,
   "metadata": {},
   "outputs": [
    {
     "name": "stdout",
     "output_type": "stream",
     "text": [
      "<class 'pandas.core.frame.DataFrame'>\n",
      "Int64Index: 1386 entries, 68 to 1343\n",
      "Data columns (total 4 columns):\n",
      " #   Column        Non-Null Count  Dtype  \n",
      "---  ------        --------------  -----  \n",
      " 0   municipality  1386 non-null   object \n",
      " 1   year          1386 non-null   int64  \n",
      " 2   e             1386 non-null   float64\n",
      " 3   empl_demean   1386 non-null   float64\n",
      "dtypes: float64(2), int64(1), object(1)\n",
      "memory usage: 54.1+ KB\n"
     ]
    }
   ],
   "source": [
    "empl.info()"
   ]
  },
  {
   "cell_type": "code",
   "execution_count": 23,
   "metadata": {},
   "outputs": [],
   "source": [
    "empl['municipality'] = empl['municipality'].astype('category')"
   ]
  },
  {
   "cell_type": "code",
   "execution_count": 24,
   "metadata": {},
   "outputs": [
    {
     "name": "stdout",
     "output_type": "stream",
     "text": [
      "<class 'pandas.core.frame.DataFrame'>\n",
      "Int64Index: 1386 entries, 68 to 1343\n",
      "Data columns (total 4 columns):\n",
      " #   Column        Non-Null Count  Dtype   \n",
      "---  ------        --------------  -----   \n",
      " 0   municipality  1386 non-null   category\n",
      " 1   year          1386 non-null   int64   \n",
      " 2   e             1386 non-null   float64 \n",
      " 3   empl_demean   1386 non-null   float64 \n",
      "dtypes: category(1), float64(2), int64(1)\n",
      "memory usage: 47.5 KB\n"
     ]
    }
   ],
   "source": [
    "empl.info()"
   ]
  },
  {
   "cell_type": "markdown",
   "metadata": {},
   "source": [
    "#### 3.1.1. <a id='toc3_1_1_'></a>[Need more complex group by stuff?](#toc0_)"
   ]
  },
  {
   "cell_type": "markdown",
   "metadata": {},
   "source": [
    "Look [here](https://pandas.pydata.org/pandas-docs/stable/user_guide/groupby.html)."
   ]
  },
  {
   "cell_type": "markdown",
   "metadata": {},
   "source": [
    "#### 3.1.2. <a id='toc3_1_2_'></a>[Additional links](#toc0_)\n",
    "* Optimizing pandas routines incl. `apply`, [here](https://realpython.com/fast-flexible-pandas/#pandas-apply). (*less technical*)\n",
    "* Stackoverflow [musings](https://stackoverflow.com/questions/54432583/when-should-i-not-want-to-use-pandas-apply-in-my-code?noredirect=1&lq=1) on optimal use of apply( ) and it's downsides. See also [this](https://stackoverflow.com/questions/38938318/why-apply-sometimes-isnt-faster-than-for-loop-in-pandas-dataframe). (*both pretty technical*)\n",
    "* About optimizing pandas with numpy and vectorization, [here](https://devopedia.org/optimizing-pandas)."
   ]
  },
  {
   "cell_type": "markdown",
   "metadata": {},
   "source": [
    "## 4. <a id='toc4_'></a>[Built-in functions to aggregate data in Pandas](#toc0_)\n",
    "\n",
    "You can use the functions in `apply()`, `transform()` and `agg()` by writing them out in a string. Will normally be the fastest implementation. \n",
    "\n",
    "***Function***\t *Description*\n",
    "\n",
    "\n",
    "* **count:**\t Number of non-null observations\n",
    "* **sum:**\t Sum of values\n",
    "* **mean:**\t Mean of values\n",
    "* **mad:**\t Mean absolute deviation\n",
    "* **min:**\t Minimum\n",
    "* **max:**\t Maximum\n",
    "* **mode:**\t Mode\n",
    "* **abs:**\t Absolute Value\n",
    "* **prod:**\t Product of values\n",
    "* **std:**\t Unbiased standard deviation\n",
    "* **var:**\t Unbiased variance\n",
    "* **sem:**\t Unbiased standard error of the mean\n",
    "* **skew:**\t Unbiased skewness (3rd moment)\n",
    "* **kurt:**\t Unbiased kurtosis (4th moment)\n",
    "* **quantile:**\t Sample quantile (value at %)\n",
    "* **cumsum:**\t Cumulative sum\n",
    "* **cumprod:**\t Cumulative product\n",
    "* **cummax:**\t Cumulative maximum\n",
    "* **cummin:**\t Cumulative minimum"
   ]
  },
  {
   "cell_type": "markdown",
   "metadata": {},
   "source": [
    "There is also your [DataCamp cheatsheet](https://www.datacamp.com/community/blog/python-pandas-cheat-sheet) for pandas for references."
   ]
  }
 ],
 "metadata": {
  "kernelspec": {
   "display_name": "base",
   "language": "python",
   "name": "python3"
  },
  "language_info": {
   "codemirror_mode": {
    "name": "ipython",
    "version": 3
   },
   "file_extension": ".py",
   "mimetype": "text/x-python",
   "name": "python",
   "nbconvert_exporter": "python",
   "pygments_lexer": "ipython3",
   "version": "3.9.15"
  },
  "orig_nbformat": 4,
  "vscode": {
   "interpreter": {
    "hash": "2164e4eaf16dd6cd705646718fcef4f5f263bad5b7d103e76e9308c0132ca24b"
   }
  }
 },
 "nbformat": 4,
 "nbformat_minor": 2
}
