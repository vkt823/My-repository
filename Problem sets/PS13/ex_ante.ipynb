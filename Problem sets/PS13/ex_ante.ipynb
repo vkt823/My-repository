{
 "cells": [
  {
   "cell_type": "code",
   "execution_count": 2,
   "metadata": {},
   "outputs": [
    {
     "name": "stdout",
     "output_type": "stream",
     "text": [
      "The autoreload extension is already loaded. To reload it, use:\n",
      "  %reload_ext autoreload\n"
     ]
    }
   ],
   "source": [
    "from sys import path\n",
    "path.append('../')\n",
    "import estimation as est\n",
    "import LinearModels as lm\n",
    "import SampleSelection_ante as ssm\n",
    "\n",
    "import numpy as np\n",
    "import pandas as pd\n",
    "from numpy import linalg as la\n",
    "from matplotlib import pyplot as plt\n",
    "from scipy.stats import norm\n",
    "from scipy import optimize\n",
    "\n",
    "\n",
    "%load_ext autoreload\n",
    "%autoreload 2"
   ]
  },
  {
   "cell_type": "markdown",
   "metadata": {},
   "source": [
    "# Introduction\n",
    "\n",
    "In this dataset, you will use a part of the dataset from\n",
    "Conley and Decarolis (2016). The data contains bids for public procurement\n",
    "auctions for roadwork in Italy. In 2008, the Turin Court of Justice\n",
    "ruled that in 276 auctions for roadwork held between 2000 and 2003, the\n",
    "auctions had been rigged by 8 cartels made up of 95 firms. It turns out\n",
    "that the auction format, called the Average Bid Auction (ABA), is\n",
    "particularly susceptible to collusion between bidders. However, for a\n",
    "cartel to be successful at one particular auction, it is essential that\n",
    "many cartel participants be present at that auction. When enough of the\n",
    "cartel is present at the auction, they are able to strategically\n",
    "manipulate the average bid.\n",
    "\n",
    "The implication is that the bids made by a given firm depends on the\n",
    "identity of other firms showing up at the auction. This contradicts a\n",
    "perfectly competitive setting, in which firms should not condition their\n",
    "bids on the specific identities of their opponents. Thus, one can\n",
    "test for (lack of) perfect competition by checking whether the bid posted by a firm\n",
    "depends on how closely connected the firm is to other firms in that\n",
    "auction (see Conley and Decarolis (2016) for details on how to quantify connectivity). \n",
    "If firms were randomly distributed across auctions, then there\n",
    "should be no systematic link between these quantities.\n",
    "In that case, we could just\n",
    "regress the bid on how closely connected the firm is to other\n",
    "firms in the auction, controlling for proxies for the \"size\" of the firm\n",
    "(labor, capital, etc.).\n",
    "\n",
    "The issue is that firms are *not* randomly allocated to auctions. Instead,\n",
    "firms are more likely to participate in auctions involving sites that are close to their\n",
    "headquarters. Moreover, the distance to the site of the roadwork project being\n",
    "auctioned may act as our **exclusion restriction** under the following\n",
    "assumptions:\n",
    "\n",
    "1.  Firms prefer to win (hence, are more likely to bid on) projects close to home.\n",
    "\n",
    "2.  Conditional on participating in an auction, distance does not matter for the\n",
    "    *marginal* cost of conducting roadwork.\n",
    "\n",
    "The figure below shows the distribution of\n",
    "distances from all eligible firms to the sites, split by whether the\n",
    "firm chose to participate or not. This clearly shows that distance\n",
    "affects the likelihood of participation.\n",
    "\n",
    "<img src=\"smaller_pic.png\" alt=\"Drawing\" style=\"width: 500px;\"/>\n",
    "\n",
    "Part 2 may certainly be criticized. (Food for thought: Think about which types of projects\n",
    "and firm behavior fit this description, and which types that do not.) Coming up\n",
    "with credible exclusion restrictions is a delicate matter. Here we focus on\n",
    "the mechanics of estimation with sample selection.\n"
   ]
  },
  {
   "cell_type": "markdown",
   "metadata": {},
   "source": [
    "# Data\n",
    "\n",
    "After deleting rows with missing observations, the data covers 891\n",
    "auctions where a large number of firms considered whether or not to make\n",
    "a bid. There are $N=91,845$ observations where a firm was eligible to\n",
    "make a bid, and if it did, we observe the variable $y_{1i}=1$ (called\n",
    "`participation` in the data). Otherwise, $y_{1i}=0$.\n",
    "\n",
    "The submitted bid, which is only available for the 37,699 observations\n",
    "where $y_{1i}=1$, is the variable `bid_discount`, which we denote\n",
    "$y_{2i}$. It indicates the percentage discount relative to the\n",
    "reservation price chosen by the auctioneer, which a firm is willing to\n",
    "conduct the project for. The variable is missing (i.e. equal to `NaN`)\n",
    "whenever $y_{1i}=0$ -- that is, when the given firm did not submit a bid\n",
    "in the auction.\n",
    "\n",
    "The exclusion restriction to be used is $z_{i}=$ `logmiles_fiwo`, which\n",
    "is the log of (one plus) the miles between the address of the firm\n",
    "(rather, the centroid of the zip code of the firm) and the site of the\n",
    "project under procurement. The remaining variables are described below:"
   ]
  },
  {
   "cell_type": "markdown",
   "metadata": {},
   "source": [
    "| **Variable** | **Description** |\n",
    "| ---- | ---- |\n",
    "| backlog_lagged  | a measure of the number of projects currently in progress at the firm. \t|\n",
    "| logcapital | log of the total capital (accounting variable).\t|\n",
    "| labor | measure of employed labor.\t|\n",
    "| count_linktot_out  | A measure of closeness to other firms.\t|\n",
    "| auction_type | =0 if the auction is an Average Bid Auction,\t|\n",
    "|\t\t\t\t|=1 for First Price Sealed Bid.\t|\n",
    "| participated  | whether the firm submitted a bid (yi1).\t|\n",
    "| logmiles_fiwo | distance from the firm to the location of the project under auction.\t|\n",
    "| firm_type_unlim_liab  | Firm is not limited liability.\t|\n",
    "| auction_id | ID variable for the auction.\t|\n",
    "| region | Dummy for the region in which the project is to take place. \t|\n",
    "| year | Calendar year.\t|"
   ]
  },
  {
   "cell_type": "markdown",
   "metadata": {
    "tags": []
   },
   "source": [
    "# The Heckman 2-step\n",
    "\n",
    "Suppose our dataset consists of $N$ observations of\n",
    "$\\{x_{i},y_{2i}\\}_{i=1}^{N}$, where $y_{2i}$ indicates\n",
    "participation (\"selection\") and $x_{i}\\in\\mathbb{R}^{K}$. For auction\n",
    "participants $\\{i|y_{2i}=1\\}$, we furthermore see the bid\n",
    "$y_{1i}$, a real number. \n",
    "\n",
    "We adopt the Heckman model: \n",
    "\n",
    "$$\n",
    "\\begin{aligned}\n",
    "y_{1i} & = \\mathbf{x}_{1i}\\boldsymbol{\\beta}_o+u_{i},\\\\\n",
    "y_{2i} & = \\mathbf{1}\\{\\mathbf{x}_{i}\\boldsymbol{\\delta}_o+v_{i}>0\\},\\\\\n",
    "\\left(u_i,v_i\\right) & \\text{ and } \\mathbf{x}_i \\text{ independent},\\\\\n",
    "v_i&\\sim\\mathrm{N}\\left(0,1\\right),\\\\\n",
    "\\mathrm{E}[u_i \\mid v_{i}=v] & = \\gamma_{o} v.\n",
    "\\end{aligned}\n",
    "$$\n",
    "\n",
    "We prepare the data below."
   ]
  },
  {
   "cell_type": "code",
   "execution_count": 3,
   "metadata": {},
   "outputs": [],
   "source": [
    "# Since we are doing some more advanced data choices, we start by using pandas.\n",
    "# This makes the whole process easier.\n",
    "data = pd.read_csv('conley_decariolis.csv', sep=',')\n",
    "data['t'] = data['year'] - min(data['year'])"
   ]
  },
  {
   "cell_type": "code",
   "execution_count": 4,
   "metadata": {},
   "outputs": [],
   "source": [
    "# Create labels for variables\n",
    "y2lbl = 'participated'\n",
    "exclusion_restriction = 'logmiles_fiwo'\n",
    "x2lbl = ['backlog_lagged',  'logcapital', 'count_linktot_in', 'labor', 'firm_type_unlim_liab', 't']\n",
    "# ^-- all explanatory variables but the exclusion restriction\n",
    "\n",
    "# We want to check for missings and remove them, but only for variables that we are interested in.\n",
    "# We therefore gather all the labels into one \"check_missing\" label.\n",
    "check_missing = x2lbl.copy()\n",
    "check_missing.append(y2lbl)\n",
    "check_missing.append(exclusion_restriction)"
   ]
  },
  {
   "cell_type": "code",
   "execution_count": 5,
   "metadata": {},
   "outputs": [],
   "source": [
    "# Keep only auctions that are of type \"average bid\", which is the 0 category.\n",
    "data = data[data['auction_type'] == 0.0]\n",
    "\n",
    "# Remove missings only present in the variables denoted by check_missing labels.\n",
    "data.dropna(inplace=True, subset=check_missing)"
   ]
  },
  {
   "cell_type": "code",
   "execution_count": 6,
   "metadata": {},
   "outputs": [],
   "source": [
    "# Allocate data.\n",
    "# y2 is whether a firm participated in the auction or not.\n",
    "y2 = data[y2lbl].to_numpy().reshape(-1, 1)\n",
    "\n",
    "# Exclusion restriction is distance from company to job.\n",
    "z = data[exclusion_restriction].to_numpy().reshape(-1, 1)\n",
    "\n",
    "x2 = data[x2lbl].to_numpy()\n",
    "cnst = np.ones(y2.size).reshape(-1, 1)\n",
    "x2 = np.hstack((x2, cnst))\n",
    "\n",
    "# x (and y2) is to be used for the participation equation.\n",
    "x = np.hstack((z, x2))\n",
    "\n",
    "# y1 denotes the bid.\n",
    "# We now keep in x1 only those who bid on the auction\n",
    "y1 = data['bid_discount'][data['participated'] == 1].to_numpy().reshape(-1, 1)\n",
    "x1 = x2[data['participated'] == 1]\n",
    "\n",
    "# Add constant to labels\n",
    "x2lbl.append('const')\n",
    "# add exclusion restriction to labels\n",
    "xlbl = x2lbl.copy()\n",
    "xlbl.append(exclusion_restriction)"
   ]
  },
  {
   "cell_type": "markdown",
   "metadata": {},
   "source": [
    "## Question 1:\n",
    "Estimate the bid equation without controlling for selection into the sample. Gather the results in a table, and focus on the effect of `count_linktot_in` as a proxy for firm connectivity. Based on these preliminary results, does connectivity appear to matter?"
   ]
  },
  {
   "cell_type": "code",
   "execution_count": 10,
   "metadata": {},
   "outputs": [],
   "source": [
    "ols_result = lm.estimate(y1, x1)"
   ]
  },
  {
   "cell_type": "code",
   "execution_count": 11,
   "metadata": {},
   "outputs": [
    {
     "name": "stdout",
     "output_type": "stream",
     "text": [
      "Results w/o accounting for selection.\n",
      "Dependent variable: Bid discount\n",
      "\n",
      "                         Beta      Se    t-values\n",
      "--------------------  -------  ------  ----------\n",
      "backlog_lagged        -0.0484  0.1756     -0.2755\n",
      "logcapital            -0.1399  0.0212     -6.6077\n",
      "count_linktot_in       0.0132  0.0018      7.2640\n",
      "labor                  0.0041  0.0009      4.7850\n",
      "firm_type_unlim_liab  -1.0389  0.1173     -8.8547\n",
      "t                      0.6685  0.0425     15.7440\n",
      "const                 12.7181  0.0725    175.3357\n",
      "R² = 0.010\n",
      "σ² = 27.444\n"
     ]
    }
   ],
   "source": [
    "lm.print_table(\n",
    "    ('Bid discount', x2lbl), \n",
    "    ols_result, \n",
    "    title=\"Results w/o accounting for selection.\", \n",
    "    floatfmt='.4f'\n",
    ")"
   ]
  },
  {
   "cell_type": "markdown",
   "metadata": {},
   "source": [
    "*Your results should look like this:*\n",
    "\n",
    "Results w/o accounting for selection.\n",
    "Dependent variable: Bid discount\n",
    "\n",
    "|                      |    Beta |       Se |   t-values |\n",
    "|---------------------:|--------:|---------:|-----------:|\n",
    "|       backlog_lagged | -0.0484 |   0.1756 |    -0.2755 |\n",
    "|           logcapital | -0.1399 |   0.0212 |    -6.6077 |\n",
    "|     count_linktot_in |  0.0132 |   0.0018 |     7.2640 |\n",
    "|                labor |  0.0041 |   0.0009 |     4.7850 |\n",
    "| firm_type_unlim_liab | -1.0389 |   0.1173 |    -8.8547 |\n",
    "|                    t |  0.6685 |   0.0425 |    15.7440 |\n",
    "|                const | 12.7181 |   0.0725 |   175.3357 |\n",
    "\n",
    "R² = 0.010\n",
    "σ² = 27.444"
   ]
  },
  {
   "cell_type": "markdown",
   "metadata": {},
   "source": [
    "## Question 2: \n",
    "Replicate the histogram above, showing that there might be a selection bias. You do this by using the `Data` frame, and plot the histograms of `logmiles_fiwo` both for `participated == 0` and `participated == 1`. See if you are able to plot both histograms in the same plot, with a transparent overlap."
   ]
  },
  {
   "cell_type": "code",
   "execution_count": 16,
   "metadata": {},
   "outputs": [
    {
     "data": {
      "image/png": "[encoded data removed]",
      "text/plain": [
       "<Figure size 640x480 with 1 Axes>"
      ]
     },
     "metadata": {},
     "output_type": "display_data"
    }
   ],
   "source": [
    "#plot histogram\n",
    "fig = plt.figure()\n",
    "ax = fig.add_subplot(1,1,1)\n",
    "ax.hist(data['logmiles_fiwo'][data['participated']==1], bins=100, alpha=0.5, density=True, label='Participated')\n",
    "ax.hist(data['logmiles_fiwo'][data['participated']==0], bins=100, alpha=0.5, density=True, label='Did not participate')\n",
    "#alpha is the transparency\n",
    "ax.legend()\n",
    "ax.set_xlabel('Distance miles (log)')\n",
    "ax.set_ylabel('Density') ;"
   ]
  },
  {
   "cell_type": "markdown",
   "metadata": {},
   "source": [
    "## Question 3\n",
    "Conduct the \"Heckit\" procedure (Wooldridge's Procedure 19.1) using `logmiles_fiwo` as the exclusion restriction. \n",
    "Does `logmiles_fiwo` (still) seem relevant?\n",
    "Is the coefficient on the inverse Mills ratio significant? How do you interpret this finding? \n",
    "Can you draw any conclusion on whether `count_linktot_in` seems to matter?"
   ]
  },
  {
   "cell_type": "code",
   "execution_count": 18,
   "metadata": {},
   "outputs": [
    {
     "name": "stdout",
     "output_type": "stream",
     "text": [
      "Optimization terminated successfully.\n",
      "         Current function value: 0.513605\n",
      "         Iterations: 34\n",
      "         Function evaluations: 342\n",
      "         Gradient evaluations: 38\n",
      "Optimizer succeded after 34 iter. (342 func. evals.). Final criterion:   0.5136.\n",
      "First step results\n"
     ]
    },
    {
     "data": {
      "text/html": [
       "<div>\n",
       "<style scoped>\n",
       "    .dataframe tbody tr th:only-of-type {\n",
       "        vertical-align: middle;\n",
       "    }\n",
       "\n",
       "    .dataframe tbody tr th {\n",
       "        vertical-align: top;\n",
       "    }\n",
       "\n",
       "    .dataframe thead th {\n",
       "        text-align: right;\n",
       "    }\n",
       "</style>\n",
       "<table border=\"1\" class=\"dataframe\">\n",
       "  <thead>\n",
       "    <tr style=\"text-align: right;\">\n",
       "      <th></th>\n",
       "      <th>theta</th>\n",
       "      <th>se</th>\n",
       "      <th>t</th>\n",
       "    </tr>\n",
       "  </thead>\n",
       "  <tbody>\n",
       "    <tr>\n",
       "      <th>backlog_lagged</th>\n",
       "      <td>-0.1242</td>\n",
       "      <td>0.0050</td>\n",
       "      <td>-24.7225</td>\n",
       "    </tr>\n",
       "    <tr>\n",
       "      <th>logcapital</th>\n",
       "      <td>0.0548</td>\n",
       "      <td>0.0436</td>\n",
       "      <td>1.2558</td>\n",
       "    </tr>\n",
       "    <tr>\n",
       "      <th>count_linktot_in</th>\n",
       "      <td>0.0520</td>\n",
       "      <td>0.0035</td>\n",
       "      <td>14.7093</td>\n",
       "    </tr>\n",
       "    <tr>\n",
       "      <th>labor</th>\n",
       "      <td>0.0689</td>\n",
       "      <td>0.0004</td>\n",
       "      <td>170.9491</td>\n",
       "    </tr>\n",
       "    <tr>\n",
       "      <th>firm_type_unlim_liab</th>\n",
       "      <td>-0.0009</td>\n",
       "      <td>0.0001</td>\n",
       "      <td>-6.5566</td>\n",
       "    </tr>\n",
       "    <tr>\n",
       "      <th>t</th>\n",
       "      <td>0.0993</td>\n",
       "      <td>0.0210</td>\n",
       "      <td>4.7408</td>\n",
       "    </tr>\n",
       "    <tr>\n",
       "      <th>const</th>\n",
       "      <td>0.0167</td>\n",
       "      <td>0.0083</td>\n",
       "      <td>1.9999</td>\n",
       "    </tr>\n",
       "    <tr>\n",
       "      <th>logmiles_fiwo</th>\n",
       "      <td>-0.3488</td>\n",
       "      <td>0.0268</td>\n",
       "      <td>-13.0212</td>\n",
       "    </tr>\n",
       "  </tbody>\n",
       "</table>\n",
       "</div>"
      ],
      "text/plain": [
       "                       theta      se         t\n",
       "backlog_lagged       -0.1242  0.0050  -24.7225\n",
       "logcapital            0.0548  0.0436    1.2558\n",
       "count_linktot_in      0.0520  0.0035   14.7093\n",
       "labor                 0.0689  0.0004  170.9491\n",
       "firm_type_unlim_liab -0.0009  0.0001   -6.5566\n",
       "t                     0.0993  0.0210    4.7408\n",
       "const                 0.0167  0.0083    1.9999\n",
       "logmiles_fiwo        -0.3488  0.0268  -13.0212"
      ]
     },
     "execution_count": 18,
     "metadata": {},
     "output_type": "execute_result"
    }
   ],
   "source": [
    "first_step = est.estimate(ssm.q, ssm.starting_values(y2,x), y2, x)\n",
    "est.print_table(xlbl, first_step, title=\"First step results\")"
   ]
  },
  {
   "cell_type": "markdown",
   "metadata": {},
   "source": [
    "*Your **first step** results should look like this:*\n",
    "|                      |   theta |     se |        t |\n",
    "|---------------------:|--------:|-------:|---------:|\n",
    "|       backlog_lagged | -0.1243 | 0.0050 | -24.7228 |\n",
    "|           logcapital |  0.0548 | 0.0436 |   1.2558 |\n",
    "|     count_linktot_in |  0.0520 | 0.0035 |  14.7093 |\n",
    "|                labor |  0.0689 | 0.0004 | 170.9501 |\n",
    "| firm_type_unlim_liab | -0.0009 | 0.0001 |  -6.5566 |\n",
    "|                    t |  0.0993 | 0.0210 |   4.7407 |\n",
    "|                const |  0.0167 | 0.0083 |   1.9999 |\n",
    "|        logmiles_fiwo | -0.3488 | 0.0268 | -13.0209 |"
   ]
  },
  {
   "cell_type": "code",
   "execution_count": 19,
   "metadata": {},
   "outputs": [],
   "source": [
    "#Estimating inverse Mills ratio\n",
    "xb = x @ first_step['theta']\n",
    "_lambda = norm.pdf(xb) / norm.cdf(xb)\n",
    "\n",
    "#keep only those who participated \n",
    "_lambda = _lambda[y2.flatten()==1]"
   ]
  },
  {
   "cell_type": "code",
   "execution_count": 20,
   "metadata": {},
   "outputs": [],
   "source": [
    "#add the IMR as a generated regressor\n",
    "ximr = np.hstack((_lambda.reshape(-1,1), x1))"
   ]
  },
  {
   "cell_type": "code",
   "execution_count": 21,
   "metadata": {},
   "outputs": [],
   "source": [
    "#Update labels\n",
    "xlbl_imr = x2lbl.copy()\n",
    "xlbl_imr.insert(0, 'Inverse Mills Ratio')\n",
    "y1lbl = 'bid_discount'"
   ]
  },
  {
   "cell_type": "code",
   "execution_count": 22,
   "metadata": {},
   "outputs": [
    {
     "name": "stdout",
     "output_type": "stream",
     "text": [
      "Results accounting for selection.\n",
      "Dependent variable: bid_discount\n",
      "\n",
      "                         Beta      Se    t-values\n",
      "--------------------  -------  ------  ----------\n",
      "Inverse Mills Ratio    4.0299  0.1526     26.4059\n",
      "backlog_lagged         0.0992  0.1763      0.5625\n",
      "logcapital            -0.0019  0.0215     -0.0871\n",
      "count_linktot_in       0.1399  0.0049     28.7297\n",
      "labor                  0.0016  0.0009      1.8663\n",
      "firm_type_unlim_liab  -0.8248  0.1152     -7.1610\n",
      "t                      0.6832  0.0420     16.2735\n",
      "const                  7.6211  0.2039     37.3759\n",
      "R² = 0.026\n",
      "σ² = 27.007\n"
     ]
    }
   ],
   "source": [
    "# second step\n",
    "second_step = lm.estimate(y1, ximr)\n",
    "lm.print_table(\n",
    "    (y1lbl, xlbl_imr), \n",
    "    second_step, \n",
    "    title=\"Results accounting for selection.\", \n",
    "    floatfmt='.4f'\n",
    ")"
   ]
  },
  {
   "cell_type": "markdown",
   "metadata": {},
   "source": [
    "*Your **second step** results should look like this:*\n",
    "\n",
    "Results accounting for selection\n",
    "Dependent variable: Bid discount\n",
    "\n",
    "|                      |    Beta |       Se |   t-values |\n",
    "|---------------------:|--------:|---------:|-----------:|\n",
    "|  Inverse Mills Ratio |  4.0299 |   0.1526 |    26.4060 |\n",
    "|       backlog_lagged |  0.0992 |   0.1763 |     0.5625 |\n",
    "|           logcapital | -0.0019 |   0.0215 |    -0.0871 |\n",
    "|     count_linktot_in |  0.1399 |   0.0049 |    28.7297 |\n",
    "|                labor |  0.0016 |   0.0009 |     1.8663 |\n",
    "| firm_type_unlim_liab | -0.8248 |   0.1152 |    -7.1610 |\n",
    "|                    t |  0.6832 |   0.0420 |    16.2735 |\n",
    "| const                | 7.6211  | 0.2039   | 37.3759    |\n",
    "\n",
    "R² = 0.026\n",
    "σ² = 27.007"
   ]
  },
  {
   "cell_type": "code",
   "execution_count": 24,
   "metadata": {},
   "outputs": [
    {
     "data": {
      "text/html": [
       "<div>\n",
       "<style scoped>\n",
       "    .dataframe tbody tr th:only-of-type {\n",
       "        vertical-align: middle;\n",
       "    }\n",
       "\n",
       "    .dataframe tbody tr th {\n",
       "        vertical-align: top;\n",
       "    }\n",
       "\n",
       "    .dataframe thead th {\n",
       "        text-align: right;\n",
       "    }\n",
       "</style>\n",
       "<table border=\"1\" class=\"dataframe\">\n",
       "  <thead>\n",
       "    <tr style=\"text-align: right;\">\n",
       "      <th></th>\n",
       "      <th>beta w. sel.</th>\n",
       "      <th>beta w/o. sel.</th>\n",
       "      <th>t-values w. sel</th>\n",
       "      <th>t-values w/o. sel</th>\n",
       "    </tr>\n",
       "  </thead>\n",
       "  <tbody>\n",
       "    <tr>\n",
       "      <th>Inverse Mills Ratio</th>\n",
       "      <td>4.029875</td>\n",
       "      <td>None</td>\n",
       "      <td>26.405926</td>\n",
       "      <td>None</td>\n",
       "    </tr>\n",
       "    <tr>\n",
       "      <th>backlog_lagged</th>\n",
       "      <td>0.099154</td>\n",
       "      <td>-0.048371</td>\n",
       "      <td>0.562478</td>\n",
       "      <td>-0.275452</td>\n",
       "    </tr>\n",
       "    <tr>\n",
       "      <th>logcapital</th>\n",
       "      <td>-0.001875</td>\n",
       "      <td>-0.139889</td>\n",
       "      <td>-0.087062</td>\n",
       "      <td>-6.607749</td>\n",
       "    </tr>\n",
       "    <tr>\n",
       "      <th>count_linktot_in</th>\n",
       "      <td>0.139882</td>\n",
       "      <td>0.013238</td>\n",
       "      <td>28.729679</td>\n",
       "      <td>7.263993</td>\n",
       "    </tr>\n",
       "    <tr>\n",
       "      <th>labor</th>\n",
       "      <td>0.001592</td>\n",
       "      <td>0.004093</td>\n",
       "      <td>1.866349</td>\n",
       "      <td>4.78504</td>\n",
       "    </tr>\n",
       "    <tr>\n",
       "      <th>firm_type_unlim_liab</th>\n",
       "      <td>-0.824800</td>\n",
       "      <td>-1.038934</td>\n",
       "      <td>-7.161024</td>\n",
       "      <td>-8.854658</td>\n",
       "    </tr>\n",
       "    <tr>\n",
       "      <th>t</th>\n",
       "      <td>0.683213</td>\n",
       "      <td>0.66852</td>\n",
       "      <td>16.273484</td>\n",
       "      <td>15.744012</td>\n",
       "    </tr>\n",
       "    <tr>\n",
       "      <th>const</th>\n",
       "      <td>7.621123</td>\n",
       "      <td>12.718103</td>\n",
       "      <td>37.375883</td>\n",
       "      <td>175.335711</td>\n",
       "    </tr>\n",
       "  </tbody>\n",
       "</table>\n",
       "</div>"
      ],
      "text/plain": [
       "                      beta w. sel. beta w/o. sel.  t-values w. sel  \\\n",
       "Inverse Mills Ratio       4.029875           None        26.405926   \n",
       "backlog_lagged            0.099154      -0.048371         0.562478   \n",
       "logcapital               -0.001875      -0.139889        -0.087062   \n",
       "count_linktot_in          0.139882       0.013238        28.729679   \n",
       "labor                     0.001592       0.004093         1.866349   \n",
       "firm_type_unlim_liab     -0.824800      -1.038934        -7.161024   \n",
       "t                         0.683213        0.66852        16.273484   \n",
       "const                     7.621123      12.718103        37.375883   \n",
       "\n",
       "                     t-values w/o. sel  \n",
       "Inverse Mills Ratio               None  \n",
       "backlog_lagged               -0.275452  \n",
       "logcapital                   -6.607749  \n",
       "count_linktot_in              7.263993  \n",
       "labor                          4.78504  \n",
       "firm_type_unlim_liab         -8.854658  \n",
       "t                            15.744012  \n",
       "const                       175.335711  "
      ]
     },
     "execution_count": 24,
     "metadata": {},
     "output_type": "execute_result"
    }
   ],
   "source": [
    "data = {\"beta w. sel.\": second_step.get('b_hat').flatten(), \n",
    "        \"beta w/o. sel.\": np.append(None,ols_result.get('b_hat').flatten()), # Appending a None element to account for the Mills Ratio\n",
    "        \"t-values w. sel\":  second_step.get('t_values').flatten(),\n",
    "        \"t-values w/o. sel\": np.append(None,ols_result.get('t_values').flatten()) # Appending a None element to account for the Mills Ratio\n",
    "       }\n",
    "pd.DataFrame(data=data, index = xlbl_imr)"
   ]
  }
 ],
 "metadata": {
  "kernelspec": {
   "display_name": "Python 3 (ipykernel)",
   "language": "python",
   "name": "python3"
  },
  "language_info": {
   "codemirror_mode": {
    "name": "ipython",
    "version": 3
   },
   "file_extension": ".py",
   "mimetype": "text/x-python",
   "name": "python",
   "nbconvert_exporter": "python",
   "pygments_lexer": "ipython3",
   "version": "3.11.5"
  }
 },
 "nbformat": 4,
 "nbformat_minor": 4
}
