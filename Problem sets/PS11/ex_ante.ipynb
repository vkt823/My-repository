{
 "cells": [
  {
   "cell_type": "markdown",
   "metadata": {},
   "source": [
    "# Multinomial Logit"
   ]
  },
  {
   "cell_type": "code",
   "execution_count": 1,
   "metadata": {},
   "outputs": [],
   "source": [
    "import numpy as np\n",
    "import pandas as pd\n",
    "from numpy.random import default_rng\n",
    "import matplotlib.pyplot as plt \n",
    "\n",
    "import mlogit_ante as mlogit\n",
    "import estimation\n",
    "\n",
    "%load_ext autoreload\n",
    "%autoreload 2"
   ]
  },
  {
   "cell_type": "markdown",
   "metadata": {},
   "source": [
    "Introduction\n",
    "============\n",
    "\n",
    "In this week's problem set, you are asked to investigate how alcohol\n",
    "abuse affects employment status. Individuals can either be outside of\n",
    "the labour market, unemployed or employed. This means, that the\n",
    "dependent variable has three discrete outcomes. We use the multinomial\n",
    "logit model to express the probability of individuals to be either\n",
    "outside the labour market, unemployed or employed. This model is a\n",
    "generalization of the logit model we looked at in problem set 9 (binary\n",
    "choice) which only allowed for the dependent variable to have two\n",
    "discrete outcomes.\n",
    "\n",
    "The dataset consists of two things for each $i$, $(y_i, \\mathbf{x}_i)$, \n",
    "where $y_i \\in \\{1,...,J\\}$, and $\\mathbf{x}_i$ is a $K\\times 1$ vector \n",
    "of explanatory variables relating to the individuals. \n",
    "\n",
    "In the multinomial logit the probability of observing choice $j$ for\n",
    "household $i$ given the observed explanatory variables, $\\mathbf{x}_{i}$ is given\n",
    "as,\n",
    "$$\n",
    "\\text{Pr}\\left(y_{i}=j\\mid \\mathbf{x}_{i},\\boldsymbol{\\beta}_j\\right) \\equiv p_{ij}\n",
    "    =\\frac{\\exp( \\mathbf{x}_{i}\\boldsymbol{\\beta}_j )}\n",
    "          {\\sum_{k=1}^{J}\\exp\\left(\\mathbf{x}_{i}\\boldsymbol{\\beta}_k\\right)}\n",
    "          ,\\quad j=1,\\dots J \\tag{1}\n",
    "$$\n",
    "\n",
    "The probabilities lie between 0 and 1 since\n",
    "$\\exp(\\mathbf{x}_{i}\\boldsymbol{\\beta}_j)>0$ and they sum to one over the\n",
    "$J$ alternatives. The expression,\n",
    "(1), can be derived from an underlying latent\n",
    "utility model, where taste shocks follow an extreme value type 1\n",
    "distribution. The data-generating process of this latent utility model\n",
    "can be formalized as\n",
    "\n",
    "$$\n",
    "\\begin{aligned}\n",
    "y_{i} &= \\operatorname*{argmax}_{j=1,\\ldots,J} \\{u_{ij}\\},  \\tag{2} \\\\\n",
    "u_{ij} &= \\mathbf{x}_{i} \\boldsymbol{\\beta}_j + \\varepsilon_{ij}, \\qquad \\varepsilon_{ij} \\sim \\text{IID Extreme Value} , \n",
    "\\end{aligned}\n",
    "$$\n",
    "\n",
    "where the utility, $u_{ij}$, consists of a deterministic part,\n",
    "$v_{ij}=\\mathbf{x}_i\\boldsymbol{\\beta}_j$, and a stochastic part, $\\varepsilon_{ij}$. Individual\n",
    "$i$ chooses the alternative $y_i\\in \\{1,\\ldots,J\\}$ that is associated\n",
    "with the highest level of $u_{ij}$ after having observed the iid extreme\n",
    "value type 1 distributed shocks, $\\varepsilon_{ij}$ for\n",
    "$j\\in\\{1,\\ldots,J\\}$. It is important to note that the individual \n",
    "observes everything in $u_{ij}$, so it is a simple thing to pick the \n",
    "$j$ that has the highest utility. The challenge for the econometrician is \n",
    "that the error terms $\\varepsilon_{ij}$ are not in the dataset. \n",
    "\n",
    "Fortunately, it can be shown that if one simulates data according to the \n",
    "Data Generating Process (DGP) above, then the choice probabilities in (1) \n",
    "are correct.\n",
    "\n",
    "It turns out that the model is only identified under a *normalization \n",
    "assumption*, such as $\\boldsymbol{\\beta}_1 := \\mathbf{0}_{K\\times 1}$.\n",
    "That is, we cannot identify a parameter on a regressor, $\\beta_{kj}$, \n",
    "for all alternatives $j=1,...,J$. The argument why this is the case is \n",
    "presented in this youtube video: https://youtu.be/IeDJN6VQtLg. \n",
    "Intuitively, the argument boils down to the fact that we can only identify \n",
    "effects that change the utilty of an option *relative* to other options. \n",
    "This is because we only observe the *argmax* of utility and thus cannot \n",
    "hope to identify the *scale* of utility, since utility is merely ordinal. "
   ]
  },
  {
   "cell_type": "markdown",
   "metadata": {},
   "source": [
    "# Question 1: Simulate Data \n",
    "\n",
    "The first task is to finish the code in the function\n",
    "`sim_data(N, J, theta)` in the `mlogit` module. This\n",
    "function simulates a data set with $N$ individuals choosing between $J$ alternatives. The third input is a parameter vector,\n",
    "$\\theta=(\\beta_1^\\prime,\\ldots,\\beta_J^\\prime)^\\prime$ and $j=1$ is the baseline alternative $\\beta_1=0$.\n",
    "\n",
    "The function simulates a $N \\times K$ matrix of covariates. These\n",
    "consist of a constant term and K-1 individual characteristics drawn from a standard normal distribution, i.e.\n",
    "$x_{i}= (1,x_{i2}, \\ldots, x_{iK})'$, with $x_{ik} \\sim N(0,1)$.\n",
    "\n",
    "The choice pattern is simulated in accordance with the data generating\n",
    "process given by the equations in\n",
    "(2).\n",
    "\n",
    "*Note:*\n",
    "The solution to this is exactly as we simulated data for the clogit last week. The main difference is that we now have beta coefficients for each option (last week we had one column of beta coefficients, today we have (J - 1) columns of beta coefficients.). As mentioned, we use the first option J = 0 as a baseline.\n",
    "\n",
    "***Programming hint:*** We will simulate `x` as `(N, K)`, i.e. there is no column for the normalized alternative. We can still use matrix algebra to compute the $N \\times J$ matrix of utilities with characteristic element \n",
    "$$ v_{ij} = \\sum_{k=1}^K x_{ijk} \\beta_{jk} \\quad \\text{for } \\ne 1,$$ \n",
    "and $v_{i1} = 0$. We can compute this using \n",
    "```Python\n",
    "xb = x @ theta # x is (N, K) and theta is (K, J-1), so the product is (N, J-1)\n",
    "oo = np.zeros((N,1)) # normalized util=0 for the baseline\n",
    "u = np.hstack([oo,xb]) # full (N,J) matrix of utilities (hstack = horizontal stack)\n",
    "```\n",
    "The product `x @ theta` works because `x` is `(N,J-1,K)` and `theta` is `(K,J-1)`. Then Python interprets it as we expect. "
   ]
  },
  {
   "cell_type": "code",
   "execution_count": 2,
   "metadata": {},
   "outputs": [],
   "source": [
    "# Initialize simulation parameters\n",
    "N = 10000\n",
    "J = 3\n",
    "K = 2\n",
    "\n",
    "# Initialize true beta coefficients for data generating process.\n",
    "beta2 = np.array([[-.3, .6]]).T\n",
    "beta3 = np.array([[.2, -1]]).T\n",
    "true_beta = np.hstack([beta2, beta3])\n",
    "theta0 = np.zeros((K, J - 1)) # zeros are safe starting vlaues, resulting in equal probabilities"
   ]
  },
  {
   "cell_type": "code",
   "execution_count": 8,
   "metadata": {},
   "outputs": [],
   "source": [
    "# simulate some data \n",
    "np.random.seed(1)\n",
    "y,x = mlogit.sim_data(true_beta, N)"
   ]
  },
  {
   "cell_type": "code",
   "execution_count": 9,
   "metadata": {},
   "outputs": [
    {
     "name": "stdout",
     "output_type": "stream",
     "text": [
      "Frequencies of y:\n"
     ]
    },
    {
     "name": "stderr",
     "output_type": "stream",
     "text": [
      "C:\\Users\\vkt823\\AppData\\Local\\Temp\\ipykernel_22084\\378394915.py:2: FutureWarning: pandas.value_counts is deprecated and will be removed in a future version. Use pd.Series(obj).value_counts() instead.\n",
      "  pd.value_counts(y)\n"
     ]
    },
    {
     "data": {
      "text/plain": [
       "2    4250\n",
       "0    2943\n",
       "1    2807\n",
       "Name: count, dtype: int64"
      ]
     },
     "execution_count": 9,
     "metadata": {},
     "output_type": "execute_result"
    }
   ],
   "source": [
    "print('Frequencies of y:')\n",
    "pd.value_counts(y)"
   ]
  },
  {
   "cell_type": "markdown",
   "metadata": {},
   "source": [
    "Expected output:\n",
    "\n",
    "| y         | Frequencies  | \n",
    "|:----------|-------------:|\n",
    "|2          |   4250       |\n",
    "|0          |   2943       |\n",
    "|1          |   2807       |"
   ]
  },
  {
   "cell_type": "markdown",
   "metadata": {},
   "source": [
    "# Question 2: Choice Probabilities \n",
    "\n",
    "The choice probabilities in the multinomial logit model is given by\n",
    "equation (1). This should be implemented into the mlogit.m\n",
    "class file such that the function\n",
    "`choice_prob()` returns choice probabilities, $p_{ij}$ for\n",
    "$i\\in \\{1,\\ldots,N\\}$ and $j\\in \\{1,\\ldots,J\\}$. The choice\n",
    "probabilities are contained in the ($N \\times J$) matrix `ccp`. The function should also return the (natural)\n",
    "$\\log$ of the choice probabilities which is used later in the maximum\n",
    "likelihood estimation. The log transformed choice probabilities, which should be saved in the matrix `logccp`,\n",
    "are given by\n",
    "$$\n",
    "\\log\\text{Pr}\\left(y_{i}=j\\mid \\mathbf{x}_{ij},\\boldsymbol{\\beta}\\right)=\\log p_{ij}=\\mathbf{x}_{i}\\boldsymbol{\\beta}_j-\\log\\left(\\sum_{m=1}^{J}\\exp\\left(\\mathbf{x}_{i}\\boldsymbol{\\beta}_m\\right)\\right),\n",
    "$$\n",
    "\n",
    "*Programming hint*:\n",
    "Again, this is done exactly like last week, except that you need a loop for each column of coefficients we have for the choices when you calculate the utility matrix. Remember that the first column in the utility matrix is the baseline, and therefore should be a column with only zero values."
   ]
  },
  {
   "cell_type": "code",
   "execution_count": 10,
   "metadata": {},
   "outputs": [
    {
     "data": {
      "text/plain": [
       "True"
      ]
     },
     "execution_count": 10,
     "metadata": {},
     "output_type": "execute_result"
    }
   ],
   "source": [
    "ccp, logccp = mlogit.choice_prob(theta0, x)\n",
    "np.isclose(ccp[0,0], 0.33333333)"
   ]
  },
  {
   "cell_type": "code",
   "execution_count": 11,
   "metadata": {},
   "outputs": [
    {
     "data": {
      "text/plain": [
       "True"
      ]
     },
     "execution_count": 11,
     "metadata": {},
     "output_type": "execute_result"
    }
   ],
   "source": [
    "ccp, logccp = mlogit.choice_prob(true_beta, x)\n",
    "np.isclose(ccp[0,0], 0.31211691)"
   ]
  },
  {
   "cell_type": "markdown",
   "metadata": {},
   "source": [
    "# Question 3: Estimate on Simulated Data\n",
    "\n",
    "Last time you created the criterion function for the conditional logit estimator. This is identical to the criterion function for the multinomial logit model, so you need only to copy this from last week.\n",
    "\n",
    "Now estimate the coefficients based on the simulated data, using maximum likelihood to solve the model. To do this use the `estimate` function.\n",
    "\n",
    "I have written some code that calculates the norm of the gradient at the point of the solution. We will use this later to solve any issues we might have in a real, empirical example. Should this norm be large or small?"
   ]
  },
  {
   "cell_type": "code",
   "execution_count": 12,
   "metadata": {},
   "outputs": [
    {
     "name": "stdout",
     "output_type": "stream",
     "text": [
      "Optimization terminated successfully.\n",
      "         Current function value: 0.932552\n",
      "         Iterations: 17\n",
      "         Function evaluations: 90\n",
      "         Gradient evaluations: 18\n"
     ]
    }
   ],
   "source": [
    "sim_result = estimation.estimate(mlogit.q, theta0, y, x)"
   ]
  },
  {
   "cell_type": "code",
   "execution_count": 13,
   "metadata": {},
   "outputs": [
    {
     "data": {
      "text/html": [
       "<div>\n",
       "<style scoped>\n",
       "    .dataframe tbody tr th:only-of-type {\n",
       "        vertical-align: middle;\n",
       "    }\n",
       "\n",
       "    .dataframe tbody tr th {\n",
       "        vertical-align: top;\n",
       "    }\n",
       "\n",
       "    .dataframe thead th {\n",
       "        text-align: right;\n",
       "    }\n",
       "</style>\n",
       "<table border=\"1\" class=\"dataframe\">\n",
       "  <thead>\n",
       "    <tr style=\"text-align: right;\">\n",
       "      <th></th>\n",
       "      <th>Est</th>\n",
       "      <th>s.e.</th>\n",
       "      <th>True</th>\n",
       "    </tr>\n",
       "  </thead>\n",
       "  <tbody>\n",
       "    <tr>\n",
       "      <th>x21</th>\n",
       "      <td>-0.2973</td>\n",
       "      <td>0.0306</td>\n",
       "      <td>-0.3</td>\n",
       "    </tr>\n",
       "    <tr>\n",
       "      <th>x22</th>\n",
       "      <td>0.1944</td>\n",
       "      <td>0.0264</td>\n",
       "      <td>0.2</td>\n",
       "    </tr>\n",
       "    <tr>\n",
       "      <th>x31</th>\n",
       "      <td>0.5909</td>\n",
       "      <td>0.0321</td>\n",
       "      <td>0.6</td>\n",
       "    </tr>\n",
       "    <tr>\n",
       "      <th>x32</th>\n",
       "      <td>-1.0230</td>\n",
       "      <td>0.0314</td>\n",
       "      <td>-1.0</td>\n",
       "    </tr>\n",
       "  </tbody>\n",
       "</table>\n",
       "</div>"
      ],
      "text/plain": [
       "        Est    s.e.  True\n",
       "x21 -0.2973  0.0306  -0.3\n",
       "x22  0.1944  0.0264   0.2\n",
       "x31  0.5909  0.0321   0.6\n",
       "x32 -1.0230  0.0314  -1.0"
      ]
     },
     "execution_count": 13,
     "metadata": {},
     "output_type": "execute_result"
    }
   ],
   "source": [
    "varnames = [f'x{j+1}{k+1}' for j in range(1,J) for k in range(K)]\n",
    "pd.DataFrame({\n",
    "              'Est' : sim_result[\"theta\"], \n",
    "              's.e.': sim_result[\"se\"], \n",
    "              'True': true_beta.flatten() # pd expects flat arrays \n",
    "             },\n",
    "             index=varnames).round(4)"
   ]
  },
  {
   "cell_type": "markdown",
   "metadata": {},
   "source": [
    "Expected output:\n",
    "\n",
    "|   |Est       |\ts.e.  |\tTrue|\n",
    "|:--|---------:|---------:|----:|    \n",
    "|x21|\t-0.2973|\t0.0306|\t-0.3|\n",
    "|x22|\t 0.1944|\t0.0264|  0.2|\n",
    "|x31|\t 0.5909|\t0.0321|\t 0.6| \n",
    "|x32|\t-1.0230|\t0.0314|\t-1.0|"
   ]
  },
  {
   "cell_type": "code",
   "execution_count": 14,
   "metadata": {},
   "outputs": [],
   "source": [
    "def calc_norm(q, theta):\n",
    "    g = estimation.centered_grad(q, theta) # (N,K)\n",
    "    g = np.mean(g, axis=0) # (K,)\n",
    "    return np.mean(g ** 2) # 2-norm: "
   ]
  },
  {
   "cell_type": "code",
   "execution_count": 15,
   "metadata": {},
   "outputs": [
    {
     "name": "stdout",
     "output_type": "stream",
     "text": [
      "q(thetahat)        =   0.9326\n",
      "2-norm of gradient =  2.76e-11\n"
     ]
    }
   ],
   "source": [
    "q = lambda theta: np.mean(mlogit.q(theta, y, x))\n",
    "print(f'q(thetahat)        = {q(sim_result[\"theta\"]): 8.4g}')\n",
    "print(f'2-norm of gradient = {calc_norm(q, sim_result[\"theta\"]): 8.4g}')"
   ]
  },
  {
   "cell_type": "markdown",
   "metadata": {},
   "source": [
    "# Question 4: Estimation on the Terza (2002) data\n",
    "\n",
    "We are now going to use the data from \n",
    ">   Joseph V. Terza (2002): \"Alcohol abuse and employment: A second look\"\n",
    ">   Journal of Applied Econometrics, Volume 17, Issue 4, Pages 393-404\n",
    "\n",
    "Data source: http://qed.econ.queensu.ca/jae/2002-v17.4/terza/\n",
    "\n",
    "\n",
    "We will use the data to estimate the\n",
    "multinomial logit model. Therefore, we need to first load the data and\n",
    "then use the proper functions coded previously. \n",
    "\n",
    "The outcome, `y`, can take $J = 3$ values: \n",
    "* `0` if they are out of the work force, \n",
    "* `1` if they are unemployed, and \n",
    "* `2` if they are employed. \n",
    "\n",
    "Out of the work force, `0`, will be the normalized baseline alternative for our analysis.\n",
    "\n",
    "The results we are looking to obtain are shown in the table below, although some of them are rescaled, so you might have too many commas for some coefficients:\n",
    "\n",
    "|           |   Unemployed |   (t, unemployed) |    Employed |   (t, employed) |\n",
    "|:----------|-------------:|------------------:|------------:|----------------:|\n",
    "| alcohol   |   0.126952   |         0.584267  | -0.153571   |       -1.08658  |\n",
    "| urate     |   0.0457542  |         0.83962   | -0.0955165  |       -2.78256  |\n",
    "| age       |   0.162471   |         2.41517   |  0.227685   |        5.44668  |\n",
    "| agesq     |  -0.00244618 |        -3.0253    | -0.00308571 |       -6.33359  |\n",
    "| schooling |  -0.00923555 |        -0.340401  |  0.0890395  |        6.04366  |\n",
    "| married   |   0.400316   |         2.1345    |  0.708421   |        6.17536  |\n",
    "| famsize   |   0.0621845  |         1.24317   |  0.0622035  |        1.96377  |\n",
    "| white     |   0.0391827  |         0.221582  |  0.738065   |        7.0695   |\n",
    "| excellent |   2.91856    |         6.41338   |  3.70305    |       20.4199   |\n",
    "| verygood  |   2.97854    |         6.47601   |  3.65356    |       19.507    |\n",
    "| good      |   2.49418    |         5.5087    |  2.99973    |       17.2925   |\n",
    "| fair      |   1.46049    |         2.98686   |  1.87639    |       10.2903   |\n",
    "| northeast |   0.0843054  |         0.349563  |  0.0887303  |        0.592707 |\n",
    "| midwest   |   0.0155177  |         0.0739923 |  0.122884   |        0.944845 |\n",
    "| south     |   0.174895   |         0.840669  |  0.439299   |        3.44955  |\n",
    "| center    |  -0.271521   |        -1.38227   | -0.268834   |       -2.21096  |\n",
    "| other     |  -0.091874   |        -0.472643  |  0.0980203  |        0.7822   |\n",
    "| firstq    |   0.422726   |         2.08176   | -0.0272806  |       -0.209783 |\n",
    "| secondq   |  -0.0214781  |        -0.100532  | -0.11056    |       -0.868604 |\n",
    "| thirdq    |  -0.0361932  |        -0.166545  | -0.0529623  |       -0.412258 |\n",
    "| const     |  -6.12662    |        -4.12252   | -6.24737    |       -6.66383  |\n",
    "\n",
    "Final likelihood: `q = 0.3276` \n",
    "\n",
    "```      \n",
    "     Value of the log-likehood function: -3217.48\n",
    "```\n"
   ]
  },
  {
   "cell_type": "markdown",
   "metadata": {},
   "source": [
    "I have written the code to load the data. Use this data to estimate a multinomial logit model using the `estimate()` function, and print it using the `print_table()` function.\n",
    "\n",
    "You might get an error that states that the minimizer is unsure whether it found a solution. Reuse the code from above and check the size of the norm at the solution. Remember that you have to redefine `q` as well. Does the norm look fine to you?"
   ]
  },
  {
   "cell_type": "code",
   "execution_count": 16,
   "metadata": {},
   "outputs": [
    {
     "data": {
      "text/html": [
       "<div>\n",
       "<style scoped>\n",
       "    .dataframe tbody tr th:only-of-type {\n",
       "        vertical-align: middle;\n",
       "    }\n",
       "\n",
       "    .dataframe tbody tr th {\n",
       "        vertical-align: top;\n",
       "    }\n",
       "\n",
       "    .dataframe thead th {\n",
       "        text-align: right;\n",
       "    }\n",
       "</style>\n",
       "<table border=\"1\" class=\"dataframe\">\n",
       "  <thead>\n",
       "    <tr style=\"text-align: right;\">\n",
       "      <th></th>\n",
       "      <th>Labor outcome</th>\n",
       "      <th>alcohol</th>\n",
       "      <th>urate</th>\n",
       "      <th>age</th>\n",
       "      <th>agesq</th>\n",
       "      <th>schooling</th>\n",
       "      <th>married</th>\n",
       "      <th>famsize</th>\n",
       "      <th>white</th>\n",
       "      <th>excellent</th>\n",
       "      <th>...</th>\n",
       "      <th>good</th>\n",
       "      <th>fair</th>\n",
       "      <th>northeast</th>\n",
       "      <th>midwest</th>\n",
       "      <th>south</th>\n",
       "      <th>center</th>\n",
       "      <th>other</th>\n",
       "      <th>firstq</th>\n",
       "      <th>secondq</th>\n",
       "      <th>thirdq</th>\n",
       "    </tr>\n",
       "  </thead>\n",
       "  <tbody>\n",
       "    <tr>\n",
       "      <th>8627</th>\n",
       "      <td>3.0</td>\n",
       "      <td>0.0</td>\n",
       "      <td>5.7</td>\n",
       "      <td>36.0</td>\n",
       "      <td>1296.0</td>\n",
       "      <td>18.0</td>\n",
       "      <td>1.0</td>\n",
       "      <td>3.0</td>\n",
       "      <td>1.0</td>\n",
       "      <td>1.0</td>\n",
       "      <td>...</td>\n",
       "      <td>0.0</td>\n",
       "      <td>0.0</td>\n",
       "      <td>0.0</td>\n",
       "      <td>1.0</td>\n",
       "      <td>0.0</td>\n",
       "      <td>0.0</td>\n",
       "      <td>1.0</td>\n",
       "      <td>0.0</td>\n",
       "      <td>0.0</td>\n",
       "      <td>0.0</td>\n",
       "    </tr>\n",
       "    <tr>\n",
       "      <th>2431</th>\n",
       "      <td>3.0</td>\n",
       "      <td>1.0</td>\n",
       "      <td>3.0</td>\n",
       "      <td>26.0</td>\n",
       "      <td>676.0</td>\n",
       "      <td>16.0</td>\n",
       "      <td>0.0</td>\n",
       "      <td>1.0</td>\n",
       "      <td>1.0</td>\n",
       "      <td>1.0</td>\n",
       "      <td>...</td>\n",
       "      <td>0.0</td>\n",
       "      <td>0.0</td>\n",
       "      <td>1.0</td>\n",
       "      <td>0.0</td>\n",
       "      <td>0.0</td>\n",
       "      <td>1.0</td>\n",
       "      <td>0.0</td>\n",
       "      <td>1.0</td>\n",
       "      <td>0.0</td>\n",
       "      <td>0.0</td>\n",
       "    </tr>\n",
       "    <tr>\n",
       "      <th>1093</th>\n",
       "      <td>3.0</td>\n",
       "      <td>0.0</td>\n",
       "      <td>3.0</td>\n",
       "      <td>28.0</td>\n",
       "      <td>784.0</td>\n",
       "      <td>12.0</td>\n",
       "      <td>0.0</td>\n",
       "      <td>3.0</td>\n",
       "      <td>1.0</td>\n",
       "      <td>0.0</td>\n",
       "      <td>...</td>\n",
       "      <td>0.0</td>\n",
       "      <td>0.0</td>\n",
       "      <td>1.0</td>\n",
       "      <td>0.0</td>\n",
       "      <td>0.0</td>\n",
       "      <td>1.0</td>\n",
       "      <td>0.0</td>\n",
       "      <td>1.0</td>\n",
       "      <td>0.0</td>\n",
       "      <td>0.0</td>\n",
       "    </tr>\n",
       "  </tbody>\n",
       "</table>\n",
       "<p>3 rows × 21 columns</p>\n",
       "</div>"
      ],
      "text/plain": [
       "      Labor outcome  alcohol  urate   age   agesq  schooling  married  \\\n",
       "8627            3.0      0.0    5.7  36.0  1296.0       18.0      1.0   \n",
       "2431            3.0      1.0    3.0  26.0   676.0       16.0      0.0   \n",
       "1093            3.0      0.0    3.0  28.0   784.0       12.0      0.0   \n",
       "\n",
       "      famsize  white  excellent  ...  good  fair  northeast  midwest  south  \\\n",
       "8627      3.0    1.0        1.0  ...   0.0   0.0        0.0      1.0    0.0   \n",
       "2431      1.0    1.0        1.0  ...   0.0   0.0        1.0      0.0    0.0   \n",
       "1093      3.0    1.0        0.0  ...   0.0   0.0        1.0      0.0    0.0   \n",
       "\n",
       "      center  other  firstq  secondq  thirdq  \n",
       "8627     0.0    1.0     0.0      0.0     0.0  \n",
       "2431     1.0    0.0     1.0      0.0     0.0  \n",
       "1093     1.0    0.0     1.0      0.0     0.0  \n",
       "\n",
       "[3 rows x 21 columns]"
      ]
     },
     "execution_count": 16,
     "metadata": {},
     "output_type": "execute_result"
    }
   ],
   "source": [
    "data = np.loadtxt('terza.txt') # numpy array \n",
    "\n",
    "# y takes values 0: out of work force, 1: unemployed, 2: employed\n",
    "y_lab = 'Labor outcome'\n",
    "x_lab = ['alcohol', 'urate', 'age', 'agesq', 'schooling', 'married', 'famsize', 'white', \n",
    "         'excellent', 'verygood', 'good', 'fair', \n",
    "         'northeast', 'midwest', 'south', 'center', 'other', \n",
    "         'firstq', 'secondq', 'thirdq']\n",
    "y_values_lab = ['Out of labor force', 'Unemployed', 'Employed']\n",
    "\n",
    "# to inspect in a cleaner way\n",
    "df = pd.DataFrame(data, columns=[y_lab] + x_lab)\n",
    "df.sample(3)"
   ]
  },
  {
   "cell_type": "code",
   "execution_count": 17,
   "metadata": {},
   "outputs": [],
   "source": [
    "y = data[:, 0] - 1  # Subtract 1 to make y base 0\n",
    "x = data[:, 1:]\n",
    "\n",
    "y = y.astype(int)\n",
    "N = y.size\n",
    "\n",
    "# add constant to x \n",
    "oo = np.ones((N, 1))\n",
    "x = np.hstack((data[:, 1:], oo))\n",
    "K = x.shape[1]\n",
    "x_lab.append('const')\n",
    "\n",
    "J = len(np.unique(y))\n",
    "\n",
    "theta0 = np.zeros((K, J-1))"
   ]
  },
  {
   "cell_type": "code",
   "execution_count": 18,
   "metadata": {},
   "outputs": [
    {
     "data": {
      "text/plain": [
       "array([0, 1, 2])"
      ]
     },
     "execution_count": 18,
     "metadata": {},
     "output_type": "execute_result"
    }
   ],
   "source": [
    "np.unique(y)"
   ]
  },
  {
   "cell_type": "code",
   "execution_count": 20,
   "metadata": {},
   "outputs": [
    {
     "name": "stdout",
     "output_type": "stream",
     "text": [
      "         Current function value: 0.327579\n",
      "         Iterations: 284\n",
      "         Function evaluations: 14202\n",
      "         Gradient evaluations: 330\n"
     ]
    },
    {
     "name": "stderr",
     "output_type": "stream",
     "text": [
      "c:\\Users\\vkt823\\AppData\\Local\\anaconda3\\Lib\\site-packages\\scipy\\optimize\\_minimize.py:705: OptimizeWarning: Desired error not necessarily achieved due to precision loss.\n",
      "  res = _minimize_bfgs(fun, x0, args, jac, callback, **options)\n"
     ]
    }
   ],
   "source": [
    "# Estimate the model using estimation.estimate() and mlogit.q, returning the results dictionary \n",
    "mlogit_result = estimation.estimate(mlogit.q, theta0,y,x) # Fill in"
   ]
  },
  {
   "cell_type": "code",
   "execution_count": 21,
   "metadata": {},
   "outputs": [
    {
     "data": {
      "text/html": [
       "<div>\n",
       "<style scoped>\n",
       "    .dataframe tbody tr th:only-of-type {\n",
       "        vertical-align: middle;\n",
       "    }\n",
       "\n",
       "    .dataframe tbody tr th {\n",
       "        vertical-align: top;\n",
       "    }\n",
       "\n",
       "    .dataframe thead th {\n",
       "        text-align: right;\n",
       "    }\n",
       "</style>\n",
       "<table border=\"1\" class=\"dataframe\">\n",
       "  <thead>\n",
       "    <tr style=\"text-align: right;\">\n",
       "      <th></th>\n",
       "      <th>Unemployed</th>\n",
       "      <th>(t, unemployed)</th>\n",
       "      <th>Employed</th>\n",
       "      <th>(t, employed)</th>\n",
       "    </tr>\n",
       "  </thead>\n",
       "  <tbody>\n",
       "    <tr>\n",
       "      <th>alcohol</th>\n",
       "      <td>0.126985</td>\n",
       "      <td>0.584420</td>\n",
       "      <td>-0.153555</td>\n",
       "      <td>-1.086466</td>\n",
       "    </tr>\n",
       "    <tr>\n",
       "      <th>urate</th>\n",
       "      <td>0.045754</td>\n",
       "      <td>0.839624</td>\n",
       "      <td>-0.095516</td>\n",
       "      <td>-2.782546</td>\n",
       "    </tr>\n",
       "    <tr>\n",
       "      <th>age</th>\n",
       "      <td>0.162467</td>\n",
       "      <td>2.415116</td>\n",
       "      <td>0.227681</td>\n",
       "      <td>5.446585</td>\n",
       "    </tr>\n",
       "    <tr>\n",
       "      <th>agesq</th>\n",
       "      <td>-0.002446</td>\n",
       "      <td>-3.025240</td>\n",
       "      <td>-0.003086</td>\n",
       "      <td>-6.333503</td>\n",
       "    </tr>\n",
       "    <tr>\n",
       "      <th>schooling</th>\n",
       "      <td>-0.009236</td>\n",
       "      <td>-0.340417</td>\n",
       "      <td>0.089039</td>\n",
       "      <td>6.043642</td>\n",
       "    </tr>\n",
       "    <tr>\n",
       "      <th>married</th>\n",
       "      <td>0.400315</td>\n",
       "      <td>2.134494</td>\n",
       "      <td>0.708424</td>\n",
       "      <td>6.175388</td>\n",
       "    </tr>\n",
       "    <tr>\n",
       "      <th>famsize</th>\n",
       "      <td>0.062184</td>\n",
       "      <td>1.243167</td>\n",
       "      <td>0.062203</td>\n",
       "      <td>1.963753</td>\n",
       "    </tr>\n",
       "    <tr>\n",
       "      <th>white</th>\n",
       "      <td>0.039178</td>\n",
       "      <td>0.221554</td>\n",
       "      <td>0.738065</td>\n",
       "      <td>7.069505</td>\n",
       "    </tr>\n",
       "    <tr>\n",
       "      <th>excellent</th>\n",
       "      <td>2.918565</td>\n",
       "      <td>6.413381</td>\n",
       "      <td>3.703054</td>\n",
       "      <td>20.419855</td>\n",
       "    </tr>\n",
       "    <tr>\n",
       "      <th>verygood</th>\n",
       "      <td>2.978565</td>\n",
       "      <td>6.476054</td>\n",
       "      <td>3.653570</td>\n",
       "      <td>19.507096</td>\n",
       "    </tr>\n",
       "    <tr>\n",
       "      <th>good</th>\n",
       "      <td>2.494160</td>\n",
       "      <td>5.508668</td>\n",
       "      <td>2.999718</td>\n",
       "      <td>17.292414</td>\n",
       "    </tr>\n",
       "    <tr>\n",
       "      <th>fair</th>\n",
       "      <td>1.460487</td>\n",
       "      <td>2.986852</td>\n",
       "      <td>1.876390</td>\n",
       "      <td>10.290254</td>\n",
       "    </tr>\n",
       "    <tr>\n",
       "      <th>northeast</th>\n",
       "      <td>0.084305</td>\n",
       "      <td>0.349559</td>\n",
       "      <td>0.088760</td>\n",
       "      <td>0.592906</td>\n",
       "    </tr>\n",
       "    <tr>\n",
       "      <th>midwest</th>\n",
       "      <td>0.015478</td>\n",
       "      <td>0.073804</td>\n",
       "      <td>0.122893</td>\n",
       "      <td>0.944911</td>\n",
       "    </tr>\n",
       "    <tr>\n",
       "      <th>south</th>\n",
       "      <td>0.174888</td>\n",
       "      <td>0.840634</td>\n",
       "      <td>0.439322</td>\n",
       "      <td>3.449727</td>\n",
       "    </tr>\n",
       "    <tr>\n",
       "      <th>center</th>\n",
       "      <td>-0.271531</td>\n",
       "      <td>-1.382322</td>\n",
       "      <td>-0.268832</td>\n",
       "      <td>-2.210943</td>\n",
       "    </tr>\n",
       "    <tr>\n",
       "      <th>other</th>\n",
       "      <td>-0.091870</td>\n",
       "      <td>-0.472624</td>\n",
       "      <td>0.098028</td>\n",
       "      <td>0.782261</td>\n",
       "    </tr>\n",
       "    <tr>\n",
       "      <th>firstq</th>\n",
       "      <td>0.422644</td>\n",
       "      <td>2.081353</td>\n",
       "      <td>-0.027333</td>\n",
       "      <td>-0.210189</td>\n",
       "    </tr>\n",
       "    <tr>\n",
       "      <th>secondq</th>\n",
       "      <td>-0.021494</td>\n",
       "      <td>-0.100607</td>\n",
       "      <td>-0.110575</td>\n",
       "      <td>-0.868724</td>\n",
       "    </tr>\n",
       "    <tr>\n",
       "      <th>thirdq</th>\n",
       "      <td>-0.036123</td>\n",
       "      <td>-0.166224</td>\n",
       "      <td>-0.052939</td>\n",
       "      <td>-0.412078</td>\n",
       "    </tr>\n",
       "    <tr>\n",
       "      <th>const</th>\n",
       "      <td>-6.126520</td>\n",
       "      <td>-4.122452</td>\n",
       "      <td>-6.247299</td>\n",
       "      <td>-6.663753</td>\n",
       "    </tr>\n",
       "  </tbody>\n",
       "</table>\n",
       "</div>"
      ],
      "text/plain": [
       "           Unemployed  (t, unemployed)  Employed  (t, employed)\n",
       "alcohol      0.126985         0.584420 -0.153555      -1.086466\n",
       "urate        0.045754         0.839624 -0.095516      -2.782546\n",
       "age          0.162467         2.415116  0.227681       5.446585\n",
       "agesq       -0.002446        -3.025240 -0.003086      -6.333503\n",
       "schooling   -0.009236        -0.340417  0.089039       6.043642\n",
       "married      0.400315         2.134494  0.708424       6.175388\n",
       "famsize      0.062184         1.243167  0.062203       1.963753\n",
       "white        0.039178         0.221554  0.738065       7.069505\n",
       "excellent    2.918565         6.413381  3.703054      20.419855\n",
       "verygood     2.978565         6.476054  3.653570      19.507096\n",
       "good         2.494160         5.508668  2.999718      17.292414\n",
       "fair         1.460487         2.986852  1.876390      10.290254\n",
       "northeast    0.084305         0.349559  0.088760       0.592906\n",
       "midwest      0.015478         0.073804  0.122893       0.944911\n",
       "south        0.174888         0.840634  0.439322       3.449727\n",
       "center      -0.271531        -1.382322 -0.268832      -2.210943\n",
       "other       -0.091870        -0.472624  0.098028       0.782261\n",
       "firstq       0.422644         2.081353 -0.027333      -0.210189\n",
       "secondq     -0.021494        -0.100607 -0.110575      -0.868724\n",
       "thirdq      -0.036123        -0.166224 -0.052939      -0.412078\n",
       "const       -6.126520        -4.122452 -6.247299      -6.663753"
      ]
     },
     "execution_count": 21,
     "metadata": {},
     "output_type": "execute_result"
    }
   ],
   "source": [
    "# print results from the result dictionary \n",
    "\n",
    "# we reshape the parameters in the same way as is done inside the utility function \n",
    "# this is because scipy.optimize.minimize works on a \"flattened\" (1-dim) array\n",
    "thetahat = mlogit_result['theta'].reshape(K, J-1) \n",
    "t        = mlogit_result['t'].reshape(K, J-1)\n",
    "\n",
    "tab = pd.DataFrame({\n",
    "    'Unemployed': thetahat[:,0], '(t, unemployed)': t[:,0],\n",
    "    'Employed':   thetahat[:,1], '(t, employed)':   t[:,1]\n",
    "},index=x_lab)\n",
    "tab"
   ]
  },
  {
   "cell_type": "code",
   "execution_count": 23,
   "metadata": {},
   "outputs": [],
   "source": [
    "# Calculate the norm of the gradient"
   ]
  },
  {
   "cell_type": "code",
   "execution_count": 17,
   "metadata": {},
   "outputs": [
    {
     "name": "stdout",
     "output_type": "stream",
     "text": [
      "q(thetahat)          =   0.3276\n",
      "2-norm of gradient   =  1.265e-07\n",
      "inf-norm of gradient =  6.847e-05\n"
     ]
    }
   ],
   "source": [
    "q = lambda theta: 1/N * np.sum(mlogit.q(theta, y, x))\n",
    "g = estimation.centered_grad(q, mlogit_result[\"theta\"]) # gradient at parameter estimates \n",
    "print(f'q(thetahat)          = {q(mlogit_result[\"theta\"]): 8.4g}')\n",
    "print(f'2-norm of gradient   = {np.mean(g ** 2): 8.4g}')\n",
    "print(f'inf-norm of gradient = {np.mean(np.abs(g)): 8.4g}')\n"
   ]
  },
  {
   "cell_type": "markdown",
   "metadata": {},
   "source": [
    "# Question 5: Odds Ratio\n",
    "\n",
    "Consider a particular individual represented by\n",
    "the row vector of covariates\n",
    "$x_0 = (0, 6, 40, 40^2, 8, 0, 2, 1, 0, 0, 1, 0, 0, 1, 0, 1, 0, 1, 0, 0, 1)$\n",
    "where the first element indicates that the individual does not abuse\n",
    "alcohol ($x_0[1]= 0$). Note that to facilitate convergence we need to\n",
    "again rescale some of the covariates. Following the rescale proposed in\n",
    "the expost code, the vector of covariates will become\n",
    "$x_0 = (0, 0.6, 4, 1.6, 0.8, 0, 2, 1, 0, 0, 1, 0, 0, 1, 0, 1, 0, 1, 0, 0, 1)$.\n",
    "\n",
    "The odds ratio measures the probability of a given outcome to\n",
    "occur relative to the probability of a baseline outcome, conditional on\n",
    "the covariates. It is defined as:\n",
    "\n",
    "$$\n",
    "\\begin{aligned}\n",
    "\\frac{\\Pr(y_i=j|\\mathbf{x}_i)}{\\Pr(y_i=1|\\mathbf{x}_i)} = \\frac{\\frac{\\exp \\{ \\mathbf{x}_{i}\\boldsymbol{\\beta}_j \\}}{ \\sum_{l=1}^J \\exp \\{ \\mathbf{x}_{i}\\boldsymbol{\\beta}_l \\}}}   {\\frac{\\exp \\{ \\mathbf{x}_{i}\\boldsymbol{\\beta}_1 \\}}{ \\sum_{l=1}^J \\exp \\{ \\mathbf{x}_{i}\\boldsymbol{\\beta}_l \\}}} = \\exp\\{\\mathbf{x}_i \\boldsymbol{\\beta}_j\\}\n",
    "\\end{aligned}\n",
    "$$\n",
    "\n",
    "The odds ratio of being employed is therefore calculated as\n",
    "$x_0 \\beta_3$, where $\\beta_3$ is the vector of parameters\n",
    "estimated for the third outcome (being employed).\n",
    "\n",
    "- Calculate the odds ratio of being unemployed (should be around `0.593`).\n",
    "- Calculate the odds ratio of being employed  (should be around `5.742`).\n",
    "\n",
    "How do we interpret these odds ratios?"
   ]
  },
  {
   "cell_type": "code",
   "execution_count": 24,
   "metadata": {},
   "outputs": [],
   "source": [
    "# Consider some person\n",
    "x0 = np.array([[0, 6, 40, 40*40, 8, 0, 2, 1, 0, 0, 1, 0, 0, 1, 0, 1, 0, 1, 0, 0, 1]]).reshape(1, K)\n",
    "\n",
    "x1 = x0.copy()\n",
    "i_alco = 0 # variable corresponding to alcohol\n",
    "x1[0, i_alco] = 1.0 # sets alcohol abuse := 1 \n",
    "thetahat = mlogit_result['theta'].reshape(K, J-1)"
   ]
  },
  {
   "cell_type": "code",
   "execution_count": 25,
   "metadata": {},
   "outputs": [
    {
     "data": {
      "text/html": [
       "<div>\n",
       "<style scoped>\n",
       "    .dataframe tbody tr th:only-of-type {\n",
       "        vertical-align: middle;\n",
       "    }\n",
       "\n",
       "    .dataframe tbody tr th {\n",
       "        vertical-align: top;\n",
       "    }\n",
       "\n",
       "    .dataframe thead th {\n",
       "        text-align: right;\n",
       "    }\n",
       "</style>\n",
       "<table border=\"1\" class=\"dataframe\">\n",
       "  <thead>\n",
       "    <tr style=\"text-align: right;\">\n",
       "      <th></th>\n",
       "      <th>Fictitious individual, \"x0\"</th>\n",
       "    </tr>\n",
       "  </thead>\n",
       "  <tbody>\n",
       "    <tr>\n",
       "      <th>alcohol</th>\n",
       "      <td>0</td>\n",
       "    </tr>\n",
       "    <tr>\n",
       "      <th>urate</th>\n",
       "      <td>6</td>\n",
       "    </tr>\n",
       "    <tr>\n",
       "      <th>age</th>\n",
       "      <td>40</td>\n",
       "    </tr>\n",
       "    <tr>\n",
       "      <th>agesq</th>\n",
       "      <td>1600</td>\n",
       "    </tr>\n",
       "    <tr>\n",
       "      <th>schooling</th>\n",
       "      <td>8</td>\n",
       "    </tr>\n",
       "    <tr>\n",
       "      <th>married</th>\n",
       "      <td>0</td>\n",
       "    </tr>\n",
       "    <tr>\n",
       "      <th>famsize</th>\n",
       "      <td>2</td>\n",
       "    </tr>\n",
       "    <tr>\n",
       "      <th>white</th>\n",
       "      <td>1</td>\n",
       "    </tr>\n",
       "    <tr>\n",
       "      <th>excellent</th>\n",
       "      <td>0</td>\n",
       "    </tr>\n",
       "    <tr>\n",
       "      <th>verygood</th>\n",
       "      <td>0</td>\n",
       "    </tr>\n",
       "    <tr>\n",
       "      <th>good</th>\n",
       "      <td>1</td>\n",
       "    </tr>\n",
       "    <tr>\n",
       "      <th>fair</th>\n",
       "      <td>0</td>\n",
       "    </tr>\n",
       "    <tr>\n",
       "      <th>northeast</th>\n",
       "      <td>0</td>\n",
       "    </tr>\n",
       "    <tr>\n",
       "      <th>midwest</th>\n",
       "      <td>1</td>\n",
       "    </tr>\n",
       "    <tr>\n",
       "      <th>south</th>\n",
       "      <td>0</td>\n",
       "    </tr>\n",
       "    <tr>\n",
       "      <th>center</th>\n",
       "      <td>1</td>\n",
       "    </tr>\n",
       "    <tr>\n",
       "      <th>other</th>\n",
       "      <td>0</td>\n",
       "    </tr>\n",
       "    <tr>\n",
       "      <th>firstq</th>\n",
       "      <td>1</td>\n",
       "    </tr>\n",
       "    <tr>\n",
       "      <th>secondq</th>\n",
       "      <td>0</td>\n",
       "    </tr>\n",
       "    <tr>\n",
       "      <th>thirdq</th>\n",
       "      <td>0</td>\n",
       "    </tr>\n",
       "    <tr>\n",
       "      <th>const</th>\n",
       "      <td>1</td>\n",
       "    </tr>\n",
       "  </tbody>\n",
       "</table>\n",
       "</div>"
      ],
      "text/plain": [
       "           Fictitious individual, \"x0\"\n",
       "alcohol                              0\n",
       "urate                                6\n",
       "age                                 40\n",
       "agesq                             1600\n",
       "schooling                            8\n",
       "married                              0\n",
       "famsize                              2\n",
       "white                                1\n",
       "excellent                            0\n",
       "verygood                             0\n",
       "good                                 1\n",
       "fair                                 0\n",
       "northeast                            0\n",
       "midwest                              1\n",
       "south                                0\n",
       "center                               1\n",
       "other                                0\n",
       "firstq                               1\n",
       "secondq                              0\n",
       "thirdq                               0\n",
       "const                                1"
      ]
     },
     "execution_count": 25,
     "metadata": {},
     "output_type": "execute_result"
    }
   ],
   "source": [
    "pd.DataFrame(x0, columns=x_lab, index=['Fictitious individual, \"x0\"']).T"
   ]
  },
  {
   "cell_type": "code",
   "execution_count": 27,
   "metadata": {},
   "outputs": [
    {
     "name": "stdout",
     "output_type": "stream",
     "text": [
      "0.596\n",
      "5.760\n"
     ]
    }
   ],
   "source": [
    "# odds ratio of being unemployed/employed vs being out of labor force\n",
    "odds_unemp = np.exp(x0@thetahat[:,0]) # fill in, hint: pick thetahat only for j=0 (unemployed) and remember thetahat is Kx(J-1), J=3\n",
    "odds_emp   = np.exp(x0@thetahat[:,1])# fill in, hint: pick thetahat only for j=1 (employed) and remember thetahat is Kx(J-1), J=3\n",
    "print(f'{odds_unemp[0]:.3f}')\n",
    "print(f'{odds_emp[0]:.3f}')"
   ]
  },
  {
   "cell_type": "markdown",
   "metadata": {},
   "source": [
    "Expected output: 0.597 and 5.761"
   ]
  },
  {
   "cell_type": "markdown",
   "metadata": {},
   "source": [
    "# Question 6: Marginal Effects (discrete case)\n",
    "\n",
    "The marginal effect of a change in a binary covariate is computed by\n",
    "subtracting the conditional choice probability under the two possible\n",
    "values of the binary covariate $k$ (with and without alcohol\n",
    "abuse): \n",
    "$$\n",
    "\\begin{aligned}\n",
    "\\delta^d_j(x_{ik})=Pr(y_i=j|x_{ik}=1)-Pr(y_i=j|x_{ik}=0)\n",
    "\\end{aligned}\n",
    "$$\n",
    "\n",
    "- Cacluate the choice probability for person $x0$.\n",
    "- Cacluate the choice probability for the same person but now with alcholoh abuse set to 1 (`k=0`).\n",
    "- Subtrace the choice probabilty of x1 from x0.\n",
    "- You should get values close to `[ 0.0154  0.0211  -0.0365]`"
   ]
  },
  {
   "cell_type": "code",
   "execution_count": 28,
   "metadata": {},
   "outputs": [],
   "source": [
    "def marg_effect_discrete(betahat, x0, x1):\n",
    "    # Calculate the probabilities of x1 and x0, using betahat of the latest model estimation.\n",
    "    # Then substract the probability vector of x0 from the probability vector of x1.\n",
    "    prob_x1,_ = mlogit.choice_prob(betahat,x1) # Fill in: choice probability matrix at x1 \n",
    "    prob_x0,_ = mlogit.choice_prob(betahat,x0) # Fill in: choice probability matrix at x0\n",
    "    return (prob_x1 - prob_x0).flatten()"
   ]
  },
  {
   "cell_type": "code",
   "execution_count": 29,
   "metadata": {},
   "outputs": [
    {
     "data": {
      "text/html": [
       "<div>\n",
       "<style scoped>\n",
       "    .dataframe tbody tr th:only-of-type {\n",
       "        vertical-align: middle;\n",
       "    }\n",
       "\n",
       "    .dataframe tbody tr th {\n",
       "        vertical-align: top;\n",
       "    }\n",
       "\n",
       "    .dataframe thead th {\n",
       "        text-align: right;\n",
       "    }\n",
       "</style>\n",
       "<table border=\"1\" class=\"dataframe\">\n",
       "  <thead>\n",
       "    <tr style=\"text-align: right;\">\n",
       "      <th></th>\n",
       "      <th>Marginal effect (alcohol)</th>\n",
       "    </tr>\n",
       "  </thead>\n",
       "  <tbody>\n",
       "    <tr>\n",
       "      <th>Out of labor force</th>\n",
       "      <td>0.0152</td>\n",
       "    </tr>\n",
       "    <tr>\n",
       "      <th>Unemployed</th>\n",
       "      <td>0.0213</td>\n",
       "    </tr>\n",
       "    <tr>\n",
       "      <th>Employed</th>\n",
       "      <td>-0.0364</td>\n",
       "    </tr>\n",
       "  </tbody>\n",
       "</table>\n",
       "</div>"
      ],
      "text/plain": [
       "                    Marginal effect (alcohol)\n",
       "Out of labor force                     0.0152\n",
       "Unemployed                             0.0213\n",
       "Employed                              -0.0364"
      ]
     },
     "execution_count": 29,
     "metadata": {},
     "output_type": "execute_result"
    }
   ],
   "source": [
    "me_alc = marg_effect_discrete(thetahat, x0, x1)\n",
    "\n",
    "tab = pd.DataFrame({'Marginal effect (alcohol)': me_alc}, index=y_values_lab).round(4)\n",
    "tab"
   ]
  },
  {
   "cell_type": "markdown",
   "metadata": {},
   "source": [
    "Expected results: \n",
    "\n",
    "|                    |   Marginal effect (alcohol) |\n",
    "|:-------------------|----------------------------:|\n",
    "| Out of labor force |                      0.0152 |\n",
    "| Unemployed         |                      0.0213 |\n",
    "| Employed           |                     -0.0364 |"
   ]
  },
  {
   "cell_type": "code",
   "execution_count": 30,
   "metadata": {},
   "outputs": [],
   "source": [
    "prob,_ = mlogit.choice_prob(thetahat,x1) # Fill in: choice probability matrix at x1 "
   ]
  },
  {
   "cell_type": "markdown",
   "metadata": {},
   "source": [
    "# Question 7: Marginal Effects (continuous case)\n",
    "\n",
    "- Calculate the marginal effect of education (`schooling`, with `k=4`) using the above equation. $\\beta_{jk}$ is given to you.\n",
    "- You should get values close to `[-0.00940 -0.00632  0.0157]`\n",
    "\n",
    "The marginal effect for the multinomial logit model with respect to a\n",
    "continuous covariate $k$ (e.g., schooling) is:\n",
    "$$\n",
    "\\begin{aligned}\n",
    "\\frac{\\partial \\Pr(y_i=j\\mid x_i)}{\\partial x_{ik}} = p_{ij} \\left(\\beta_{jk} - \\sum_{l=1}^J p_{il}\\beta_{lk}\\right).\n",
    "\\end{aligned}\n",
    "$$\n",
    "\n",
    "We can calculate the full vector of marginal effects, \n",
    "$(  \\frac{\\partial \\Pr(y_i=0\\mid x_i)}{\\partial x_{ik}}, \n",
    "    \\frac{\\partial \\Pr(y_i=1\\mid x_i)}{\\partial x_{ik}}, \n",
    "    \\frac{\\partial \\Pr(y_i=2\\mid x_i)}{\\partial x_{ik}}\n",
    ")$, by using vector notation: \n",
    "$$\n",
    "\\frac{\\partial\\mathbf{p}_{i}}{\\partial x_{ik}}=\\mathbf{p}_{i}\\left(\\boldsymbol{\\beta}_{k}-\\sum_{l=1}^{J}p_{il}\\beta_{lk}\\right),\n",
    "$$ where $\\mathbf{p}_i$ is the $3 \\times 1$ vector $(p_{i0}, p_{i1}, p_{i2})$, and (in an unforgivable abuse of notation) $ \\boldsymbol{\\beta}_k = (\\beta_{0k}, \\beta_{1k}, \\beta_{2k})$ (a $J$-vector). Thus, the sum $\\sum_l p_{il} \\beta_{lk}$ can be written as the inner \"dot\" product of $\\mathbf{p}_i$ and $\\boldsymbol{\\beta}_k$. (And the coefficient for alcohold is $k = 4$ (in base 0).) \n"
   ]
  },
  {
   "cell_type": "code",
   "execution_count": 42,
   "metadata": {},
   "outputs": [],
   "source": [
    "def marg_effect_continuous(thetahat, theta_k, x):\n",
    "    '''\n",
    "        theta: (N,J-1) matrix of coefficients\n",
    "        theta_k: J-vector of coefficients on the k'th covariate\n",
    "        x: (N,K) matrix (possibly just N=1) of covariates\n",
    "    '''\n",
    "    N,K = x.shape\n",
    "    K,J_1 = thetahat.shape\n",
    "    J = J_1 + 1 # only coefficients for J-1 alternatives \n",
    "    \n",
    "    # 0. input checks \n",
    "    assert theta_k.ndim     == 2, f'\"theta_k\" should not be flattened (ndim==2 required)'\n",
    "    assert theta_k.shape[0] == J, f'\"theta_k\" should be {J=}, but got {theta_k.shape[0]}'\n",
    "    assert theta_k.shape[1] == 1, f'\"theta_k\" must be a column J-vector'\n",
    "    \n",
    "    # 1. compute derivative: return flattened (N*J, )\n",
    "    prob, _ = mlogit.choice_prob(thetahat, x) \n",
    "    # Fill in \n",
    "    margeff = prob.T * (theta_k - (prob @ theta_k))\n",
    "    return margeff "
   ]
  },
  {
   "cell_type": "code",
   "execution_count": 43,
   "metadata": {},
   "outputs": [
    {
     "data": {
      "text/html": [
       "<div>\n",
       "<style scoped>\n",
       "    .dataframe tbody tr th:only-of-type {\n",
       "        vertical-align: middle;\n",
       "    }\n",
       "\n",
       "    .dataframe tbody tr th {\n",
       "        vertical-align: top;\n",
       "    }\n",
       "\n",
       "    .dataframe thead th {\n",
       "        text-align: right;\n",
       "    }\n",
       "</style>\n",
       "<table border=\"1\" class=\"dataframe\">\n",
       "  <thead>\n",
       "    <tr style=\"text-align: right;\">\n",
       "      <th></th>\n",
       "      <th>Marginal effect (education)</th>\n",
       "    </tr>\n",
       "  </thead>\n",
       "  <tbody>\n",
       "    <tr>\n",
       "      <th>Out of labor force</th>\n",
       "      <td>-0.009375</td>\n",
       "    </tr>\n",
       "    <tr>\n",
       "      <th>Unemployed</th>\n",
       "      <td>-0.006341</td>\n",
       "    </tr>\n",
       "    <tr>\n",
       "      <th>Employed</th>\n",
       "      <td>0.015715</td>\n",
       "    </tr>\n",
       "  </tbody>\n",
       "</table>\n",
       "</div>"
      ],
      "text/plain": [
       "                    Marginal effect (education)\n",
       "Out of labor force                    -0.009375\n",
       "Unemployed                            -0.006341\n",
       "Employed                               0.015715"
      ]
     },
     "execution_count": 43,
     "metadata": {},
     "output_type": "execute_result"
    }
   ],
   "source": [
    "thetahat_educ = np.hstack([0.0, thetahat[4, :]]).reshape(J,1)\n",
    "me_educ = marg_effect_continuous(thetahat, thetahat_educ, x0).flatten()\n",
    "\n",
    "tab = pd.DataFrame({'Marginal effect (education)': me_educ}, index=y_values_lab).round(6)\n",
    "tab"
   ]
  },
  {
   "cell_type": "markdown",
   "metadata": {},
   "source": [
    "Expected results: \n",
    "\n",
    "|                    |   Marginal effect (education) |\n",
    "|:-------------------|----------------------------:|\n",
    "| Out of labor force |                   -0.009374 |\n",
    "| Unemployed         |                   -0.006341 |\n",
    "| Employed           |                    0.015715 |"
   ]
  },
  {
   "cell_type": "markdown",
   "metadata": {},
   "source": [
    "#### Testing our derivative with a numerical derivative\n",
    "To test our results, we can also simply compute a finite difference partial effect wrt. the $k$'th entry in `x0`. To do so, we want to use the simple standard formula for a numerical derivative \n",
    "$$ f'(x) \\cong \\frac{f((1+h)x)-f(x)}{hx}, \\quad \\text{for }h \\text{ small.} $$\n",
    "However, the function `mlogit.choice_prob` takes several inputs, and they are in vector form, so we write a small \"wrapper function\" that takes only a *scalar* as input, `x_k`, and fixes the remaining values and calls `mlogit.choice_prob`. "
   ]
  },
  {
   "cell_type": "code",
   "execution_count": 27,
   "metadata": {},
   "outputs": [
    {
     "name": "stdout",
     "output_type": "stream",
     "text": [
      "[[-0.0093744  -0.00634085  0.01571525]]\n"
     ]
    }
   ],
   "source": [
    "# numerical partial derivative  \n",
    "k = 4\n",
    "def f(x_k): \n",
    "    '''choice_prob_handle: Function handle taking *scalar* inputs (for doing a numerical first difference)'''\n",
    "    assert np.isscalar(x_k), 'This function is defined for scalar values'\n",
    "    # x0 comes from \"global\" memory scope (set outside this function)\n",
    "    x0_ = np.copy(x0).astype(float) # we take a copy to avoid overwriting x0 (in python, you can write to inputs)\n",
    "    x0_[:,k] = x_k # we change the k'th regressor, setting it equal to the scalar input everywhere \n",
    "    prob, _ = mlogit.choice_prob(thetahat, x0_) # evaluate choice probabilities on the new x0 \n",
    "    return prob\n",
    "\n",
    "# compute numerical finite difference\n",
    "h = 1e-8\n",
    "x0_k = x0[0,k] # years of education in our x0 vector \n",
    "f0 = f(x0_k)        # base\n",
    "f1 = f(x0_k*(1+h))  # forward step \n",
    "me_educ_num = (f1 - f0) / (h*x0_k)   # newton quotient\n",
    "print(me_educ_num) # verify that this gives the same numbers"
   ]
  },
  {
   "cell_type": "markdown",
   "metadata": {},
   "source": [
    "## Bootstrapping to get standard errors of marginal effects.\n",
    "\n",
    "Since we are not able to directly calculate variances for the marginal effects, we can use bootstrapping instead. This is done by taking a sample of our data, but with replacement. This means that we create a new data set as a random draw form our original data set, but we allow that the same observation is drawn multiple times. This new data set has the same number of observations as the original, but will differ sligthly since we now (may) have some duplicates.\n",
    "\n",
    "The procedure works as follows: \n",
    "* For each bootstrap iteration do: \n",
    "    1. Draw bootstrap sample (with replacement) \n",
    "    2. Estimate $\\hat{\\theta}$\n",
    "    3. Compute marginal effects using 1-2. \n",
    "\n",
    "We do this for many bootstrap iterations and then calculate the empirical standard deviation of the stored marginal effects over bootstrap iterations. This standard deviation is what we will use as our estimate of the *standard error* of the marginal effects. \n",
    "\n",
    "Do this in 4 steps: \n",
    "1. Write a function that, for a given dataset, `y`,`x`, runs estimation and computes marginal effects (2, 3). \n",
    "2. Write a function that draws a bootstrap sample with replacement from the original dataset. \n",
    "3. Run the bootstrap procedure. \n",
    "4. Print results. "
   ]
  },
  {
   "cell_type": "markdown",
   "metadata": {},
   "source": [
    "### Part 1: Estimating and computing marginal effects in one go\n",
    "\n",
    "First, we write a function that does everything we did above, given an input dataset, `y`, `x`\n",
    "1. Estimate parameters, \n",
    "2. Compute marginal effect for alcohol (discrete) \n",
    "3. Compute marginal effect for education (continuous)\n",
    "    - Construct the $J$-sub-vector of education betas (adding the normalized $\\theta_{40}=0$ in front)\n",
    "    - Compute marginal effect using the analytic formula "
   ]
  },
  {
   "cell_type": "code",
   "execution_count": 49,
   "metadata": {},
   "outputs": [],
   "source": [
    "def estimate_and_compute_marg_effs(y, x, x0, x1, theta_start, disp=False): \n",
    "    '''Estimate and compute marginal effects\n",
    "    Args. \n",
    "        y: N-vector of discrete outcomes\n",
    "        x: N*J matrix of explanatory variables\n",
    "        x0: K-vector of explanatory variables \n",
    "        x1: K-vector, alcohol switched on \n",
    "        \n",
    "    Returns\n",
    "        tuple of floats: \n",
    "            me_alco: marginal effect wrt. alcohol (discrete)\n",
    "            me_educ: marginal effect wrt. education (continuous)\n",
    "    '''\n",
    "    assert y.ndim == 1 , 'y must be a flattened array'\n",
    "    assert x.ndim == 2 , 'x must be 2-dimensional'\n",
    "    assert theta_start.ndim == 2, 'theta_start should be 2-dimensional'\n",
    "    assert theta_start.shape[0] == x.shape[1], 'theta_start and x should conform'\n",
    "    \n",
    "    N,K = x.shape\n",
    "    _,J_1 = theta_start.shape \n",
    "    J = J_1 + 1 \n",
    "    \n",
    "    # 1. estimate \n",
    "    res =  estimation.estimate(mlogit.q,theta_start,y,x, options={'disp':disp})# Fill in: estimate parameters\n",
    "    betahat = res['theta'].reshape(K,J-1)\n",
    "    \n",
    "    # 2. marginal effect of alcohol \n",
    "    me_alco = marg_effect_discrete(betahat, x0, x1) # FILL IN \n",
    "    \n",
    "    # 3. marginal effect of education \n",
    "    betahat_educ = np.hstack([0.0, betahat[4, :]]).reshape(J,1)\n",
    "\n",
    "    me_educ = marg_effect_continuous(betahat, betahat_educ, x0).flatten() # Fill in \n",
    "    \n",
    "    # 4. return \n",
    "    return me_alco, me_educ"
   ]
  },
  {
   "cell_type": "markdown",
   "metadata": {},
   "source": [
    "Evaluate the function for our baseline dataset and note how long it takes. "
   ]
  },
  {
   "cell_type": "code",
   "execution_count": 50,
   "metadata": {},
   "outputs": [
    {
     "name": "stdout",
     "output_type": "stream",
     "text": [
      "Alco: [ 0.0152  0.0213 -0.0364]\n",
      "Educ: [-0.0094 -0.0063  0.0157]\n",
      "CPU times: total: 719 ms\n",
      "Wall time: 764 ms\n"
     ]
    }
   ],
   "source": [
    "%%time \n",
    "me_alco, me_educ = estimate_and_compute_marg_effs(y,x,x0,x1,theta_start=thetahat)\n",
    "print(f'Alco: {me_alco.round(4)}')\n",
    "print(f'Educ: {me_educ.round(4)}')"
   ]
  },
  {
   "cell_type": "markdown",
   "metadata": {},
   "source": [
    "Expected results:\n",
    "\n",
    "Alco: [ 0.0152  0.0213 -0.0364] \n",
    "\n",
    "Educ: [-0.0094 -0.0063  0.0157]"
   ]
  },
  {
   "cell_type": "markdown",
   "metadata": {},
   "source": [
    "### Part 2: Function to draw a bootstrap sample\n",
    "\n",
    "The function should draw *indices* for the observations (rows) to be drawn. \n",
    "* *Hint:* Look at the function `np.random.choice(Nmax, Nsamples, replace=True)`. "
   ]
  },
  {
   "cell_type": "code",
   "execution_count": 51,
   "metadata": {},
   "outputs": [],
   "source": [
    "def bootstrap_sample(y,x): \n",
    "    '''bootstrap_sample: samples a new dataset (with replacement) from the input. \n",
    "    Args. \n",
    "        y: 1-dimensional N-array\n",
    "        x: (N,K) matrix \n",
    "    Returns\n",
    "        tuple: y_i, x_i \n",
    "            y_i: N-array\n",
    "            x_i: (N,K) matrix \n",
    "    '''\n",
    "    N = y.size\n",
    "    \n",
    "    # FILL IN \n",
    "    ii_boot = np.random.choice(N,N,replace=True) # vector of indices for rows \n",
    "    #first argument specify the range of numbers to choose from,\n",
    "    # second argument specify the number of samples to draw\n",
    "    # third argument specify whether to sample with replacement or not\n",
    "    # we want replacement, so we set it to True\n",
    "\n",
    "    y_i = y[ii_boot] # selection of N rows from y \n",
    "    x_i = x[ii_boot] # selection of N rows from x \n",
    "    \n",
    "    return y_i, x_i "
   ]
  },
  {
   "cell_type": "markdown",
   "metadata": {},
   "source": [
    "### Part 3: Run the bootstrap procedure"
   ]
  },
  {
   "cell_type": "code",
   "execution_count": 52,
   "metadata": {},
   "outputs": [
    {
     "name": "stdout",
     "output_type": "stream",
     "text": [
      "Bootstrap iteration 1/10\n",
      "Bootstrap iteration 2/10\n",
      "Bootstrap iteration 3/10\n",
      "Bootstrap iteration 4/10\n",
      "Bootstrap iteration 5/10\n",
      "Bootstrap iteration 6/10\n",
      "Bootstrap iteration 7/10\n",
      "Bootstrap iteration 8/10\n",
      "Bootstrap iteration 9/10\n",
      "Bootstrap iteration 10/10\n"
     ]
    }
   ],
   "source": [
    "nboot = 10  # Number of bootstraps, should ideally be very large \n",
    "\n",
    "# Set seed for random sampling.\n",
    "seed = 42\n",
    "rng = default_rng()\n",
    "\n",
    "# initialize \n",
    "me_alco = np.empty((nboot,J))\n",
    "me_educ = np.empty((nboot,J))\n",
    "\n",
    "for i in range(nboot): \n",
    "    print(f'Bootstrap iteration {i+1}/{nboot}')\n",
    "    \n",
    "    # 1. choose which individuals to draw\n",
    "    y_i, x_i = bootstrap_sample(y,x) # Fill in: call the bootstrap sample function \n",
    "    # 2. estimate and compute \n",
    "    ma, me = estimate_and_compute_marg_effs(y_i,x_i,x0,x1,theta_start=thetahat) # FILL IN: estimate and compute MEs using the function from earlier \n",
    "    me_alco[i,:] = ma\n",
    "    me_educ[i,:] = me"
   ]
  },
  {
   "cell_type": "markdown",
   "metadata": {},
   "source": [
    "### Part 4: Show the results \n",
    "\n",
    "***Note:*** For results to believable in practice, the number of bootstrap repititions needs to be quite high, over 100 and preferably 1000. "
   ]
  },
  {
   "cell_type": "code",
   "execution_count": 53,
   "metadata": {},
   "outputs": [
    {
     "data": {
      "image/png": "[encoded data removed]",
      "text/plain": [
       "<Figure size 640x480 with 1 Axes>"
      ]
     },
     "metadata": {},
     "output_type": "display_data"
    }
   ],
   "source": [
    "j = 1\n",
    "plt.hist(me_alco[:, j], bins=30); \n",
    "plt.xlabel(f'Marginal effect of alcohol on Pr(y={j}) ({y_values_lab[j]})'); \n",
    "plt.ylabel('Bootstrap samples'); "
   ]
  },
  {
   "cell_type": "markdown",
   "metadata": {},
   "source": [
    "Here is a function to make a semi-nice table to print the coefficients, and their 95% confidence interval."
   ]
  },
  {
   "cell_type": "code",
   "execution_count": 54,
   "metadata": {},
   "outputs": [],
   "source": [
    "from tabulate import tabulate\n",
    "\n",
    "def me_table(me_coeff, me_se, **kwargs):\n",
    "    table = np.column_stack(\n",
    "        (me_coeff, me_coeff -1.96*me_se, me_coeff +1.96*me_se)\n",
    "    )\n",
    "    print(tabulate(table, **kwargs))"
   ]
  },
  {
   "cell_type": "code",
   "execution_count": 55,
   "metadata": {},
   "outputs": [],
   "source": [
    "def me_table(me: np.ndarray): \n",
    "    assert me.ndim == 2 \n",
    "    n_boot,J = me.shape \n",
    "    \n",
    "    m = me.mean(0)\n",
    "    se = me.std(0)\n",
    "    tab = pd.DataFrame({\n",
    "                  'Mean m.e.': m, \n",
    "                  '-1.96 se':  m-se*1.96,\n",
    "                  '+1.96 se':  m+se*1.96\n",
    "                 },\n",
    "                index=y_values_lab)\n",
    "    return tab "
   ]
  },
  {
   "cell_type": "code",
   "execution_count": 56,
   "metadata": {},
   "outputs": [
    {
     "data": {
      "text/html": [
       "<div>\n",
       "<style scoped>\n",
       "    .dataframe tbody tr th:only-of-type {\n",
       "        vertical-align: middle;\n",
       "    }\n",
       "\n",
       "    .dataframe tbody tr th {\n",
       "        vertical-align: top;\n",
       "    }\n",
       "\n",
       "    .dataframe thead th {\n",
       "        text-align: right;\n",
       "    }\n",
       "</style>\n",
       "<table border=\"1\" class=\"dataframe\">\n",
       "  <thead>\n",
       "    <tr style=\"text-align: right;\">\n",
       "      <th></th>\n",
       "      <th>Mean m.e.</th>\n",
       "      <th>-1.96 se</th>\n",
       "      <th>+1.96 se</th>\n",
       "    </tr>\n",
       "  </thead>\n",
       "  <tbody>\n",
       "    <tr>\n",
       "      <th>Out of labor force</th>\n",
       "      <td>0.0254</td>\n",
       "      <td>-0.0069</td>\n",
       "      <td>0.0577</td>\n",
       "    </tr>\n",
       "    <tr>\n",
       "      <th>Unemployed</th>\n",
       "      <td>0.0146</td>\n",
       "      <td>-0.0159</td>\n",
       "      <td>0.0452</td>\n",
       "    </tr>\n",
       "    <tr>\n",
       "      <th>Employed</th>\n",
       "      <td>-0.0400</td>\n",
       "      <td>-0.0704</td>\n",
       "      <td>-0.0096</td>\n",
       "    </tr>\n",
       "  </tbody>\n",
       "</table>\n",
       "</div>"
      ],
      "text/plain": [
       "                    Mean m.e.  -1.96 se  +1.96 se\n",
       "Out of labor force     0.0254   -0.0069    0.0577\n",
       "Unemployed             0.0146   -0.0159    0.0452\n",
       "Employed              -0.0400   -0.0704   -0.0096"
      ]
     },
     "execution_count": 56,
     "metadata": {},
     "output_type": "execute_result"
    }
   ],
   "source": [
    "me_table(me_alco).round(4)"
   ]
  },
  {
   "cell_type": "markdown",
   "metadata": {},
   "source": [
    "Expected result:\n",
    "(NB since the bootstrap samples are random draws you might need to re-run the entire code to re-set the seed and match these results)\n",
    "\n",
    "|                      |   Mean m.e. |           -1.96 se |    +1.96 se |  \n",
    "|:---------------------|-------------:|------------------:|------------:|\n",
    "| Out of labor force   |   0.0254     |         -0.0069   | 0.0577      |\n",
    "| Unemployed           |   0.0146     |         -0.0159   | 0.0452      |  \n",
    "| Employed             |   -0.0400\t  |         -0.0704   |  -0.0096    |   \n"
   ]
  },
  {
   "cell_type": "code",
   "execution_count": 57,
   "metadata": {},
   "outputs": [
    {
     "data": {
      "text/html": [
       "<div>\n",
       "<style scoped>\n",
       "    .dataframe tbody tr th:only-of-type {\n",
       "        vertical-align: middle;\n",
       "    }\n",
       "\n",
       "    .dataframe tbody tr th {\n",
       "        vertical-align: top;\n",
       "    }\n",
       "\n",
       "    .dataframe thead th {\n",
       "        text-align: right;\n",
       "    }\n",
       "</style>\n",
       "<table border=\"1\" class=\"dataframe\">\n",
       "  <thead>\n",
       "    <tr style=\"text-align: right;\">\n",
       "      <th></th>\n",
       "      <th>Mean m.e.</th>\n",
       "      <th>-1.96 se</th>\n",
       "      <th>+1.96 se</th>\n",
       "    </tr>\n",
       "  </thead>\n",
       "  <tbody>\n",
       "    <tr>\n",
       "      <th>Out of labor force</th>\n",
       "      <td>-0.0090</td>\n",
       "      <td>-0.0139</td>\n",
       "      <td>-0.0040</td>\n",
       "    </tr>\n",
       "    <tr>\n",
       "      <th>Unemployed</th>\n",
       "      <td>-0.0066</td>\n",
       "      <td>-0.0112</td>\n",
       "      <td>-0.0020</td>\n",
       "    </tr>\n",
       "    <tr>\n",
       "      <th>Employed</th>\n",
       "      <td>0.0156</td>\n",
       "      <td>0.0113</td>\n",
       "      <td>0.0198</td>\n",
       "    </tr>\n",
       "  </tbody>\n",
       "</table>\n",
       "</div>"
      ],
      "text/plain": [
       "                    Mean m.e.  -1.96 se  +1.96 se\n",
       "Out of labor force    -0.0090   -0.0139   -0.0040\n",
       "Unemployed            -0.0066   -0.0112   -0.0020\n",
       "Employed               0.0156    0.0113    0.0198"
      ]
     },
     "execution_count": 57,
     "metadata": {},
     "output_type": "execute_result"
    }
   ],
   "source": [
    "me_table(me_educ).round(4)"
   ]
  },
  {
   "cell_type": "markdown",
   "metadata": {},
   "source": [
    "Expected result:\n",
    "(NB since the bootstrap samples are random draws you might need to re-run the entire code to re-set the seed and match these results)\n",
    "\n",
    "|                      |   Mean m.e. |           -1.96 se |    +1.96 se |  \n",
    "|:---------------------|-------------:|------------------:|------------:|\n",
    "| Out of labor force   |   -0.0090    |         -0.0139   | -0.0040     |\n",
    "| Unemployed           |   -0.0066    |         -0.0112   | -0.0020     |  \n",
    "| Employed             |   0.0156\t  |         0.0113    |  0.0198     |   \n"
   ]
  },
  {
   "cell_type": "code",
   "execution_count": null,
   "metadata": {},
   "outputs": [],
   "source": []
  }
 ],
 "metadata": {
  "kernelspec": {
   "display_name": "Python 3.8.13 ('base')",
   "language": "python",
   "name": "python3"
  },
  "language_info": {
   "codemirror_mode": {
    "name": "ipython",
    "version": 3
   },
   "file_extension": ".py",
   "mimetype": "text/x-python",
   "name": "python",
   "nbconvert_exporter": "python",
   "pygments_lexer": "ipython3",
   "version": "3.11.5"
  },
  "vscode": {
   "interpreter": {
    "hash": "28b1ca885001685b2bc3a39df2ddd10ef1aa60bad7babe65fad257ff6b65d8b6"
   }
  }
 },
 "nbformat": 4,
 "nbformat_minor": 4
}
