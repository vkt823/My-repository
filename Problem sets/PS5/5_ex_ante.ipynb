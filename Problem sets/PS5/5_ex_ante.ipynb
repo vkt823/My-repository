{
 "cells": [
  {
   "cell_type": "markdown",
   "metadata": {},
   "source": [
    "# Week 5: Lasso"
   ]
  },
  {
   "cell_type": "markdown",
   "metadata": {},
   "source": [
    "The purpose of this week's exercises is to get our hands dirty using tools for high-dimensional estimation. We will here focus on the Lasso. However, most if not all exercises below can be done for the Ridge estimator, Dantzig selector, and the Elastic Net. (Do it!) We will use the \"housing.csv\" dataset, which contains data on house prices and more across districts in California. \n",
    "\n",
    "(The dataset is a slightly modified version of one initially featured in the paper \"Sparse spatial autoregressions\" by Pace and Barry in Statistics & Probability Letters 33.3 (1997), pp. 291-297. The data derive from the 1990 census, so it will sadly not help you predict current house prices)\n",
    "\n",
    "We first read the data into Python and explore the dataset to begin with."
   ]
  },
  {
   "cell_type": "code",
   "execution_count": 9,
   "metadata": {},
   "outputs": [
    {
     "name": "stdout",
     "output_type": "stream",
     "text": [
      "The number of rows and colums are (20640, 10) and also called shape of the matrix\n",
      "Columns names are: ['longitude', 'latitude', 'housing_median_age', 'total_rooms', 'total_bedrooms', 'population', 'households', 'median_income', 'median_house_value', 'ocean_proximity']\n"
     ]
    }
   ],
   "source": [
    "# Read data\n",
    "import numpy as np\n",
    "import pandas as pd\n",
    "import matplotlib.pyplot as plt\n",
    "from sklearn.linear_model import Lasso\n",
    "from sklearn.linear_model import LassoCV\n",
    "from scipy.stats import norm\n",
    "housing = pd.read_csv(\"housing.csv\")\n",
    "print(\"The number of rows and colums are {} and also called shape of the matrix\".format(housing.shape)) # data dimensions\n",
    "print(\"Columns names are: {}\".format(housing.columns.to_list()))"
   ]
  },
  {
   "cell_type": "code",
   "execution_count": 2,
   "metadata": {},
   "outputs": [
    {
     "name": "stdout",
     "output_type": "stream",
     "text": [
      "   longitude  latitude  housing_median_age  total_rooms  total_bedrooms  \\\n",
      "0    -122.23     37.88                41.0        880.0           129.0   \n",
      "1    -122.22     37.86                21.0       7099.0          1106.0   \n",
      "2    -122.24     37.85                52.0       1467.0           190.0   \n",
      "3    -122.25     37.85                52.0       1274.0           235.0   \n",
      "4    -122.25     37.85                52.0       1627.0           280.0   \n",
      "\n",
      "   population  households  median_income  median_house_value ocean_proximity  \n",
      "0       322.0       126.0         8.3252            452600.0        NEAR BAY  \n",
      "1      2401.0      1138.0         8.3014            358500.0        NEAR BAY  \n",
      "2       496.0       177.0         7.2574            352100.0        NEAR BAY  \n",
      "3       558.0       219.0         5.6431            341300.0        NEAR BAY  \n",
      "4       565.0       259.0         3.8462            342200.0        NEAR BAY  \n"
     ]
    }
   ],
   "source": [
    "print(housing.head()) # first observations"
   ]
  },
  {
   "cell_type": "code",
   "execution_count": 3,
   "metadata": {},
   "outputs": [
    {
     "name": "stdout",
     "output_type": "stream",
     "text": [
      "       longitude  latitude  housing_median_age  total_rooms  total_bedrooms  \\\n",
      "20635    -121.09     39.48                25.0       1665.0           374.0   \n",
      "20636    -121.21     39.49                18.0        697.0           150.0   \n",
      "20637    -121.22     39.43                17.0       2254.0           485.0   \n",
      "20638    -121.32     39.43                18.0       1860.0           409.0   \n",
      "20639    -121.24     39.37                16.0       2785.0           616.0   \n",
      "\n",
      "       population  households  median_income  median_house_value  \\\n",
      "20635       845.0       330.0         1.5603             78100.0   \n",
      "20636       356.0       114.0         2.5568             77100.0   \n",
      "20637      1007.0       433.0         1.7000             92300.0   \n",
      "20638       741.0       349.0         1.8672             84700.0   \n",
      "20639      1387.0       530.0         2.3886             89400.0   \n",
      "\n",
      "      ocean_proximity  \n",
      "20635          INLAND  \n",
      "20636          INLAND  \n",
      "20637          INLAND  \n",
      "20638          INLAND  \n",
      "20639          INLAND  \n"
     ]
    }
   ],
   "source": [
    "print(housing.tail()) # last observations"
   ]
  },
  {
   "cell_type": "code",
   "execution_count": 4,
   "metadata": {},
   "outputs": [
    {
     "name": "stdout",
     "output_type": "stream",
     "text": [
      "longitude             float64\n",
      "latitude              float64\n",
      "housing_median_age    float64\n",
      "total_rooms           float64\n",
      "total_bedrooms        float64\n",
      "population            float64\n",
      "households            float64\n",
      "median_income         float64\n",
      "median_house_value    float64\n",
      "ocean_proximity        object\n",
      "dtype: object\n"
     ]
    }
   ],
   "source": [
    "print(housing.dtypes) # data types"
   ]
  },
  {
   "cell_type": "code",
   "execution_count": 10,
   "metadata": {},
   "outputs": [
    {
     "data": {
      "text/plain": [
       "longitude               0\n",
       "latitude                0\n",
       "housing_median_age      0\n",
       "total_rooms             0\n",
       "total_bedrooms        207\n",
       "population              0\n",
       "households              0\n",
       "median_income           0\n",
       "median_house_value      0\n",
       "ocean_proximity         0\n",
       "dtype: int64"
      ]
     },
     "execution_count": 10,
     "metadata": {},
     "output_type": "execute_result"
    }
   ],
   "source": [
    "housing.isnull().sum() # check for missing values"
   ]
  },
  {
   "cell_type": "markdown",
   "metadata": {},
   "source": [
    "Some observations are missing a bedroom count. We here drop those. (An alternative approach is to impute the mean or median value and use all observations. Do it!)"
   ]
  },
  {
   "cell_type": "code",
   "execution_count": 11,
   "metadata": {},
   "outputs": [
    {
     "data": {
      "text/plain": [
       "longitude             0\n",
       "latitude              0\n",
       "housing_median_age    0\n",
       "total_rooms           0\n",
       "total_bedrooms        0\n",
       "population            0\n",
       "households            0\n",
       "median_income         0\n",
       "median_house_value    0\n",
       "ocean_proximity       0\n",
       "dtype: int64"
      ]
     },
     "execution_count": 11,
     "metadata": {},
     "output_type": "execute_result"
    }
   ],
   "source": [
    "housing=housing.dropna() # drop missing values\n",
    "housing.isnull().sum()"
   ]
  },
  {
   "cell_type": "code",
   "execution_count": 8,
   "metadata": {},
   "outputs": [],
   "source": [
    "median_value = housing['total_bedrooms'].median() #calculate the median value for total_bedrooms\n",
    "housing['total_bedrooms'].fillna(median_value, inplace=True) #replace missing values with the median value\n"
   ]
  },
  {
   "cell_type": "markdown",
   "metadata": {},
   "source": [
    "We will model house prices (median_house_value) using a linear (in the parameters) model of the remaining basic regressors minus \"ocean_proximity\". (The latter variable is likely a predictor of house prices. However, due to its categorical nature, we will exclude it for the purpose of this exercise. A better  approach is to convert this categorical variable into a collection of dummies.)"
   ]
  },
  {
   "cell_type": "code",
   "execution_count": 12,
   "metadata": {},
   "outputs": [
    {
     "name": "stdout",
     "output_type": "stream",
     "text": [
      "   longitude  latitude  housing_median_age  total_rooms  total_bedrooms  \\\n",
      "0    -122.23     37.88                41.0        880.0           129.0   \n",
      "1    -122.22     37.86                21.0       7099.0          1106.0   \n",
      "2    -122.24     37.85                52.0       1467.0           190.0   \n",
      "3    -122.25     37.85                52.0       1274.0           235.0   \n",
      "4    -122.25     37.85                52.0       1627.0           280.0   \n",
      "\n",
      "   population  households  median_income  \n",
      "0       322.0       126.0         8.3252  \n",
      "1      2401.0      1138.0         8.3014  \n",
      "2       496.0       177.0         7.2574  \n",
      "3       558.0       219.0         5.6431  \n",
      "4       565.0       259.0         3.8462  \n"
     ]
    }
   ],
   "source": [
    "y = housing.median_house_value\n",
    "X = housing.drop([\"median_house_value\",\"ocean_proximity\"],axis=1) #axis = 1 tells it to drop from columns not rows\n",
    "Xnames = X.columns #save column names\n",
    "print(X.head()) # first regressor observations"
   ]
  },
  {
   "cell_type": "code",
   "execution_count": 13,
   "metadata": {},
   "outputs": [
    {
     "data": {
      "text/plain": [
       "Index(['longitude', 'latitude', 'housing_median_age', 'total_rooms',\n",
       "       'total_bedrooms', 'population', 'households', 'median_income'],\n",
       "      dtype='object')"
      ]
     },
     "execution_count": 13,
     "metadata": {},
     "output_type": "execute_result"
    }
   ],
   "source": [
    "Xnames"
   ]
  },
  {
   "cell_type": "markdown",
   "metadata": {},
   "source": [
    "# Exercises"
   ]
  },
  {
   "cell_type": "markdown",
   "metadata": {},
   "source": [
    "### Question 1: Standardization\n",
    "Standardize the candidate regressors to bring everything onto the same scale. \n",
    "\n",
    "*Note 1:* One way is to use the functions mean() and std() from numpy"
   ]
  },
  {
   "cell_type": "code",
   "execution_count": 25,
   "metadata": {},
   "outputs": [],
   "source": [
    "def standardize(X):\n",
    "    X_tilde = (X - np.mean(X, axis=0)) / np.std(X, axis=0) #have to specify axis=0 to standardize by column\n",
    "    return X_tilde\n",
    "\n",
    "X_tilde = standardize(X)"
   ]
  },
  {
   "cell_type": "markdown",
   "metadata": {},
   "source": [
    "**CHR**: Check it's working"
   ]
  },
  {
   "cell_type": "code",
   "execution_count": 30,
   "metadata": {},
   "outputs": [
    {
     "name": "stdout",
     "output_type": "stream",
     "text": [
      "the mean of housing median age is 28.63\n",
      "the standard deviation of housing median age is 12.59\n",
      "the first observation of housing median age is 41.00\n",
      "the standardized first observation of housing median age is 0.98\n",
      "the standardized first observation of housing median age is 0.98\n"
     ]
    }
   ],
   "source": [
    "mean_housing_median_age = np.mean(X[\"housing_median_age\"])\n",
    "print(f'the mean of housing median age is {mean_housing_median_age:.2f}')\n",
    "std_housing_median_age = np.std(X[\"housing_median_age\"])\n",
    "print(f'the standard deviation of housing median age is {std_housing_median_age:.2f}')\n",
    "first_obs_house_median_age = housing.loc[0, \"housing_median_age\"]\n",
    "print(f'the first observation of housing median age is {first_obs_house_median_age:.2f}')\n",
    "standardized_first_obs = (first_obs_house_median_age - mean_housing_median_age) / std_housing_median_age\n",
    "print(f'the standardized first observation of housing median age is {standardized_first_obs:.2f}')\n",
    "print(f'the standardized first observation of housing median age is {X_tilde.loc[0, \"housing_median_age\"]:.2f}')\n"
   ]
  },
  {
   "cell_type": "markdown",
   "metadata": {},
   "source": [
    "### Question 2: Penalty Grid\n",
    "Construct a grid of 50 candidate penalty levels from 0.01 to 80000, and estimate the linear model for each of these penalty levels while saving the coefficient estimates.\n",
    "\n",
    "*Note 1:* Use np.geomspace to create a log scaled grid of penalty levels. \n",
    "\n",
    "*Note 2:* Use sklearn.linear_model.Lasso to estimate using Lasso. This is already loaded in as Lasso. The syntax is Lasso(alpha=penalty_level).fit(x,y) to get a \"container\" of results from the estimation. Read more about the Lasso function here: https://scikit-learn.org/stable/modules/generated/sklearn.linear_model.Lasso.html."
   ]
  },
  {
   "cell_type": "code",
   "execution_count": 32,
   "metadata": {},
   "outputs": [],
   "source": [
    "#create a grid of penalty values using the numpy function geomspace\n",
    "penalty_grid = np.geomspace(0.01,80000, num=50)\n"
   ]
  },
  {
   "cell_type": "code",
   "execution_count": 33,
   "metadata": {},
   "outputs": [],
   "source": [
    "coefs=[]\n",
    "for lamb in penalty_grid:\n",
    "    fit = Lasso(alpha=lamb).fit(X_tilde, y)\n",
    "    coefs.append(fit.coef_) # Note how we extract the coefficients from fit and append them to coefs"
   ]
  },
  {
   "cell_type": "markdown",
   "metadata": {},
   "source": [
    "### Question 3: Lasso Path\n",
    "\n",
    "Plot the (standardized) coefficient estimates as a function of the penalty level, i.e.\n",
    "create what is known as the Lasso path. \n",
    "\n",
    "*Note 1:* Don't worry about the vlines for now."
   ]
  },
  {
   "cell_type": "code",
   "execution_count": 34,
   "metadata": {},
   "outputs": [],
   "source": [
    "def plot_lasso_path(penalty_grid, coefs, legends, vlines: dict = None):\n",
    "    # Initiate figure \n",
    "    fig, ax = plt.subplots() #\n",
    "\n",
    "    # Plot coefficients as a function of the penalty parameter\n",
    "    ax.plot(penalty_grid, coefs)\n",
    "\n",
    "    # Set log scale for the x-axis\n",
    "    ax.set_xscale('log')\n",
    "\n",
    "    # Add labels\n",
    "    plt.xlabel('Penalty, $\\lambda$')\n",
    "    plt.ylabel(r'Estimates, $\\widehat{\\beta}_j(\\lambda)$')\n",
    "    plt.title('Lasso Path')\n",
    "\n",
    "    # Add legends\n",
    "    lgd=ax.legend(legends,loc=(1.04,0))\n",
    "    \n",
    "    # Add vertical lines\n",
    "    if vlines is not None:\n",
    "        for name, penalty in vlines.items():\n",
    "            ax.axvline(x=penalty, linestyle='--', color='grey')\n",
    "            plt.text(penalty,-80000,name,rotation=90)\n",
    "\n",
    "    \n",
    "    # Display plot\n",
    "    plt.show()\n",
    "    plt.close()\n"
   ]
  },
  {
   "cell_type": "markdown",
   "metadata": {},
   "source": [
    "In other words, fig is the container for one or more ax objects, and you can use ax to control the properties and content of the specific plot you're working on. This approach is useful when you want to create multiple subplots in a single figure, as you can have multiple ax objects within the same fig."
   ]
  },
  {
   "cell_type": "code",
   "execution_count": 35,
   "metadata": {},
   "outputs": [
    {
     "data": {
      "image/png": "[encoded data removed]",
      "text/plain": [
       "<Figure size 640x480 with 1 Axes>"
      ]
     },
     "metadata": {},
     "output_type": "display_data"
    }
   ],
   "source": [
    "# Plot lasso path\n",
    "plot_lasso_path(penalty_grid, coefs, Xnames)"
   ]
  },
  {
   "attachments": {
    "lasso_path.png": {
     "image/png": "[encoded data removed]"
    }
   },
   "cell_type": "markdown",
   "metadata": {},
   "source": [
    "You should get something that looks like this:\n",
    "\n",
    "![lasso_path.png](attachment:lasso_path.png)"
   ]
  },
  {
   "cell_type": "markdown",
   "metadata": {},
   "source": [
    "### Question 4: Cross Validation - penalty $\\lambda$\n",
    "Compute the penalty level and estimates implied by 5-fold cross-validation (5-CV). Which variables are selected by 5-CV? \n",
    "\n",
    "*Note 1:* Use sklearn.linear_model.LassoCV to estimate using Lasso with 5-CV. This is already loaded in as LassoCV.\n",
    "\n",
    "*Note 2:* The argument \"alphas\" sets the grid of penalty levels that the 5-CV procedure will consider."
   ]
  },
  {
   "cell_type": "code",
   "execution_count": null,
   "metadata": {},
   "outputs": [],
   "source": [
    "# Estimate the model using LassoCV\n",
    "fit_CV = None # Fill in\n",
    "\n",
    "# Investigate the penalty\n",
    "penalty_CV = None # Fill in\n",
    "print('Penalty_CV: ', round(penalty_CV,2))\n",
    "\n",
    "# Investigate the coefficients\n",
    "coeff_CV = None # Fill in\n",
    "print('Coefficients: ', np.round(coeff_CV))\n",
    "\n",
    "# Investigate the selected variables\n",
    "selected_variables = (coeff_CV!=0)\n",
    "print('Selected varriables: ', Xnames[selected_variables].to_list()) "
   ]
  },
  {
   "cell_type": "markdown",
   "metadata": {},
   "source": [
    "You should get penalty_CV = 0.01"
   ]
  },
  {
   "cell_type": "markdown",
   "metadata": {},
   "source": [
    "What does this error path suggest about the relationship between model sparsity and predictive power?"
   ]
  },
  {
   "cell_type": "markdown",
   "metadata": {},
   "source": [
    "### Question 5.1: Visualize the estimates resulting from 5-CV\n",
    "\n",
    "Consider the path of mean squared errors (MSE) for different penalty levels. Plot the mean MSE across folds as a function of the penalty level."
   ]
  },
  {
   "cell_type": "code",
   "execution_count": null,
   "metadata": {},
   "outputs": [],
   "source": [
    "# Retrieve penalty and MSE\n",
    "penalties_CV = fit_CV.alphas_\n",
    "MSE_CV = np.mean(fit_CV.mse_path_, axis=1)"
   ]
  },
  {
   "cell_type": "code",
   "execution_count": null,
   "metadata": {},
   "outputs": [],
   "source": [
    "# Define a function that plots the MSE as a function of the penalty parameter\n",
    "def plot_MSE_path(penalty_grid, MSE):\n",
    "    # Initiate figure \n",
    "    fig, ax = plt.subplots()\n",
    "\n",
    "    # Plot coefficients as a function of the penalty parameter\n",
    "    # Fill in\n",
    "\n",
    "    # Set log scale for the x-axis\n",
    "    # Fill in\n",
    "\n",
    "    # Plot minimum MSE\n",
    "    min_MSE_idx = np.argmin(MSE)\n",
    "    min_MSE_penalty = penalty_grid[min_MSE_idx]\n",
    "    ax.axvline(x=min_MSE_penalty, linestyle='--', color='grey')\n",
    "    plt.text(penalty_CV,1e10,\"Minimum MSE\",rotation=90)\n",
    "    \n",
    "    # Add labels\n",
    "    plt.xlabel('Penalty, $\\lambda$')\n",
    "    plt.ylabel('Mean squared error')\n",
    "    plt.title('Mean squared error')\n",
    "\n",
    "    # Display plot\n",
    "    plt.show()\n",
    "    plt.close()\n"
   ]
  },
  {
   "cell_type": "code",
   "execution_count": null,
   "metadata": {},
   "outputs": [],
   "source": [
    "# Plot MSE as a function of the penalty parameter\n",
    "plot_MSE_path(penalties_CV, MSE_CV)"
   ]
  },
  {
   "cell_type": "markdown",
   "metadata": {},
   "source": [
    "What does this error path suggest about the relationship between model sparsity and predictive power? \n",
    "\n",
    "How is the penalty chosen when using CV?\n",
    "\n",
    "Visualize the estimates resulting from 5-CV by adding a vertical line\n",
    "to your Lasso path at the corresponding penalty level. Use vlines in plot_lasso_path to do this. How can you see which variables are selected by 5-CV?"
   ]
  },
  {
   "cell_type": "code",
   "execution_count": null,
   "metadata": {},
   "outputs": [],
   "source": [
    "# Plot lasso path\n",
    "# Fill in"
   ]
  },
  {
   "cell_type": "markdown",
   "metadata": {},
   "source": [
    "### Question 6: BRT penalty\n",
    "Compute the (feasible) Bickel-Ritov-Tsybakov (BRT) penalty level, the resulting Lasso estimates, and visualize them in your path. Compare the BRT results to the CV\n",
    "ones. \n",
    "\n",
    "*Note 1:* scipy.stats.norm.ppf gives you the inverse of the normal CDF. scipy.stats.norm is already importet as norm.\n",
    "\n",
    "*Note 2:* Use a significance level of 5%, and set c=1.1.\n",
    "\n",
    "*Note 3:* Remeber that python defines the LASSO slightly differently than we do. In particular, the penalty level is 1/2 of what we define it as.\n",
    "\n",
    "*Note 4:* The max term in the BRT penalty is equal to 1 when data is standardized."
   ]
  },
  {
   "cell_type": "code",
   "execution_count": null,
   "metadata": {},
   "outputs": [],
   "source": [
    "# BRT penalty\n",
    "n,p = None # Fill in\n",
    "sigma = None # Fill in\n",
    "c = None # Fill in\n",
    "alpha = None # Fill in\n",
    "max_term = None # Fill in\n",
    "penalty_BRT = None # Fill in\n",
    "print('Penalty_BRT: ', round(penalty_BRT,2))\n",
    "\n",
    "# Implied estimates and selection\n",
    "fit_BRT = None # Fill in\n",
    "coeff_BRT = None # Fill in\n",
    "print('Coefficients: ', np.round(coeff_BRT))\n",
    "\n",
    "# Selected variables\n",
    "selected_variables_BRT = None # Fill in\n",
    "print('Selected varriables: ', Xnames[selected_variables_BRT].to_list())"
   ]
  },
  {
   "cell_type": "markdown",
   "metadata": {},
   "source": [
    "You should get penalty_BRT = 2428.92"
   ]
  },
  {
   "cell_type": "code",
   "execution_count": null,
   "metadata": {},
   "outputs": [],
   "source": [
    "# Plot lasso path\n",
    "# Fill in"
   ]
  },
  {
   "cell_type": "markdown",
   "metadata": {},
   "source": [
    "### Question 7: BCCH penalty\n",
    " Compute the Belloni-Chen-Chernozhukov-Hansen (BCCH) pilot and updated penalty levels, the resulting Lasso estimates, and add them to your path. Compare\n",
    "the BCCH penalty and estimates to both the CV and BRT ones.\n",
    "\n",
    "*Note 1:* Use a significance level of 5%, and set c=1.1."
   ]
  },
  {
   "cell_type": "code",
   "execution_count": null,
   "metadata": {},
   "outputs": [],
   "source": [
    "# BCCH pilot penalty\n",
    "n,p = None # Fill in\n",
    "c = None # Fill in\n",
    "alpha = None # Fill in\n",
    "yXscale = None # Fill in\n",
    "penalty_pilot = None # Fill in\n",
    "print('Penalty_pilot: ', round(penalty_pilot, 2))\n",
    "\n",
    "# Pilot estimates\n",
    "#Create predicted values\n",
    "pred = None # Fill in\n",
    "\n",
    "# Updated penalty\n",
    "eps = None # Fill in\n",
    "epsXscale = None # Fill in\n",
    "penalty_BCCH = None # Fill in\n",
    "print('Penalty BCCH: ', round(penalty_BCCH, 2))\n",
    "\n",
    "# Updated estimates\n",
    "fit_BCCH = None # Fill in\n",
    "coeff_BCCH = None # Fill in\n",
    "print('Coefficients: ', np.round(coeff_BCCH))\n",
    "\n",
    "# Selected variables\n",
    "selected_variables_BCCH = None # Fill in\n",
    "print('Selected varriables: ', Xnames[selected_variables_BCCH].to_list())"
   ]
  },
  {
   "cell_type": "markdown",
   "metadata": {},
   "source": [
    "Your should get penalty_pilot = 4254.89\n",
    "\n",
    "You should get penalty_BCCH = 1866.45"
   ]
  },
  {
   "cell_type": "code",
   "execution_count": null,
   "metadata": {},
   "outputs": [],
   "source": [
    "# Plot lasso path\n",
    "plot_lasso_path(penalty_grid, coefs, Xnames, vlines={'CV':penalty_CV, 'BRT':penalty_BRT, 'BCCH':penalty_BCCH})"
   ]
  },
  {
   "cell_type": "markdown",
   "metadata": {},
   "source": [
    "### Question 8: Summary of estimates $\\hat{\\boldsymbol{\\beta}}$\n",
    "Gather the estimates in a table.\n"
   ]
  },
  {
   "cell_type": "code",
   "execution_count": null,
   "metadata": {},
   "outputs": [],
   "source": [
    "# Create pandas dataframe with variables in rows and CV, BRT and BCCH in columns\n",
    "# Fill in"
   ]
  },
  {
   "cell_type": "markdown",
   "metadata": {},
   "source": [
    "You should get something that looks like this...\n",
    "\n",
    "| | CV | BRT | BCCH | \n",
    "|-|-|-|-|\n",
    "| longitude\t| -85613  | -55772 |\t-63318 |\n",
    "| latitude\t| -90815  | -60676 | -68463 |\n",
    "| housing_median_age | 14580   | 15594 | 15437 |\n",
    "| total_rooms | -18027       | 0 |0 |\n",
    "| total_bedrooms |\t47962   |\t24936 | 26764 |\n",
    "| population |\t-43498  | -21994 | -27803 |\n",
    "| households |\t18236    |\t3115 | 6979 |\n",
    "| median_income\t| 76536   | 73438 | 73236 |\n"
   ]
  },
  {
   "cell_type": "markdown",
   "metadata": {},
   "source": [
    "### Question 9 (Optional): Repeat with more regressors\n",
    "Redo the entire exercise after having added squares of the basic regressors. Note that creating the Lasso path may take a while and the algorithm may fail to converge at low penalty levels. If so, try to change the number of iterations by adjusting max_iter. [Hints: Create squares and use numpy.hstack to add them to the regressors in levels. You may also use sklearn.preprocessing.PolynomialFeatures to further add interaction terms.]"
   ]
  },
  {
   "cell_type": "code",
   "execution_count": null,
   "metadata": {},
   "outputs": [],
   "source": [
    "# Adding quadratics and normalizing anew\n",
    "Xtech = np.hstack((X,X ** 2))\n",
    "# Fill in"
   ]
  },
  {
   "cell_type": "code",
   "execution_count": null,
   "metadata": {},
   "outputs": [],
   "source": []
  },
  {
   "cell_type": "code",
   "execution_count": null,
   "metadata": {},
   "outputs": [],
   "source": []
  },
  {
   "cell_type": "code",
   "execution_count": null,
   "metadata": {},
   "outputs": [],
   "source": []
  },
  {
   "cell_type": "markdown",
   "metadata": {},
   "source": [
    "When it comes to the exact estimates, the resulting plot is here too crowded to be informative. But the plot still illustrates the expected order of the three penalty levels."
   ]
  },
  {
   "cell_type": "markdown",
   "metadata": {},
   "source": [
    "Compare your error path to the one you obtained in Question 4 - has the tradeoff between model sparsity and predictive power changed?"
   ]
  }
 ],
 "metadata": {
  "kernelspec": {
   "display_name": "Python 3.8.13 ('base')",
   "language": "python",
   "name": "python3"
  },
  "language_info": {
   "codemirror_mode": {
    "name": "ipython",
    "version": 3
   },
   "file_extension": ".py",
   "mimetype": "text/x-python",
   "name": "python",
   "nbconvert_exporter": "python",
   "pygments_lexer": "ipython3",
   "version": "3.11.5"
  },
  "vscode": {
   "interpreter": {
    "hash": "28b1ca885001685b2bc3a39df2ddd10ef1aa60bad7babe65fad257ff6b65d8b6"
   }
  }
 },
 "nbformat": 4,
 "nbformat_minor": 4
}
