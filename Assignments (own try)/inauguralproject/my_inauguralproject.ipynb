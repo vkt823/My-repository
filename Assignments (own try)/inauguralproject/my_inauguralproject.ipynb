{
 "cells": [
  {
   "cell_type": "markdown",
   "metadata": {},
   "source": [
    "# Inaugural Project"
   ]
  },
  {
   "attachments": {},
   "cell_type": "markdown",
   "metadata": {},
   "source": [
    "> **Note the following:** \n",
    "> 1. This is an example of how to structure your **inaugural project**.\n",
    "> 1. Remember the general advice on structuring and commenting your code\n",
    "> 1. The `inauguralproject.py` file includes a function which can be used multiple times in this notebook."
   ]
  },
  {
   "cell_type": "markdown",
   "metadata": {},
   "source": [
    "Imports and set magics:"
   ]
  },
  {
   "cell_type": "code",
   "execution_count": 1,
   "metadata": {},
   "outputs": [],
   "source": [
    "import numpy as np\n",
    "\n",
    "# autoreload modules when code is run. Otherwise, python will not see recent changes. \n",
    "%load_ext autoreload\n",
    "%autoreload 2\n",
    "\n",
    "# Import your own code\n",
    "import my_inauguralproject\n",
    "from HouseholdSpecializationModel import *"
   ]
  },
  {
   "cell_type": "markdown",
   "metadata": {},
   "source": [
    "# Question 1"
   ]
  },
  {
   "cell_type": "markdown",
   "metadata": {},
   "source": [
    "**Explain how you solve the model**"
   ]
  },
  {
   "cell_type": "code",
   "execution_count": 23,
   "metadata": {},
   "outputs": [
    {
     "name": "stdout",
     "output_type": "stream",
     "text": [
      "LM = 5.5\n",
      "HM = 3.0\n",
      "LF = 3.5\n",
      "HF = 5.5\n",
      "namespace(LM=5.5, HM=3.0, LF=3.5, HF=5.5)\n"
     ]
    }
   ],
   "source": [
    "test = HouseholdSpecializationModelClass(alpha=0.75,sigma=0.5)\n",
    "print(test.solve_discrete(do_print=True))"
   ]
  },
  {
   "cell_type": "code",
   "execution_count": 3,
   "metadata": {},
   "outputs": [
    {
     "name": "stdout",
     "output_type": "stream",
     "text": [
      "LM = 3.0000\n",
      "HM = 5.5000\n",
      "LF = 6.0000\n",
      "HF = 3.0000\n",
      "LM = 4.5000\n",
      "HM = 4.5000\n",
      "LF = 4.5000\n",
      "HF = 4.5000\n",
      "LM = 5.5000\n",
      "HM = 3.0000\n",
      "LF = 3.5000\n",
      "HF = 5.5000\n",
      "LM = 2.0000\n",
      "HM = 6.5000\n",
      "LF = 7.0000\n",
      "HF = 2.0000\n",
      "LM = 4.5000\n",
      "HM = 4.5000\n",
      "LF = 4.5000\n",
      "HF = 4.5000\n",
      "LM = 6.5000\n",
      "HM = 2.0000\n",
      "LF = 2.5000\n",
      "HF = 6.5000\n",
      "LM = 1.5000\n",
      "HM = 7.0000\n",
      "LF = 7.0000\n",
      "HF = 1.5000\n",
      "LM = 4.5000\n",
      "HM = 4.5000\n",
      "LF = 4.5000\n",
      "HF = 4.5000\n",
      "LM = 7.0000\n",
      "HM = 1.5000\n",
      "LF = 1.5000\n",
      "HF = 7.0000\n"
     ]
    }
   ],
   "source": [
    "#We import the model above. For a start we get the solution. \n",
    "\n",
    "solution = HouseholdSpecializationModelClass()\n",
    "opt = solution.solve_discrete()\n",
    "\n",
    "#Based on consumer problem in lecture 6. We are looping over the answers\n",
    "for sigma in np.linspace(0.5,1.5,3):\n",
    "    solution.par.sigma=sigma\n",
    "    for alpha in np.linspace(0.25,0.75,3):\n",
    "        solution.par.alpha = alpha\n",
    "        solution.solve_discrete(do_print=True)\n",
    "        #print('alpha = ' + str(alpha) + ' sigma = ' + str(sigma) + ' -> ' + 'HM = ' + str(HM) + ' HF = ' + str(HF))\n",
    "        \n",
    "#For a start lets change a parameter value. \n",
    "\n",
    "#Missing: \n",
    "#1. Correct output - Make it nice. \n",
    "#2. Save the answers for the graph\n",
    "#Find the mistake in the code, because it is complaining. \n",
    "\n",
    "\n",
    "# This function tells the widget how the plot should look at a specific parametrization "
   ]
  },
  {
   "cell_type": "code",
   "execution_count": 34,
   "metadata": {},
   "outputs": [
    {
     "name": "stdout",
     "output_type": "stream",
     "text": [
      "The autoreload extension is already loaded. To reload it, use:\n",
      "  %reload_ext autoreload\n"
     ]
    }
   ],
   "source": [
    "%load_ext autoreload\n",
    "%autoreload 2\n",
    "\n",
    "from init_statement import *"
   ]
  },
  {
   "cell_type": "code",
   "execution_count": 11,
   "metadata": {},
   "outputs": [
    {
     "name": "stdout",
     "output_type": "stream",
     "text": [
      "The autoreload extension is already loaded. To reload it, use:\n",
      "  %reload_ext autoreload\n",
      "HF/HM: 0.5 for alpha and sigma: (0.25, 0.5)\n",
      "HF/HM: 1.0 for alpha and sigma: (0.5, 0.5)\n",
      "HF/HM: 1.8 for alpha and sigma: (0.75, 0.5)\n",
      "HF/HM: 0.3 for alpha and sigma: (0.25, 1.0)\n",
      "HF/HM: 1.0 for alpha and sigma: (0.5, 1.0)\n",
      "HF/HM: 3.2 for alpha and sigma: (0.75, 1.0)\n",
      "HF/HM: 0.2 for alpha and sigma: (0.25, 1.5)\n",
      "HF/HM: 1.0 for alpha and sigma: (0.5, 1.5)\n",
      "HF/HM: 4.7 for alpha and sigma: (0.75, 1.5)\n"
     ]
    }
   ],
   "source": [
    "%load_ext autoreload\n",
    "%autoreload 2\n",
    "import HouseholdSpecializationModel as model\n",
    "hsm = model.HouseholdSpecializationModelClass()\n",
    "for sigma in np.linspace(0.5,1.5,3):\n",
    "    hsm.par.sigma=sigma\n",
    "    for alpha in np.linspace(0.25,0.75,3):\n",
    "        hsm.par.alpha = alpha\n",
    "        dsol = hsm.solve_discrete()\n",
    "        print(f'HF/HM: {dsol.HF_HM:1.1f} for alpha and sigma: {hsm.par.alpha, hsm.par.sigma}')"
   ]
  },
  {
   "cell_type": "code",
   "execution_count": 83,
   "metadata": {},
   "outputs": [
    {
     "name": "stdout",
     "output_type": "stream",
     "text": [
      "Table of HF/HM values:\n",
      "Alpha/Sigma     0.50    1.00    1.50\n",
      "----------------------------------------\n",
      "      0.25 |    0.55    0.31    0.21\n",
      "      0.50 |    1.00    1.00    1.00\n",
      "      0.75 |    1.83    3.25    4.67\n"
     ]
    }
   ],
   "source": [
    "def print_table(alpha,sigma):\n",
    "    \n",
    "    # a. empty text\n",
    "    text = ''\n",
    "    \n",
    "    text += f'{\"Alpha/Sigma\":<7s}{\"\":1s}'\n",
    "\n",
    "    # b. top header\n",
    "    for sigma in np.linspace(0.5,1.5,3):\n",
    "       hsm.par.sigma=sigma\n",
    "       text += f'{sigma:8.2f}' \n",
    "    text += '\\n' + '-'*40 + '\\n' # separator\n",
    "    \n",
    "    # c. body\n",
    "    for i,alpha in enumerate(np.linspace(0.25,0.75,3)):\n",
    "        hsm.par.alpha=alpha\n",
    "        if i > 0: #tilføjer det her for at skippe det første linjeskift, ellers så kommer der en tom linje som den første række i tabellen.\n",
    "            text += '\\n'\n",
    "        text += f'{alpha:10.2f} |'\n",
    "        for sigma in np.linspace(0.5,1.5,3): \n",
    "            hsm.par.sigma=sigma\n",
    "            dsol = hsm.solve_discrete()\n",
    "            text += f'{dsol.HF_HM:8.2f}'  #laver dobbelt forloop fordi vi skal bruge værdier fra både x1_vec og x2_vec;\n",
    "          \n",
    "    \n",
    "    # d. print\n",
    "    print(f\"Table of HF/HM values:\\n{text}\")\n",
    "\n",
    "print_table(alpha_vec, sigma_vec)"
   ]
  },
  {
   "cell_type": "markdown",
   "metadata": {},
   "source": [
    "# Question 2"
   ]
  },
  {
   "cell_type": "markdown",
   "metadata": {},
   "source": [
    "Explain your code and procedure"
   ]
  },
  {
   "cell_type": "code",
   "execution_count": 3,
   "metadata": {},
   "outputs": [],
   "source": [
    "# code"
   ]
  },
  {
   "cell_type": "markdown",
   "metadata": {},
   "source": [
    "# Question 3"
   ]
  },
  {
   "cell_type": "markdown",
   "metadata": {},
   "source": [
    "Explain your code and procedure"
   ]
  },
  {
   "cell_type": "code",
   "execution_count": 4,
   "metadata": {},
   "outputs": [],
   "source": [
    "# code"
   ]
  },
  {
   "cell_type": "markdown",
   "metadata": {},
   "source": [
    "ADD CONCISE CONLUSION."
   ]
  }
 ],
 "metadata": {
  "kernelspec": {
   "display_name": "base",
   "language": "python",
   "name": "python3"
  },
  "language_info": {
   "codemirror_mode": {
    "name": "ipython",
    "version": 3
   },
   "file_extension": ".py",
   "mimetype": "text/x-python",
   "name": "python",
   "nbconvert_exporter": "python",
   "pygments_lexer": "ipython3",
   "version": "3.9.16"
  },
  "toc-autonumbering": true,
  "vscode": {
   "interpreter": {
    "hash": "47ef90cdf3004d3f859f1fb202523c65c07ba7c22eefd261b181f4744e2d0403"
   }
  }
 },
 "nbformat": 4,
 "nbformat_minor": 4
}
