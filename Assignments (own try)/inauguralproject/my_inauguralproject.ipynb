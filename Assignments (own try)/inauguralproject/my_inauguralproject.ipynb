{
 "cells": [
  {
   "cell_type": "markdown",
   "metadata": {},
   "source": [
    "# Inaugural Project"
   ]
  },
  {
   "attachments": {},
   "cell_type": "markdown",
   "metadata": {},
   "source": [
    "> **Note the following:** \n",
    "> 1. This is an example of how to structure your **inaugural project**.\n",
    "> 1. Remember the general advice on structuring and commenting your code\n",
    "> 1. The `inauguralproject.py` file includes a function which can be used multiple times in this notebook."
   ]
  },
  {
   "cell_type": "markdown",
   "metadata": {},
   "source": [
    "Imports and set magics:"
   ]
  },
  {
   "cell_type": "code",
   "execution_count": null,
   "metadata": {},
   "outputs": [],
   "source": [
    "import numpy as np\n",
    "import matplotlib.pyplot as plt \n",
    "\n",
    "# autoreload modules when code is run. Otherwise, python will not see recent changes. \n",
    "%load_ext autoreload\n",
    "%autoreload 2\n",
    "\n",
    "# Import your own code\n",
    "import inauguralproject\n",
    "import HouseholdSpecializationModel as model\n",
    "\n",
    "\n",
    "# Initialize class\n",
    "hsm = model.HouseholdSpecializationModelClass()"
   ]
  },
  {
   "cell_type": "markdown",
   "metadata": {},
   "source": [
    "# Question 1"
   ]
  },
  {
   "cell_type": "markdown",
   "metadata": {},
   "source": [
    "**Explain how you solve the model**"
   ]
  },
  {
   "cell_type": "code",
   "execution_count": null,
   "metadata": {},
   "outputs": [],
   "source": [
    "hsm = model.HouseholdSpecializationModelClass()"
   ]
  },
  {
   "cell_type": "code",
   "execution_count": null,
   "metadata": {},
   "outputs": [],
   "source": [
    "def print_table():\n",
    "    \n",
    "    # a. empty text\n",
    "    text = ''\n",
    "    \n",
    "    text += f'{\"Alpha/Sigma\":<7s}{\"\":1s}'\n",
    "\n",
    "    # b. top header\n",
    "    for sigma in np.linspace(0.5,1.5,3):\n",
    "       hsm.par.sigma=sigma\n",
    "       text += f'{sigma:8.2f}' \n",
    "    text += '\\n' + '-'*40 + '\\n' # separator\n",
    "    \n",
    "    # c. body\n",
    "    for i,alpha in enumerate(np.linspace(0.25,0.75,3)):\n",
    "        hsm.par.alpha=alpha\n",
    "        if i > 0: #tilføjer det her for at skippe det første linjeskift, ellers så kommer der en tom linje som den første række i tabellen.\n",
    "            text += '\\n'\n",
    "        text += f'{alpha:10.2f} |'\n",
    "        for sigma in np.linspace(0.5,1.5,3): \n",
    "            hsm.par.sigma=sigma\n",
    "            dsol = hsm.solve_discrete()\n",
    "            text += f'{dsol.HF_HM:8.2f}'  #laver dobbelt forloop fordi vi skal bruge værdier fra både x1_vec og x2_vec;\n",
    "\n",
    "    #d. reset values of alpha and sigma:\n",
    "    \n",
    "    hsm.par.alpha = 0.5\n",
    "    hsm.par.sigma = 1.0\n",
    "    \n",
    "    # d. print\n",
    "    print(f\"Table of HF/HM values:\\n{text}\")\n",
    "\n",
    "print_table()"
   ]
  },
  {
   "cell_type": "markdown",
   "metadata": {},
   "source": [
    "# Question 2"
   ]
  },
  {
   "cell_type": "markdown",
   "metadata": {},
   "source": [
    "Explain your code and procedure"
   ]
  },
  {
   "cell_type": "code",
   "execution_count": null,
   "metadata": {},
   "outputs": [],
   "source": [
    "# a. create the figure\n",
    "fig = plt.figure() \n",
    "#first we create a figure object by initializing the plt.figure\n",
    "\n",
    "# b. plot\n",
    "ax = fig.add_subplot(1,1,1) \n",
    "#we only add one subplot so the ax is basically the entire figure.\n",
    "\n",
    "ax.plot(np.log(hsm.par.wF_vec),hsm.solve_wF_vec(discrete=True)) \n",
    "#x-axis: we plot log(wF_vec), since wM is fixed at 1, \n",
    "#so it is already taken into account in this vector.\n",
    "#Note: we only take the log here, so we don't need to store the log values\n",
    "#y-axis: we call the solve_wF_vec method from our class directly,\n",
    "#so we again don't need to store the values.\n",
    "\n",
    "ax.set_title('log $H_F/H_M$ plottet against log $w_F/w_M$') #set title\n",
    "ax.set_xlabel('log $w_F/w_M$') #set label for x-axis\n",
    "ax.set_ylabel('log $H_F/H_M$'); #set label for y-axis"
   ]
  },
  {
   "cell_type": "markdown",
   "metadata": {},
   "source": [
    "# Question 3"
   ]
  },
  {
   "cell_type": "markdown",
   "metadata": {},
   "source": [
    "Explain your code and procedure"
   ]
  },
  {
   "cell_type": "code",
   "execution_count": null,
   "metadata": {},
   "outputs": [],
   "source": [
    "# code"
   ]
  },
  {
   "cell_type": "markdown",
   "metadata": {},
   "source": [
    "ADD CONCISE CONLUSION."
   ]
  }
 ],
 "metadata": {
  "kernelspec": {
   "display_name": "base",
   "language": "python",
   "name": "python3"
  },
  "language_info": {
   "codemirror_mode": {
    "name": "ipython",
    "version": 3
   },
   "file_extension": ".py",
   "mimetype": "text/x-python",
   "name": "python",
   "nbconvert_exporter": "python",
   "pygments_lexer": "ipython3",
   "version": "3.9.16"
  },
  "toc-autonumbering": true,
  "vscode": {
   "interpreter": {
    "hash": "47ef90cdf3004d3f859f1fb202523c65c07ba7c22eefd261b181f4744e2d0403"
   }
  }
 },
 "nbformat": 4,
 "nbformat_minor": 4
}
