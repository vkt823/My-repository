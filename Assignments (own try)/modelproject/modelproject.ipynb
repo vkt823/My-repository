{
 "cells": [
  {
   "attachments": {},
   "cell_type": "markdown",
   "metadata": {},
   "source": [
    "# An examination of the relative price in the Koopman model"
   ]
  },
  {
   "attachments": {},
   "cell_type": "markdown",
   "metadata": {},
   "source": [
    "In this project we want to examine the relative price set in the Koopman model. We want to see how the price depends on the parameters of the model. In doing so we take two approaches: First, we derive an analytical solution and plot the results in an interattive figure, second, we try to solve the by solving the model numerically. Specifically we use a bisection method. The baseline model assumes that the consumer has a Cobb-Douglas utility function. We extend the model by assuming a CES-utility function."
   ]
  },
  {
   "attachments": {},
   "cell_type": "markdown",
   "metadata": {},
   "source": [
    "> **Note the following:** \n",
    "> 1. This is *not* meant to be an example of an actual **model analysis project**, just an example of how to structure such a project.\n",
    "> 1. Remember the general advice on structuring and commenting your code\n",
    "> 1. The `modelproject.py` file includes a function which could be used multiple times in this notebook."
   ]
  },
  {
   "attachments": {},
   "cell_type": "markdown",
   "metadata": {},
   "source": [
    "Imports and set magics:"
   ]
  },
  {
   "cell_type": "code",
   "execution_count": 1,
   "metadata": {},
   "outputs": [],
   "source": [
    "import numpy as np\n",
    "from scipy import optimize\n",
    "import sympy as sm\n",
    "import ipywidgets as widgets # Interactive plots\n",
    "import matplotlib.pyplot as plt\n",
    "\n",
    "# autoreload modules when code is run\n",
    "%load_ext autoreload\n",
    "%autoreload 2\n",
    "\n",
    "# local modules\n",
    "import analytical_solution as ana\n",
    "import numerical_solution as num"
   ]
  },
  {
   "attachments": {},
   "cell_type": "markdown",
   "metadata": {},
   "source": [
    "Layout\n",
    "2. Analytical solution - Use standard solution - Sunday\n",
    "3. Numerical - Find output - Sunday\n",
    "4. Two extension - 1. CES utility functions (Tuesday). 2. More consumers (Tuesday). (3. Combination?) (4. More goods)\n",
    "5. Conclusion (Thursday)"
   ]
  },
  {
   "attachments": {},
   "cell_type": "markdown",
   "metadata": {},
   "source": [
    "# 1. Model description of baseline model"
   ]
  },
  {
   "attachments": {},
   "cell_type": "markdown",
   "metadata": {},
   "source": [
    "**Time:** One period."
   ]
  },
  {
   "attachments": {},
   "cell_type": "markdown",
   "metadata": {},
   "source": [
    "**Demographics:** Initially one consumer and one firm. The firm is owned by the consumer and therefore the income also depends on the profit. We do not assume initial goods endowments. "
   ]
  },
  {
   "attachments": {},
   "cell_type": "markdown",
   "metadata": {},
   "source": [
    "**Household:** For our baseline model we assume that the consumer has Cobb-Douglas preferences, where the two goods are the product (c) and leisure (l)\n",
    "$$\n",
    "\\begin{aligned}\n",
    "& \\max \\ u =c^{\\alpha}*l^{1-\\alpha}, 0<\\alpha<1\\\\\n",
    " & \\text{s.t.}\\\\\n",
    " & I=\\Pi + w*L=p*c +w*l \\\\\n",
    "\n",
    "\\end{aligned}\n",
    "$$\n",
    "\n",
    "${\\alpha}$ is the relative preference towards consumption, p is the price of the good, w is the wage, L is the initial labor endowment, l is leisure and $\\Pi$ is the profit. We have assumed monotonicity. Further, we have the firm problem: \n",
    "$$\n",
    "\\begin{aligned}\n",
    "&\\Pi =p*y-w*h\n",
    "\n",
    "\\end{aligned}\n",
    "$$\n",
    "\n",
    "The production function will be defined as follow, where the interpretation of A can be TFP, and ${\\beta}$ determines the returns to scale: \n",
    "\n",
    "$$\n",
    "\\begin{aligned}\n",
    "&y =A*h^{\\beta}, \\beta <1 \\\\\n",
    "&\\max \\ \\Pi =p*A*h^{\\beta}-w*h\n",
    "\n",
    "\\end{aligned}\n",
    "$$\n",
    "\n",
    "We assume the initial labor endowment is 24 hours, i.e. a day. We can therefore define the following relationsship in equilibrium: \n",
    "$$\n",
    "\\begin{aligned}\n",
    "&L=24=l+h\n",
    "\n",
    "\\end{aligned}\n",
    "$$\n",
    "\n",
    "\n"
   ]
  },
  {
   "attachments": {},
   "cell_type": "markdown",
   "metadata": {},
   "source": [
    "**Equilibrium:** The procedure is defined where the labor market (l+h=24) and good market (y=c) clear. Further, the firm has maximized its profit and the consumer has maximized its utility. \n",
    "\n"
   ]
  },
  {
   "attachments": {},
   "cell_type": "markdown",
   "metadata": {},
   "source": [
    "## 2. Analytical solution"
   ]
  },
  {
   "attachments": {},
   "cell_type": "markdown",
   "metadata": {},
   "source": [
    "The baseline model can be solved analytically. The starting point is to derive the firm's demand for labor. This is done by taking the FOC of the profit function w.r.t. working hours. This leads to the following result:  \n",
    "\n",
    "$$\n",
    "\\begin{aligned}\n",
    "& h^*=(\\frac{\\beta*p*A}{w})^{\\frac{1}{1-\\beta}}\n",
    "\\end{aligned}\n",
    "$$"
   ]
  },
  {
   "attachments": {},
   "cell_type": "markdown",
   "metadata": {},
   "source": [
    "And from this the solutions for the firm's output and profit follow easily: \n",
    "\n",
    "$$\n",
    "\\begin{aligned}\n",
    "& y^*=A*(\\frac{\\beta*p*A}{w})^{\\frac{\\beta}{1-\\beta}}\\\\\n",
    "& \\Pi^*=p*A*(\\frac{\\beta*p*A}{w})^{\\frac{\\beta}{1-\\beta}}-w(\\frac{\\beta*p*A}{w})^{\\frac{1}{1-\\beta}}\n",
    "\\end{aligned}\n",
    "$$"
   ]
  },
  {
   "attachments": {},
   "cell_type": "markdown",
   "metadata": {},
   "source": [
    "Now, we will solve for the consumer's problem. It should be noted that the working hours and profit is exogenous for the consumer as the firm has already decided this based on the prices. As we have assumed a Cobb-Douglas function, we can use the standard solution shown below: \n",
    "\n",
    "$$\n",
    "\\begin{aligned}\n",
    "& c^*=\\alpha*\\frac {I}{p}\\\\\n",
    "& l^*=(1-\\alpha)*\\frac{I}{w}\n",
    "\\end{aligned}\n",
    "$$\n",
    "\n",
    "Where the income is: \n",
    "\n",
    "$$\n",
    "\\begin{aligned}\n",
    "& I= \\Pi+24 = p*A*(\\frac{\\beta*p*A}{w})^{\\frac{\\beta}{1-\\beta}}-w(\\frac{\\beta*p*A}{w})^{\\frac{1}{1-\\beta}} + 24\n",
    "\\end{aligned}\n",
    "$$\n",
    "\n"
   ]
  },
  {
   "attachments": {},
   "cell_type": "markdown",
   "metadata": {},
   "source": [
    "Now we want to find the prices in equilibrium, that is, where the goods market and the labor market clears. We set the wage as numeraire, i.e. w=1, and then find the relative price p. We can then solve for the labor market: \n",
    "\n",
    "$$\n",
    "\\begin{aligned}\n",
    "& l^*=24-h^*\\\\\n",
    "& \\leftrightarrow (1-\\alpha)*(p*A*(\\beta*p*A)^{\\frac{\\beta}{1-\\beta}}-(\\beta*p*A)^{\\frac{1}{1-\\beta}}+24)=24-(\\beta*p*A)^{\\frac{1}{1-\\beta}}\n",
    "\\end{aligned}\n",
    "$$\n",
    "\n",
    "Solving this for p gives: \n",
    "\n",
    "$$\n",
    "\\begin{aligned}\n",
    "& p^*=\\frac {24^{1-\\beta}}{A}*\\frac {1}{(\\beta^\\frac {\\beta}{1-\\beta}*(1-\\alpha)+\\alpha*\\beta^\\frac {1}{1-\\beta})^{1-\\beta}}\n",
    "\\end{aligned}\n",
    "$$\n",
    "\n",
    "We see that higher productivity (A) decreases the price, which makes intuively sense as this will increase the supply. Further, higher demand ($\\alpha$) will increase the price, which again makes intuitively sense. With this price we have the general solution, which can be plotted below. "
   ]
  },
  {
   "attachments": {},
   "cell_type": "markdown",
   "metadata": {},
   "source": [
    "Note, given Walras' law, we know that this relative price also solves the goods market."
   ]
  },
  {
   "cell_type": "code",
   "execution_count": 14,
   "metadata": {},
   "outputs": [
    {
     "data": {
      "text/plain": [
       "(0.5, 25.0, 100.0, 25.0, 100.0, 100.0, 50.0)"
      ]
     },
     "execution_count": 14,
     "metadata": {},
     "output_type": "execute_result"
    }
   ],
   "source": [
    "ana.consumption(0.5,0.5,20, L=75)"
   ]
  },
  {
   "attachments": {},
   "cell_type": "markdown",
   "metadata": {},
   "source": [
    "Now we have the general solution. This can be illustrated by using specific values for the parameters in the model. In the figure below we plot alpha on the x-axis and price on the y-axis, and then we add sliders for the values of $\\beta$ and A."
   ]
  },
  {
   "cell_type": "code",
   "execution_count": 2,
   "metadata": {},
   "outputs": [
    {
     "data": {
      "application/vnd.jupyter.widget-view+json": {
       "model_id": "545f2a4232144b4c942dc6ab83eb7a6b",
       "version_major": 2,
       "version_minor": 0
      },
      "text/plain": [
       "interactive(children=(FloatSlider(value=0.5, description='beta', max=0.99), FloatSlider(value=5.0, description…"
      ]
     },
     "metadata": {},
     "output_type": "display_data"
    }
   ],
   "source": [
    "#Interactive figure with beta and A as sliders\n",
    "widgets.interact(ana.interactive_figure,\n",
    "    beta=widgets.FloatSlider(description=r\"beta\", min=0., max=0.99, step=0.10, value=0.5), \n",
    "    A=widgets.FloatSlider(description=r\"A\", min=1, max=10, step=1, value=5),\n",
    ");"
   ]
  },
  {
   "attachments": {},
   "cell_type": "markdown",
   "metadata": {},
   "source": [
    "What we see from the graph directly follows from the points made above. Further, we see a decreasing relationship with $\\beta$. This also makes sense given that $\\beta$ determines how much returns to scale are decreasing: A higher value of $\\beta$ means higher returns to scale and from this follows a higher supply."
   ]
  },
  {
   "attachments": {},
   "cell_type": "markdown",
   "metadata": {},
   "source": [
    "## Numerical solution"
   ]
  },
  {
   "attachments": {},
   "cell_type": "markdown",
   "metadata": {},
   "source": [
    "In this section we solve the model numerically using the bisection method. We use the bisection method, because we know that when the goods market clears, then excess supply should be equal 0. We can use this to find the price that equilibriates supply and demand of the good: If excess supply is positive, then we know that the price is too high, and oppositely if excess supply is negative, then we know that the price is too low. "
   ]
  },
  {
   "attachments": {},
   "cell_type": "markdown",
   "metadata": {},
   "source": [
    "**Problem:** Given a list of positive numbers, return the relative price that solves the goods market (and the labor market given Walras' Law).\n",
    "\n",
    "**Inputs:** A range of possible solutions, and values of alpha, beta, A and L respectively.\n",
    "\n",
    "**Outputs:** Relative price $p$.\n",
    "\n",
    "**Algorithm:** `numerical_solution()`\n",
    "\n",
    "1. For a given $p$, $\\beta$, and $\\alpha$ determine excess supply on the goods market and excess demand on the labor market following utility and profit maximization.\n",
    "2. Set tolerance level $\\epsilon$, maximum number of iterations, and lower and upper bounds for possible solutions: $p_{lower}$ and $p_{upper}$.\n",
    "*  Note, the relative price cannot be negative.\n",
    "3. Compute the excess supply for both the upper and lower bound: $ES(p_{lower})$ and $ES(p_{upper})$\n",
    "4. Compute midpoint: $p_{mid}=\\frac{p_{lower}+p_{upper}}{2}$\n",
    "5. Compute excess supply for the midpoint: $ES(p_{mid})$\n",
    "6. Update the interval:\n",
    "  * If $ES(p_{lower})*ES(p_{mid})<0$ then update so $p_{upper}=p_{mid}$\n",
    "  * If $ES(p_{mid})*ES(p_{upper})<0$ then update so $p_{lower}=p_{mid}$\n",
    "7. Repeat step 3-6 until $ES(p_{mid})<\\epsilon$"
   ]
  },
  {
   "cell_type": "code",
   "execution_count": 24,
   "metadata": {},
   "outputs": [
    {
     "name": "stderr",
     "output_type": "stream",
     "text": [
      "c:\\Users\\Bruger\\IntroProg\\My-repository\\Assignments (own try)\\modelproject\\numerical_solution.py:100: RuntimeWarning: divide by zero encountered in double_scalars\n",
      "  sol.c_star = par.alpha*utility_inc/p\n"
     ]
    },
    {
     "name": "stdout",
     "output_type": "stream",
     "text": [
      " Step 28.00: p = 0.06 ->  -0.00008752. Good clearing = -0.00. Labor clearing = -0.00. \n",
      " Step 30.00: p = 0.11 ->   0.00002677. Good clearing = 0.00. Labor clearing = 0.00. \n",
      " Step 29.00: p = 0.14 ->  -0.00007349. Good clearing = -0.00. Labor clearing = -0.00. \n",
      " Step 29.00: p = 0.16 ->   0.00004665. Good clearing = 0.00. Labor clearing = 0.00. \n",
      " Step 28.00: p = 0.19 ->   0.00009061. Good clearing = 0.00. Labor clearing = 0.00. \n",
      " Step 30.00: p = 0.21 ->   0.00002379. Good clearing = 0.00. Labor clearing = 0.00. \n",
      " Step 28.00: p = 0.23 ->   0.00000318. Good clearing = 0.00. Labor clearing = 0.00. \n",
      " Step 30.00: p = 0.25 ->   0.00007239. Good clearing = 0.00. Labor clearing = 0.00. \n",
      " Step 27.00: p = 0.26 ->  -0.00000335. Good clearing = -0.00. Labor clearing = -0.00. \n",
      " Step 30.00: p = 0.28 ->   0.00003043. Good clearing = 0.00. Labor clearing = 0.00. \n",
      " Step 29.00: p = 0.30 ->  -0.00002723. Good clearing = -0.00. Labor clearing = -0.00. \n",
      " Step 29.00: p = 0.31 ->   0.00004465. Good clearing = 0.00. Labor clearing = 0.00. \n",
      " Step 30.00: p = 0.33 ->  -0.00003386. Good clearing = -0.00. Labor clearing = -0.00. \n",
      " Step 28.00: p = 0.34 ->  -0.00000980. Good clearing = -0.00. Labor clearing = -0.00. \n",
      " Step 29.00: p = 0.36 ->   0.00005700. Good clearing = 0.00. Labor clearing = 0.00. \n",
      " Step 28.00: p = 0.37 ->   0.00009627. Good clearing = 0.00. Labor clearing = 0.00. \n",
      " Step 28.00: p = 0.38 ->   0.00005911. Good clearing = 0.00. Labor clearing = 0.00. \n",
      " Step 29.00: p = 0.40 ->   0.00009278. Good clearing = 0.00. Labor clearing = 0.00. \n",
      " Step 30.00: p = 0.41 ->  -0.00000321. Good clearing = -0.00. Labor clearing = -0.00. \n",
      " Step 30.00: p = 0.43 ->   0.00006456. Good clearing = 0.00. Labor clearing = 0.00. \n",
      " Step 28.00: p = 0.44 ->   0.00007825. Good clearing = 0.00. Labor clearing = 0.00. \n",
      " Step 26.00: p = 0.45 ->   0.00001018. Good clearing = 0.00. Labor clearing = 0.00. \n",
      " Step 28.00: p = 0.47 ->  -0.00002897. Good clearing = -0.00. Labor clearing = -0.00. \n",
      " Step 27.00: p = 0.48 ->   0.00005386. Good clearing = 0.00. Labor clearing = 0.00. \n",
      " Step 30.00: p = 0.49 ->  -0.00001890. Good clearing = -0.00. Labor clearing = -0.00. \n",
      " Step 30.00: p = 0.51 ->  -0.00004945. Good clearing = -0.00. Labor clearing = -0.00. \n",
      " Step 30.00: p = 0.52 ->   0.00001099. Good clearing = 0.00. Labor clearing = 0.00. \n",
      " Step 30.00: p = 0.53 ->  -0.00008752. Good clearing = -0.00. Labor clearing = -0.00. \n",
      " Step 29.00: p = 0.55 ->   0.00000031. Good clearing = 0.00. Labor clearing = 0.00. \n",
      " Step 28.00: p = 0.56 ->   0.00007088. Good clearing = 0.00. Labor clearing = 0.00. \n",
      " Step 29.00: p = 0.57 ->   0.00002357. Good clearing = 0.00. Labor clearing = 0.00. \n",
      " Step 26.00: p = 0.59 ->  -0.00004950. Good clearing = -0.00. Labor clearing = -0.00. \n",
      " Step 31.00: p = 0.60 ->  -0.00006489. Good clearing = -0.00. Labor clearing = -0.00. \n",
      " Step 27.00: p = 0.61 ->  -0.00004526. Good clearing = -0.00. Labor clearing = -0.00. \n",
      " Step 29.00: p = 0.63 ->  -0.00006664. Good clearing = -0.00. Labor clearing = -0.00. \n",
      " Step 29.00: p = 0.64 ->  -0.00009914. Good clearing = -0.00. Labor clearing = -0.00. \n",
      " Step 28.00: p = 0.66 ->   0.00002889. Good clearing = 0.00. Labor clearing = 0.00. \n",
      " Step 30.00: p = 0.67 ->  -0.00002654. Good clearing = -0.00. Labor clearing = -0.00. \n",
      " Step 31.00: p = 0.69 ->   0.00001701. Good clearing = 0.00. Labor clearing = 0.00. \n",
      " Step 28.00: p = 0.70 ->  -0.00007184. Good clearing = -0.00. Labor clearing = -0.00. \n",
      " Step 37.00: p = 0.71 ->  -0.00003931. Good clearing = -0.00. Labor clearing = -0.00. \n",
      " Step 31.00: p = 0.73 ->   0.00002329. Good clearing = 0.00. Labor clearing = 0.00. \n",
      " Step 29.00: p = 0.74 ->  -0.00007696. Good clearing = -0.00. Labor clearing = -0.00. \n",
      " Step 33.00: p = 0.76 ->  -0.00009779. Good clearing = -0.00. Labor clearing = -0.00. \n",
      " Step 28.00: p = 0.78 ->  -0.00004407. Good clearing = -0.00. Labor clearing = -0.00. \n",
      " Step 25.00: p = 0.79 ->   0.00005582. Good clearing = 0.00. Labor clearing = 0.00. \n",
      " Step 29.00: p = 0.81 ->  -0.00001252. Good clearing = -0.00. Labor clearing = -0.00. \n",
      " Step 34.00: p = 0.82 ->   0.00009951. Good clearing = 0.00. Labor clearing = 0.00. \n",
      " Step 28.00: p = 0.84 ->   0.00002983. Good clearing = 0.00. Labor clearing = 0.00. \n",
      " Step 34.00: p = 0.86 ->   0.00006475. Good clearing = 0.00. Labor clearing = 0.00. \n"
     ]
    }
   ],
   "source": [
    "test=num.numerical_solution()\n",
    "\n",
    "#Alpha plot\n",
    "\n",
    "N=10\n",
    "\n",
    "alpha_vec_num=np.empty(N)\n",
    "p_vec_num_alpha=np.empty(N)\n",
    "c_clearing_alpha=np.empty(N)\n",
    "l_clearing_alpha=np.empty(N)\n",
    "\n",
    "for i, alpha in enumerate(np.linspace(start=0.01, stop = 0.99, num=N)):\n",
    "    # Call find_relative_price with current alpha value\n",
    "    alpha_baseline=test.par.alpha\n",
    "    test.par.alpha=alpha\n",
    "    alpha_vec_num[i]=alpha\n",
    "    p_vec_num_alpha[i],c_clearing_alpha[i], l_clearing_alpha[i] = test.find_relative_price(tol=1e-4, p_lower=0, p_upper=1000)\n",
    "    test.par.alpha=alpha_baseline\n",
    "\n",
    "\n",
    "\n",
    "\n"
   ]
  },
  {
   "cell_type": "code",
   "execution_count": 26,
   "metadata": {},
   "outputs": [
    {
     "name": "stderr",
     "output_type": "stream",
     "text": [
      "c:\\Users\\Bruger\\IntroProg\\My-repository\\Assignments (own try)\\modelproject\\numerical_solution.py:100: RuntimeWarning: divide by zero encountered in double_scalars\n",
      "  sol.c_star = par.alpha*utility_inc/p\n"
     ]
    },
    {
     "name": "stdout",
     "output_type": "stream",
     "text": [
      " Step 23.00: p = 3.72 ->  -0.00005188. Good clearing = -0.00. Labor clearing = -0.00. \n",
      " Step 22.00: p = 2.84 ->  -0.00007574. Good clearing = -0.00. Labor clearing = -0.00. \n",
      " Step 24.00: p = 2.00 ->   0.00004970. Good clearing = 0.00. Labor clearing = 0.00. \n",
      " Step 26.00: p = 1.38 ->  -0.00005661. Good clearing = -0.00. Labor clearing = -0.00. \n",
      " Step 27.00: p = 0.94 ->  -0.00009904. Good clearing = -0.00. Labor clearing = -0.00. \n",
      " Step 26.00: p = 0.63 ->  -0.00001485. Good clearing = -0.00. Labor clearing = -0.00. \n",
      " Step 27.00: p = 0.42 ->  -0.00006197. Good clearing = -0.00. Labor clearing = -0.00. \n",
      " Step 32.00: p = 0.28 ->  -0.00005416. Good clearing = -0.00. Labor clearing = -0.00. \n",
      " Step 31.00: p = 0.19 ->  -0.00001704. Good clearing = -0.00. Labor clearing = -0.00. \n",
      " Step 28.00: p = 0.13 ->  -0.00001665. Good clearing = -0.00. Labor clearing = -0.00. \n"
     ]
    }
   ],
   "source": [
    "test=num.numerical_solution()\n",
    "\n",
    "#Beta plot\n",
    "\n",
    "N=10\n",
    "\n",
    "beta_vec_num=np.empty(N)\n",
    "p_vec_num_beta=np.empty(N)\n",
    "c_clearing_beta=np.empty(N)\n",
    "l_clearing_beta=np.empty(N)\n",
    "\n",
    "for i, beta in enumerate(np.linspace(start=0.01, stop = 0.8, num=N)):\n",
    "    # Call find_relative_price with current beta value\n",
    "    beta_baseline=test.par.beta\n",
    "    test.par.beta=beta\n",
    "    beta_vec_num[i]=beta\n",
    "    p_vec_num_beta[i],c_clearing_beta[i], l_clearing_beta[i] = test.find_relative_price(tol=1e-4, p_lower=0, p_upper=1000, iterations=500)\n",
    "    test.par.beta=beta_baseline"
   ]
  },
  {
   "cell_type": "code",
   "execution_count": 176,
   "metadata": {},
   "outputs": [
    {
     "data": {
      "text/plain": [
       "<matplotlib.legend.Legend at 0x166103bc130>"
      ]
     },
     "execution_count": 176,
     "metadata": {},
     "output_type": "execute_result"
    },
    {
     "data": {
      "image/png": "[encoded data removed]",
      "text/plain": [
       "<Figure size 800x1000 with 2 Axes>"
      ]
     },
     "metadata": {},
     "output_type": "display_data"
    }
   ],
   "source": [
    "\n",
    "fig = plt.figure(figsize=(8,10))\n",
    "dx = fig.add_subplot(2,1,1)\n",
    "dx.plot(alpha_vec_num, p_vec_num_alpha, label='Price of consumption relative to leisure')\n",
    "dx.set_xlim([0.0,1]) # \n",
    "dx.set_ylim([0,1]) #\n",
    "dx.set_title(\"Price\")\n",
    "dx.set_xlabel(\"Alpha\") \n",
    "dx.legend(loc= 'upper right')\n",
    "\n",
    "\n",
    "dx = fig.add_subplot(2,1,2)\n",
    "dx.plot(beta_vec_num, p_vec_num_beta, label='Price of consumption relative to leisure')\n",
    "dx.set_xlim([0.0,0.85]) # \n",
    "dx.set_ylim([0,4]) #\n",
    "dx.set_title(\"Price\")\n",
    "dx.set_xlabel(\"Beta\") \n",
    "dx.legend(loc= 'upper right')"
   ]
  },
  {
   "attachments": {},
   "cell_type": "markdown",
   "metadata": {},
   "source": [
    "# Further analysis"
   ]
  },
  {
   "attachments": {},
   "cell_type": "markdown",
   "metadata": {},
   "source": [
    "Make detailed vizualizations of how your model changes with parameter values. \n",
    "\n",
    "Try to make an extension of the model. \n",
    "\n",
    "Labor Union\n",
    "\n",
    "CES function"
   ]
  },
  {
   "attachments": {},
   "cell_type": "markdown",
   "metadata": {},
   "source": [
    "# Conclusion"
   ]
  },
  {
   "attachments": {},
   "cell_type": "markdown",
   "metadata": {},
   "source": [
    "Add concise conclusion. "
   ]
  }
 ],
 "metadata": {
  "kernelspec": {
   "display_name": "base",
   "language": "python",
   "name": "python3"
  },
  "language_info": {
   "codemirror_mode": {
    "name": "ipython",
    "version": 3
   },
   "file_extension": ".py",
   "mimetype": "text/x-python",
   "name": "python",
   "nbconvert_exporter": "python",
   "pygments_lexer": "ipython3",
   "version": "3.9.16"
  },
  "toc-autonumbering": true,
  "vscode": {
   "interpreter": {
    "hash": "47ef90cdf3004d3f859f1fb202523c65c07ba7c22eefd261b181f4744e2d0403"
   }
  }
 },
 "nbformat": 4,
 "nbformat_minor": 4
}
