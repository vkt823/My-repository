{
 "cells": [
  {
   "cell_type": "markdown",
   "metadata": {},
   "source": [
    "# Danmarkskort til seminaropgave"
   ]
  },
  {
   "cell_type": "code",
   "execution_count": 2,
   "metadata": {},
   "outputs": [
    {
     "name": "stdout",
     "output_type": "stream",
     "text": [
      "Requirement already satisfied: geopandas in c:\\users\\bruger\\anaconda3\\lib\\site-packages (0.14.0)\n",
      "Requirement already satisfied: fiona>=1.8.21 in c:\\users\\bruger\\anaconda3\\lib\\site-packages (from geopandas) (1.9.5)\n",
      "Requirement already satisfied: packaging in c:\\users\\bruger\\anaconda3\\lib\\site-packages (from geopandas) (23.1)\n",
      "Requirement already satisfied: pandas>=1.4.0 in c:\\users\\bruger\\anaconda3\\lib\\site-packages (from geopandas) (2.0.3)\n",
      "Requirement already satisfied: pyproj>=3.3.0 in c:\\users\\bruger\\anaconda3\\lib\\site-packages (from geopandas) (3.6.1)\n",
      "Requirement already satisfied: shapely>=1.8.0 in c:\\users\\bruger\\anaconda3\\lib\\site-packages (from geopandas) (2.0.2)\n",
      "Requirement already satisfied: attrs>=19.2.0 in c:\\users\\bruger\\anaconda3\\lib\\site-packages (from fiona>=1.8.21->geopandas) (22.1.0)\n",
      "Requirement already satisfied: certifi in c:\\users\\bruger\\anaconda3\\lib\\site-packages (from fiona>=1.8.21->geopandas) (2023.7.22)\n",
      "Requirement already satisfied: click~=8.0 in c:\\users\\bruger\\anaconda3\\lib\\site-packages (from fiona>=1.8.21->geopandas) (8.0.4)\n",
      "Requirement already satisfied: click-plugins>=1.0 in c:\\users\\bruger\\anaconda3\\lib\\site-packages (from fiona>=1.8.21->geopandas) (1.1.1)\n",
      "Requirement already satisfied: cligj>=0.5 in c:\\users\\bruger\\anaconda3\\lib\\site-packages (from fiona>=1.8.21->geopandas) (0.7.2)\n",
      "Requirement already satisfied: six in c:\\users\\bruger\\anaconda3\\lib\\site-packages (from fiona>=1.8.21->geopandas) (1.16.0)\n",
      "Requirement already satisfied: setuptools in c:\\users\\bruger\\anaconda3\\lib\\site-packages (from fiona>=1.8.21->geopandas) (68.0.0)\n",
      "Requirement already satisfied: python-dateutil>=2.8.2 in c:\\users\\bruger\\anaconda3\\lib\\site-packages (from pandas>=1.4.0->geopandas) (2.8.2)\n",
      "Requirement already satisfied: pytz>=2020.1 in c:\\users\\bruger\\anaconda3\\lib\\site-packages (from pandas>=1.4.0->geopandas) (2022.7)\n",
      "Requirement already satisfied: tzdata>=2022.1 in c:\\users\\bruger\\anaconda3\\lib\\site-packages (from pandas>=1.4.0->geopandas) (2023.3)\n",
      "Requirement already satisfied: numpy>=1.21.0 in c:\\users\\bruger\\anaconda3\\lib\\site-packages (from pandas>=1.4.0->geopandas) (1.24.3)\n",
      "Requirement already satisfied: colorama in c:\\users\\bruger\\anaconda3\\lib\\site-packages (from click~=8.0->fiona>=1.8.21->geopandas) (0.4.6)\n",
      "Note: you may need to restart the kernel to use updated packages.\n",
      "Requirement already satisfied: mapclassify in c:\\users\\bruger\\anaconda3\\lib\\site-packages (2.6.1)\n",
      "Requirement already satisfied: networkx>=2.7 in c:\\users\\bruger\\anaconda3\\lib\\site-packages (from mapclassify) (3.1)\n",
      "Requirement already satisfied: numpy>=1.23 in c:\\users\\bruger\\anaconda3\\lib\\site-packages (from mapclassify) (1.24.3)\n",
      "Requirement already satisfied: pandas!=1.5.0,>=1.4 in c:\\users\\bruger\\anaconda3\\lib\\site-packages (from mapclassify) (2.0.3)\n",
      "Requirement already satisfied: scikit-learn>=1.0 in c:\\users\\bruger\\anaconda3\\lib\\site-packages (from mapclassify) (1.3.0)\n",
      "Requirement already satisfied: scipy>=1.8 in c:\\users\\bruger\\anaconda3\\lib\\site-packages (from mapclassify) (1.11.1)\n",
      "Requirement already satisfied: python-dateutil>=2.8.2 in c:\\users\\bruger\\anaconda3\\lib\\site-packages (from pandas!=1.5.0,>=1.4->mapclassify) (2.8.2)\n",
      "Requirement already satisfied: pytz>=2020.1 in c:\\users\\bruger\\anaconda3\\lib\\site-packages (from pandas!=1.5.0,>=1.4->mapclassify) (2022.7)\n",
      "Requirement already satisfied: tzdata>=2022.1 in c:\\users\\bruger\\anaconda3\\lib\\site-packages (from pandas!=1.5.0,>=1.4->mapclassify) (2023.3)\n",
      "Requirement already satisfied: joblib>=1.1.1 in c:\\users\\bruger\\anaconda3\\lib\\site-packages (from scikit-learn>=1.0->mapclassify) (1.2.0)\n",
      "Requirement already satisfied: threadpoolctl>=2.0.0 in c:\\users\\bruger\\anaconda3\\lib\\site-packages (from scikit-learn>=1.0->mapclassify) (2.2.0)\n",
      "Requirement already satisfied: six>=1.5 in c:\\users\\bruger\\anaconda3\\lib\\site-packages (from python-dateutil>=2.8.2->pandas!=1.5.0,>=1.4->mapclassify) (1.16.0)\n",
      "Note: you may need to restart the kernel to use updated packages.\n",
      "Requirement already satisfied: folium in c:\\users\\bruger\\anaconda3\\lib\\site-packages (0.14.0)\n",
      "Requirement already satisfied: branca>=0.6.0 in c:\\users\\bruger\\anaconda3\\lib\\site-packages (from folium) (0.6.0)\n",
      "Requirement already satisfied: jinja2>=2.9 in c:\\users\\bruger\\anaconda3\\lib\\site-packages (from folium) (3.1.2)\n",
      "Requirement already satisfied: numpy in c:\\users\\bruger\\anaconda3\\lib\\site-packages (from folium) (1.24.3)\n",
      "Requirement already satisfied: requests in c:\\users\\bruger\\anaconda3\\lib\\site-packages (from folium) (2.31.0)\n",
      "Requirement already satisfied: MarkupSafe>=2.0 in c:\\users\\bruger\\anaconda3\\lib\\site-packages (from jinja2>=2.9->folium) (2.1.1)\n",
      "Requirement already satisfied: charset-normalizer<4,>=2 in c:\\users\\bruger\\anaconda3\\lib\\site-packages (from requests->folium) (2.0.4)\n",
      "Requirement already satisfied: idna<4,>=2.5 in c:\\users\\bruger\\anaconda3\\lib\\site-packages (from requests->folium) (3.4)\n",
      "Requirement already satisfied: urllib3<3,>=1.21.1 in c:\\users\\bruger\\anaconda3\\lib\\site-packages (from requests->folium) (1.26.16)\n",
      "Requirement already satisfied: certifi>=2017.4.17 in c:\\users\\bruger\\anaconda3\\lib\\site-packages (from requests->folium) (2023.7.22)\n",
      "Note: you may need to restart the kernel to use updated packages.\n",
      "Requirement already satisfied: branca in c:\\users\\bruger\\anaconda3\\lib\\site-packages (0.6.0)\n",
      "Requirement already satisfied: jinja2 in c:\\users\\bruger\\anaconda3\\lib\\site-packages (from branca) (3.1.2)\n",
      "Requirement already satisfied: MarkupSafe>=2.0 in c:\\users\\bruger\\anaconda3\\lib\\site-packages (from jinja2->branca) (2.1.1)\n",
      "Note: you may need to restart the kernel to use updated packages.\n"
     ]
    }
   ],
   "source": [
    "#Nødvendig for at lave danmarkskort\n",
    "%pip install geopandas\n",
    "%pip install mapclassify\n",
    "%pip install folium\n",
    "%pip install branca\n",
    "\n",
    "\n",
    "import pandas as pd\n",
    "import geopandas as gpd\n",
    "import matplotlib.pyplot as plt\n",
    "import ipywidgets as widgets\n",
    "\n",
    "%load_ext autoreload\n",
    "%autoreload 2"
   ]
  },
  {
   "cell_type": "markdown",
   "metadata": {},
   "source": [
    "# 1) Henter kommunedata"
   ]
  },
  {
   "cell_type": "markdown",
   "metadata": {},
   "source": [
    "Læser geografisk data."
   ]
  },
  {
   "cell_type": "code",
   "execution_count": 27,
   "metadata": {},
   "outputs": [],
   "source": [
    "gdf = gpd.read_file('kommuner.geojson')"
   ]
  },
  {
   "cell_type": "markdown",
   "metadata": {},
   "source": [
    "# 2) Model 1"
   ]
  },
  {
   "cell_type": "code",
   "execution_count": 4,
   "metadata": {},
   "outputs": [],
   "source": [
    "filename_1 = 'Model 1 DK.xlsx'"
   ]
  },
  {
   "cell_type": "code",
   "execution_count": 5,
   "metadata": {},
   "outputs": [
    {
     "data": {
      "text/html": [
       "<div>\n",
       "<style scoped>\n",
       "    .dataframe tbody tr th:only-of-type {\n",
       "        vertical-align: middle;\n",
       "    }\n",
       "\n",
       "    .dataframe tbody tr th {\n",
       "        vertical-align: top;\n",
       "    }\n",
       "\n",
       "    .dataframe thead th {\n",
       "        text-align: right;\n",
       "    }\n",
       "</style>\n",
       "<table border=\"1\" class=\"dataframe\">\n",
       "  <thead>\n",
       "    <tr style=\"text-align: right;\">\n",
       "      <th></th>\n",
       "      <th>Komkode</th>\n",
       "      <th>Estimat</th>\n",
       "    </tr>\n",
       "  </thead>\n",
       "  <tbody>\n",
       "    <tr>\n",
       "      <th>0</th>\n",
       "      <td>afd_kom 101</td>\n",
       "      <td>0.02381</td>\n",
       "    </tr>\n",
       "    <tr>\n",
       "      <th>1</th>\n",
       "      <td>afd_kom 147</td>\n",
       "      <td>0.01756</td>\n",
       "    </tr>\n",
       "    <tr>\n",
       "      <th>2</th>\n",
       "      <td>afd_kom 151</td>\n",
       "      <td>0.01536</td>\n",
       "    </tr>\n",
       "    <tr>\n",
       "      <th>3</th>\n",
       "      <td>afd_kom 153</td>\n",
       "      <td>-0.01860</td>\n",
       "    </tr>\n",
       "    <tr>\n",
       "      <th>4</th>\n",
       "      <td>afd_kom 157</td>\n",
       "      <td>-0.01132</td>\n",
       "    </tr>\n",
       "    <tr>\n",
       "      <th>...</th>\n",
       "      <td>...</td>\n",
       "      <td>...</td>\n",
       "    </tr>\n",
       "    <tr>\n",
       "      <th>83</th>\n",
       "      <td>afd_kom 840</td>\n",
       "      <td>-0.02569</td>\n",
       "    </tr>\n",
       "    <tr>\n",
       "      <th>84</th>\n",
       "      <td>afd_kom 846</td>\n",
       "      <td>-0.01668</td>\n",
       "    </tr>\n",
       "    <tr>\n",
       "      <th>85</th>\n",
       "      <td>afd_kom 849</td>\n",
       "      <td>0.02413</td>\n",
       "    </tr>\n",
       "    <tr>\n",
       "      <th>86</th>\n",
       "      <td>afd_kom 851</td>\n",
       "      <td>-0.00582</td>\n",
       "    </tr>\n",
       "    <tr>\n",
       "      <th>87</th>\n",
       "      <td>afd_kom 860</td>\n",
       "      <td>-0.00484</td>\n",
       "    </tr>\n",
       "  </tbody>\n",
       "</table>\n",
       "<p>88 rows × 2 columns</p>\n",
       "</div>"
      ],
      "text/plain": [
       "        Komkode  Estimat\n",
       "0   afd_kom 101  0.02381\n",
       "1   afd_kom 147  0.01756\n",
       "2   afd_kom 151  0.01536\n",
       "3   afd_kom 153 -0.01860\n",
       "4   afd_kom 157 -0.01132\n",
       "..          ...      ...\n",
       "83  afd_kom 840 -0.02569\n",
       "84  afd_kom 846 -0.01668\n",
       "85  afd_kom 849  0.02413\n",
       "86  afd_kom 851 -0.00582\n",
       "87  afd_kom 860 -0.00484\n",
       "\n",
       "[88 rows x 2 columns]"
      ]
     },
     "execution_count": 5,
     "metadata": {},
     "output_type": "execute_result"
    }
   ],
   "source": [
    "pd.read_excel(filename_1)"
   ]
  },
  {
   "cell_type": "markdown",
   "metadata": {},
   "source": [
    "Læser data."
   ]
  },
  {
   "cell_type": "code",
   "execution_count": 10,
   "metadata": {},
   "outputs": [],
   "source": [
    "df_1 = pd.read_excel(filename_1)"
   ]
  },
  {
   "cell_type": "markdown",
   "metadata": {},
   "source": [
    "Danner KOMKODE, som der merges på senere."
   ]
  },
  {
   "cell_type": "code",
   "execution_count": 11,
   "metadata": {},
   "outputs": [],
   "source": [
    "df_1['KOMKODE'] = df_1['Komkode'].str[-3:].apply(lambda x: '0'+x)\n",
    "df_1.drop('Komkode', axis=1, inplace=True)\n"
   ]
  },
  {
   "cell_type": "code",
   "execution_count": 26,
   "metadata": {},
   "outputs": [],
   "source": [
    "df_1['Estimat'] = df_1['Estimat'].apply(lambda x: x*100)"
   ]
  },
  {
   "cell_type": "markdown",
   "metadata": {},
   "source": [
    "Merger model 1 data med geografisk data."
   ]
  },
  {
   "cell_type": "code",
   "execution_count": 48,
   "metadata": {},
   "outputs": [],
   "source": [
    "merged_1_1 = pd.merge(df_1,gdf,how='outer',on=['KOMKODE'])"
   ]
  },
  {
   "cell_type": "markdown",
   "metadata": {},
   "source": [
    "Ser på data."
   ]
  },
  {
   "cell_type": "code",
   "execution_count": 49,
   "metadata": {},
   "outputs": [
    {
     "data": {
      "text/html": [
       "<div>\n",
       "<style scoped>\n",
       "    .dataframe tbody tr th:only-of-type {\n",
       "        vertical-align: middle;\n",
       "    }\n",
       "\n",
       "    .dataframe tbody tr th {\n",
       "        vertical-align: top;\n",
       "    }\n",
       "\n",
       "    .dataframe thead th {\n",
       "        text-align: right;\n",
       "    }\n",
       "</style>\n",
       "<table border=\"1\" class=\"dataframe\">\n",
       "  <thead>\n",
       "    <tr style=\"text-align: right;\">\n",
       "      <th></th>\n",
       "      <th>Estimat</th>\n",
       "      <th>KOMKODE</th>\n",
       "      <th>KOMNAVN</th>\n",
       "      <th>geometry</th>\n",
       "    </tr>\n",
       "  </thead>\n",
       "  <tbody>\n",
       "    <tr>\n",
       "      <th>0</th>\n",
       "      <td>2.381</td>\n",
       "      <td>0101</td>\n",
       "      <td>København</td>\n",
       "      <td>POLYGON Z ((12.66678 55.72122 -999.00000, 12.6...</td>\n",
       "    </tr>\n",
       "    <tr>\n",
       "      <th>1</th>\n",
       "      <td>2.381</td>\n",
       "      <td>0101</td>\n",
       "      <td>København</td>\n",
       "      <td>POLYGON Z ((12.50941 55.61309 -999.00000, 12.5...</td>\n",
       "    </tr>\n",
       "    <tr>\n",
       "      <th>2</th>\n",
       "      <td>2.381</td>\n",
       "      <td>0101</td>\n",
       "      <td>København</td>\n",
       "      <td>POLYGON Z ((12.72910 55.70326 -999.00000, 12.7...</td>\n",
       "    </tr>\n",
       "    <tr>\n",
       "      <th>3</th>\n",
       "      <td>2.381</td>\n",
       "      <td>0101</td>\n",
       "      <td>København</td>\n",
       "      <td>POLYGON Z ((12.55346 55.64214 -999.00000, 12.5...</td>\n",
       "    </tr>\n",
       "    <tr>\n",
       "      <th>4</th>\n",
       "      <td>2.381</td>\n",
       "      <td>0101</td>\n",
       "      <td>København</td>\n",
       "      <td>POLYGON Z ((12.64860 55.64829 -999.00000, 12.6...</td>\n",
       "    </tr>\n",
       "  </tbody>\n",
       "</table>\n",
       "</div>"
      ],
      "text/plain": [
       "   Estimat KOMKODE    KOMNAVN  \\\n",
       "0    2.381    0101  København   \n",
       "1    2.381    0101  København   \n",
       "2    2.381    0101  København   \n",
       "3    2.381    0101  København   \n",
       "4    2.381    0101  København   \n",
       "\n",
       "                                            geometry  \n",
       "0  POLYGON Z ((12.66678 55.72122 -999.00000, 12.6...  \n",
       "1  POLYGON Z ((12.50941 55.61309 -999.00000, 12.5...  \n",
       "2  POLYGON Z ((12.72910 55.70326 -999.00000, 12.7...  \n",
       "3  POLYGON Z ((12.55346 55.64214 -999.00000, 12.5...  \n",
       "4  POLYGON Z ((12.64860 55.64829 -999.00000, 12.6...  "
      ]
     },
     "execution_count": 49,
     "metadata": {},
     "output_type": "execute_result"
    }
   ],
   "source": [
    "merged_1_1.head(5)"
   ]
  },
  {
   "cell_type": "markdown",
   "metadata": {},
   "source": [
    "Laver Danmarkskort."
   ]
  },
  {
   "cell_type": "code",
   "execution_count": 59,
   "metadata": {},
   "outputs": [
    {
     "data": {
      "image/png": "[encoded data removed]",
      "text/plain": [
       "<Figure size 640x480 with 2 Axes>"
      ]
     },
     "metadata": {},
     "output_type": "display_data"
    }
   ],
   "source": [
    "#laver det til geodataframe\n",
    "merged_1_2 = gpd.GeoDataFrame(merged_1_1, geometry='geometry')\n",
    "\n",
    "#plotter\n",
    "merged_1_2.plot(column='Estimat',\n",
    "              legend = True,\n",
    "              cmap = 'OrRd',\n",
    "              legend_kwds = {'label': \"Andel elever med lav elevtrivsel sammenlignet med Helsingør kommune\", 'orientation': \"horizontal\"},\n",
    "              missing_kwds={'color': 'lightgrey', 'label': 'Mangler data'}\n",
    "              ).set_axis_off()\n"
   ]
  },
  {
   "cell_type": "markdown",
   "metadata": {},
   "source": [
    "# 3) Model 2"
   ]
  },
  {
   "cell_type": "code",
   "execution_count": 62,
   "metadata": {},
   "outputs": [],
   "source": [
    "filename_2 = 'Model 2 DK.xlsx'"
   ]
  },
  {
   "cell_type": "code",
   "execution_count": 63,
   "metadata": {},
   "outputs": [
    {
     "data": {
      "text/html": [
       "<div>\n",
       "<style scoped>\n",
       "    .dataframe tbody tr th:only-of-type {\n",
       "        vertical-align: middle;\n",
       "    }\n",
       "\n",
       "    .dataframe tbody tr th {\n",
       "        vertical-align: top;\n",
       "    }\n",
       "\n",
       "    .dataframe thead th {\n",
       "        text-align: right;\n",
       "    }\n",
       "</style>\n",
       "<table border=\"1\" class=\"dataframe\">\n",
       "  <thead>\n",
       "    <tr style=\"text-align: right;\">\n",
       "      <th></th>\n",
       "      <th>komkode</th>\n",
       "      <th>estimat</th>\n",
       "    </tr>\n",
       "  </thead>\n",
       "  <tbody>\n",
       "    <tr>\n",
       "      <th>0</th>\n",
       "      <td>aar_2022_afd_kom_101</td>\n",
       "      <td>-0.00226</td>\n",
       "    </tr>\n",
       "    <tr>\n",
       "      <th>1</th>\n",
       "      <td>aar_2022_afd_kom_147</td>\n",
       "      <td>-0.01357</td>\n",
       "    </tr>\n",
       "    <tr>\n",
       "      <th>2</th>\n",
       "      <td>aar_2022_afd_kom_151</td>\n",
       "      <td>0.01790</td>\n",
       "    </tr>\n",
       "    <tr>\n",
       "      <th>3</th>\n",
       "      <td>aar_2022_afd_kom_153</td>\n",
       "      <td>0.02584</td>\n",
       "    </tr>\n",
       "    <tr>\n",
       "      <th>4</th>\n",
       "      <td>aar_2022_afd_kom_157</td>\n",
       "      <td>-0.04150</td>\n",
       "    </tr>\n",
       "    <tr>\n",
       "      <th>...</th>\n",
       "      <td>...</td>\n",
       "      <td>...</td>\n",
       "    </tr>\n",
       "    <tr>\n",
       "      <th>83</th>\n",
       "      <td>aar_2022_afd_kom_840</td>\n",
       "      <td>0.00460</td>\n",
       "    </tr>\n",
       "    <tr>\n",
       "      <th>84</th>\n",
       "      <td>aar_2022_afd_kom_846</td>\n",
       "      <td>0.02024</td>\n",
       "    </tr>\n",
       "    <tr>\n",
       "      <th>85</th>\n",
       "      <td>aar_2022_afd_kom_849</td>\n",
       "      <td>-0.12057</td>\n",
       "    </tr>\n",
       "    <tr>\n",
       "      <th>86</th>\n",
       "      <td>aar_2022_afd_kom_851</td>\n",
       "      <td>-0.01990</td>\n",
       "    </tr>\n",
       "    <tr>\n",
       "      <th>87</th>\n",
       "      <td>aar_2022_afd_kom_860</td>\n",
       "      <td>-0.02187</td>\n",
       "    </tr>\n",
       "  </tbody>\n",
       "</table>\n",
       "<p>88 rows × 2 columns</p>\n",
       "</div>"
      ],
      "text/plain": [
       "                 komkode  estimat\n",
       "0   aar_2022_afd_kom_101 -0.00226\n",
       "1   aar_2022_afd_kom_147 -0.01357\n",
       "2   aar_2022_afd_kom_151  0.01790\n",
       "3   aar_2022_afd_kom_153  0.02584\n",
       "4   aar_2022_afd_kom_157 -0.04150\n",
       "..                   ...      ...\n",
       "83  aar_2022_afd_kom_840  0.00460\n",
       "84  aar_2022_afd_kom_846  0.02024\n",
       "85  aar_2022_afd_kom_849 -0.12057\n",
       "86  aar_2022_afd_kom_851 -0.01990\n",
       "87  aar_2022_afd_kom_860 -0.02187\n",
       "\n",
       "[88 rows x 2 columns]"
      ]
     },
     "execution_count": 63,
     "metadata": {},
     "output_type": "execute_result"
    }
   ],
   "source": [
    "pd.read_excel(filename_2)"
   ]
  },
  {
   "cell_type": "code",
   "execution_count": 65,
   "metadata": {},
   "outputs": [],
   "source": [
    "df_2 = pd.read_excel(filename_2)"
   ]
  },
  {
   "cell_type": "code",
   "execution_count": 66,
   "metadata": {},
   "outputs": [],
   "source": [
    "df_2['KOMKODE'] = df_2['komkode'].str[-3:].apply(lambda x: '0'+x)\n",
    "df_2.drop('komkode', axis=1, inplace=True)"
   ]
  },
  {
   "cell_type": "code",
   "execution_count": 67,
   "metadata": {},
   "outputs": [],
   "source": [
    "df_2['estimat'] = df_2['estimat'].apply(lambda x: x*100)"
   ]
  },
  {
   "cell_type": "code",
   "execution_count": 68,
   "metadata": {},
   "outputs": [],
   "source": [
    "merged_2_1 = pd.merge(df_2,gdf,how='outer',on=['KOMKODE'])"
   ]
  },
  {
   "cell_type": "code",
   "execution_count": 69,
   "metadata": {},
   "outputs": [
    {
     "data": {
      "text/html": [
       "<div>\n",
       "<style scoped>\n",
       "    .dataframe tbody tr th:only-of-type {\n",
       "        vertical-align: middle;\n",
       "    }\n",
       "\n",
       "    .dataframe tbody tr th {\n",
       "        vertical-align: top;\n",
       "    }\n",
       "\n",
       "    .dataframe thead th {\n",
       "        text-align: right;\n",
       "    }\n",
       "</style>\n",
       "<table border=\"1\" class=\"dataframe\">\n",
       "  <thead>\n",
       "    <tr style=\"text-align: right;\">\n",
       "      <th></th>\n",
       "      <th>estimat</th>\n",
       "      <th>KOMKODE</th>\n",
       "      <th>KOMNAVN</th>\n",
       "      <th>geometry</th>\n",
       "    </tr>\n",
       "  </thead>\n",
       "  <tbody>\n",
       "    <tr>\n",
       "      <th>0</th>\n",
       "      <td>-0.226</td>\n",
       "      <td>0101</td>\n",
       "      <td>København</td>\n",
       "      <td>POLYGON Z ((12.66678 55.72122 -999.00000, 12.6...</td>\n",
       "    </tr>\n",
       "    <tr>\n",
       "      <th>1</th>\n",
       "      <td>-0.226</td>\n",
       "      <td>0101</td>\n",
       "      <td>København</td>\n",
       "      <td>POLYGON Z ((12.50941 55.61309 -999.00000, 12.5...</td>\n",
       "    </tr>\n",
       "    <tr>\n",
       "      <th>2</th>\n",
       "      <td>-0.226</td>\n",
       "      <td>0101</td>\n",
       "      <td>København</td>\n",
       "      <td>POLYGON Z ((12.72910 55.70326 -999.00000, 12.7...</td>\n",
       "    </tr>\n",
       "    <tr>\n",
       "      <th>3</th>\n",
       "      <td>-0.226</td>\n",
       "      <td>0101</td>\n",
       "      <td>København</td>\n",
       "      <td>POLYGON Z ((12.55346 55.64214 -999.00000, 12.5...</td>\n",
       "    </tr>\n",
       "    <tr>\n",
       "      <th>4</th>\n",
       "      <td>-0.226</td>\n",
       "      <td>0101</td>\n",
       "      <td>København</td>\n",
       "      <td>POLYGON Z ((12.64860 55.64829 -999.00000, 12.6...</td>\n",
       "    </tr>\n",
       "  </tbody>\n",
       "</table>\n",
       "</div>"
      ],
      "text/plain": [
       "   estimat KOMKODE    KOMNAVN  \\\n",
       "0   -0.226    0101  København   \n",
       "1   -0.226    0101  København   \n",
       "2   -0.226    0101  København   \n",
       "3   -0.226    0101  København   \n",
       "4   -0.226    0101  København   \n",
       "\n",
       "                                            geometry  \n",
       "0  POLYGON Z ((12.66678 55.72122 -999.00000, 12.6...  \n",
       "1  POLYGON Z ((12.50941 55.61309 -999.00000, 12.5...  \n",
       "2  POLYGON Z ((12.72910 55.70326 -999.00000, 12.7...  \n",
       "3  POLYGON Z ((12.55346 55.64214 -999.00000, 12.5...  \n",
       "4  POLYGON Z ((12.64860 55.64829 -999.00000, 12.6...  "
      ]
     },
     "execution_count": 69,
     "metadata": {},
     "output_type": "execute_result"
    }
   ],
   "source": [
    "merged_2_1.head(5)"
   ]
  },
  {
   "cell_type": "code",
   "execution_count": 71,
   "metadata": {},
   "outputs": [
    {
     "data": {
      "image/png": "[encoded data removed]",
      "text/plain": [
       "<Figure size 640x480 with 2 Axes>"
      ]
     },
     "metadata": {},
     "output_type": "display_data"
    }
   ],
   "source": [
    "#laver det til geodataframe\n",
    "merged_2_2 = gpd.GeoDataFrame(merged_2_1, geometry='geometry')\n",
    "\n",
    "#plotter\n",
    "merged_2_2.plot(column='estimat',\n",
    "              legend = True,\n",
    "              cmap = 'OrRd',\n",
    "              legend_kwds = {'label': \"Andel elever med lav elevtrivsel sammenlignet med Helsingør kommune\", 'orientation': \"horizontal\"},\n",
    "              missing_kwds={'color': 'lightgrey', 'label': 'Mangler data'}\n",
    "              ).set_axis_off()\n"
   ]
  },
  {
   "cell_type": "code",
   "execution_count": null,
   "metadata": {},
   "outputs": [],
   "source": []
  }
 ],
 "metadata": {
  "kernelspec": {
   "display_name": "base",
   "language": "python",
   "name": "python3"
  },
  "language_info": {
   "codemirror_mode": {
    "name": "ipython",
    "version": 3
   },
   "file_extension": ".py",
   "mimetype": "text/x-python",
   "name": "python",
   "nbconvert_exporter": "python",
   "pygments_lexer": "ipython3",
   "version": "3.11.5"
  }
 },
 "nbformat": 4,
 "nbformat_minor": 2
}
